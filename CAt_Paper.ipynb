{
  "nbformat": 4,
  "nbformat_minor": 0,
  "metadata": {
    "colab": {
      "name": "CAt_Paper.ipynb",
      "provenance": [],
      "collapsed_sections": [
        "evcEBvNym-vT"
      ],
      "mount_file_id": "17jQSehKdHVEbJ2x04P5J7AGoYSwhWf3w",
      "authorship_tag": "ABX9TyPQEKj1xYuA95eGdsRW7pA2",
      "include_colab_link": true
    },
    "kernelspec": {
      "name": "python3",
      "display_name": "Python 3"
    },
    "language_info": {
      "name": "python"
    },
    "widgets": {
      "application/vnd.jupyter.widget-state+json": {
        "87e66d3bdd944a6899fd0ada7681ebe3": {
          "model_module": "@jupyter-widgets/controls",
          "model_name": "HBoxModel",
          "model_module_version": "1.5.0",
          "state": {
            "_dom_classes": [],
            "_model_module": "@jupyter-widgets/controls",
            "_model_module_version": "1.5.0",
            "_model_name": "HBoxModel",
            "_view_count": null,
            "_view_module": "@jupyter-widgets/controls",
            "_view_module_version": "1.5.0",
            "_view_name": "HBoxView",
            "box_style": "",
            "children": [
              "IPY_MODEL_2a6546e7ca4e403a8e59ccec13ae155d",
              "IPY_MODEL_92df9c3d0d9145f79007ddeb4ce90504",
              "IPY_MODEL_2aa9ba260ed54d76a68b1a6857327cbd"
            ],
            "layout": "IPY_MODEL_102c05da2bb2469e8afde7b861089627"
          }
        },
        "2a6546e7ca4e403a8e59ccec13ae155d": {
          "model_module": "@jupyter-widgets/controls",
          "model_name": "HTMLModel",
          "model_module_version": "1.5.0",
          "state": {
            "_dom_classes": [],
            "_model_module": "@jupyter-widgets/controls",
            "_model_module_version": "1.5.0",
            "_model_name": "HTMLModel",
            "_view_count": null,
            "_view_module": "@jupyter-widgets/controls",
            "_view_module_version": "1.5.0",
            "_view_name": "HTMLView",
            "description": "",
            "description_tooltip": null,
            "layout": "IPY_MODEL_9ca7ba4f0ea44471842c2cba75ba4430",
            "placeholder": "​",
            "style": "IPY_MODEL_3b62503a9dbe4b7eb37076c83584b785",
            "value": "Downloading https://raw.githubusercontent.com/stanfordnlp/stanza-resources/main/resources_1.3.0.json: "
          }
        },
        "92df9c3d0d9145f79007ddeb4ce90504": {
          "model_module": "@jupyter-widgets/controls",
          "model_name": "FloatProgressModel",
          "model_module_version": "1.5.0",
          "state": {
            "_dom_classes": [],
            "_model_module": "@jupyter-widgets/controls",
            "_model_module_version": "1.5.0",
            "_model_name": "FloatProgressModel",
            "_view_count": null,
            "_view_module": "@jupyter-widgets/controls",
            "_view_module_version": "1.5.0",
            "_view_name": "ProgressView",
            "bar_style": "success",
            "description": "",
            "description_tooltip": null,
            "layout": "IPY_MODEL_ac78e96db174450387f19d814598f35a",
            "max": 24459,
            "min": 0,
            "orientation": "horizontal",
            "style": "IPY_MODEL_8129dad971b8418b928f7e6ce9ff7ff7",
            "value": 24459
          }
        },
        "2aa9ba260ed54d76a68b1a6857327cbd": {
          "model_module": "@jupyter-widgets/controls",
          "model_name": "HTMLModel",
          "model_module_version": "1.5.0",
          "state": {
            "_dom_classes": [],
            "_model_module": "@jupyter-widgets/controls",
            "_model_module_version": "1.5.0",
            "_model_name": "HTMLModel",
            "_view_count": null,
            "_view_module": "@jupyter-widgets/controls",
            "_view_module_version": "1.5.0",
            "_view_name": "HTMLView",
            "description": "",
            "description_tooltip": null,
            "layout": "IPY_MODEL_ca9f2b6a197042dd8b61437e7f0986ca",
            "placeholder": "​",
            "style": "IPY_MODEL_67c02b53ca0d48e88f6d76b64a042bab",
            "value": " 142k/? [00:00&lt;00:00, 939kB/s]"
          }
        },
        "102c05da2bb2469e8afde7b861089627": {
          "model_module": "@jupyter-widgets/base",
          "model_name": "LayoutModel",
          "model_module_version": "1.2.0",
          "state": {
            "_model_module": "@jupyter-widgets/base",
            "_model_module_version": "1.2.0",
            "_model_name": "LayoutModel",
            "_view_count": null,
            "_view_module": "@jupyter-widgets/base",
            "_view_module_version": "1.2.0",
            "_view_name": "LayoutView",
            "align_content": null,
            "align_items": null,
            "align_self": null,
            "border": null,
            "bottom": null,
            "display": null,
            "flex": null,
            "flex_flow": null,
            "grid_area": null,
            "grid_auto_columns": null,
            "grid_auto_flow": null,
            "grid_auto_rows": null,
            "grid_column": null,
            "grid_gap": null,
            "grid_row": null,
            "grid_template_areas": null,
            "grid_template_columns": null,
            "grid_template_rows": null,
            "height": null,
            "justify_content": null,
            "justify_items": null,
            "left": null,
            "margin": null,
            "max_height": null,
            "max_width": null,
            "min_height": null,
            "min_width": null,
            "object_fit": null,
            "object_position": null,
            "order": null,
            "overflow": null,
            "overflow_x": null,
            "overflow_y": null,
            "padding": null,
            "right": null,
            "top": null,
            "visibility": null,
            "width": null
          }
        },
        "9ca7ba4f0ea44471842c2cba75ba4430": {
          "model_module": "@jupyter-widgets/base",
          "model_name": "LayoutModel",
          "model_module_version": "1.2.0",
          "state": {
            "_model_module": "@jupyter-widgets/base",
            "_model_module_version": "1.2.0",
            "_model_name": "LayoutModel",
            "_view_count": null,
            "_view_module": "@jupyter-widgets/base",
            "_view_module_version": "1.2.0",
            "_view_name": "LayoutView",
            "align_content": null,
            "align_items": null,
            "align_self": null,
            "border": null,
            "bottom": null,
            "display": null,
            "flex": null,
            "flex_flow": null,
            "grid_area": null,
            "grid_auto_columns": null,
            "grid_auto_flow": null,
            "grid_auto_rows": null,
            "grid_column": null,
            "grid_gap": null,
            "grid_row": null,
            "grid_template_areas": null,
            "grid_template_columns": null,
            "grid_template_rows": null,
            "height": null,
            "justify_content": null,
            "justify_items": null,
            "left": null,
            "margin": null,
            "max_height": null,
            "max_width": null,
            "min_height": null,
            "min_width": null,
            "object_fit": null,
            "object_position": null,
            "order": null,
            "overflow": null,
            "overflow_x": null,
            "overflow_y": null,
            "padding": null,
            "right": null,
            "top": null,
            "visibility": null,
            "width": null
          }
        },
        "3b62503a9dbe4b7eb37076c83584b785": {
          "model_module": "@jupyter-widgets/controls",
          "model_name": "DescriptionStyleModel",
          "model_module_version": "1.5.0",
          "state": {
            "_model_module": "@jupyter-widgets/controls",
            "_model_module_version": "1.5.0",
            "_model_name": "DescriptionStyleModel",
            "_view_count": null,
            "_view_module": "@jupyter-widgets/base",
            "_view_module_version": "1.2.0",
            "_view_name": "StyleView",
            "description_width": ""
          }
        },
        "ac78e96db174450387f19d814598f35a": {
          "model_module": "@jupyter-widgets/base",
          "model_name": "LayoutModel",
          "model_module_version": "1.2.0",
          "state": {
            "_model_module": "@jupyter-widgets/base",
            "_model_module_version": "1.2.0",
            "_model_name": "LayoutModel",
            "_view_count": null,
            "_view_module": "@jupyter-widgets/base",
            "_view_module_version": "1.2.0",
            "_view_name": "LayoutView",
            "align_content": null,
            "align_items": null,
            "align_self": null,
            "border": null,
            "bottom": null,
            "display": null,
            "flex": null,
            "flex_flow": null,
            "grid_area": null,
            "grid_auto_columns": null,
            "grid_auto_flow": null,
            "grid_auto_rows": null,
            "grid_column": null,
            "grid_gap": null,
            "grid_row": null,
            "grid_template_areas": null,
            "grid_template_columns": null,
            "grid_template_rows": null,
            "height": null,
            "justify_content": null,
            "justify_items": null,
            "left": null,
            "margin": null,
            "max_height": null,
            "max_width": null,
            "min_height": null,
            "min_width": null,
            "object_fit": null,
            "object_position": null,
            "order": null,
            "overflow": null,
            "overflow_x": null,
            "overflow_y": null,
            "padding": null,
            "right": null,
            "top": null,
            "visibility": null,
            "width": null
          }
        },
        "8129dad971b8418b928f7e6ce9ff7ff7": {
          "model_module": "@jupyter-widgets/controls",
          "model_name": "ProgressStyleModel",
          "model_module_version": "1.5.0",
          "state": {
            "_model_module": "@jupyter-widgets/controls",
            "_model_module_version": "1.5.0",
            "_model_name": "ProgressStyleModel",
            "_view_count": null,
            "_view_module": "@jupyter-widgets/base",
            "_view_module_version": "1.2.0",
            "_view_name": "StyleView",
            "bar_color": null,
            "description_width": ""
          }
        },
        "ca9f2b6a197042dd8b61437e7f0986ca": {
          "model_module": "@jupyter-widgets/base",
          "model_name": "LayoutModel",
          "model_module_version": "1.2.0",
          "state": {
            "_model_module": "@jupyter-widgets/base",
            "_model_module_version": "1.2.0",
            "_model_name": "LayoutModel",
            "_view_count": null,
            "_view_module": "@jupyter-widgets/base",
            "_view_module_version": "1.2.0",
            "_view_name": "LayoutView",
            "align_content": null,
            "align_items": null,
            "align_self": null,
            "border": null,
            "bottom": null,
            "display": null,
            "flex": null,
            "flex_flow": null,
            "grid_area": null,
            "grid_auto_columns": null,
            "grid_auto_flow": null,
            "grid_auto_rows": null,
            "grid_column": null,
            "grid_gap": null,
            "grid_row": null,
            "grid_template_areas": null,
            "grid_template_columns": null,
            "grid_template_rows": null,
            "height": null,
            "justify_content": null,
            "justify_items": null,
            "left": null,
            "margin": null,
            "max_height": null,
            "max_width": null,
            "min_height": null,
            "min_width": null,
            "object_fit": null,
            "object_position": null,
            "order": null,
            "overflow": null,
            "overflow_x": null,
            "overflow_y": null,
            "padding": null,
            "right": null,
            "top": null,
            "visibility": null,
            "width": null
          }
        },
        "67c02b53ca0d48e88f6d76b64a042bab": {
          "model_module": "@jupyter-widgets/controls",
          "model_name": "DescriptionStyleModel",
          "model_module_version": "1.5.0",
          "state": {
            "_model_module": "@jupyter-widgets/controls",
            "_model_module_version": "1.5.0",
            "_model_name": "DescriptionStyleModel",
            "_view_count": null,
            "_view_module": "@jupyter-widgets/base",
            "_view_module_version": "1.2.0",
            "_view_name": "StyleView",
            "description_width": ""
          }
        },
        "2157b0bfbe504828ae4c4190b6ad9e80": {
          "model_module": "@jupyter-widgets/controls",
          "model_name": "HBoxModel",
          "model_module_version": "1.5.0",
          "state": {
            "_dom_classes": [],
            "_model_module": "@jupyter-widgets/controls",
            "_model_module_version": "1.5.0",
            "_model_name": "HBoxModel",
            "_view_count": null,
            "_view_module": "@jupyter-widgets/controls",
            "_view_module_version": "1.5.0",
            "_view_name": "HBoxView",
            "box_style": "",
            "children": [
              "IPY_MODEL_5abf6c750a544f3196e4aea84d3bd312",
              "IPY_MODEL_44d5ebc0fc0a49cf886f6069dd98f52c",
              "IPY_MODEL_efd151b6633a4b669c9d97a3880be3a9"
            ],
            "layout": "IPY_MODEL_a9efe8fe1e9941f480a9214f191d31d1"
          }
        },
        "5abf6c750a544f3196e4aea84d3bd312": {
          "model_module": "@jupyter-widgets/controls",
          "model_name": "HTMLModel",
          "model_module_version": "1.5.0",
          "state": {
            "_dom_classes": [],
            "_model_module": "@jupyter-widgets/controls",
            "_model_module_version": "1.5.0",
            "_model_name": "HTMLModel",
            "_view_count": null,
            "_view_module": "@jupyter-widgets/controls",
            "_view_module_version": "1.5.0",
            "_view_name": "HTMLView",
            "description": "",
            "description_tooltip": null,
            "layout": "IPY_MODEL_eaaa5f0544c549f39fc17e1884c75172",
            "placeholder": "​",
            "style": "IPY_MODEL_aeb39dbe85c840cda82accad1ed7d1c7",
            "value": "Downloading https://huggingface.co/stanfordnlp/stanza-pt/resolve/v1.3.0/models/default.zip: 100%"
          }
        },
        "44d5ebc0fc0a49cf886f6069dd98f52c": {
          "model_module": "@jupyter-widgets/controls",
          "model_name": "FloatProgressModel",
          "model_module_version": "1.5.0",
          "state": {
            "_dom_classes": [],
            "_model_module": "@jupyter-widgets/controls",
            "_model_module_version": "1.5.0",
            "_model_name": "FloatProgressModel",
            "_view_count": null,
            "_view_module": "@jupyter-widgets/controls",
            "_view_module_version": "1.5.0",
            "_view_name": "ProgressView",
            "bar_style": "success",
            "description": "",
            "description_tooltip": null,
            "layout": "IPY_MODEL_375d4be68ba64f1d9b96a1656cefd1cc",
            "max": 209069017,
            "min": 0,
            "orientation": "horizontal",
            "style": "IPY_MODEL_ec753b06a4174e36b1649c21d3ccf0e9",
            "value": 209069017
          }
        },
        "efd151b6633a4b669c9d97a3880be3a9": {
          "model_module": "@jupyter-widgets/controls",
          "model_name": "HTMLModel",
          "model_module_version": "1.5.0",
          "state": {
            "_dom_classes": [],
            "_model_module": "@jupyter-widgets/controls",
            "_model_module_version": "1.5.0",
            "_model_name": "HTMLModel",
            "_view_count": null,
            "_view_module": "@jupyter-widgets/controls",
            "_view_module_version": "1.5.0",
            "_view_name": "HTMLView",
            "description": "",
            "description_tooltip": null,
            "layout": "IPY_MODEL_ee404969f0dc465eaf291f96e012bef9",
            "placeholder": "​",
            "style": "IPY_MODEL_41a977e5bdcc46a9abdf321e75597d01",
            "value": " 209M/209M [00:02&lt;00:00, 141MB/s]"
          }
        },
        "a9efe8fe1e9941f480a9214f191d31d1": {
          "model_module": "@jupyter-widgets/base",
          "model_name": "LayoutModel",
          "model_module_version": "1.2.0",
          "state": {
            "_model_module": "@jupyter-widgets/base",
            "_model_module_version": "1.2.0",
            "_model_name": "LayoutModel",
            "_view_count": null,
            "_view_module": "@jupyter-widgets/base",
            "_view_module_version": "1.2.0",
            "_view_name": "LayoutView",
            "align_content": null,
            "align_items": null,
            "align_self": null,
            "border": null,
            "bottom": null,
            "display": null,
            "flex": null,
            "flex_flow": null,
            "grid_area": null,
            "grid_auto_columns": null,
            "grid_auto_flow": null,
            "grid_auto_rows": null,
            "grid_column": null,
            "grid_gap": null,
            "grid_row": null,
            "grid_template_areas": null,
            "grid_template_columns": null,
            "grid_template_rows": null,
            "height": null,
            "justify_content": null,
            "justify_items": null,
            "left": null,
            "margin": null,
            "max_height": null,
            "max_width": null,
            "min_height": null,
            "min_width": null,
            "object_fit": null,
            "object_position": null,
            "order": null,
            "overflow": null,
            "overflow_x": null,
            "overflow_y": null,
            "padding": null,
            "right": null,
            "top": null,
            "visibility": null,
            "width": null
          }
        },
        "eaaa5f0544c549f39fc17e1884c75172": {
          "model_module": "@jupyter-widgets/base",
          "model_name": "LayoutModel",
          "model_module_version": "1.2.0",
          "state": {
            "_model_module": "@jupyter-widgets/base",
            "_model_module_version": "1.2.0",
            "_model_name": "LayoutModel",
            "_view_count": null,
            "_view_module": "@jupyter-widgets/base",
            "_view_module_version": "1.2.0",
            "_view_name": "LayoutView",
            "align_content": null,
            "align_items": null,
            "align_self": null,
            "border": null,
            "bottom": null,
            "display": null,
            "flex": null,
            "flex_flow": null,
            "grid_area": null,
            "grid_auto_columns": null,
            "grid_auto_flow": null,
            "grid_auto_rows": null,
            "grid_column": null,
            "grid_gap": null,
            "grid_row": null,
            "grid_template_areas": null,
            "grid_template_columns": null,
            "grid_template_rows": null,
            "height": null,
            "justify_content": null,
            "justify_items": null,
            "left": null,
            "margin": null,
            "max_height": null,
            "max_width": null,
            "min_height": null,
            "min_width": null,
            "object_fit": null,
            "object_position": null,
            "order": null,
            "overflow": null,
            "overflow_x": null,
            "overflow_y": null,
            "padding": null,
            "right": null,
            "top": null,
            "visibility": null,
            "width": null
          }
        },
        "aeb39dbe85c840cda82accad1ed7d1c7": {
          "model_module": "@jupyter-widgets/controls",
          "model_name": "DescriptionStyleModel",
          "model_module_version": "1.5.0",
          "state": {
            "_model_module": "@jupyter-widgets/controls",
            "_model_module_version": "1.5.0",
            "_model_name": "DescriptionStyleModel",
            "_view_count": null,
            "_view_module": "@jupyter-widgets/base",
            "_view_module_version": "1.2.0",
            "_view_name": "StyleView",
            "description_width": ""
          }
        },
        "375d4be68ba64f1d9b96a1656cefd1cc": {
          "model_module": "@jupyter-widgets/base",
          "model_name": "LayoutModel",
          "model_module_version": "1.2.0",
          "state": {
            "_model_module": "@jupyter-widgets/base",
            "_model_module_version": "1.2.0",
            "_model_name": "LayoutModel",
            "_view_count": null,
            "_view_module": "@jupyter-widgets/base",
            "_view_module_version": "1.2.0",
            "_view_name": "LayoutView",
            "align_content": null,
            "align_items": null,
            "align_self": null,
            "border": null,
            "bottom": null,
            "display": null,
            "flex": null,
            "flex_flow": null,
            "grid_area": null,
            "grid_auto_columns": null,
            "grid_auto_flow": null,
            "grid_auto_rows": null,
            "grid_column": null,
            "grid_gap": null,
            "grid_row": null,
            "grid_template_areas": null,
            "grid_template_columns": null,
            "grid_template_rows": null,
            "height": null,
            "justify_content": null,
            "justify_items": null,
            "left": null,
            "margin": null,
            "max_height": null,
            "max_width": null,
            "min_height": null,
            "min_width": null,
            "object_fit": null,
            "object_position": null,
            "order": null,
            "overflow": null,
            "overflow_x": null,
            "overflow_y": null,
            "padding": null,
            "right": null,
            "top": null,
            "visibility": null,
            "width": null
          }
        },
        "ec753b06a4174e36b1649c21d3ccf0e9": {
          "model_module": "@jupyter-widgets/controls",
          "model_name": "ProgressStyleModel",
          "model_module_version": "1.5.0",
          "state": {
            "_model_module": "@jupyter-widgets/controls",
            "_model_module_version": "1.5.0",
            "_model_name": "ProgressStyleModel",
            "_view_count": null,
            "_view_module": "@jupyter-widgets/base",
            "_view_module_version": "1.2.0",
            "_view_name": "StyleView",
            "bar_color": null,
            "description_width": ""
          }
        },
        "ee404969f0dc465eaf291f96e012bef9": {
          "model_module": "@jupyter-widgets/base",
          "model_name": "LayoutModel",
          "model_module_version": "1.2.0",
          "state": {
            "_model_module": "@jupyter-widgets/base",
            "_model_module_version": "1.2.0",
            "_model_name": "LayoutModel",
            "_view_count": null,
            "_view_module": "@jupyter-widgets/base",
            "_view_module_version": "1.2.0",
            "_view_name": "LayoutView",
            "align_content": null,
            "align_items": null,
            "align_self": null,
            "border": null,
            "bottom": null,
            "display": null,
            "flex": null,
            "flex_flow": null,
            "grid_area": null,
            "grid_auto_columns": null,
            "grid_auto_flow": null,
            "grid_auto_rows": null,
            "grid_column": null,
            "grid_gap": null,
            "grid_row": null,
            "grid_template_areas": null,
            "grid_template_columns": null,
            "grid_template_rows": null,
            "height": null,
            "justify_content": null,
            "justify_items": null,
            "left": null,
            "margin": null,
            "max_height": null,
            "max_width": null,
            "min_height": null,
            "min_width": null,
            "object_fit": null,
            "object_position": null,
            "order": null,
            "overflow": null,
            "overflow_x": null,
            "overflow_y": null,
            "padding": null,
            "right": null,
            "top": null,
            "visibility": null,
            "width": null
          }
        },
        "41a977e5bdcc46a9abdf321e75597d01": {
          "model_module": "@jupyter-widgets/controls",
          "model_name": "DescriptionStyleModel",
          "model_module_version": "1.5.0",
          "state": {
            "_model_module": "@jupyter-widgets/controls",
            "_model_module_version": "1.5.0",
            "_model_name": "DescriptionStyleModel",
            "_view_count": null,
            "_view_module": "@jupyter-widgets/base",
            "_view_module_version": "1.2.0",
            "_view_name": "StyleView",
            "description_width": ""
          }
        }
      }
    }
  },
  "cells": [
    {
      "cell_type": "markdown",
      "metadata": {
        "id": "view-in-github",
        "colab_type": "text"
      },
      "source": [
        "<a href=\"https://colab.research.google.com/github/renatojmf/Aspects-Extraction-in-Portuguese/blob/main/CAt_Paper.ipynb\" target=\"_parent\"><img src=\"https://colab.research.google.com/assets/colab-badge.svg\" alt=\"Open In Colab\"/></a>"
      ]
    },
    {
      "cell_type": "markdown",
      "source": [
        "# Pré-Processamento"
      ],
      "metadata": {
        "id": "8ZILJBwumuW5"
      }
    },
    {
      "cell_type": "code",
      "source": [
        "! pip install stanza"
      ],
      "metadata": {
        "id": "geCiM4qeraYT"
      },
      "execution_count": null,
      "outputs": []
    },
    {
      "cell_type": "code",
      "source": [
        "! pip install spacy_conll"
      ],
      "metadata": {
        "id": "4LPb75K6PRug"
      },
      "execution_count": null,
      "outputs": []
    },
    {
      "cell_type": "code",
      "source": [
        "from google.colab import files\n",
        "uploaded = files.upload()"
      ],
      "metadata": {
        "id": "EWUZB06RriB1",
        "outputId": "0865d999-f27b-4280-96b5-e87447f13679",
        "colab": {
          "resources": {
            "http://localhost:8080/nbextensions/google.colab/files.js": {
              "data": "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",
              "ok": true,
              "headers": [
                [
                  "content-type",
                  "application/javascript"
                ]
              ],
              "status": 200,
              "status_text": ""
            }
          },
          "base_uri": "https://localhost:8080/",
          "height": 73
        }
      },
      "execution_count": null,
      "outputs": [
        {
          "output_type": "display_data",
          "data": {
            "text/plain": [
              "<IPython.core.display.HTML object>"
            ],
            "text/html": [
              "\n",
              "     <input type=\"file\" id=\"files-77f6827b-ea84-40ac-93d7-2ed6710abc0a\" name=\"files[]\" multiple disabled\n",
              "        style=\"border:none\" />\n",
              "     <output id=\"result-77f6827b-ea84-40ac-93d7-2ed6710abc0a\">\n",
              "      Upload widget is only available when the cell has been executed in the\n",
              "      current browser session. Please rerun this cell to enable.\n",
              "      </output>\n",
              "      <script src=\"/nbextensions/google.colab/files.js\"></script> "
            ]
          },
          "metadata": {}
        },
        {
          "output_type": "stream",
          "name": "stdout",
          "text": [
            "Saving reli.csv to reli.csv\n"
          ]
        }
      ]
    },
    {
      "cell_type": "code",
      "source": [
        "import stanza as st\n",
        "import pandas as pd\n",
        "st.download('pt') # download pt model\n",
        "nlp = st.Pipeline('pt') # initialize pt neural pipeline"
      ],
      "metadata": {
        "id": "ioHfeaFORVPo",
        "outputId": "bf430d77-46aa-4284-893a-f80f91e71884",
        "colab": {
          "base_uri": "https://localhost:8080/",
          "height": 428,
          "referenced_widgets": [
            "87e66d3bdd944a6899fd0ada7681ebe3",
            "2a6546e7ca4e403a8e59ccec13ae155d",
            "92df9c3d0d9145f79007ddeb4ce90504",
            "2aa9ba260ed54d76a68b1a6857327cbd",
            "102c05da2bb2469e8afde7b861089627",
            "9ca7ba4f0ea44471842c2cba75ba4430",
            "3b62503a9dbe4b7eb37076c83584b785",
            "ac78e96db174450387f19d814598f35a",
            "8129dad971b8418b928f7e6ce9ff7ff7",
            "ca9f2b6a197042dd8b61437e7f0986ca",
            "67c02b53ca0d48e88f6d76b64a042bab",
            "2157b0bfbe504828ae4c4190b6ad9e80",
            "5abf6c750a544f3196e4aea84d3bd312",
            "44d5ebc0fc0a49cf886f6069dd98f52c",
            "efd151b6633a4b669c9d97a3880be3a9",
            "a9efe8fe1e9941f480a9214f191d31d1",
            "eaaa5f0544c549f39fc17e1884c75172",
            "aeb39dbe85c840cda82accad1ed7d1c7",
            "375d4be68ba64f1d9b96a1656cefd1cc",
            "ec753b06a4174e36b1649c21d3ccf0e9",
            "ee404969f0dc465eaf291f96e012bef9",
            "41a977e5bdcc46a9abdf321e75597d01"
          ]
        }
      },
      "execution_count": 12,
      "outputs": [
        {
          "output_type": "display_data",
          "data": {
            "text/plain": [
              "Downloading https://raw.githubusercontent.com/stanfordnlp/stanza-resources/main/resources_1.3.0.json:   0%|   …"
            ],
            "application/vnd.jupyter.widget-view+json": {
              "version_major": 2,
              "version_minor": 0,
              "model_id": "87e66d3bdd944a6899fd0ada7681ebe3"
            }
          },
          "metadata": {}
        },
        {
          "output_type": "stream",
          "name": "stderr",
          "text": [
            "2022-03-21 15:39:12 INFO: Downloading default packages for language: pt (Portuguese)...\n"
          ]
        },
        {
          "output_type": "display_data",
          "data": {
            "text/plain": [
              "Downloading https://huggingface.co/stanfordnlp/stanza-pt/resolve/v1.3.0/models/default.zip:   0%|          | 0…"
            ],
            "application/vnd.jupyter.widget-view+json": {
              "version_major": 2,
              "version_minor": 0,
              "model_id": "2157b0bfbe504828ae4c4190b6ad9e80"
            }
          },
          "metadata": {}
        },
        {
          "output_type": "stream",
          "name": "stderr",
          "text": [
            "2022-03-21 15:39:20 INFO: Finished downloading models and saved to /root/stanza_resources.\n",
            "2022-03-21 15:39:20 INFO: Loading these models for language: pt (Portuguese):\n",
            "=======================\n",
            "| Processor | Package |\n",
            "-----------------------\n",
            "| tokenize  | bosque  |\n",
            "| mwt       | bosque  |\n",
            "| pos       | bosque  |\n",
            "| lemma     | bosque  |\n",
            "| depparse  | bosque  |\n",
            "=======================\n",
            "\n",
            "2022-03-21 15:39:20 INFO: Use device: cpu\n",
            "2022-03-21 15:39:20 INFO: Loading: tokenize\n",
            "2022-03-21 15:39:20 INFO: Loading: mwt\n",
            "2022-03-21 15:39:20 INFO: Loading: pos\n",
            "2022-03-21 15:39:21 INFO: Loading: lemma\n",
            "2022-03-21 15:39:21 INFO: Loading: depparse\n",
            "2022-03-21 15:39:22 INFO: Done loading processors!\n"
          ]
        }
      ]
    },
    {
      "cell_type": "code",
      "source": [
        "! pip install unidecode"
      ],
      "metadata": {
        "colab": {
          "base_uri": "https://localhost:8080/"
        },
        "id": "fcOgo_91iT1K",
        "outputId": "52fa7de6-eead-4aa8-b75e-87bbc77ba313"
      },
      "execution_count": null,
      "outputs": [
        {
          "output_type": "stream",
          "name": "stdout",
          "text": [
            "Collecting unidecode\n",
            "  Downloading Unidecode-1.3.4-py3-none-any.whl (235 kB)\n",
            "\u001b[?25l\r\u001b[K     |█▍                              | 10 kB 15.6 MB/s eta 0:00:01\r\u001b[K     |██▉                             | 20 kB 19.8 MB/s eta 0:00:01\r\u001b[K     |████▏                           | 30 kB 18.1 MB/s eta 0:00:01\r\u001b[K     |█████▋                          | 40 kB 11.8 MB/s eta 0:00:01\r\u001b[K     |███████                         | 51 kB 6.6 MB/s eta 0:00:01\r\u001b[K     |████████▍                       | 61 kB 7.6 MB/s eta 0:00:01\r\u001b[K     |█████████▊                      | 71 kB 7.7 MB/s eta 0:00:01\r\u001b[K     |███████████▏                    | 81 kB 7.3 MB/s eta 0:00:01\r\u001b[K     |████████████▌                   | 92 kB 8.1 MB/s eta 0:00:01\r\u001b[K     |██████████████                  | 102 kB 7.5 MB/s eta 0:00:01\r\u001b[K     |███████████████▎                | 112 kB 7.5 MB/s eta 0:00:01\r\u001b[K     |████████████████▊               | 122 kB 7.5 MB/s eta 0:00:01\r\u001b[K     |██████████████████              | 133 kB 7.5 MB/s eta 0:00:01\r\u001b[K     |███████████████████▌            | 143 kB 7.5 MB/s eta 0:00:01\r\u001b[K     |████████████████████▉           | 153 kB 7.5 MB/s eta 0:00:01\r\u001b[K     |██████████████████████▎         | 163 kB 7.5 MB/s eta 0:00:01\r\u001b[K     |███████████████████████▋        | 174 kB 7.5 MB/s eta 0:00:01\r\u001b[K     |█████████████████████████       | 184 kB 7.5 MB/s eta 0:00:01\r\u001b[K     |██████████████████████████▍     | 194 kB 7.5 MB/s eta 0:00:01\r\u001b[K     |███████████████████████████▉    | 204 kB 7.5 MB/s eta 0:00:01\r\u001b[K     |█████████████████████████████▏  | 215 kB 7.5 MB/s eta 0:00:01\r\u001b[K     |██████████████████████████████▋ | 225 kB 7.5 MB/s eta 0:00:01\r\u001b[K     |████████████████████████████████| 235 kB 7.5 MB/s eta 0:00:01\r\u001b[K     |████████████████████████████████| 235 kB 7.5 MB/s \n",
            "\u001b[?25hInstalling collected packages: unidecode\n",
            "Successfully installed unidecode-1.3.4\n"
          ]
        }
      ]
    },
    {
      "cell_type": "code",
      "source": [
        "df = pd.read_csv('/content/restaurantes.csv',sep=';')\n",
        "\n",
        "#passar apenas os textos/frases para a função\n",
        "def getCoNLLU(df):\n",
        "  dicts = []\n",
        "  for texto in df:\n",
        "    doc = nlp(texto) # doc is class Document\n",
        "    dicts.append(doc.to_dict())\n",
        "\n",
        "  return dicts"
      ],
      "metadata": {
        "id": "1XFmLRUfOeeR"
      },
      "execution_count": 13,
      "outputs": []
    },
    {
      "cell_type": "code",
      "source": [
        "from unidecode import unidecode\n",
        "import re\n",
        "\n",
        "words = []\n",
        "\n",
        "for word in df['text']:\n",
        "  old_string = unidecode(word)\n",
        "  new_string = re.sub(r\"[^a-zA-Z0-9]\",\" \",old_string)\n",
        "  words.append(new_string.lower())"
      ],
      "metadata": {
        "id": "3cNFQ_HsiWL6"
      },
      "execution_count": null,
      "outputs": []
    },
    {
      "cell_type": "code",
      "source": [
        "df['text'] = words"
      ],
      "metadata": {
        "id": "qKayposUbCha"
      },
      "execution_count": null,
      "outputs": []
    },
    {
      "cell_type": "code",
      "source": [
        "df.head()"
      ],
      "metadata": {
        "colab": {
          "base_uri": "https://localhost:8080/",
          "height": 206
        },
        "id": "88xvnq7bi9f3",
        "outputId": "4a74a777-093c-4c8e-a1f4-1028ac542c1d"
      },
      "execution_count": null,
      "outputs": [
        {
          "output_type": "execute_result",
          "data": {
            "text/plain": [
              "                                                text      aspects aspectsClass\n",
              "0  hamburgueria artesanal com tempero diferenciad...      tempero         Food\n",
              "1  excelente peixe  para quem esta localizado no ...        peixe         Food\n",
              "2  serve lanches e cerveja gelada  tem mesinhas f...      cerveja       Drinks\n",
              "3                           muito bom o atendimento   atendimento      Service\n",
              "4                                  cardapio variado      Cardápio         Food"
            ],
            "text/html": [
              "\n",
              "  <div id=\"df-41a16257-2b87-406a-8698-c4c92d60cb46\">\n",
              "    <div class=\"colab-df-container\">\n",
              "      <div>\n",
              "<style scoped>\n",
              "    .dataframe tbody tr th:only-of-type {\n",
              "        vertical-align: middle;\n",
              "    }\n",
              "\n",
              "    .dataframe tbody tr th {\n",
              "        vertical-align: top;\n",
              "    }\n",
              "\n",
              "    .dataframe thead th {\n",
              "        text-align: right;\n",
              "    }\n",
              "</style>\n",
              "<table border=\"1\" class=\"dataframe\">\n",
              "  <thead>\n",
              "    <tr style=\"text-align: right;\">\n",
              "      <th></th>\n",
              "      <th>text</th>\n",
              "      <th>aspects</th>\n",
              "      <th>aspectsClass</th>\n",
              "    </tr>\n",
              "  </thead>\n",
              "  <tbody>\n",
              "    <tr>\n",
              "      <th>0</th>\n",
              "      <td>hamburgueria artesanal com tempero diferenciad...</td>\n",
              "      <td>tempero</td>\n",
              "      <td>Food</td>\n",
              "    </tr>\n",
              "    <tr>\n",
              "      <th>1</th>\n",
              "      <td>excelente peixe  para quem esta localizado no ...</td>\n",
              "      <td>peixe</td>\n",
              "      <td>Food</td>\n",
              "    </tr>\n",
              "    <tr>\n",
              "      <th>2</th>\n",
              "      <td>serve lanches e cerveja gelada  tem mesinhas f...</td>\n",
              "      <td>cerveja</td>\n",
              "      <td>Drinks</td>\n",
              "    </tr>\n",
              "    <tr>\n",
              "      <th>3</th>\n",
              "      <td>muito bom o atendimento</td>\n",
              "      <td>atendimento</td>\n",
              "      <td>Service</td>\n",
              "    </tr>\n",
              "    <tr>\n",
              "      <th>4</th>\n",
              "      <td>cardapio variado</td>\n",
              "      <td>Cardápio</td>\n",
              "      <td>Food</td>\n",
              "    </tr>\n",
              "  </tbody>\n",
              "</table>\n",
              "</div>\n",
              "      <button class=\"colab-df-convert\" onclick=\"convertToInteractive('df-41a16257-2b87-406a-8698-c4c92d60cb46')\"\n",
              "              title=\"Convert this dataframe to an interactive table.\"\n",
              "              style=\"display:none;\">\n",
              "        \n",
              "  <svg xmlns=\"http://www.w3.org/2000/svg\" height=\"24px\"viewBox=\"0 0 24 24\"\n",
              "       width=\"24px\">\n",
              "    <path d=\"M0 0h24v24H0V0z\" fill=\"none\"/>\n",
              "    <path d=\"M18.56 5.44l.94 2.06.94-2.06 2.06-.94-2.06-.94-.94-2.06-.94 2.06-2.06.94zm-11 1L8.5 8.5l.94-2.06 2.06-.94-2.06-.94L8.5 2.5l-.94 2.06-2.06.94zm10 10l.94 2.06.94-2.06 2.06-.94-2.06-.94-.94-2.06-.94 2.06-2.06.94z\"/><path d=\"M17.41 7.96l-1.37-1.37c-.4-.4-.92-.59-1.43-.59-.52 0-1.04.2-1.43.59L10.3 9.45l-7.72 7.72c-.78.78-.78 2.05 0 2.83L4 21.41c.39.39.9.59 1.41.59.51 0 1.02-.2 1.41-.59l7.78-7.78 2.81-2.81c.8-.78.8-2.07 0-2.86zM5.41 20L4 18.59l7.72-7.72 1.47 1.35L5.41 20z\"/>\n",
              "  </svg>\n",
              "      </button>\n",
              "      \n",
              "  <style>\n",
              "    .colab-df-container {\n",
              "      display:flex;\n",
              "      flex-wrap:wrap;\n",
              "      gap: 12px;\n",
              "    }\n",
              "\n",
              "    .colab-df-convert {\n",
              "      background-color: #E8F0FE;\n",
              "      border: none;\n",
              "      border-radius: 50%;\n",
              "      cursor: pointer;\n",
              "      display: none;\n",
              "      fill: #1967D2;\n",
              "      height: 32px;\n",
              "      padding: 0 0 0 0;\n",
              "      width: 32px;\n",
              "    }\n",
              "\n",
              "    .colab-df-convert:hover {\n",
              "      background-color: #E2EBFA;\n",
              "      box-shadow: 0px 1px 2px rgba(60, 64, 67, 0.3), 0px 1px 3px 1px rgba(60, 64, 67, 0.15);\n",
              "      fill: #174EA6;\n",
              "    }\n",
              "\n",
              "    [theme=dark] .colab-df-convert {\n",
              "      background-color: #3B4455;\n",
              "      fill: #D2E3FC;\n",
              "    }\n",
              "\n",
              "    [theme=dark] .colab-df-convert:hover {\n",
              "      background-color: #434B5C;\n",
              "      box-shadow: 0px 1px 3px 1px rgba(0, 0, 0, 0.15);\n",
              "      filter: drop-shadow(0px 1px 2px rgba(0, 0, 0, 0.3));\n",
              "      fill: #FFFFFF;\n",
              "    }\n",
              "  </style>\n",
              "\n",
              "      <script>\n",
              "        const buttonEl =\n",
              "          document.querySelector('#df-41a16257-2b87-406a-8698-c4c92d60cb46 button.colab-df-convert');\n",
              "        buttonEl.style.display =\n",
              "          google.colab.kernel.accessAllowed ? 'block' : 'none';\n",
              "\n",
              "        async function convertToInteractive(key) {\n",
              "          const element = document.querySelector('#df-41a16257-2b87-406a-8698-c4c92d60cb46');\n",
              "          const dataTable =\n",
              "            await google.colab.kernel.invokeFunction('convertToInteractive',\n",
              "                                                     [key], {});\n",
              "          if (!dataTable) return;\n",
              "\n",
              "          const docLinkHtml = 'Like what you see? Visit the ' +\n",
              "            '<a target=\"_blank\" href=https://colab.research.google.com/notebooks/data_table.ipynb>data table notebook</a>'\n",
              "            + ' to learn more about interactive tables.';\n",
              "          element.innerHTML = '';\n",
              "          dataTable['output_type'] = 'display_data';\n",
              "          await google.colab.output.renderOutput(dataTable, element);\n",
              "          const docLink = document.createElement('div');\n",
              "          docLink.innerHTML = docLinkHtml;\n",
              "          element.appendChild(docLink);\n",
              "        }\n",
              "      </script>\n",
              "    </div>\n",
              "  </div>\n",
              "  "
            ]
          },
          "metadata": {},
          "execution_count": 59
        }
      ]
    },
    {
      "cell_type": "code",
      "source": [
        "dicts = getCoNLLU(df['text'])\n",
        "\n",
        "saida = ''\n",
        "for sentenca in dicts[0:2]:\n",
        "  for tokens in sentenca:\n",
        "    for tks in tokens:\n",
        "      for tag in tks:\n",
        "        #print(\"tag:\" ,tag)\n",
        "        saida += str(tks[tag])  + \"\\t\"\n",
        "      saida +=\"\\n\"\n",
        "    saida +=\"\\n\"\n",
        "  saida +=\"\\n\"\n",
        "\n",
        "\n",
        "print(saida)"
      ],
      "metadata": {
        "colab": {
          "base_uri": "https://localhost:8080/"
        },
        "id": "-HC4fYHJShhY",
        "outputId": "99dac626-d16f-4cd4-e40b-7e04f47876f1"
      },
      "execution_count": null,
      "outputs": [
        {
          "output_type": "stream",
          "name": "stderr",
          "text": [
            "/usr/local/lib/python3.7/dist-packages/stanza/models/common/beam.py:86: UserWarning: __floordiv__ is deprecated, and its behavior will change in a future version of pytorch. It currently rounds toward 0 (like the 'trunc' function NOT 'floor'). This results in incorrect rounding for negative values. To keep the current behavior, use torch.div(a, b, rounding_mode='trunc'), or for actual floor division, use torch.div(a, b, rounding_mode='floor').\n",
            "  prevK = bestScoresId // numWords\n"
          ]
        },
        {
          "output_type": "stream",
          "name": "stdout",
          "text": [
            "1\thamburgueria\thamburgueria\tNOUN\tGender=Fem|Number=Sing\t11\tnsubj\t0\t12\t\n",
            "2\tartesanal\tartesanal\tADJ\tGender=Fem|Number=Sing\t1\tamod\t13\t22\t\n",
            "3\tcom\tcom\tADP\t4\tcase\t23\t26\t\n",
            "4\ttempero\ttempero\tNOUN\tGender=Masc|Number=Sing\t1\tnmod\t27\t34\t\n",
            "5\tdiferenciado\tdiferenciar\tVERB\tGender=Masc|Number=Sing|VerbForm=Part\t4\tacl\t35\t47\t\n",
            "6\tde\tde\tADP\t8\tcase\t49\t51\t\n",
            "7\tprimeira\tprimeiro\tADJ\tGender=Fem|NumType=Ord|Number=Sing\t8\tamod\t52\t60\t\n",
            "8\tqualidade\tqualidade\tNOUN\tGender=Fem|Number=Sing\t4\tnmod\t61\t70\t\n",
            "9\tfora\tser\tAUX\tMood=Ind|Number=Sing|Person=3|Tense=Pqp|VerbForm=Fin\t11\tcop\t72\t76\t\n",
            "10\to\to\tDET\tDefinite=Def|Gender=Masc|Number=Sing|PronType=Art\t11\tdet\t77\t78\t\n",
            "11\tatendimento\tatendimento\tNOUN\tGender=Masc|Number=Sing\t0\troot\t79\t90\t\n",
            "(12, 13)\tno\t91\t93\t\n",
            "12\tem\tem\tADP\t14\tcase\t\n",
            "13\to\to\tDET\tGender=Masc|Number=Sing|PronType=Art\t14\tdet\t\n",
            "14\tqual\tqual\tPRON\tGender=Masc|Number=Sing|PronType=Rel\t15\tobl\t94\t98\t\n",
            "15\tdiferencia\tdiferenciar\tVERB\tMood=Ind|Number=Sing|Person=3|Tense=Pres|VerbForm=Fin\t11\tacl:relcl\t99\t109\t\n",
            "16\tpor\tpor\tSCONJ\t18\tmark\t110\t113\t\n",
            "17\tserem\tser\tAUX\tNumber=Plur|Person=3|VerbForm=Inf\t18\tcop\t114\t119\t\n",
            "18\tbilingues\tbilingue\tADJ\tGender=Masc|Number=Plur\t15\txcomp\t120\t129\t\n",
            "\n",
            "\n",
            "1\texcelente\texcelente\tADJ\tGender=Masc|Number=Sing\t2\tamod\t0\t9\t\n",
            "2\tpeixe\tpeixe\tNOUN\tGender=Masc|Number=Sing\t0\troot\t10\t15\t\n",
            "3\tpara\tpara\tSCONJ\t6\tmark\t17\t21\t\n",
            "4\tquem\tquem\tPRON\tGender=Masc|Number=Sing|PronType=Rel\t6\tnsubj\t22\t26\t\n",
            "5\testa\teste\tPRON\tGender=Fem|Number=Sing|PronType=Dem\t6\tnsubj\t27\t31\t\n",
            "6\tlocalizado\tlocalizar\tVERB\tGender=Masc|Number=Sing|VerbForm=Part\t2\tacl\t32\t42\t\n",
            "(7, 8)\tno\t43\t45\t\n",
            "7\tem\tem\tADP\t9\tcase\t\n",
            "8\to\to\tDET\tDefinite=Def|Gender=Masc|Number=Sing|PronType=Art\t9\tdet\t\n",
            "9\tdistrito\tdistrito\tNOUN\tGender=Masc|Number=Sing\t6\tobl\t46\t54\t\n",
            "10\tindustrial\tindustrial\tADJ\tGender=Masc|Number=Sing\t9\tamod\t55\t65\t\n",
            "11\texcelente\texcelente\tADJ\tGender=Masc|Number=Sing\t9\tamod\t67\t76\t\n",
            "12\tpedida\tpedir\tVERB\tGender=Fem|Number=Sing|VerbForm=Part\t9\tacl\t77\t83\t\n",
            "13\tpara\tpara\tADP\t14\tcase\t84\t88\t\n",
            "14\talmoco\talmoco\tNOUN\tGender=Masc|Number=Sing\t12\tobl\t89\t95\t\n",
            "\n",
            "\n",
            "\n"
          ]
        }
      ]
    },
    {
      "cell_type": "code",
      "source": [
        "def getNouns():\n",
        "  for sentenca in dicts:\n",
        "    for tokens in sentenca:\n",
        "      for tks in tokens:\n",
        "        for tag in tks:\n",
        "          if tks[tag] == 'NOUN':\n",
        "            yield (tks['text'].lower())\n",
        "          "
      ],
      "metadata": {
        "id": "S-KR80K2b-_r"
      },
      "execution_count": null,
      "outputs": []
    },
    {
      "cell_type": "code",
      "source": [
        "from collections import Counter, defaultdict\n",
        "import json\n",
        "\n",
        "c = Counter()\n",
        "c.update(getNouns())\n",
        "nouns = getNouns()\n",
        "print(c)\n",
        "\n",
        "json.dump(dict(c), open('/content/nouns.json', 'w'))"
      ],
      "metadata": {
        "colab": {
          "base_uri": "https://localhost:8080/"
        },
        "id": "kvIBBN1CbwkA",
        "outputId": "f134972b-8723-4564-fb25-4a53b9a5a856"
      },
      "execution_count": null,
      "outputs": [
        {
          "output_type": "stream",
          "name": "stdout",
          "text": [
            "Counter({'atendimento': 74, 'comida': 52, 'ambiente': 38, 'lugar': 33, 'preco': 31, 'pratos': 23, 'restaurante': 23, 'pena': 16, 'local': 15, 'carne': 15, 'qualidade': 14, 'opcao': 14, 'pessoas': 13, 'servico': 12, 'variedade': 12, 'rodizio': 11, 'visita': 9, 'conta': 9, 'peixe': 8, 'casa': 8, 'cardapio': 8, 'massa': 8, 'carnes': 8, 'almoco': 7, 'prato': 7, 'tambaqui': 7, 'garcons': 7, 'estacionamento': 7, 'tempero': 6, 'reais': 6, 'musica': 6, 'manaus': 6, 'bebidas': 6, 'problema': 6, 'localizacao': 6, 'pizza': 5, 'garcom': 5, 'regiao': 5, 'peixes': 5, 'sucos': 5, 'buffet': 5, 'carte': 5, 'delicia': 5, 'valor': 5, 'precos': 5, 'cervejas': 4, 'vezes': 4, 'pizzas': 4, 'acompanhamento': 4, 'arroz': 4, 'vivo': 4, 'camarao': 4, 'entrada': 4, 'resultado': 4, 'batida': 4, 'cidade': 4, 'experiencia': 4, 'acustica': 4, 'jantar': 4, 'mundo': 4, 'padrao': 4, 'pais': 4, 'salgados': 4, 'opcoes': 4, 'empanadas': 3, 'vinho': 3, 'decoracao': 3, 'beira': 3, 'cozida': 3, 'brocolis': 3, 'coco': 3, 'cupuacu': 3, 'farofa': 3, 'ponto': 3, 'luxo': 3, 'amigos': 3, 'nota': 3, 'saladas': 3, 'pate': 3, 'espetaculo': 3, 'variedades': 3, 'bacalhau': 3, 'partes': 3, 'brinquedoteca': 3, 'filhos': 3, 'sanduiches': 3, 'estrutura': 3, 'area': 3, 'mobilidade': 3, 'cadeirantes': 3, 'numero': 3, 'reserva': 3, 'tacaca': 3, 'cerveja': 2, 'custo': 2, 'amazonia': 2, 'unidades': 2, 'sr': 2, 'shopping': 2, 'sobremesa': 2, 'sorvete': 2, 'duvida': 2, 'pessoa': 2, 'otima': 2, 'frente': 2, 'teatro': 2, 'culinaria': 2, 'ingredientes': 2, 'agua': 2, 'duvidas': 2, 'peixarias': 2, 'sabores': 2, 'acompanhamentos': 2, 'encontro': 2, 'expectativa': 2, 'caipirinhas': 2, 'cacau': 2, 'familia': 2, 'comidas': 2, 'tambem': 2, 'churrascaria': 2, 'precinho': 2, 'matrinxa': 2, 'ovo': 2, 'funcionarios': 2, 'fartura': 2, 'bolinho': 2, 'gente': 2, 'coqueiro': 2, 'sol': 2, 'jantarzinho': 2, 'destaque': 2, 'coisa': 2, 'dede': 2, 'sopas': 2, 'fome': 2, 'feira': 2, 'cafezinho': 2, 'hamburgueria': 1, 'distrito': 1, 'lanches': 1, 'mesinhas': 1, 'estabelecimento': 1, 'parte': 1, 'charme': 1, 'pequeno': 1, 'lugares': 1, 'parede': 1, 'escamas': 1, 'pirarucu': 1, 'pau': 1, 'pique': 1, 'garcon': 1, 'historia': 1, 'empreendimento': 1, 'delivery': 1, 'ponta': 1, 'som': 1, 'ricardo': 1, 'jose': 1, 'show': 1, 'cocada': 1, 'forno': 1, 'leite': 1, 'quantidade': 1, 'maximo': 1, 'sorveteria': 1, 'praca': 1, 'creme': 1, 'pessoal': 1, 'banzeiro': 1, 'variacao': 1, 'cardipio': 1, 'espinha': 1, 'castanha': 1, 'suco': 1, 'degustacao': 1, 'peixaria': 1, 'media': 1, 'centavo': 1, 'atencao': 1, 'pedido': 1, 'files': 1, 'apetite': 1, 'bolso': 1, 'criatividade': 1, 'elaboracao': 1, 'explosao': 1, 'sabor': 1, 'especialidade': 1, 'capricho': 1, 'brasa': 1, 'elite': 1, 'kg': 1, 'super': 1, 'certeza': 1, 'choupana': 1, 'melhores': 1, 'agradabilissimo': 1, 'bar': 1, 'razao': 1, 'diversidade': 1, 'frequentadores': 1, 'centrinho': 1, 'acai': 1, 'delicioso': 1, 'jovens': 1, 'energia': 1, 'cortes': 1, 'convite': 1, 'tempo': 1, 'data': 1, 'andares': 1, 'banheiros': 1, 'descoberta': 1, 'terras': 1, 'hotel': 1, 'erro': 1, 'nao': 1, 'sombra': 1, 'bares': 1, 'frescura': 1, 'cafe': 1, 'oleo': 1, 'restaurantes': 1, 'entrega': 1, 'pedida': 1, 'bolinhos': 1, 'macaxeira': 1, 'massas': 1, 'cheio': 1, 'ada': 1, 'queijos': 1, 'tradicional': 1, 'churrasco': 1, 'entao': 1, 'sopa': 1, 'legumes': 1, 'torradinha': 1, 'aniversarios': 1, 'picanha': 1, 'so': 1, 'astral': 1, 'largo': 1, 'entanto': 1, 'administracao': 1, 'tucunare': 1, 'igual': 1, 'senac': 1, 'alimento': 1, 'quilo': 1, 'alternativa': 1, 'parque': 1, 'rio': 1, 'passeio': 1, 'bebida': 1, 'treinamento': 1, 'funcionarias': 1, 'cachacaria': 1, 'shop': 1, 'olhos': 1, 'ladinho': 1, 'arvores': 1, 'demora': 1, 'nome': 1, 'tipo': 1, 'tipicas': 1, 'dunkel': 1, 'top': 1, 'cachacas': 1, 'melhor': 1, 'venda': 1, 'drinks': 1, 'chopes': 1, 'min': 1, 'rodada': 1, 'monte': 1, 'chopp': 1, 'visitas': 1, 'sistema': 1, 'habibs': 1, 'saida': 1, 'terca': 1, 'concorrentes': 1, 'bacana': 1, 'mm': 1, 's': 1, 'recheio': 1, 'borda': 1, 'gergelim': 1, 'sobremesas': 1, 'shows': 1, 'quintas': 1, 'padaria': 1, 'possibilidade': 1, 'sanduiche': 1, 'lanche': 1})\n"
          ]
        }
      ]
    },
    {
      "cell_type": "code",
      "source": [
        "def getCorpus2(df):\n",
        "  corpus = []\n",
        "  for item in df:\n",
        "    corpus.append(item.split())\n",
        "  \n",
        "  return corpus"
      ],
      "metadata": {
        "id": "LlHOFEcBZOfz"
      },
      "execution_count": null,
      "outputs": []
    },
    {
      "cell_type": "code",
      "source": [
        "from gensim.models import Word2Vec\n",
        "corpus = getCorpus2(df['text'])\n",
        "#print(corpus[1::])\n",
        "\n",
        "f = Word2Vec(corpus[1::],\n",
        "                 sg=0,\n",
        "                 negative=5,\n",
        "                 window=10,\n",
        "                 size=200,\n",
        "                 min_count=2,\n",
        "                 iter=5,\n",
        "                 workers=10)\n",
        "\n",
        "f.wv.save_word2vec_format(\"/content/my_word_vectors.vec\")\n"
      ],
      "metadata": {
        "id": "G2GfQkXtlMR-"
      },
      "execution_count": null,
      "outputs": []
    },
    {
      "cell_type": "code",
      "source": [
        "d = json.load(open('/content/nouns.json'))\n",
        "nouns2 = Counter()\n",
        "#print(f.wv.vocab.items[0])\n",
        "for k, v in d.items():\n",
        "  for tag,_ in f.wv.vocab.items():\n",
        "    if k.lower() == tag:\n",
        "      #print(\"valor v: \",v)\n",
        "      nouns2[k.lower()] += v\n",
        "\n",
        "# nouns2, _ = zip(*sorted(nouns2.items(),\n",
        "#                 key=lambda x: x[1],\n",
        "#                 reverse=True))\n",
        "\n",
        "# json.dump(nouns, open(\"/content/aspect_words.json\", \"w\"))"
      ],
      "metadata": {
        "id": "tgdUiBsgnNa4"
      },
      "execution_count": null,
      "outputs": []
    },
    {
      "cell_type": "code",
      "source": [
        "nouns3, _ = zip(*sorted(nouns2.items(),\n",
        "                key=lambda x: x[1],\n",
        "                reverse=True))\n",
        "\n",
        "json.dump(nouns3, open(\"/content/aspect_words.json\", \"w\"))"
      ],
      "metadata": {
        "id": "sF0elJ6rlGB2"
      },
      "execution_count": null,
      "outputs": []
    },
    {
      "cell_type": "markdown",
      "source": [
        "# Execução"
      ],
      "metadata": {
        "id": "gPdLq-ICm7Xn"
      }
    },
    {
      "cell_type": "code",
      "source": [
        "! pip install reach"
      ],
      "metadata": {
        "id": "dHXsU1dEnbPf"
      },
      "execution_count": null,
      "outputs": []
    },
    {
      "cell_type": "code",
      "source": [
        "import json\n",
        "from reach import Reach\n",
        "from collections import defaultdict\n",
        "import numpy as np\n",
        "from collections import defaultdict\n",
        "from sklearn.metrics.pairwise import rbf_kernel\n",
        "from collections import Counter"
      ],
      "metadata": {
        "id": "sQpMtYQZmDoY"
      },
      "execution_count": 2,
      "outputs": []
    },
    {
      "cell_type": "code",
      "source": [
        "def normalize(x):\n",
        "    \"\"\"Normalize a vector while controlling for zero vectors.\"\"\"\n",
        "    x = np.copy(x)\n",
        "    if np.ndim(x) == 1:\n",
        "        norm = np.linalg.norm(x)\n",
        "        if norm == 0:\n",
        "            return x\n",
        "        return x / np.linalg.norm(x)\n",
        "    norm = np.linalg.norm(x, axis=-1)\n",
        "    mask = norm > 0\n",
        "    x[mask] /= norm[mask][:, None]\n",
        "    return x\n"
      ],
      "metadata": {
        "id": "Ir6aDzlZoMXc"
      },
      "execution_count": 3,
      "outputs": []
    },
    {
      "cell_type": "code",
      "source": [
        "\"\"\"Simple method.\"\"\"\n",
        "import numpy as np\n",
        "from collections import defaultdict\n",
        "from sklearn.metrics.pairwise import rbf_kernel\n",
        "from collections import Counter\n",
        "\n",
        "\n",
        "def get_aspects(fragments, embeddings, n_adj_seed, n_nouns, min_count):\n",
        "    \"\"\"Get aspects based on fragments.\"\"\"\n",
        "    adj, _, noun = zip(*fragments)\n",
        "    adj_cand, _ = zip(*Counter(adj).most_common(n_adj_seed))\n",
        "\n",
        "    cands = candidate(embeddings,\n",
        "                      adj,\n",
        "                      noun,\n",
        "                      adj_cand,\n",
        "                      n_nouns,\n",
        "                      min_count)\n",
        "\n",
        "    return cands\n",
        "\n",
        "\n",
        "def candidate(embeddings,\n",
        "              adj,\n",
        "              noun,\n",
        "              seed_words,\n",
        "              n_nouns,\n",
        "              min_count):\n",
        "    \"\"\"\n",
        "    Generates candidate aspects based on adjective co-occurrences\n",
        "\n",
        "    Parameters\n",
        "    ----------\n",
        "    embeddings : Reach\n",
        "        A Reach instance containing the word embeddings.\n",
        "    constructions : list of tuples\n",
        "        A list of adjective noun tuples.\n",
        "    seed_words : list of str\n",
        "        A list of strings. All these words should be in vocab for the\n",
        "        given embeddings model.\n",
        "    frequency_threshold : int\n",
        "        Any noun occurring fewer times than this threshold is discarded\n",
        "    n_nouns : int\n",
        "        The amount of items to return\n",
        "\n",
        "    Returns\n",
        "    -------\n",
        "    candidates : dict\n",
        "        A dictionary mapping strings to their scores.\n",
        "\n",
        "    \"\"\"\n",
        "    a = list(set(adj))\n",
        "    sims = embeddings.similarity(a, seed_words).max(1)\n",
        "    adj_scores = dict(zip(a, sims))\n",
        "\n",
        "    noun_scores = defaultdict(lambda: [0, 0])\n",
        "    for adj, noun in zip(adj, noun):\n",
        "        noun_scores[noun][0] += adj_scores[adj]\n",
        "        noun_scores[noun][1] += 1\n",
        "\n",
        "    noun_scores = {k: v[0] for k, v in noun_scores.items()\n",
        "                   if v[1] > min_count}\n",
        "\n",
        "    return sorted(noun_scores.items(), key=lambda x: x[1])[-n_nouns:]\n",
        "\n",
        "\n",
        "def rbf_attention(vec, memory, gamma, **kwargs):\n",
        "    \"\"\"\n",
        "    Single-head attention using RBF kernel.\n",
        "\n",
        "    Parameters\n",
        "    ----------\n",
        "    vec : np.array\n",
        "        an (N, D)-shaped array, representing the tokens of an instance.\n",
        "    memory : np.array\n",
        "        an (M, D)-shaped array, representing the memory items\n",
        "    gamma : float\n",
        "        the gamma of the RBF kernel.\n",
        "\n",
        "    Returns\n",
        "    -------\n",
        "    attention : np.array\n",
        "        A (1, N)-shaped array, representing a single-headed attention mechanism\n",
        "\n",
        "    \"\"\"\n",
        "    z = rbf_kernel(vec, memory, gamma)\n",
        "    s = z.sum()\n",
        "    if s == 0:\n",
        "        # If s happens to be 0, back off to uniform\n",
        "        return np.ones((1, len(vec))) / len(vec)\n",
        "    return (z.sum(1) / s)[None, :]\n",
        "\n",
        "\n",
        "def softmax(x, axis=1):\n",
        "    \"\"\"Compute softmax values for each sets of scores in x.\"\"\"\n",
        "    e_x = np.exp(x - np.max(x, axis, keepdims=True))\n",
        "    s = e_x.sum(axis=axis, keepdims=True)\n",
        "    return e_x / s\n",
        "\n",
        "\n",
        "def attention(vec, memory, **kwargs):\n",
        "    \"\"\"\n",
        "    Standard multi-head attention mechanism.\n",
        "\n",
        "    Parameters\n",
        "    ----------\n",
        "    vec : np.array\n",
        "        an (N, D)-shaped array, representing the tokens of an instance.\n",
        "    memory : np.array\n",
        "        an (M, D)-shaped array, representing the memory items\n",
        "\n",
        "    Returns\n",
        "    -------\n",
        "    attention : np.array\n",
        "        A (M, N)-shaped array, representing the attention over all memories.\n",
        "\n",
        "    \"\"\"\n",
        "    z = memory.dot(vec.T)\n",
        "    return softmax(z)\n",
        "\n",
        "\n",
        "def mean(vec, aspect_vecs, **kwargs):\n",
        "    \"\"\"Just a mean weighting.\"\"\"\n",
        "    return (np.ones(len(vec)) / len(vec))[None, :]\n",
        "\n",
        "\n",
        "\n"
      ],
      "metadata": {
        "id": "yUCmvOZ9oo8I"
      },
      "execution_count": 4,
      "outputs": []
    },
    {
      "cell_type": "code",
      "source": [
        "atts = []\n",
        "def get_scores(instances,\n",
        "               aspects,\n",
        "               r,\n",
        "               labels,\n",
        "               remove_oov=False,\n",
        "               attention_func=attention,\n",
        "               **kwargs):\n",
        "    \"\"\"Scoring function.\"\"\"\n",
        "    assert all([x in r.items for x in labels])\n",
        "    \n",
        "    label_vecs = normalize(r.vectorize(labels))\n",
        "    aspect_vecs = [x.mean(0)\n",
        "                   for x in r.transform(aspects,\n",
        "                                        remove_oov=False)]\n",
        "    aspect_vecs = np.stack(aspect_vecs)\n",
        "    if len(instances) == 1:\n",
        "        instances = [instances]\n",
        "\n",
        "    t = r.transform(instances, remove_oov=remove_oov)\n",
        "\n",
        "    out = []\n",
        "    for vec in t:\n",
        "        att = attention_func(vec, aspect_vecs, **kwargs)\n",
        "        atts.append(att)\n",
        "        print(\"att\",att)\n",
        "        # Att = (n_heads, n_words)\n",
        "        z = att.dot(vec)\n",
        "        # z = (n_heads, n_dim)\n",
        "        x = normalize(z).dot(label_vecs.T)\n",
        "        # x = (n_heads, n_labels)\n",
        "        out.append(x.sum(0))\n",
        "    return np.stack(out)"
      ],
      "metadata": {
        "id": "sJoeggzIpVD5"
      },
      "execution_count": 144,
      "outputs": []
    },
    {
      "cell_type": "code",
      "source": [
        "GAMMA = .03\n",
        "N_ASPECT_WORDS = 200\n",
        "\n",
        "scores = defaultdict(dict)\n",
        "r = Reach.load(\"/content/cbow_s50.txt\",unk_word=\"<UNK>\")\n",
        "\n",
        "aspects = [[x] for x in json.load(open(\"/content/aspect_words.json\"))]\n",
        "aspects = aspects[:N_ASPECT_WORDS]\n",
        "#atendimento fantástico, voltarei mais vezes.\".split(), \"atendimento fantástico, voltarei mais vezes.\".split(),\"comida bem temperada como deve ser.\".split()\n",
        "instances = [\"um ambiente de otima qualidade\".lower().split(), \n",
        "              \"a comida.\".lower().split(), \n",
        "              \"o atendimento\".lower().split()]\n",
        "#instances = df['text'][5:10]\n",
        "print(instances)\n",
        "label_set = {\"atendimento\", \"comida\", \"ambiente\"}\n",
        "#[i.lower().split() for i in instances]\n",
        "s = get_scores(instances,\n",
        "               aspects,\n",
        "               r,\n",
        "               label_set,\n",
        "               gamma=GAMMA,\n",
        "               remove_oov=False,\n",
        "               attention_func=rbf_attention)\n",
        "\n",
        "pred = s.argmax(1)\n",
        "print(s)\n",
        "print(pred)"
      ],
      "metadata": {
        "colab": {
          "base_uri": "https://localhost:8080/"
        },
        "id": "P0D3meKxnpuu",
        "outputId": "5faa8e0d-96ff-4fab-a1c6-d7c583406570"
      },
      "execution_count": 145,
      "outputs": [
        {
          "output_type": "stream",
          "name": "stdout",
          "text": [
            "[['um', 'ambiente', 'de', 'otima', 'qualidade'], ['a', 'comida.'], ['o', 'atendimento']]\n",
            "att [[0.1934354  0.19726068 0.19610389 0.20825753 0.20494252]]\n",
            "att [[0.4796628  0.52033716]]\n",
            "att [[0.5022572  0.49774283]]\n",
            "[[ 0.50051814  0.3303785   0.5300135 ]\n",
            " [-0.1989051  -0.15399069  0.02553894]\n",
            " [ 0.32532045  0.7588359   0.25020128]]\n",
            "[2 2 1]\n"
          ]
        }
      ]
    },
    {
      "cell_type": "code",
      "source": [
        "BEST_ATT = {\"n_noun\": 980}\n",
        "BEST_RBF = {\"n_noun\": 200}\n",
        "\n",
        "scores = defaultdict(dict)\n",
        "r = Reach.load(\"/content/my_word_vectors.vec\",\n",
        "                   unk_word=\"<UNK>\")\n",
        "\n",
        "d = json.load(open(\"/content/nouns.json\"))\n",
        "\n",
        "nouns = Counter()\n",
        "for k, v in d.items():\n",
        "  if k.lower() in r.items:\n",
        "    nouns[k.lower()] += v\n",
        "\n",
        "embedding_paths = [\"/content/my_word_vectors.vec\"]\n",
        "bundles = ((rbf_attention, attention), embedding_paths)"
      ],
      "metadata": {
        "id": "4hQHZLPQlNsL"
      },
      "execution_count": 24,
      "outputs": []
    },
    {
      "cell_type": "code",
      "source": [
        "from itertools import product\n",
        "for att, path in product(*bundles):\n",
        "  r = Reach.load(path, unk_word=\"<UNK>\")\n",
        "\n",
        "  if att == rbf_attention:\n",
        "    candidates, _ = zip(*nouns.most_common(BEST_RBF[\"n_noun\"]))\n",
        "  else:\n",
        "    candidates, _ = zip(*nouns.most_common(BEST_ATT[\"n_noun\"]))\n",
        "\n",
        "  aspects = [[x] for x in candidates]"
      ],
      "metadata": {
        "id": "wMSkNzO3mxVT"
      },
      "execution_count": 25,
      "outputs": []
    },
    {
      "cell_type": "markdown",
      "source": [
        "# Funções auxiliares"
      ],
      "metadata": {
        "id": "evcEBvNym-vT"
      }
    },
    {
      "cell_type": "code",
      "source": [
        "with open('/content/restaurant_textos.txt ', 'w') as textfile:\n",
        "  textfile.write(\"\\n\".join(str(item) for item in sentences))\n",
        "textfile.close()"
      ],
      "metadata": {
        "id": "80CDAKu_u-oC"
      },
      "execution_count": null,
      "outputs": []
    },
    {
      "cell_type": "code",
      "source": [
        "with open('/content/corpus.txt ', 'w') as textfile:\n",
        "  for item in corpus:\n",
        "    textfile.write(str(item))\n",
        "textfile.close()"
      ],
      "metadata": {
        "id": "r4uVk8_RaAhb"
      },
      "execution_count": null,
      "outputs": []
    },
    {
      "cell_type": "code",
      "source": [
        "import numpy as np\n",
        "import matplotlib\n",
        "import matplotlib.pyplot as plt\n",
        "\n",
        "def colorize(words, color_array):\n",
        "    cmap=matplotlib.cm.Blues\n",
        "    template = '<span class=\"barcode\"; style=\"color: black; background-color: {}\">{}</span>'\n",
        "    colored_string = ''\n",
        "    for word, color in zip(words, color_array):\n",
        "        color = matplotlib.colors.rgb2hex(cmap(color))\n",
        "        print(color)\n",
        "        colored_string += template.format(color, '&nbsp' + word + '&nbsp')\n",
        "    return colored_string\n",
        "\n",
        "words = instances[0]#['um', 'ambiente', 'de', 'ótima', 'qualidade']\n",
        "color_array = atts[0][0]\n",
        "\n",
        "print(color_array)\n",
        "s = colorize(words, color_array)\n",
        "\n",
        "# or simply save in an html file and open in browser\n",
        "with open('/content/colorize.html', 'w') as f:\n",
        "    f.write(s)"
      ],
      "metadata": {
        "id": "KMhjTzsax5f-",
        "outputId": "284f5ff5-c458-4594-bfc1-96a36d024caf",
        "colab": {
          "base_uri": "https://localhost:8080/"
        }
      },
      "execution_count": 146,
      "outputs": [
        {
          "output_type": "stream",
          "name": "stdout",
          "text": [
            "[0.1934354  0.19726068 0.19610389 0.20825753 0.20494252]\n",
            "#d1e2f3\n",
            "#d0e2f2\n",
            "#d0e2f2\n",
            "#cee0f2\n",
            "#cfe1f2\n"
          ]
        }
      ]
    }
  ]
}