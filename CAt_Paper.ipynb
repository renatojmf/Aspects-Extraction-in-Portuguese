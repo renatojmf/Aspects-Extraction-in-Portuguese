{
  "nbformat": 4,
  "nbformat_minor": 0,
  "metadata": {
    "colab": {
      "name": "CAt_Paper.ipynb",
      "provenance": [],
      "collapsed_sections": [
        "evcEBvNym-vT"
      ],
      "mount_file_id": "17jQSehKdHVEbJ2x04P5J7AGoYSwhWf3w",
      "authorship_tag": "ABX9TyM/OnxCPuby1JNhNtc0R9/J",
      "include_colab_link": true
    },
    "kernelspec": {
      "name": "python3",
      "display_name": "Python 3"
    },
    "language_info": {
      "name": "python"
    },
    "widgets": {
      "application/vnd.jupyter.widget-state+json": {
        "1ccbfdcf1a5549c1af790b425f2d192a": {
          "model_module": "@jupyter-widgets/controls",
          "model_name": "HBoxModel",
          "model_module_version": "1.5.0",
          "state": {
            "_dom_classes": [],
            "_model_module": "@jupyter-widgets/controls",
            "_model_module_version": "1.5.0",
            "_model_name": "HBoxModel",
            "_view_count": null,
            "_view_module": "@jupyter-widgets/controls",
            "_view_module_version": "1.5.0",
            "_view_name": "HBoxView",
            "box_style": "",
            "children": [
              "IPY_MODEL_8224011475c24f7ebc9daad404541bc6",
              "IPY_MODEL_8ab0f20a16fc41ddb836c772fa68706e",
              "IPY_MODEL_1499dfa9fde04ec3a8d94d71db9e823f"
            ],
            "layout": "IPY_MODEL_f1e7d73172624bf5ae6a882a18c45c46"
          }
        },
        "8224011475c24f7ebc9daad404541bc6": {
          "model_module": "@jupyter-widgets/controls",
          "model_name": "HTMLModel",
          "model_module_version": "1.5.0",
          "state": {
            "_dom_classes": [],
            "_model_module": "@jupyter-widgets/controls",
            "_model_module_version": "1.5.0",
            "_model_name": "HTMLModel",
            "_view_count": null,
            "_view_module": "@jupyter-widgets/controls",
            "_view_module_version": "1.5.0",
            "_view_name": "HTMLView",
            "description": "",
            "description_tooltip": null,
            "layout": "IPY_MODEL_03a329ffaf5d47eb836f784fb86ddd61",
            "placeholder": "​",
            "style": "IPY_MODEL_3cfa9f80b3b348b38dcfcc78ab8bd1fc",
            "value": "Downloading https://raw.githubusercontent.com/stanfordnlp/stanza-resources/main/resources_1.3.0.json: "
          }
        },
        "8ab0f20a16fc41ddb836c772fa68706e": {
          "model_module": "@jupyter-widgets/controls",
          "model_name": "FloatProgressModel",
          "model_module_version": "1.5.0",
          "state": {
            "_dom_classes": [],
            "_model_module": "@jupyter-widgets/controls",
            "_model_module_version": "1.5.0",
            "_model_name": "FloatProgressModel",
            "_view_count": null,
            "_view_module": "@jupyter-widgets/controls",
            "_view_module_version": "1.5.0",
            "_view_name": "ProgressView",
            "bar_style": "success",
            "description": "",
            "description_tooltip": null,
            "layout": "IPY_MODEL_dc3e680c3a7e4840ae6b3a73d5b0785e",
            "max": 24459,
            "min": 0,
            "orientation": "horizontal",
            "style": "IPY_MODEL_8393650a31bc465ab70d15ac2c00beb8",
            "value": 24459
          }
        },
        "1499dfa9fde04ec3a8d94d71db9e823f": {
          "model_module": "@jupyter-widgets/controls",
          "model_name": "HTMLModel",
          "model_module_version": "1.5.0",
          "state": {
            "_dom_classes": [],
            "_model_module": "@jupyter-widgets/controls",
            "_model_module_version": "1.5.0",
            "_model_name": "HTMLModel",
            "_view_count": null,
            "_view_module": "@jupyter-widgets/controls",
            "_view_module_version": "1.5.0",
            "_view_name": "HTMLView",
            "description": "",
            "description_tooltip": null,
            "layout": "IPY_MODEL_8ffc4a33f8bf4e43ab7c9b93e2c659ef",
            "placeholder": "​",
            "style": "IPY_MODEL_f94e538cc61140cabb27a9c046deb445",
            "value": " 142k/? [00:00&lt;00:00, 690kB/s]"
          }
        },
        "f1e7d73172624bf5ae6a882a18c45c46": {
          "model_module": "@jupyter-widgets/base",
          "model_name": "LayoutModel",
          "model_module_version": "1.2.0",
          "state": {
            "_model_module": "@jupyter-widgets/base",
            "_model_module_version": "1.2.0",
            "_model_name": "LayoutModel",
            "_view_count": null,
            "_view_module": "@jupyter-widgets/base",
            "_view_module_version": "1.2.0",
            "_view_name": "LayoutView",
            "align_content": null,
            "align_items": null,
            "align_self": null,
            "border": null,
            "bottom": null,
            "display": null,
            "flex": null,
            "flex_flow": null,
            "grid_area": null,
            "grid_auto_columns": null,
            "grid_auto_flow": null,
            "grid_auto_rows": null,
            "grid_column": null,
            "grid_gap": null,
            "grid_row": null,
            "grid_template_areas": null,
            "grid_template_columns": null,
            "grid_template_rows": null,
            "height": null,
            "justify_content": null,
            "justify_items": null,
            "left": null,
            "margin": null,
            "max_height": null,
            "max_width": null,
            "min_height": null,
            "min_width": null,
            "object_fit": null,
            "object_position": null,
            "order": null,
            "overflow": null,
            "overflow_x": null,
            "overflow_y": null,
            "padding": null,
            "right": null,
            "top": null,
            "visibility": null,
            "width": null
          }
        },
        "03a329ffaf5d47eb836f784fb86ddd61": {
          "model_module": "@jupyter-widgets/base",
          "model_name": "LayoutModel",
          "model_module_version": "1.2.0",
          "state": {
            "_model_module": "@jupyter-widgets/base",
            "_model_module_version": "1.2.0",
            "_model_name": "LayoutModel",
            "_view_count": null,
            "_view_module": "@jupyter-widgets/base",
            "_view_module_version": "1.2.0",
            "_view_name": "LayoutView",
            "align_content": null,
            "align_items": null,
            "align_self": null,
            "border": null,
            "bottom": null,
            "display": null,
            "flex": null,
            "flex_flow": null,
            "grid_area": null,
            "grid_auto_columns": null,
            "grid_auto_flow": null,
            "grid_auto_rows": null,
            "grid_column": null,
            "grid_gap": null,
            "grid_row": null,
            "grid_template_areas": null,
            "grid_template_columns": null,
            "grid_template_rows": null,
            "height": null,
            "justify_content": null,
            "justify_items": null,
            "left": null,
            "margin": null,
            "max_height": null,
            "max_width": null,
            "min_height": null,
            "min_width": null,
            "object_fit": null,
            "object_position": null,
            "order": null,
            "overflow": null,
            "overflow_x": null,
            "overflow_y": null,
            "padding": null,
            "right": null,
            "top": null,
            "visibility": null,
            "width": null
          }
        },
        "3cfa9f80b3b348b38dcfcc78ab8bd1fc": {
          "model_module": "@jupyter-widgets/controls",
          "model_name": "DescriptionStyleModel",
          "model_module_version": "1.5.0",
          "state": {
            "_model_module": "@jupyter-widgets/controls",
            "_model_module_version": "1.5.0",
            "_model_name": "DescriptionStyleModel",
            "_view_count": null,
            "_view_module": "@jupyter-widgets/base",
            "_view_module_version": "1.2.0",
            "_view_name": "StyleView",
            "description_width": ""
          }
        },
        "dc3e680c3a7e4840ae6b3a73d5b0785e": {
          "model_module": "@jupyter-widgets/base",
          "model_name": "LayoutModel",
          "model_module_version": "1.2.0",
          "state": {
            "_model_module": "@jupyter-widgets/base",
            "_model_module_version": "1.2.0",
            "_model_name": "LayoutModel",
            "_view_count": null,
            "_view_module": "@jupyter-widgets/base",
            "_view_module_version": "1.2.0",
            "_view_name": "LayoutView",
            "align_content": null,
            "align_items": null,
            "align_self": null,
            "border": null,
            "bottom": null,
            "display": null,
            "flex": null,
            "flex_flow": null,
            "grid_area": null,
            "grid_auto_columns": null,
            "grid_auto_flow": null,
            "grid_auto_rows": null,
            "grid_column": null,
            "grid_gap": null,
            "grid_row": null,
            "grid_template_areas": null,
            "grid_template_columns": null,
            "grid_template_rows": null,
            "height": null,
            "justify_content": null,
            "justify_items": null,
            "left": null,
            "margin": null,
            "max_height": null,
            "max_width": null,
            "min_height": null,
            "min_width": null,
            "object_fit": null,
            "object_position": null,
            "order": null,
            "overflow": null,
            "overflow_x": null,
            "overflow_y": null,
            "padding": null,
            "right": null,
            "top": null,
            "visibility": null,
            "width": null
          }
        },
        "8393650a31bc465ab70d15ac2c00beb8": {
          "model_module": "@jupyter-widgets/controls",
          "model_name": "ProgressStyleModel",
          "model_module_version": "1.5.0",
          "state": {
            "_model_module": "@jupyter-widgets/controls",
            "_model_module_version": "1.5.0",
            "_model_name": "ProgressStyleModel",
            "_view_count": null,
            "_view_module": "@jupyter-widgets/base",
            "_view_module_version": "1.2.0",
            "_view_name": "StyleView",
            "bar_color": null,
            "description_width": ""
          }
        },
        "8ffc4a33f8bf4e43ab7c9b93e2c659ef": {
          "model_module": "@jupyter-widgets/base",
          "model_name": "LayoutModel",
          "model_module_version": "1.2.0",
          "state": {
            "_model_module": "@jupyter-widgets/base",
            "_model_module_version": "1.2.0",
            "_model_name": "LayoutModel",
            "_view_count": null,
            "_view_module": "@jupyter-widgets/base",
            "_view_module_version": "1.2.0",
            "_view_name": "LayoutView",
            "align_content": null,
            "align_items": null,
            "align_self": null,
            "border": null,
            "bottom": null,
            "display": null,
            "flex": null,
            "flex_flow": null,
            "grid_area": null,
            "grid_auto_columns": null,
            "grid_auto_flow": null,
            "grid_auto_rows": null,
            "grid_column": null,
            "grid_gap": null,
            "grid_row": null,
            "grid_template_areas": null,
            "grid_template_columns": null,
            "grid_template_rows": null,
            "height": null,
            "justify_content": null,
            "justify_items": null,
            "left": null,
            "margin": null,
            "max_height": null,
            "max_width": null,
            "min_height": null,
            "min_width": null,
            "object_fit": null,
            "object_position": null,
            "order": null,
            "overflow": null,
            "overflow_x": null,
            "overflow_y": null,
            "padding": null,
            "right": null,
            "top": null,
            "visibility": null,
            "width": null
          }
        },
        "f94e538cc61140cabb27a9c046deb445": {
          "model_module": "@jupyter-widgets/controls",
          "model_name": "DescriptionStyleModel",
          "model_module_version": "1.5.0",
          "state": {
            "_model_module": "@jupyter-widgets/controls",
            "_model_module_version": "1.5.0",
            "_model_name": "DescriptionStyleModel",
            "_view_count": null,
            "_view_module": "@jupyter-widgets/base",
            "_view_module_version": "1.2.0",
            "_view_name": "StyleView",
            "description_width": ""
          }
        },
        "be50bcdc2b2a456bb2f0fe0373e68f44": {
          "model_module": "@jupyter-widgets/controls",
          "model_name": "HBoxModel",
          "model_module_version": "1.5.0",
          "state": {
            "_dom_classes": [],
            "_model_module": "@jupyter-widgets/controls",
            "_model_module_version": "1.5.0",
            "_model_name": "HBoxModel",
            "_view_count": null,
            "_view_module": "@jupyter-widgets/controls",
            "_view_module_version": "1.5.0",
            "_view_name": "HBoxView",
            "box_style": "",
            "children": [
              "IPY_MODEL_396de269abcc4ef9afa2223e85c21429",
              "IPY_MODEL_9e703ff19d494ec9acc2822f28e18a39",
              "IPY_MODEL_f221854e40074bd3a195df1f7ecd39df"
            ],
            "layout": "IPY_MODEL_5e95321ee8ab4c079d94d2fbe822d394"
          }
        },
        "396de269abcc4ef9afa2223e85c21429": {
          "model_module": "@jupyter-widgets/controls",
          "model_name": "HTMLModel",
          "model_module_version": "1.5.0",
          "state": {
            "_dom_classes": [],
            "_model_module": "@jupyter-widgets/controls",
            "_model_module_version": "1.5.0",
            "_model_name": "HTMLModel",
            "_view_count": null,
            "_view_module": "@jupyter-widgets/controls",
            "_view_module_version": "1.5.0",
            "_view_name": "HTMLView",
            "description": "",
            "description_tooltip": null,
            "layout": "IPY_MODEL_70272d37370a4f4fb5b6f5d77f422543",
            "placeholder": "​",
            "style": "IPY_MODEL_0b96aa076f8b452ca65a74dfa57d70f4",
            "value": "Downloading https://huggingface.co/stanfordnlp/stanza-pt/resolve/v1.3.0/models/default.zip: 100%"
          }
        },
        "9e703ff19d494ec9acc2822f28e18a39": {
          "model_module": "@jupyter-widgets/controls",
          "model_name": "FloatProgressModel",
          "model_module_version": "1.5.0",
          "state": {
            "_dom_classes": [],
            "_model_module": "@jupyter-widgets/controls",
            "_model_module_version": "1.5.0",
            "_model_name": "FloatProgressModel",
            "_view_count": null,
            "_view_module": "@jupyter-widgets/controls",
            "_view_module_version": "1.5.0",
            "_view_name": "ProgressView",
            "bar_style": "success",
            "description": "",
            "description_tooltip": null,
            "layout": "IPY_MODEL_030d9e5e2fae4f6f8fa3b98ea49f82a3",
            "max": 209069017,
            "min": 0,
            "orientation": "horizontal",
            "style": "IPY_MODEL_bd29335f7e4745829c6de8335d6da5da",
            "value": 209069017
          }
        },
        "f221854e40074bd3a195df1f7ecd39df": {
          "model_module": "@jupyter-widgets/controls",
          "model_name": "HTMLModel",
          "model_module_version": "1.5.0",
          "state": {
            "_dom_classes": [],
            "_model_module": "@jupyter-widgets/controls",
            "_model_module_version": "1.5.0",
            "_model_name": "HTMLModel",
            "_view_count": null,
            "_view_module": "@jupyter-widgets/controls",
            "_view_module_version": "1.5.0",
            "_view_name": "HTMLView",
            "description": "",
            "description_tooltip": null,
            "layout": "IPY_MODEL_4fc2169c4ca64cb0b52e508d66da9a71",
            "placeholder": "​",
            "style": "IPY_MODEL_97f9dcdab54c481ea34589a64486fc4f",
            "value": " 209M/209M [00:02&lt;00:00, 105MB/s]"
          }
        },
        "5e95321ee8ab4c079d94d2fbe822d394": {
          "model_module": "@jupyter-widgets/base",
          "model_name": "LayoutModel",
          "model_module_version": "1.2.0",
          "state": {
            "_model_module": "@jupyter-widgets/base",
            "_model_module_version": "1.2.0",
            "_model_name": "LayoutModel",
            "_view_count": null,
            "_view_module": "@jupyter-widgets/base",
            "_view_module_version": "1.2.0",
            "_view_name": "LayoutView",
            "align_content": null,
            "align_items": null,
            "align_self": null,
            "border": null,
            "bottom": null,
            "display": null,
            "flex": null,
            "flex_flow": null,
            "grid_area": null,
            "grid_auto_columns": null,
            "grid_auto_flow": null,
            "grid_auto_rows": null,
            "grid_column": null,
            "grid_gap": null,
            "grid_row": null,
            "grid_template_areas": null,
            "grid_template_columns": null,
            "grid_template_rows": null,
            "height": null,
            "justify_content": null,
            "justify_items": null,
            "left": null,
            "margin": null,
            "max_height": null,
            "max_width": null,
            "min_height": null,
            "min_width": null,
            "object_fit": null,
            "object_position": null,
            "order": null,
            "overflow": null,
            "overflow_x": null,
            "overflow_y": null,
            "padding": null,
            "right": null,
            "top": null,
            "visibility": null,
            "width": null
          }
        },
        "70272d37370a4f4fb5b6f5d77f422543": {
          "model_module": "@jupyter-widgets/base",
          "model_name": "LayoutModel",
          "model_module_version": "1.2.0",
          "state": {
            "_model_module": "@jupyter-widgets/base",
            "_model_module_version": "1.2.0",
            "_model_name": "LayoutModel",
            "_view_count": null,
            "_view_module": "@jupyter-widgets/base",
            "_view_module_version": "1.2.0",
            "_view_name": "LayoutView",
            "align_content": null,
            "align_items": null,
            "align_self": null,
            "border": null,
            "bottom": null,
            "display": null,
            "flex": null,
            "flex_flow": null,
            "grid_area": null,
            "grid_auto_columns": null,
            "grid_auto_flow": null,
            "grid_auto_rows": null,
            "grid_column": null,
            "grid_gap": null,
            "grid_row": null,
            "grid_template_areas": null,
            "grid_template_columns": null,
            "grid_template_rows": null,
            "height": null,
            "justify_content": null,
            "justify_items": null,
            "left": null,
            "margin": null,
            "max_height": null,
            "max_width": null,
            "min_height": null,
            "min_width": null,
            "object_fit": null,
            "object_position": null,
            "order": null,
            "overflow": null,
            "overflow_x": null,
            "overflow_y": null,
            "padding": null,
            "right": null,
            "top": null,
            "visibility": null,
            "width": null
          }
        },
        "0b96aa076f8b452ca65a74dfa57d70f4": {
          "model_module": "@jupyter-widgets/controls",
          "model_name": "DescriptionStyleModel",
          "model_module_version": "1.5.0",
          "state": {
            "_model_module": "@jupyter-widgets/controls",
            "_model_module_version": "1.5.0",
            "_model_name": "DescriptionStyleModel",
            "_view_count": null,
            "_view_module": "@jupyter-widgets/base",
            "_view_module_version": "1.2.0",
            "_view_name": "StyleView",
            "description_width": ""
          }
        },
        "030d9e5e2fae4f6f8fa3b98ea49f82a3": {
          "model_module": "@jupyter-widgets/base",
          "model_name": "LayoutModel",
          "model_module_version": "1.2.0",
          "state": {
            "_model_module": "@jupyter-widgets/base",
            "_model_module_version": "1.2.0",
            "_model_name": "LayoutModel",
            "_view_count": null,
            "_view_module": "@jupyter-widgets/base",
            "_view_module_version": "1.2.0",
            "_view_name": "LayoutView",
            "align_content": null,
            "align_items": null,
            "align_self": null,
            "border": null,
            "bottom": null,
            "display": null,
            "flex": null,
            "flex_flow": null,
            "grid_area": null,
            "grid_auto_columns": null,
            "grid_auto_flow": null,
            "grid_auto_rows": null,
            "grid_column": null,
            "grid_gap": null,
            "grid_row": null,
            "grid_template_areas": null,
            "grid_template_columns": null,
            "grid_template_rows": null,
            "height": null,
            "justify_content": null,
            "justify_items": null,
            "left": null,
            "margin": null,
            "max_height": null,
            "max_width": null,
            "min_height": null,
            "min_width": null,
            "object_fit": null,
            "object_position": null,
            "order": null,
            "overflow": null,
            "overflow_x": null,
            "overflow_y": null,
            "padding": null,
            "right": null,
            "top": null,
            "visibility": null,
            "width": null
          }
        },
        "bd29335f7e4745829c6de8335d6da5da": {
          "model_module": "@jupyter-widgets/controls",
          "model_name": "ProgressStyleModel",
          "model_module_version": "1.5.0",
          "state": {
            "_model_module": "@jupyter-widgets/controls",
            "_model_module_version": "1.5.0",
            "_model_name": "ProgressStyleModel",
            "_view_count": null,
            "_view_module": "@jupyter-widgets/base",
            "_view_module_version": "1.2.0",
            "_view_name": "StyleView",
            "bar_color": null,
            "description_width": ""
          }
        },
        "4fc2169c4ca64cb0b52e508d66da9a71": {
          "model_module": "@jupyter-widgets/base",
          "model_name": "LayoutModel",
          "model_module_version": "1.2.0",
          "state": {
            "_model_module": "@jupyter-widgets/base",
            "_model_module_version": "1.2.0",
            "_model_name": "LayoutModel",
            "_view_count": null,
            "_view_module": "@jupyter-widgets/base",
            "_view_module_version": "1.2.0",
            "_view_name": "LayoutView",
            "align_content": null,
            "align_items": null,
            "align_self": null,
            "border": null,
            "bottom": null,
            "display": null,
            "flex": null,
            "flex_flow": null,
            "grid_area": null,
            "grid_auto_columns": null,
            "grid_auto_flow": null,
            "grid_auto_rows": null,
            "grid_column": null,
            "grid_gap": null,
            "grid_row": null,
            "grid_template_areas": null,
            "grid_template_columns": null,
            "grid_template_rows": null,
            "height": null,
            "justify_content": null,
            "justify_items": null,
            "left": null,
            "margin": null,
            "max_height": null,
            "max_width": null,
            "min_height": null,
            "min_width": null,
            "object_fit": null,
            "object_position": null,
            "order": null,
            "overflow": null,
            "overflow_x": null,
            "overflow_y": null,
            "padding": null,
            "right": null,
            "top": null,
            "visibility": null,
            "width": null
          }
        },
        "97f9dcdab54c481ea34589a64486fc4f": {
          "model_module": "@jupyter-widgets/controls",
          "model_name": "DescriptionStyleModel",
          "model_module_version": "1.5.0",
          "state": {
            "_model_module": "@jupyter-widgets/controls",
            "_model_module_version": "1.5.0",
            "_model_name": "DescriptionStyleModel",
            "_view_count": null,
            "_view_module": "@jupyter-widgets/base",
            "_view_module_version": "1.2.0",
            "_view_name": "StyleView",
            "description_width": ""
          }
        }
      }
    }
  },
  "cells": [
    {
      "cell_type": "markdown",
      "metadata": {
        "id": "view-in-github",
        "colab_type": "text"
      },
      "source": [
        "<a href=\"https://colab.research.google.com/github/renatojmf/Aspects-Extraction-in-Portuguese/blob/main/CAt_Paper.ipynb\" target=\"_parent\"><img src=\"https://colab.research.google.com/assets/colab-badge.svg\" alt=\"Open In Colab\"/></a>"
      ]
    },
    {
      "cell_type": "markdown",
      "source": [
        "# Pré-Processamento"
      ],
      "metadata": {
        "id": "8ZILJBwumuW5"
      }
    },
    {
      "cell_type": "code",
      "source": [
        "! pip install stanza\n",
        "! pip install unidecode"
      ],
      "metadata": {
        "id": "geCiM4qeraYT"
      },
      "execution_count": null,
      "outputs": []
    },
    {
      "cell_type": "code",
      "source": [
        "from google.colab import files\n",
        "uploaded = files.upload()"
      ],
      "metadata": {
        "id": "EWUZB06RriB1"
      },
      "execution_count": null,
      "outputs": []
    },
    {
      "cell_type": "code",
      "source": [
        "import stanza as st\n",
        "import pandas as pd\n",
        "st.download('pt') # download pt model\n",
        "nlp = st.Pipeline('pt') # initialize pt neural pipeline"
      ],
      "metadata": {
        "id": "ioHfeaFORVPo",
        "outputId": "0adeaa59-d8d2-41a2-916e-bb383ce17c35",
        "colab": {
          "base_uri": "https://localhost:8080/",
          "height": 428,
          "referenced_widgets": [
            "1ccbfdcf1a5549c1af790b425f2d192a",
            "8224011475c24f7ebc9daad404541bc6",
            "8ab0f20a16fc41ddb836c772fa68706e",
            "1499dfa9fde04ec3a8d94d71db9e823f",
            "f1e7d73172624bf5ae6a882a18c45c46",
            "03a329ffaf5d47eb836f784fb86ddd61",
            "3cfa9f80b3b348b38dcfcc78ab8bd1fc",
            "dc3e680c3a7e4840ae6b3a73d5b0785e",
            "8393650a31bc465ab70d15ac2c00beb8",
            "8ffc4a33f8bf4e43ab7c9b93e2c659ef",
            "f94e538cc61140cabb27a9c046deb445",
            "be50bcdc2b2a456bb2f0fe0373e68f44",
            "396de269abcc4ef9afa2223e85c21429",
            "9e703ff19d494ec9acc2822f28e18a39",
            "f221854e40074bd3a195df1f7ecd39df",
            "5e95321ee8ab4c079d94d2fbe822d394",
            "70272d37370a4f4fb5b6f5d77f422543",
            "0b96aa076f8b452ca65a74dfa57d70f4",
            "030d9e5e2fae4f6f8fa3b98ea49f82a3",
            "bd29335f7e4745829c6de8335d6da5da",
            "4fc2169c4ca64cb0b52e508d66da9a71",
            "97f9dcdab54c481ea34589a64486fc4f"
          ]
        }
      },
      "execution_count": 2,
      "outputs": [
        {
          "output_type": "display_data",
          "data": {
            "text/plain": [
              "Downloading https://raw.githubusercontent.com/stanfordnlp/stanza-resources/main/resources_1.3.0.json:   0%|   …"
            ],
            "application/vnd.jupyter.widget-view+json": {
              "version_major": 2,
              "version_minor": 0,
              "model_id": "1ccbfdcf1a5549c1af790b425f2d192a"
            }
          },
          "metadata": {}
        },
        {
          "output_type": "stream",
          "name": "stderr",
          "text": [
            "2022-03-30 16:14:34 INFO: Downloading default packages for language: pt (Portuguese)...\n"
          ]
        },
        {
          "output_type": "display_data",
          "data": {
            "text/plain": [
              "Downloading https://huggingface.co/stanfordnlp/stanza-pt/resolve/v1.3.0/models/default.zip:   0%|          | 0…"
            ],
            "application/vnd.jupyter.widget-view+json": {
              "version_major": 2,
              "version_minor": 0,
              "model_id": "be50bcdc2b2a456bb2f0fe0373e68f44"
            }
          },
          "metadata": {}
        },
        {
          "output_type": "stream",
          "name": "stderr",
          "text": [
            "2022-03-30 16:14:43 INFO: Finished downloading models and saved to /root/stanza_resources.\n",
            "2022-03-30 16:14:43 INFO: Loading these models for language: pt (Portuguese):\n",
            "=======================\n",
            "| Processor | Package |\n",
            "-----------------------\n",
            "| tokenize  | bosque  |\n",
            "| mwt       | bosque  |\n",
            "| pos       | bosque  |\n",
            "| lemma     | bosque  |\n",
            "| depparse  | bosque  |\n",
            "=======================\n",
            "\n",
            "2022-03-30 16:14:43 INFO: Use device: cpu\n",
            "2022-03-30 16:14:43 INFO: Loading: tokenize\n",
            "2022-03-30 16:14:43 INFO: Loading: mwt\n",
            "2022-03-30 16:14:43 INFO: Loading: pos\n",
            "2022-03-30 16:14:44 INFO: Loading: lemma\n",
            "2022-03-30 16:14:44 INFO: Loading: depparse\n",
            "2022-03-30 16:14:46 INFO: Done loading processors!\n"
          ]
        }
      ]
    },
    {
      "cell_type": "code",
      "source": [
        "import json\n",
        "tvs = json.load(open(\"/content/tv.json\"))"
      ],
      "metadata": {
        "id": "RpegpXJgdGm5"
      },
      "execution_count": null,
      "outputs": []
    },
    {
      "cell_type": "code",
      "source": [
        "texts = []\n",
        "aspectsClass = []\n",
        "for x in tvs['reviews']:\n",
        "  texts.append(x['review'])\n",
        "  y = x['implicit aspects']\n",
        "  if(len(y) > 0):\n",
        "    aspectsClass.append(y[0])\n",
        "  else:\n",
        "    aspectsClass.append(None)\n",
        "\n",
        "d = {'text': texts, 'aspectsClass':aspectsClass}"
      ],
      "metadata": {
        "id": "FL6aTrvbdxth"
      },
      "execution_count": null,
      "outputs": []
    },
    {
      "cell_type": "code",
      "source": [
        "print(len(texts))\n",
        "print(len(aspectsClass))\n",
        "for x in aspectsClass[0:20]:\n",
        "  print(x)"
      ],
      "metadata": {
        "id": "xFjtKEwwlov3",
        "outputId": "c30f01bb-9c85-4948-e7fb-e9176f51c31f",
        "colab": {
          "base_uri": "https://localhost:8080/"
        }
      },
      "execution_count": null,
      "outputs": [
        {
          "output_type": "stream",
          "name": "stdout",
          "text": [
            "1091\n",
            "1091\n",
            "entrega\n",
            "produto\n",
            "None\n",
            "funcionalidades\n",
            "None\n",
            "None\n",
            "None\n",
            "None\n",
            "None\n",
            "None\n",
            "None\n",
            "produto\n",
            "produto\n",
            "desempenho\n",
            "produto\n",
            "peso\n",
            "None\n",
            "None\n",
            "produto\n",
            "None\n"
          ]
        }
      ]
    },
    {
      "cell_type": "code",
      "source": [
        "df_tvs = pd.DataFrame(data=d)"
      ],
      "metadata": {
        "id": "gPrv-e9FebVA"
      },
      "execution_count": null,
      "outputs": []
    },
    {
      "cell_type": "code",
      "source": [
        "df_tvs.head()"
      ],
      "metadata": {
        "id": "CVf0TteJlvPA",
        "outputId": "6f18a200-5b49-4cbf-c846-8d738059d87c",
        "colab": {
          "base_uri": "https://localhost:8080/",
          "height": 206
        }
      },
      "execution_count": null,
      "outputs": [
        {
          "output_type": "execute_result",
          "data": {
            "text/plain": [
              "                                                text     aspectsClass\n",
              "0  Excelente smart tv. E foi entregue vem antes d...          entrega\n",
              "1  Imagem ótima recursos de web bons , recomendo ...          produto\n",
              "2  produto ótimo, entrega antes do prazo previsto...             None\n",
              "3  Muito bom o produto, esta tv está entre as das...  funcionalidades\n",
              "4  a entrega foi super rápido... muito antes do p...             None"
            ],
            "text/html": [
              "\n",
              "  <div id=\"df-5227a2b2-9072-48f7-b599-29880d317cb7\">\n",
              "    <div class=\"colab-df-container\">\n",
              "      <div>\n",
              "<style scoped>\n",
              "    .dataframe tbody tr th:only-of-type {\n",
              "        vertical-align: middle;\n",
              "    }\n",
              "\n",
              "    .dataframe tbody tr th {\n",
              "        vertical-align: top;\n",
              "    }\n",
              "\n",
              "    .dataframe thead th {\n",
              "        text-align: right;\n",
              "    }\n",
              "</style>\n",
              "<table border=\"1\" class=\"dataframe\">\n",
              "  <thead>\n",
              "    <tr style=\"text-align: right;\">\n",
              "      <th></th>\n",
              "      <th>text</th>\n",
              "      <th>aspectsClass</th>\n",
              "    </tr>\n",
              "  </thead>\n",
              "  <tbody>\n",
              "    <tr>\n",
              "      <th>0</th>\n",
              "      <td>Excelente smart tv. E foi entregue vem antes d...</td>\n",
              "      <td>entrega</td>\n",
              "    </tr>\n",
              "    <tr>\n",
              "      <th>1</th>\n",
              "      <td>Imagem ótima recursos de web bons , recomendo ...</td>\n",
              "      <td>produto</td>\n",
              "    </tr>\n",
              "    <tr>\n",
              "      <th>2</th>\n",
              "      <td>produto ótimo, entrega antes do prazo previsto...</td>\n",
              "      <td>None</td>\n",
              "    </tr>\n",
              "    <tr>\n",
              "      <th>3</th>\n",
              "      <td>Muito bom o produto, esta tv está entre as das...</td>\n",
              "      <td>funcionalidades</td>\n",
              "    </tr>\n",
              "    <tr>\n",
              "      <th>4</th>\n",
              "      <td>a entrega foi super rápido... muito antes do p...</td>\n",
              "      <td>None</td>\n",
              "    </tr>\n",
              "  </tbody>\n",
              "</table>\n",
              "</div>\n",
              "      <button class=\"colab-df-convert\" onclick=\"convertToInteractive('df-5227a2b2-9072-48f7-b599-29880d317cb7')\"\n",
              "              title=\"Convert this dataframe to an interactive table.\"\n",
              "              style=\"display:none;\">\n",
              "        \n",
              "  <svg xmlns=\"http://www.w3.org/2000/svg\" height=\"24px\"viewBox=\"0 0 24 24\"\n",
              "       width=\"24px\">\n",
              "    <path d=\"M0 0h24v24H0V0z\" fill=\"none\"/>\n",
              "    <path d=\"M18.56 5.44l.94 2.06.94-2.06 2.06-.94-2.06-.94-.94-2.06-.94 2.06-2.06.94zm-11 1L8.5 8.5l.94-2.06 2.06-.94-2.06-.94L8.5 2.5l-.94 2.06-2.06.94zm10 10l.94 2.06.94-2.06 2.06-.94-2.06-.94-.94-2.06-.94 2.06-2.06.94z\"/><path d=\"M17.41 7.96l-1.37-1.37c-.4-.4-.92-.59-1.43-.59-.52 0-1.04.2-1.43.59L10.3 9.45l-7.72 7.72c-.78.78-.78 2.05 0 2.83L4 21.41c.39.39.9.59 1.41.59.51 0 1.02-.2 1.41-.59l7.78-7.78 2.81-2.81c.8-.78.8-2.07 0-2.86zM5.41 20L4 18.59l7.72-7.72 1.47 1.35L5.41 20z\"/>\n",
              "  </svg>\n",
              "      </button>\n",
              "      \n",
              "  <style>\n",
              "    .colab-df-container {\n",
              "      display:flex;\n",
              "      flex-wrap:wrap;\n",
              "      gap: 12px;\n",
              "    }\n",
              "\n",
              "    .colab-df-convert {\n",
              "      background-color: #E8F0FE;\n",
              "      border: none;\n",
              "      border-radius: 50%;\n",
              "      cursor: pointer;\n",
              "      display: none;\n",
              "      fill: #1967D2;\n",
              "      height: 32px;\n",
              "      padding: 0 0 0 0;\n",
              "      width: 32px;\n",
              "    }\n",
              "\n",
              "    .colab-df-convert:hover {\n",
              "      background-color: #E2EBFA;\n",
              "      box-shadow: 0px 1px 2px rgba(60, 64, 67, 0.3), 0px 1px 3px 1px rgba(60, 64, 67, 0.15);\n",
              "      fill: #174EA6;\n",
              "    }\n",
              "\n",
              "    [theme=dark] .colab-df-convert {\n",
              "      background-color: #3B4455;\n",
              "      fill: #D2E3FC;\n",
              "    }\n",
              "\n",
              "    [theme=dark] .colab-df-convert:hover {\n",
              "      background-color: #434B5C;\n",
              "      box-shadow: 0px 1px 3px 1px rgba(0, 0, 0, 0.15);\n",
              "      filter: drop-shadow(0px 1px 2px rgba(0, 0, 0, 0.3));\n",
              "      fill: #FFFFFF;\n",
              "    }\n",
              "  </style>\n",
              "\n",
              "      <script>\n",
              "        const buttonEl =\n",
              "          document.querySelector('#df-5227a2b2-9072-48f7-b599-29880d317cb7 button.colab-df-convert');\n",
              "        buttonEl.style.display =\n",
              "          google.colab.kernel.accessAllowed ? 'block' : 'none';\n",
              "\n",
              "        async function convertToInteractive(key) {\n",
              "          const element = document.querySelector('#df-5227a2b2-9072-48f7-b599-29880d317cb7');\n",
              "          const dataTable =\n",
              "            await google.colab.kernel.invokeFunction('convertToInteractive',\n",
              "                                                     [key], {});\n",
              "          if (!dataTable) return;\n",
              "\n",
              "          const docLinkHtml = 'Like what you see? Visit the ' +\n",
              "            '<a target=\"_blank\" href=https://colab.research.google.com/notebooks/data_table.ipynb>data table notebook</a>'\n",
              "            + ' to learn more about interactive tables.';\n",
              "          element.innerHTML = '';\n",
              "          dataTable['output_type'] = 'display_data';\n",
              "          await google.colab.output.renderOutput(dataTable, element);\n",
              "          const docLink = document.createElement('div');\n",
              "          docLink.innerHTML = docLinkHtml;\n",
              "          element.appendChild(docLink);\n",
              "        }\n",
              "      </script>\n",
              "    </div>\n",
              "  </div>\n",
              "  "
            ]
          },
          "metadata": {},
          "execution_count": 7
        }
      ]
    },
    {
      "cell_type": "code",
      "source": [
        "values = [None, 'None']\n",
        "df = df_tvs[df_tvs.aspectsClass.isin(values) == False]"
      ],
      "metadata": {
        "id": "a_TkJTA1p0Uv"
      },
      "execution_count": null,
      "outputs": []
    },
    {
      "cell_type": "code",
      "source": [
        "df.head()"
      ],
      "metadata": {
        "id": "O50rHrmprHca",
        "outputId": "31e58679-37b7-4453-c1ac-26f7f8170bb0",
        "colab": {
          "base_uri": "https://localhost:8080/",
          "height": 206
        }
      },
      "execution_count": null,
      "outputs": [
        {
          "output_type": "execute_result",
          "data": {
            "text/plain": [
              "                                                 text     aspectsClass\n",
              "0   Excelente smart tv. E foi entregue vem antes d...          entrega\n",
              "1   Imagem ótima recursos de web bons , recomendo ...          produto\n",
              "3   Muito bom o produto, esta tv está entre as das...  funcionalidades\n",
              "11  Todos os aparelhos samsung são de uma qualidad...          produto\n",
              "12  Atendeu todas as expectativas, recomendo Samsu...          produto"
            ],
            "text/html": [
              "\n",
              "  <div id=\"df-8074b1e2-24df-4792-9641-4ccccd691a62\">\n",
              "    <div class=\"colab-df-container\">\n",
              "      <div>\n",
              "<style scoped>\n",
              "    .dataframe tbody tr th:only-of-type {\n",
              "        vertical-align: middle;\n",
              "    }\n",
              "\n",
              "    .dataframe tbody tr th {\n",
              "        vertical-align: top;\n",
              "    }\n",
              "\n",
              "    .dataframe thead th {\n",
              "        text-align: right;\n",
              "    }\n",
              "</style>\n",
              "<table border=\"1\" class=\"dataframe\">\n",
              "  <thead>\n",
              "    <tr style=\"text-align: right;\">\n",
              "      <th></th>\n",
              "      <th>text</th>\n",
              "      <th>aspectsClass</th>\n",
              "    </tr>\n",
              "  </thead>\n",
              "  <tbody>\n",
              "    <tr>\n",
              "      <th>0</th>\n",
              "      <td>Excelente smart tv. E foi entregue vem antes d...</td>\n",
              "      <td>entrega</td>\n",
              "    </tr>\n",
              "    <tr>\n",
              "      <th>1</th>\n",
              "      <td>Imagem ótima recursos de web bons , recomendo ...</td>\n",
              "      <td>produto</td>\n",
              "    </tr>\n",
              "    <tr>\n",
              "      <th>3</th>\n",
              "      <td>Muito bom o produto, esta tv está entre as das...</td>\n",
              "      <td>funcionalidades</td>\n",
              "    </tr>\n",
              "    <tr>\n",
              "      <th>11</th>\n",
              "      <td>Todos os aparelhos samsung são de uma qualidad...</td>\n",
              "      <td>produto</td>\n",
              "    </tr>\n",
              "    <tr>\n",
              "      <th>12</th>\n",
              "      <td>Atendeu todas as expectativas, recomendo Samsu...</td>\n",
              "      <td>produto</td>\n",
              "    </tr>\n",
              "  </tbody>\n",
              "</table>\n",
              "</div>\n",
              "      <button class=\"colab-df-convert\" onclick=\"convertToInteractive('df-8074b1e2-24df-4792-9641-4ccccd691a62')\"\n",
              "              title=\"Convert this dataframe to an interactive table.\"\n",
              "              style=\"display:none;\">\n",
              "        \n",
              "  <svg xmlns=\"http://www.w3.org/2000/svg\" height=\"24px\"viewBox=\"0 0 24 24\"\n",
              "       width=\"24px\">\n",
              "    <path d=\"M0 0h24v24H0V0z\" fill=\"none\"/>\n",
              "    <path d=\"M18.56 5.44l.94 2.06.94-2.06 2.06-.94-2.06-.94-.94-2.06-.94 2.06-2.06.94zm-11 1L8.5 8.5l.94-2.06 2.06-.94-2.06-.94L8.5 2.5l-.94 2.06-2.06.94zm10 10l.94 2.06.94-2.06 2.06-.94-2.06-.94-.94-2.06-.94 2.06-2.06.94z\"/><path d=\"M17.41 7.96l-1.37-1.37c-.4-.4-.92-.59-1.43-.59-.52 0-1.04.2-1.43.59L10.3 9.45l-7.72 7.72c-.78.78-.78 2.05 0 2.83L4 21.41c.39.39.9.59 1.41.59.51 0 1.02-.2 1.41-.59l7.78-7.78 2.81-2.81c.8-.78.8-2.07 0-2.86zM5.41 20L4 18.59l7.72-7.72 1.47 1.35L5.41 20z\"/>\n",
              "  </svg>\n",
              "      </button>\n",
              "      \n",
              "  <style>\n",
              "    .colab-df-container {\n",
              "      display:flex;\n",
              "      flex-wrap:wrap;\n",
              "      gap: 12px;\n",
              "    }\n",
              "\n",
              "    .colab-df-convert {\n",
              "      background-color: #E8F0FE;\n",
              "      border: none;\n",
              "      border-radius: 50%;\n",
              "      cursor: pointer;\n",
              "      display: none;\n",
              "      fill: #1967D2;\n",
              "      height: 32px;\n",
              "      padding: 0 0 0 0;\n",
              "      width: 32px;\n",
              "    }\n",
              "\n",
              "    .colab-df-convert:hover {\n",
              "      background-color: #E2EBFA;\n",
              "      box-shadow: 0px 1px 2px rgba(60, 64, 67, 0.3), 0px 1px 3px 1px rgba(60, 64, 67, 0.15);\n",
              "      fill: #174EA6;\n",
              "    }\n",
              "\n",
              "    [theme=dark] .colab-df-convert {\n",
              "      background-color: #3B4455;\n",
              "      fill: #D2E3FC;\n",
              "    }\n",
              "\n",
              "    [theme=dark] .colab-df-convert:hover {\n",
              "      background-color: #434B5C;\n",
              "      box-shadow: 0px 1px 3px 1px rgba(0, 0, 0, 0.15);\n",
              "      filter: drop-shadow(0px 1px 2px rgba(0, 0, 0, 0.3));\n",
              "      fill: #FFFFFF;\n",
              "    }\n",
              "  </style>\n",
              "\n",
              "      <script>\n",
              "        const buttonEl =\n",
              "          document.querySelector('#df-8074b1e2-24df-4792-9641-4ccccd691a62 button.colab-df-convert');\n",
              "        buttonEl.style.display =\n",
              "          google.colab.kernel.accessAllowed ? 'block' : 'none';\n",
              "\n",
              "        async function convertToInteractive(key) {\n",
              "          const element = document.querySelector('#df-8074b1e2-24df-4792-9641-4ccccd691a62');\n",
              "          const dataTable =\n",
              "            await google.colab.kernel.invokeFunction('convertToInteractive',\n",
              "                                                     [key], {});\n",
              "          if (!dataTable) return;\n",
              "\n",
              "          const docLinkHtml = 'Like what you see? Visit the ' +\n",
              "            '<a target=\"_blank\" href=https://colab.research.google.com/notebooks/data_table.ipynb>data table notebook</a>'\n",
              "            + ' to learn more about interactive tables.';\n",
              "          element.innerHTML = '';\n",
              "          dataTable['output_type'] = 'display_data';\n",
              "          await google.colab.output.renderOutput(dataTable, element);\n",
              "          const docLink = document.createElement('div');\n",
              "          docLink.innerHTML = docLinkHtml;\n",
              "          element.appendChild(docLink);\n",
              "        }\n",
              "      </script>\n",
              "    </div>\n",
              "  </div>\n",
              "  "
            ]
          },
          "metadata": {},
          "execution_count": 9
        }
      ]
    },
    {
      "cell_type": "code",
      "source": [
        "print(len(df_tvs),(len(df)))"
      ],
      "metadata": {
        "id": "dbFYfoASrfiv",
        "outputId": "e23833d4-9614-41ad-fd52-85fa657b6df4",
        "colab": {
          "base_uri": "https://localhost:8080/"
        }
      },
      "execution_count": null,
      "outputs": [
        {
          "output_type": "stream",
          "name": "stdout",
          "text": [
            "1091 595\n"
          ]
        }
      ]
    },
    {
      "cell_type": "code",
      "source": [
        "df = pd.read_csv('/content/restaurantes.csv',sep=';')\n",
        "\n",
        "#passar apenas os textos/frases para a função\n",
        "def getCoNLLU(df):\n",
        "  dicts = []\n",
        "  for texto in df:\n",
        "    doc = nlp(texto) # doc is class Document\n",
        "    dicts.append(doc.to_dict())\n",
        "\n",
        "  return dicts"
      ],
      "metadata": {
        "id": "1XFmLRUfOeeR"
      },
      "execution_count": 58,
      "outputs": []
    },
    {
      "cell_type": "code",
      "source": [
        "from unidecode import unidecode\n",
        "import re\n",
        "\n",
        "words = []\n",
        "\n",
        "for word in df['text']:\n",
        "  old_string = unidecode(word)\n",
        "  new_string = re.sub(r\"[^a-zA-Z0-9]\",\" \",old_string)\n",
        "  words.append(new_string.lower())"
      ],
      "metadata": {
        "id": "3cNFQ_HsiWL6"
      },
      "execution_count": 59,
      "outputs": []
    },
    {
      "cell_type": "code",
      "source": [
        "df['text'] = words"
      ],
      "metadata": {
        "id": "qKayposUbCha"
      },
      "execution_count": 60,
      "outputs": []
    },
    {
      "cell_type": "code",
      "source": [
        "df.head()"
      ],
      "metadata": {
        "colab": {
          "base_uri": "https://localhost:8080/",
          "height": 206
        },
        "id": "88xvnq7bi9f3",
        "outputId": "c8bc6ed7-0cb2-4612-d1dd-f5365c1fff3e"
      },
      "execution_count": 61,
      "outputs": [
        {
          "output_type": "execute_result",
          "data": {
            "text/plain": [
              "                                                text      aspects aspectsClass\n",
              "0  hamburgueria artesanal com tempero diferenciad...      tempero         Food\n",
              "1  excelente peixe  para quem esta localizado no ...        peixe         Food\n",
              "2  serve lanches e cerveja gelada  tem mesinhas f...      cerveja       Drinks\n",
              "3                           muito bom o atendimento   atendimento      Service\n",
              "4                                  cardapio variado      Cardápio         Food"
            ],
            "text/html": [
              "\n",
              "  <div id=\"df-0717f7df-257f-4c5c-9d7f-4b8be50a4505\">\n",
              "    <div class=\"colab-df-container\">\n",
              "      <div>\n",
              "<style scoped>\n",
              "    .dataframe tbody tr th:only-of-type {\n",
              "        vertical-align: middle;\n",
              "    }\n",
              "\n",
              "    .dataframe tbody tr th {\n",
              "        vertical-align: top;\n",
              "    }\n",
              "\n",
              "    .dataframe thead th {\n",
              "        text-align: right;\n",
              "    }\n",
              "</style>\n",
              "<table border=\"1\" class=\"dataframe\">\n",
              "  <thead>\n",
              "    <tr style=\"text-align: right;\">\n",
              "      <th></th>\n",
              "      <th>text</th>\n",
              "      <th>aspects</th>\n",
              "      <th>aspectsClass</th>\n",
              "    </tr>\n",
              "  </thead>\n",
              "  <tbody>\n",
              "    <tr>\n",
              "      <th>0</th>\n",
              "      <td>hamburgueria artesanal com tempero diferenciad...</td>\n",
              "      <td>tempero</td>\n",
              "      <td>Food</td>\n",
              "    </tr>\n",
              "    <tr>\n",
              "      <th>1</th>\n",
              "      <td>excelente peixe  para quem esta localizado no ...</td>\n",
              "      <td>peixe</td>\n",
              "      <td>Food</td>\n",
              "    </tr>\n",
              "    <tr>\n",
              "      <th>2</th>\n",
              "      <td>serve lanches e cerveja gelada  tem mesinhas f...</td>\n",
              "      <td>cerveja</td>\n",
              "      <td>Drinks</td>\n",
              "    </tr>\n",
              "    <tr>\n",
              "      <th>3</th>\n",
              "      <td>muito bom o atendimento</td>\n",
              "      <td>atendimento</td>\n",
              "      <td>Service</td>\n",
              "    </tr>\n",
              "    <tr>\n",
              "      <th>4</th>\n",
              "      <td>cardapio variado</td>\n",
              "      <td>Cardápio</td>\n",
              "      <td>Food</td>\n",
              "    </tr>\n",
              "  </tbody>\n",
              "</table>\n",
              "</div>\n",
              "      <button class=\"colab-df-convert\" onclick=\"convertToInteractive('df-0717f7df-257f-4c5c-9d7f-4b8be50a4505')\"\n",
              "              title=\"Convert this dataframe to an interactive table.\"\n",
              "              style=\"display:none;\">\n",
              "        \n",
              "  <svg xmlns=\"http://www.w3.org/2000/svg\" height=\"24px\"viewBox=\"0 0 24 24\"\n",
              "       width=\"24px\">\n",
              "    <path d=\"M0 0h24v24H0V0z\" fill=\"none\"/>\n",
              "    <path d=\"M18.56 5.44l.94 2.06.94-2.06 2.06-.94-2.06-.94-.94-2.06-.94 2.06-2.06.94zm-11 1L8.5 8.5l.94-2.06 2.06-.94-2.06-.94L8.5 2.5l-.94 2.06-2.06.94zm10 10l.94 2.06.94-2.06 2.06-.94-2.06-.94-.94-2.06-.94 2.06-2.06.94z\"/><path d=\"M17.41 7.96l-1.37-1.37c-.4-.4-.92-.59-1.43-.59-.52 0-1.04.2-1.43.59L10.3 9.45l-7.72 7.72c-.78.78-.78 2.05 0 2.83L4 21.41c.39.39.9.59 1.41.59.51 0 1.02-.2 1.41-.59l7.78-7.78 2.81-2.81c.8-.78.8-2.07 0-2.86zM5.41 20L4 18.59l7.72-7.72 1.47 1.35L5.41 20z\"/>\n",
              "  </svg>\n",
              "      </button>\n",
              "      \n",
              "  <style>\n",
              "    .colab-df-container {\n",
              "      display:flex;\n",
              "      flex-wrap:wrap;\n",
              "      gap: 12px;\n",
              "    }\n",
              "\n",
              "    .colab-df-convert {\n",
              "      background-color: #E8F0FE;\n",
              "      border: none;\n",
              "      border-radius: 50%;\n",
              "      cursor: pointer;\n",
              "      display: none;\n",
              "      fill: #1967D2;\n",
              "      height: 32px;\n",
              "      padding: 0 0 0 0;\n",
              "      width: 32px;\n",
              "    }\n",
              "\n",
              "    .colab-df-convert:hover {\n",
              "      background-color: #E2EBFA;\n",
              "      box-shadow: 0px 1px 2px rgba(60, 64, 67, 0.3), 0px 1px 3px 1px rgba(60, 64, 67, 0.15);\n",
              "      fill: #174EA6;\n",
              "    }\n",
              "\n",
              "    [theme=dark] .colab-df-convert {\n",
              "      background-color: #3B4455;\n",
              "      fill: #D2E3FC;\n",
              "    }\n",
              "\n",
              "    [theme=dark] .colab-df-convert:hover {\n",
              "      background-color: #434B5C;\n",
              "      box-shadow: 0px 1px 3px 1px rgba(0, 0, 0, 0.15);\n",
              "      filter: drop-shadow(0px 1px 2px rgba(0, 0, 0, 0.3));\n",
              "      fill: #FFFFFF;\n",
              "    }\n",
              "  </style>\n",
              "\n",
              "      <script>\n",
              "        const buttonEl =\n",
              "          document.querySelector('#df-0717f7df-257f-4c5c-9d7f-4b8be50a4505 button.colab-df-convert');\n",
              "        buttonEl.style.display =\n",
              "          google.colab.kernel.accessAllowed ? 'block' : 'none';\n",
              "\n",
              "        async function convertToInteractive(key) {\n",
              "          const element = document.querySelector('#df-0717f7df-257f-4c5c-9d7f-4b8be50a4505');\n",
              "          const dataTable =\n",
              "            await google.colab.kernel.invokeFunction('convertToInteractive',\n",
              "                                                     [key], {});\n",
              "          if (!dataTable) return;\n",
              "\n",
              "          const docLinkHtml = 'Like what you see? Visit the ' +\n",
              "            '<a target=\"_blank\" href=https://colab.research.google.com/notebooks/data_table.ipynb>data table notebook</a>'\n",
              "            + ' to learn more about interactive tables.';\n",
              "          element.innerHTML = '';\n",
              "          dataTable['output_type'] = 'display_data';\n",
              "          await google.colab.output.renderOutput(dataTable, element);\n",
              "          const docLink = document.createElement('div');\n",
              "          docLink.innerHTML = docLinkHtml;\n",
              "          element.appendChild(docLink);\n",
              "        }\n",
              "      </script>\n",
              "    </div>\n",
              "  </div>\n",
              "  "
            ]
          },
          "metadata": {},
          "execution_count": 61
        }
      ]
    },
    {
      "cell_type": "code",
      "source": [
        "dicts = getCoNLLU(df['text'])\n",
        "\n",
        "saida = ''\n",
        "for sentenca in dicts[0:2]:\n",
        "  for tokens in sentenca:\n",
        "    for tks in tokens:\n",
        "      for tag in tks:\n",
        "        #print(\"tag:\" ,tag)\n",
        "        saida += str(tks[tag])  + \"\\t\"\n",
        "      saida +=\"\\n\"\n",
        "    saida +=\"\\n\"\n",
        "  saida +=\"\\n\"\n",
        "\n",
        "\n",
        "print(saida)"
      ],
      "metadata": {
        "colab": {
          "base_uri": "https://localhost:8080/"
        },
        "id": "-HC4fYHJShhY",
        "outputId": "baa88e10-6239-42a3-bedf-27eb0b19bc1d"
      },
      "execution_count": null,
      "outputs": [
        {
          "output_type": "stream",
          "name": "stderr",
          "text": [
            "/usr/local/lib/python3.7/dist-packages/stanza/models/common/beam.py:86: UserWarning: __floordiv__ is deprecated, and its behavior will change in a future version of pytorch. It currently rounds toward 0 (like the 'trunc' function NOT 'floor'). This results in incorrect rounding for negative values. To keep the current behavior, use torch.div(a, b, rounding_mode='trunc'), or for actual floor division, use torch.div(a, b, rounding_mode='floor').\n",
            "  prevK = bestScoresId // numWords\n"
          ]
        },
        {
          "output_type": "stream",
          "name": "stdout",
          "text": [
            "1\texcelente\texcelente\tADJ\tGender=Fem|Number=Sing\t2\tamod\t0\t9\t\n",
            "2\tsmart\tsmart\tX\t7\tnsubj\t10\t15\t\n",
            "3\ttv\ttv\tNOUN\tGender=Fem|Number=Sing\t2\tcompound\t16\t18\t\n",
            "4\te\te\tCCONJ\t6\tcc\t20\t21\t\n",
            "5\tfoi\tser\tAUX\tMood=Ind|Number=Sing|Person=3|Tense=Past|VerbForm=Fin\t6\taux:pass\t22\t25\t\n",
            "6\tentregue\tentregar\tVERB\tGender=Masc|Number=Sing|VerbForm=Part|Voice=Pass\t2\tconj\t26\t34\t\n",
            "7\tvem\tvir\tVERB\tMood=Ind|Number=Sing|Person=3|Tense=Pres|VerbForm=Fin\t0\troot\t35\t38\t\n",
            "8\tantes\tantes\tADV\t7\tadvmod\t39\t44\t\n",
            "(9, 10)\tdo\t45\t47\t\n",
            "9\tde\tde\tADP\t11\tcase\t\n",
            "10\to\to\tDET\tDefinite=Def|Gender=Masc|Number=Sing|PronType=Art\t11\tdet\t\n",
            "11\tprazo\tprazo\tNOUN\tGender=Masc|Number=Sing\t8\tobl\t48\t53\t\n",
            "12\tinformado\tinformar\tVERB\tGender=Masc|Number=Sing|VerbForm=Part\t11\tacl\t54\t63\t\n",
            "\n",
            "\n",
            "1\timagem\timagem\tNOUN\tGender=Fem|Number=Sing\t7\tnsubj\t0\t6\t\n",
            "2\totima\totimo\tADJ\tGender=Fem|Number=Sing\t3\tamod\t7\t12\t\n",
            "3\trecursos\trecurso\tNOUN\tGender=Masc|Number=Plur\t1\tnmod\t13\t21\t\n",
            "4\tde\tde\tADP\t5\tcase\t22\t24\t\n",
            "5\tweb\tweb\tNOUN\tGender=Masc|Number=Sing\t3\tnmod\t25\t28\t\n",
            "6\tbons\tbom\tADJ\tGender=Masc|Number=Plur\t5\tamod\t29\t33\t\n",
            "7\trecomendo\trecomendar\tVERB\tMood=Ind|Number=Sing|Person=1|Tense=Pres|VerbForm=Fin\t0\troot\t36\t45\t\n",
            "8\tnao\tnao\tADV\t11\tadvmod\t46\t49\t\n",
            "9\tvai\tir\tAUX\tMood=Ind|Number=Sing|Person=3|Tense=Pres|VerbForm=Fin\t11\taux\t50\t53\t\n",
            "10\tse\tse\tPRON\tCase=Acc|PronType=Prs\t11\tnsubj\t54\t56\t\n",
            "11\tarrepender\tarrepender\tVERB\tVerbForm=Inf\t7\tccomp\t57\t67\t\n",
            "\n",
            "\n",
            "\n"
          ]
        }
      ]
    },
    {
      "cell_type": "code",
      "source": [
        "def getNouns():\n",
        "  for sentenca in dicts:\n",
        "    for tokens in sentenca:\n",
        "      for tks in tokens:\n",
        "        for tag in tks:\n",
        "          if tks[tag] == 'NOUN':\n",
        "            yield (tks['text'].lower())\n",
        "          "
      ],
      "metadata": {
        "id": "S-KR80K2b-_r"
      },
      "execution_count": null,
      "outputs": []
    },
    {
      "cell_type": "code",
      "source": [
        "from collections import Counter, defaultdict\n",
        "import json\n",
        "\n",
        "c = Counter()\n",
        "c.update(getNouns())\n",
        "nouns = getNouns()\n",
        "print(c)\n",
        "\n",
        "json.dump(dict(c), open('/content/nouns.json', 'w'))"
      ],
      "metadata": {
        "colab": {
          "base_uri": "https://localhost:8080/"
        },
        "id": "kvIBBN1CbwkA",
        "outputId": "cde1be87-b4b4-44a6-9b56-ab7368d815ce"
      },
      "execution_count": null,
      "outputs": [
        {
          "output_type": "stream",
          "name": "stdout",
          "text": [
            "Counter({'tv': 255, 'produto': 245, 'qualidade': 140, 'imagem': 139, 'prazo': 134, 'som': 105, 'entrega': 98, 'expectativas': 65, 'internet': 44, 'samsung': 38, 'custo': 38, 'netflix': 35, 'preco': 35, 'compra': 30, 'youtube': 28, 'americanas': 28, 'audio': 26, 'smart': 24, 'aparelho': 24, 'controle': 24, 'parabens': 23, 'aplicativos': 23, 'funcoes': 19, 'vezes': 19, 'marca': 19, 'expectativa': 18, 'submarino': 18, 'problema': 17, 'pena': 16, 'acesso': 14, 'sinal': 14, 'televisao': 14, 'volume': 14, 'funcao': 14, 'instalacao': 13, 'problemas': 13, 'loja': 13, 'quarto': 13, 'tempo': 13, 'so': 12, 'dias': 12, 'manuseio': 12, 'data': 11, 'nota': 11, 'modelo': 11, 'uso': 11, 'recursos': 10, 'aquisicao': 10, 'coisa': 10, 'lojas': 10, 'necessidades': 10, 'produtos': 10, 'sistema': 10, 'certeza': 10, 'filmes': 10, 'parede': 10, 'resto': 9, 'tamanho': 9, 'atendimento': 9, 'estado': 9, 'momento': 9, 'defeito': 9, 'dia': 9, 'rapidez': 8, 'casa': 8, 'configuracao': 8, 'conexao': 8, 'ponto': 8, 'configuracoes': 8, 'antena': 8, 'sala': 8, 'tela': 8, 'fonte': 8, 'pes': 8, 'wifi': 7, 'videos': 7, 'cabo': 7, 'tomada': 7, 'relacao': 7, 'site': 7, 'aplicativo': 7, 'suporte': 7, 'futebol': 7, 'vez': 7, 'condicoes': 6, 'shoptime': 6, 'beneficio': 6, 'apps': 6, 'comandos': 6, 'entrada': 6, 'necessidade': 6, 'app': 6, 'semana': 6, 'imagens': 6, 'menu': 6, 'opcao': 6, 'parte': 6, 'hd': 6, 'resposta': 5, 'descricao': 5, 'duvida': 5, 'hdmi': 5, 'show': 5, 'mae': 5, 'parafusos': 5, 'geral': 5, 'ambiente': 5, 'opcoes': 5, 'comentarios': 5, 'equipamento': 5, 'hora': 5, 'anuncio': 5, 'design': 5, 'celular': 5, 'lg': 5, 'valor': 5, 'video': 5, 'garantia': 5, 'anos': 5, 'computador': 5, 'troca': 5, 'hz': 5, 'ambientes': 4, 'processamento': 4, 'conectividade': 4, 'programacao': 4, 'televisor': 4, 'smartphone': 4, 'pessoas': 4, 'desempenho': 4, 'botao': 4, 'esperado': 4, 'energia': 4, 'meio': 4, 'minutos': 4, 'resolucao': 4, 'sansung': 4, 'amigos': 4, 'acabamento': 4, 'tvs': 4, 'opiniao': 4, 'jogos': 4, 'base': 4, 'caixa': 4, 'velocidade': 4, 'exemplo': 4, 'falta': 4, 'frete': 3, 'vantagens': 3, 'pc': 3, 'receptor': 3, 'cores': 3, 'filha': 3, 'definicao': 3, 'estrelas': 3, 'causa': 3, 'fato': 3, 'escolha': 3, 'alem': 3, 'usb': 3, 'requisitos': 3, 'tecnologia': 3, 'agilidade': 3, 'eficiencia': 3, 'espaco': 3, 'padrao': 3, 'nao': 3, 'especificacoes': 3, 'reclamacao': 3, 'melhores': 3, 'intuito': 3, 'segundos': 3, 'forma': 3, 's': 3, 'saida': 3, 'pedido': 3, 'jeito': 3, 'ano': 3, 'jogo': 3, 'transportadora': 3, 'polegadas': 3, 'conexoes': 3, 'cabos': 3, 'fim': 3, 'filho': 3, 'comando': 3, 'verdade': 3, 'diferenca': 3, 'manual': 3, 'pe': 3, 'web': 2, 'geracoes': 2, 'aparelhos': 2, 'cliente': 2, 'destino': 2, 'dificuldade': 2, 'contrario': 2, 'canais': 2, 'travadinha': 2, 'domingo': 2, 'meno': 2, 'acompanhamento': 2, 'natal': 2, 'cartao': 2, 'baixo': 2, 'ordem': 2, 'embalagem': 2, 'linha': 2, 'marcas': 2, 'armazenamento': 2, 'inicializacao': 2, 'familia': 2, 'mundo': 2, 'crianca': 2, 'equipamentos': 2, 'categoria': 2, 'entradas': 2, 'volta': 2, 'detalhe': 2, 'potencia': 2, 'qualidades': 2, 'direito': 2, 'faixa': 2, 'elogios': 2, 'processo': 2, 'melhor': 2, 'residencia': 2, 'pagamento': 2, 'avarias': 2, 'p': 2, 'prometido': 2, 'utilizacao': 2, 'senao': 2, 'gosto': 2, 'previsto': 2, 'empresa': 2, 'processador': 2, 'wi': 2, 'filhos': 2, 'reclamacoes': 2, 'sobrinho': 2, 'consumo': 2, 'meses': 2, 'horas': 2, 'funcionalidade': 2, 'experiencia': 2, 'forca': 2, 'conversor': 2, 'controles': 2, 'super': 2, 'medida': 2, 'navegador': 2, 'praticidade': 2, 'informacoes': 2, 'comparacao': 2, 'min': 2, 'maquina': 2, 'trabalho': 2, 'recepcao': 2, 'medo': 2, 'frente': 2, 'antecedencia': 2, 'atraso': 2, 'concorrentes': 2, 'metade': 2, 'fi': 2, 'atualizacao': 2, 'suportes': 2, 'versao': 2, 'observacoes': 2, 'tipo': 2, 'contato': 2, 'smartv': 2, 'canal': 2, 'passo': 2, 'noite': 2, 'conteudos': 2, 'smartphones': 2, 'endereco': 2, 'transtorno': 2, 'porcaria': 2, 'seguranca': 2, 'impressao': 2, 'compras': 2, 'saidas': 2, 'rs': 2, 'ate': 2, 'google': 2, 'desconto': 2, 'questao': 2, 'consideracao': 2, 'roteador': 2, 'gente': 2, 'megas': 2, 'smarttv': 2, 'entanto': 2, 'fragilidade': 2, 'android': 2, 'defeitos': 2, 'musicas': 2, 'vista': 2, 'preocupacao': 1, 'linda': 1, 'sc': 1, 'propaganda': 1, 'aparencia': 1, 'mercadoria': 1, 'pen': 1, 'designer': 1, 'sintonia': 1, 'deseja': 1, 'esliga': 1, 'satisfeitissima': 1, 'programado': 1, 'sons': 1, 'youtub': 1, 'integradores': 1, 'anunciado': 1, 'dica': 1, 'enteaga': 1, 'son': 1, 'mito': 1, 'costume': 1, 'netiflix': 1, 'td': 1, 'condicao': 1, 'neta': 1, 'procura': 1, 'redes': 1, 'excelencia': 1, 'tvde': 1, 'tanto': 1, 'menis': 1, 'mhz': 1, 'menus': 1, 'uhf': 1, 'distorcao': 1, 'diagonal': 1, 'letras': 1, 'serio': 1, 'nitidez': 1, 'menos': 1, 'igual': 1, 'novato': 1, 'execucao': 1, 'montagem': 1, 'ambiante': 1, 'sombra': 1, 'expetativas': 1, 'time': 1, 'pesquisa': 1, 'sistemas': 1, 'surpresas': 1, 'pensamento': 1, 'reinicio': 1, 'normal': 1, 'modelos': 1, 'manoseio': 1, 'enquanto': 1, 'otima': 1, 'hospede': 1, 'arrependido': 1, 'funcionamento': 1, 'realizacao': 1, 'copa': 1, 'espectativas': 1, 'atraves': 1, 'bluetooth': 1, 'compatibilidade': 1, 'tabela': 1, 'encaixes': 1, 'variedade': 1, 'simplicidade': 1, 'image': 1, 'alta': 1, 'coisas': 1, 'semanas': 1, 'radinho': 1, 'pilha': 1, 'palavras': 1, 'monta': 1, 'antiga': 1, 'mega': 1, 'entregas': 1, 'serie': 1, 'graficos': 1, 'k': 1, 'precos': 1, 'lugar': 1, 'atalho': 1, 'ideal': 1, 'economica': 1, 'papel': 1, 'confianca': 1, 'olhos': 1, 'rapaz': 1, 'pai': 1, 'negociacao': 1, 'mudancas': 1, 'entregadores': 1, 'estereo': 1, 'personagens': 1, 'garrafa': 1, 'espelhagem': 1, 'explorer': 1, 'maravilha': 1, 'quantidade': 1, 'download': 1, 'bola': 1, 'beneficios': 1, 'preferencias': 1, 'americanos': 1, 'devido': 1, 'roda': 1, 'navegacao': 1, 'br': 1, 'sozinho': 1, 'servico': 1, 'painel': 1, 'explicito': 1, 'greve': 1, 'caminhoneiros': 1, 'samsumg': 1, 'blackfriday': 1, 'parceiros': 1, 'display': 1, 'batida': 1, 'torcao': 1, 'pior': 1, 'concerto': 1, 'trava': 1, 'pip': 1, 'captura': 1, 'facilidade': 1, 'oculos': 1, 'bateria': 1, 'linhas': 1, 'entretenimento': 1, 'idades': 1, 'cor': 1, 'brilho': 1, 'comum': 1, 'parecer': 1, 'combinado': 1, 'nuca': 1, 'pedidos': 1, 'versoes': 1, 'fata': 1, 'pega': 1, 'regulagens': 1, 'motivo': 1, 'noivo': 1, 'fone': 1, 'ouvido': 1, 'recurso': 1, 'tve': 1, 'demora': 1, 'spotify': 1, 'musica': 1, 'smarthub': 1, 'restante': 1, 'estabilizador': 1, 'oscilacao': 1, 'azar': 1, 'pacote': 1, 'item': 1, 'caso': 1, 'irmao': 1, 'instantes': 1, 'vicio': 1, 'culto': 1, 'maximo': 1, 'prejuiso': 1, 'arrependimento': 1, 'trave': 1, 'ajustes': 1, 'galho': 1, 'numero': 1, 'usuarios': 1, 'espacos': 1, 'brasil': 1, 'dessa': 1, 'casos': 1, 'conserto': 1, 'mails': 1, 'situacao': 1, 'feriados': 1, 'designe': 1, 'tambem': 1, 'versatilidade': 1, 'fraco': 1, 'estranheza': 1, 'area': 1, 'lazer': 1, 'novidade': 1, 'captacao': 1, 'meritos': 1, 'honestidade': 1, 'sustentacao': 1, 'mesa': 1, 'cuidado': 1, 'titulo': 1, 'imediato': 1, 'maos': 1, 'ventania': 1, 'notbook': 1, 'gambiarra': 1, 'ne595': 1, 'unico': 1, 'numeracao': 1, 'programas': 1, 'surpresa': 1, 'analogica': 1, 'nivel': 1, 'respostas': 1, 'aumento': 1, 'busca': 1, 'yt': 1, 'conta': 1, 'luz': 1, 'caixas': 1, 'conservacao': 1, 'netlix': 1, 'sabado': 1, 'terca': 1, 'receio': 1, 'iniciacao': 1, 'caracteristica': 1, 'dedo': 1, 'mercado': 1, 'experiencias': 1, 'comodidade': 1, 'modo': 1, 'transformador': 1, 'trambolho': 1, 'venda': 1, 'pezinhos': 1, 'duvidas': 1, 'carinho': 1, 'atencao': 1, 'pessoa': 1, 'pais': 1, 'alimentacao': 1, 'caixinha': 1, 'especificacao': 1, 'fabricante': 1, 'tao': 1, 'altura': 1, 'ruidos': 1, 'tres': 1, 'utilidades': 1, 'final': 1, 'vencimento': 1, 'vento': 1, '5mg': 1, 'midias': 1, 'manha': 1, 'tarde': 1, 'cupom': 1, 'boleto': 1, 'agosto': 1, 'julho': 1, 'terraco': 1, 'note': 1, '3a': 1, 'xou': 1, 'avaliacao': 1, 'adorei': 1, 'n': 1, 'quartos': 1, 'visao': 1, 'cara': 1, 'pontos': 1, 'ex': 1, 'diagnostico': 1, 'guia': 1, 'andamento': 1, 'mail': 1, 'ajuste': 1, 'espelhamento': 1, 'plastico': 1, 'ausencia': 1, 'especifico': 1, 'falha': 1, 'taxa': 1, 'rastros': 1, 'fabrica': 1, 'galera': 1, 'filme': 1, 'metros': 1, 'investimento': 1, 'ignorantes': 1, 'surdos': 1, '4x4': 1, 'cozinha': 1, 'discada': 1, 'favor': 1, 'otimo': 1, 'chumbo': 1, 'povo': 1, 'fraquissimo': 1, 'decepcao': 1, 'notas': 1, 'realidade': 1, 'yotube': 1, 'limitacao': 1, 'nocao': 1, 'proposito': 1, 'usuario': 1, 'memoria': 1, 'minecraft': 1, 'media': 1, 'philco': 1, 'notebook': 1, 'fixacao': 1, 'formato': 1, 'laterais': 1, 'net': 1, 'erro': 1, 'nome': 1, 'legal': 1, 'possibilidade': 1, 'conteudo': 1, 'fotos': 1, 'tablets': 1, 'conforto': 1, 'execussoes': 1, 'melhora': 1, 'encontro': 1, 'finalidade': 1, 'entao': 1, 'folga': 1, 'estradas': 1, 'tras': 1, 'lateral': 1, 'encaixe': 1, 'fio': 1, 'autorizada': 1, 'pecas': 1, 'placa': 1, '60hz': 1, 'assistencia': 1, 'plano': 1, 'capacidade': 1, 'sentidos': 1, 'minuto': 1, 'mensagem': 1, 'exercicio': 1, 'paciencia': 1, 'delay': 1, 'travamentos': 1, 'maneira': 1, 'fibra': 1, 'home': 1, 'soneca': 1, 'globo': 1, 'vivo': 1, 'limitacoes': 1, 'desenho': 1, 'pedestal': 1, 'ferramentas': 1, 'travamento': 1, 'bloqueio': 1})\n"
          ]
        }
      ]
    },
    {
      "cell_type": "code",
      "source": [
        "def getCorpus2(df):\n",
        "  corpus = []\n",
        "  for item in df:\n",
        "    corpus.append(item.split())\n",
        "  \n",
        "  return corpus"
      ],
      "metadata": {
        "id": "LlHOFEcBZOfz"
      },
      "execution_count": null,
      "outputs": []
    },
    {
      "cell_type": "code",
      "source": [
        "from gensim.models import Word2Vec\n",
        "corpus = getCorpus2(df['text'])\n",
        "#print(corpus[1::])\n",
        "\n",
        "f = Word2Vec(corpus[1::],\n",
        "                 sg=0,\n",
        "                 negative=5,\n",
        "                 window=10,\n",
        "                 size=200,\n",
        "                 min_count=2,\n",
        "                 iter=5,\n",
        "                 workers=10)\n",
        "\n",
        "f.wv.save_word2vec_format(\"/content/my_word_vectors.vec\")\n"
      ],
      "metadata": {
        "id": "G2GfQkXtlMR-"
      },
      "execution_count": null,
      "outputs": []
    },
    {
      "cell_type": "code",
      "source": [
        "d = json.load(open('/content/nouns.json'))\n",
        "nouns2 = Counter()\n",
        "#print(f.wv.vocab.items[0])\n",
        "for k, v in d.items():\n",
        "  for tag,_ in f.wv.vocab.items():\n",
        "    if k.lower() == tag:\n",
        "      #print(\"valor v: \",v)\n",
        "      nouns2[k.lower()] += v\n",
        "\n",
        "# nouns2, _ = zip(*sorted(nouns2.items(),\n",
        "#                 key=lambda x: x[1],\n",
        "#                 reverse=True))\n",
        "\n",
        "# json.dump(nouns, open(\"/content/aspect_words.json\", \"w\"))"
      ],
      "metadata": {
        "id": "tgdUiBsgnNa4"
      },
      "execution_count": null,
      "outputs": []
    },
    {
      "cell_type": "code",
      "source": [
        "nouns3, _ = zip(*sorted(nouns2.items(),\n",
        "                key=lambda x: x[1],\n",
        "                reverse=True))\n",
        "\n",
        "json.dump(nouns3, open(\"/content/aspect_words.json\", \"w\"))"
      ],
      "metadata": {
        "id": "sF0elJ6rlGB2"
      },
      "execution_count": null,
      "outputs": []
    },
    {
      "cell_type": "markdown",
      "source": [
        "# Métricas e Funções do algoritmo"
      ],
      "metadata": {
        "id": "gPdLq-ICm7Xn"
      }
    },
    {
      "cell_type": "code",
      "source": [
        "! pip install reach"
      ],
      "metadata": {
        "id": "dHXsU1dEnbPf",
        "outputId": "d94c68e4-a3bc-460f-8bae-479d81224f83",
        "colab": {
          "base_uri": "https://localhost:8080/"
        }
      },
      "execution_count": 28,
      "outputs": [
        {
          "output_type": "stream",
          "name": "stdout",
          "text": [
            "Collecting reach\n",
            "  Downloading reach-3.4.7.tar.gz (9.2 kB)\n",
            "Requirement already satisfied: numpy>=1.11.0 in /usr/local/lib/python3.7/dist-packages (from reach) (1.21.5)\n",
            "Requirement already satisfied: tqdm in /usr/local/lib/python3.7/dist-packages (from reach) (4.63.0)\n",
            "Requirement already satisfied: setuptools in /usr/local/lib/python3.7/dist-packages (from reach) (57.4.0)\n",
            "Building wheels for collected packages: reach\n",
            "  Building wheel for reach (setup.py) ... \u001b[?25l\u001b[?25hdone\n",
            "  Created wheel for reach: filename=reach-3.4.7-py3-none-any.whl size=8533 sha256=bf9c1fe40fd351139adfa2b44c51b39de451e92d54bc71cf0c5e3e646546b38f\n",
            "  Stored in directory: /root/.cache/pip/wheels/16/f7/16/14cec58071c89f16832ff04929412108d9c3dba0b989c8798c\n",
            "Successfully built reach\n",
            "Installing collected packages: reach\n",
            "Successfully installed reach-3.4.7\n"
          ]
        }
      ]
    },
    {
      "cell_type": "code",
      "source": [
        "import json\n",
        "from reach import Reach\n",
        "from collections import defaultdict\n",
        "import numpy as np\n",
        "from collections import defaultdict\n",
        "from sklearn.metrics.pairwise import rbf_kernel\n",
        "from collections import Counter\n",
        "from sklearn.metrics import precision_recall_fscore_support\n",
        "from sklearn.metrics import classification_report\n",
        "from sklearn.metrics import f1_score,accuracy_score"
      ],
      "metadata": {
        "id": "sQpMtYQZmDoY"
      },
      "execution_count": 29,
      "outputs": []
    },
    {
      "cell_type": "code",
      "source": [
        "def normalize(x):\n",
        "    \"\"\"Normalize a vector while controlling for zero vectors.\"\"\"\n",
        "    x = np.copy(x)\n",
        "    if np.ndim(x) == 1:\n",
        "        norm = np.linalg.norm(x)\n",
        "        if norm == 0:\n",
        "            return x\n",
        "        return x / np.linalg.norm(x)\n",
        "    norm = np.linalg.norm(x, axis=-1)\n",
        "    mask = norm > 0\n",
        "    x[mask] /= norm[mask][:, None]\n",
        "    return x\n"
      ],
      "metadata": {
        "id": "Ir6aDzlZoMXc"
      },
      "execution_count": 30,
      "outputs": []
    },
    {
      "cell_type": "code",
      "source": [
        "\"\"\"Simple method.\"\"\"\n",
        "import numpy as np\n",
        "from collections import defaultdict\n",
        "from sklearn.metrics.pairwise import rbf_kernel\n",
        "from collections import Counter\n",
        "\n",
        "\n",
        "def get_aspects(fragments, embeddings, n_adj_seed, n_nouns, min_count):\n",
        "    \"\"\"Get aspects based on fragments.\"\"\"\n",
        "    adj, _, noun = zip(*fragments)\n",
        "    adj_cand, _ = zip(*Counter(adj).most_common(n_adj_seed))\n",
        "\n",
        "    cands = candidate(embeddings,\n",
        "                      adj,\n",
        "                      noun,\n",
        "                      adj_cand,\n",
        "                      n_nouns,\n",
        "                      min_count)\n",
        "\n",
        "    return cands\n",
        "\n",
        "\n",
        "def candidate(embeddings,\n",
        "              adj,\n",
        "              noun,\n",
        "              seed_words,\n",
        "              n_nouns,\n",
        "              min_count):\n",
        "    \"\"\"\n",
        "    Generates candidate aspects based on adjective co-occurrences\n",
        "\n",
        "    Parameters\n",
        "    ----------\n",
        "    embeddings : Reach\n",
        "        A Reach instance containing the word embeddings.\n",
        "    constructions : list of tuples\n",
        "        A list of adjective noun tuples.\n",
        "    seed_words : list of str\n",
        "        A list of strings. All these words should be in vocab for the\n",
        "        given embeddings model.\n",
        "    frequency_threshold : int\n",
        "        Any noun occurring fewer times than this threshold is discarded\n",
        "    n_nouns : int\n",
        "        The amount of items to return\n",
        "\n",
        "    Returns\n",
        "    -------\n",
        "    candidates : dict\n",
        "        A dictionary mapping strings to their scores.\n",
        "\n",
        "    \"\"\"\n",
        "    a = list(set(adj))\n",
        "    sims = embeddings.similarity(a, seed_words).max(1)\n",
        "    adj_scores = dict(zip(a, sims))\n",
        "\n",
        "    noun_scores = defaultdict(lambda: [0, 0])\n",
        "    for adj, noun in zip(adj, noun):\n",
        "        noun_scores[noun][0] += adj_scores[adj]\n",
        "        noun_scores[noun][1] += 1\n",
        "\n",
        "    noun_scores = {k: v[0] for k, v in noun_scores.items()\n",
        "                   if v[1] > min_count}\n",
        "\n",
        "    return sorted(noun_scores.items(), key=lambda x: x[1])[-n_nouns:]\n",
        "\n",
        "\n",
        "def rbf_attention(vec, memory, gamma, **kwargs):\n",
        "    \"\"\"\n",
        "    Single-head attention using RBF kernel.\n",
        "\n",
        "    Parameters\n",
        "    ----------\n",
        "    vec : np.array\n",
        "        an (N, D)-shaped array, representing the tokens of an instance.\n",
        "    memory : np.array\n",
        "        an (M, D)-shaped array, representing the memory items\n",
        "    gamma : float\n",
        "        the gamma of the RBF kernel.\n",
        "\n",
        "    Returns\n",
        "    -------\n",
        "    attention : np.array\n",
        "        A (1, N)-shaped array, representing a single-headed attention mechanism\n",
        "\n",
        "    \"\"\"\n",
        "    z = rbf_kernel(vec, memory, gamma)\n",
        "    s = z.sum()\n",
        "    if s == 0:\n",
        "        # If s happens to be 0, back off to uniform\n",
        "        return np.ones((1, len(vec))) / len(vec)\n",
        "    return (z.sum(1) / s)[None, :]\n",
        "\n",
        "\n",
        "def softmax(x, axis=1):\n",
        "    \"\"\"Compute softmax values for each sets of scores in x.\"\"\"\n",
        "    e_x = np.exp(x - np.max(x, axis, keepdims=True))\n",
        "    s = e_x.sum(axis=axis, keepdims=True)\n",
        "    return e_x / s\n",
        "\n",
        "\n",
        "def attention(vec, memory, **kwargs):\n",
        "    \"\"\"\n",
        "    Standard multi-head attention mechanism.\n",
        "\n",
        "    Parameters\n",
        "    ----------\n",
        "    vec : np.array\n",
        "        an (N, D)-shaped array, representing the tokens of an instance.\n",
        "    memory : np.array\n",
        "        an (M, D)-shaped array, representing the memory items\n",
        "\n",
        "    Returns\n",
        "    -------\n",
        "    attention : np.array\n",
        "        A (M, N)-shaped array, representing the attention over all memories.\n",
        "\n",
        "    \"\"\"\n",
        "    z = memory.dot(vec.T)\n",
        "    return softmax(z)\n",
        "\n",
        "\n",
        "def mean(vec, aspect_vecs, **kwargs):\n",
        "    \"\"\"Just a mean weighting.\"\"\"\n",
        "    return (np.ones(len(vec)) / len(vec))[None, :]"
      ],
      "metadata": {
        "id": "yUCmvOZ9oo8I"
      },
      "execution_count": 31,
      "outputs": []
    },
    {
      "cell_type": "code",
      "source": [
        "def get_scores(instances,\n",
        "               aspects,\n",
        "               r,\n",
        "               labels,\n",
        "               remove_oov=False,\n",
        "               attention_func=attention,\n",
        "               **kwargs):\n",
        "    \"\"\"Scoring function.\"\"\"\n",
        "    print(labels)\n",
        "    assert all([x in r.items for x in labels])\n",
        "    \n",
        "    label_vecs = normalize(r.vectorize(labels))\n",
        "    aspect_vecs = [x.mean(0)\n",
        "                   for x in r.transform(aspects,\n",
        "                                        remove_oov=False)]\n",
        "    aspect_vecs = np.stack(aspect_vecs)\n",
        "    if len(instances) == 1:\n",
        "        instances = [instances]\n",
        "\n",
        "    t = r.transform(instances, remove_oov=remove_oov)\n",
        "\n",
        "    out = []\n",
        "    for vec in t:\n",
        "        att = attention_func(vec, aspect_vecs, **kwargs)\n",
        "        #print(\"att\",att)\n",
        "        # Att = (n_heads, n_words)\n",
        "        z = att.dot(vec)\n",
        "        # z = (n_heads, n_dim)\n",
        "        x = normalize(z).dot(label_vecs.T)\n",
        "        # x = (n_heads, n_labels)\n",
        "        out.append(x.sum(0))\n",
        "    return np.stack(out)"
      ],
      "metadata": {
        "id": "sJoeggzIpVD5"
      },
      "execution_count": 32,
      "outputs": []
    },
    {
      "cell_type": "markdown",
      "source": [
        "# Avaliação com o dataset restaurantes.csv"
      ],
      "metadata": {
        "id": "rQ_t4t1SctHz"
      }
    },
    {
      "cell_type": "markdown",
      "source": [
        "## Processamento e escolhas de labels para os dados"
      ],
      "metadata": {
        "id": "rcsKiTZ8Y5W9"
      }
    },
    {
      "cell_type": "code",
      "source": [
        "df['labels'] =-1\n",
        "df.head()"
      ],
      "metadata": {
        "id": "bw8_MkuXR4Re",
        "outputId": "8ee9cad4-5a86-43ba-96f6-c86c9dc7944f",
        "colab": {
          "base_uri": "https://localhost:8080/",
          "height": 206
        }
      },
      "execution_count": 62,
      "outputs": [
        {
          "output_type": "execute_result",
          "data": {
            "text/plain": [
              "                                                text      aspects  \\\n",
              "0  hamburgueria artesanal com tempero diferenciad...      tempero   \n",
              "1  excelente peixe  para quem esta localizado no ...        peixe   \n",
              "2  serve lanches e cerveja gelada  tem mesinhas f...      cerveja   \n",
              "3                           muito bom o atendimento   atendimento   \n",
              "4                                  cardapio variado      Cardápio   \n",
              "\n",
              "  aspectsClass  labels  \n",
              "0         Food      -1  \n",
              "1         Food      -1  \n",
              "2       Drinks      -1  \n",
              "3      Service      -1  \n",
              "4         Food      -1  "
            ],
            "text/html": [
              "\n",
              "  <div id=\"df-e96dc385-82a1-43be-ad00-7570a4cf4302\">\n",
              "    <div class=\"colab-df-container\">\n",
              "      <div>\n",
              "<style scoped>\n",
              "    .dataframe tbody tr th:only-of-type {\n",
              "        vertical-align: middle;\n",
              "    }\n",
              "\n",
              "    .dataframe tbody tr th {\n",
              "        vertical-align: top;\n",
              "    }\n",
              "\n",
              "    .dataframe thead th {\n",
              "        text-align: right;\n",
              "    }\n",
              "</style>\n",
              "<table border=\"1\" class=\"dataframe\">\n",
              "  <thead>\n",
              "    <tr style=\"text-align: right;\">\n",
              "      <th></th>\n",
              "      <th>text</th>\n",
              "      <th>aspects</th>\n",
              "      <th>aspectsClass</th>\n",
              "      <th>labels</th>\n",
              "    </tr>\n",
              "  </thead>\n",
              "  <tbody>\n",
              "    <tr>\n",
              "      <th>0</th>\n",
              "      <td>hamburgueria artesanal com tempero diferenciad...</td>\n",
              "      <td>tempero</td>\n",
              "      <td>Food</td>\n",
              "      <td>-1</td>\n",
              "    </tr>\n",
              "    <tr>\n",
              "      <th>1</th>\n",
              "      <td>excelente peixe  para quem esta localizado no ...</td>\n",
              "      <td>peixe</td>\n",
              "      <td>Food</td>\n",
              "      <td>-1</td>\n",
              "    </tr>\n",
              "    <tr>\n",
              "      <th>2</th>\n",
              "      <td>serve lanches e cerveja gelada  tem mesinhas f...</td>\n",
              "      <td>cerveja</td>\n",
              "      <td>Drinks</td>\n",
              "      <td>-1</td>\n",
              "    </tr>\n",
              "    <tr>\n",
              "      <th>3</th>\n",
              "      <td>muito bom o atendimento</td>\n",
              "      <td>atendimento</td>\n",
              "      <td>Service</td>\n",
              "      <td>-1</td>\n",
              "    </tr>\n",
              "    <tr>\n",
              "      <th>4</th>\n",
              "      <td>cardapio variado</td>\n",
              "      <td>Cardápio</td>\n",
              "      <td>Food</td>\n",
              "      <td>-1</td>\n",
              "    </tr>\n",
              "  </tbody>\n",
              "</table>\n",
              "</div>\n",
              "      <button class=\"colab-df-convert\" onclick=\"convertToInteractive('df-e96dc385-82a1-43be-ad00-7570a4cf4302')\"\n",
              "              title=\"Convert this dataframe to an interactive table.\"\n",
              "              style=\"display:none;\">\n",
              "        \n",
              "  <svg xmlns=\"http://www.w3.org/2000/svg\" height=\"24px\"viewBox=\"0 0 24 24\"\n",
              "       width=\"24px\">\n",
              "    <path d=\"M0 0h24v24H0V0z\" fill=\"none\"/>\n",
              "    <path d=\"M18.56 5.44l.94 2.06.94-2.06 2.06-.94-2.06-.94-.94-2.06-.94 2.06-2.06.94zm-11 1L8.5 8.5l.94-2.06 2.06-.94-2.06-.94L8.5 2.5l-.94 2.06-2.06.94zm10 10l.94 2.06.94-2.06 2.06-.94-2.06-.94-.94-2.06-.94 2.06-2.06.94z\"/><path d=\"M17.41 7.96l-1.37-1.37c-.4-.4-.92-.59-1.43-.59-.52 0-1.04.2-1.43.59L10.3 9.45l-7.72 7.72c-.78.78-.78 2.05 0 2.83L4 21.41c.39.39.9.59 1.41.59.51 0 1.02-.2 1.41-.59l7.78-7.78 2.81-2.81c.8-.78.8-2.07 0-2.86zM5.41 20L4 18.59l7.72-7.72 1.47 1.35L5.41 20z\"/>\n",
              "  </svg>\n",
              "      </button>\n",
              "      \n",
              "  <style>\n",
              "    .colab-df-container {\n",
              "      display:flex;\n",
              "      flex-wrap:wrap;\n",
              "      gap: 12px;\n",
              "    }\n",
              "\n",
              "    .colab-df-convert {\n",
              "      background-color: #E8F0FE;\n",
              "      border: none;\n",
              "      border-radius: 50%;\n",
              "      cursor: pointer;\n",
              "      display: none;\n",
              "      fill: #1967D2;\n",
              "      height: 32px;\n",
              "      padding: 0 0 0 0;\n",
              "      width: 32px;\n",
              "    }\n",
              "\n",
              "    .colab-df-convert:hover {\n",
              "      background-color: #E2EBFA;\n",
              "      box-shadow: 0px 1px 2px rgba(60, 64, 67, 0.3), 0px 1px 3px 1px rgba(60, 64, 67, 0.15);\n",
              "      fill: #174EA6;\n",
              "    }\n",
              "\n",
              "    [theme=dark] .colab-df-convert {\n",
              "      background-color: #3B4455;\n",
              "      fill: #D2E3FC;\n",
              "    }\n",
              "\n",
              "    [theme=dark] .colab-df-convert:hover {\n",
              "      background-color: #434B5C;\n",
              "      box-shadow: 0px 1px 3px 1px rgba(0, 0, 0, 0.15);\n",
              "      filter: drop-shadow(0px 1px 2px rgba(0, 0, 0, 0.3));\n",
              "      fill: #FFFFFF;\n",
              "    }\n",
              "  </style>\n",
              "\n",
              "      <script>\n",
              "        const buttonEl =\n",
              "          document.querySelector('#df-e96dc385-82a1-43be-ad00-7570a4cf4302 button.colab-df-convert');\n",
              "        buttonEl.style.display =\n",
              "          google.colab.kernel.accessAllowed ? 'block' : 'none';\n",
              "\n",
              "        async function convertToInteractive(key) {\n",
              "          const element = document.querySelector('#df-e96dc385-82a1-43be-ad00-7570a4cf4302');\n",
              "          const dataTable =\n",
              "            await google.colab.kernel.invokeFunction('convertToInteractive',\n",
              "                                                     [key], {});\n",
              "          if (!dataTable) return;\n",
              "\n",
              "          const docLinkHtml = 'Like what you see? Visit the ' +\n",
              "            '<a target=\"_blank\" href=https://colab.research.google.com/notebooks/data_table.ipynb>data table notebook</a>'\n",
              "            + ' to learn more about interactive tables.';\n",
              "          element.innerHTML = '';\n",
              "          dataTable['output_type'] = 'display_data';\n",
              "          await google.colab.output.renderOutput(dataTable, element);\n",
              "          const docLink = document.createElement('div');\n",
              "          docLink.innerHTML = docLinkHtml;\n",
              "          element.appendChild(docLink);\n",
              "        }\n",
              "      </script>\n",
              "    </div>\n",
              "  </div>\n",
              "  "
            ]
          },
          "metadata": {},
          "execution_count": 62
        }
      ]
    },
    {
      "cell_type": "code",
      "source": [
        "df['aspectsClass'].unique()"
      ],
      "metadata": {
        "id": "Yhd0dCDIU3hW",
        "outputId": "db684c94-0173-4b4a-c72b-272f0031e953",
        "colab": {
          "base_uri": "https://localhost:8080/"
        }
      },
      "execution_count": 63,
      "outputs": [
        {
          "output_type": "execute_result",
          "data": {
            "text/plain": [
              "array(['Food', 'Drinks', 'Service', 'Ambience', ' Price', 'Location',\n",
              "       'Price', 'Miscellaneous', 'General', nan, 'service'], dtype=object)"
            ]
          },
          "metadata": {},
          "execution_count": 63
        }
      ]
    },
    {
      "cell_type": "code",
      "source": [
        "df.loc[df[\"aspectsClass\"] == \"Service\", \"labels\"] = 0\n",
        "df.loc[df[\"aspectsClass\"] == \"Food\", \"labels\"] = 1\n",
        "df.loc[df[\"aspectsClass\"] == \"Price\", \"labels\"] = 2\n",
        "df.loc[df[\"aspectsClass\"] == \"Ambience\", \"labels\"] = 3\n",
        "df.loc[df[\"aspectsClass\"] == \"Location\", \"labels\"] = 4"
      ],
      "metadata": {
        "id": "OYoUYfBaSaiO"
      },
      "execution_count": 64,
      "outputs": []
    },
    {
      "cell_type": "code",
      "source": [
        "df_tst = df[df['labels'] != -1]\n",
        "df_tst.head()"
      ],
      "metadata": {
        "id": "DqeqWNljS_bE",
        "outputId": "c7cb04e7-cee9-400b-f79b-db8d123eebb8",
        "colab": {
          "base_uri": "https://localhost:8080/",
          "height": 206
        }
      },
      "execution_count": 65,
      "outputs": [
        {
          "output_type": "execute_result",
          "data": {
            "text/plain": [
              "                                                text      aspects  \\\n",
              "0  hamburgueria artesanal com tempero diferenciad...      tempero   \n",
              "1  excelente peixe  para quem esta localizado no ...        peixe   \n",
              "3                           muito bom o atendimento   atendimento   \n",
              "4                                  cardapio variado      Cardápio   \n",
              "5                                ambiente agradavel      Ambiente   \n",
              "\n",
              "  aspectsClass  labels  \n",
              "0         Food       1  \n",
              "1         Food       1  \n",
              "3      Service       0  \n",
              "4         Food       1  \n",
              "5     Ambience       3  "
            ],
            "text/html": [
              "\n",
              "  <div id=\"df-ddb0d859-c1ef-4577-9576-6a930279ebcd\">\n",
              "    <div class=\"colab-df-container\">\n",
              "      <div>\n",
              "<style scoped>\n",
              "    .dataframe tbody tr th:only-of-type {\n",
              "        vertical-align: middle;\n",
              "    }\n",
              "\n",
              "    .dataframe tbody tr th {\n",
              "        vertical-align: top;\n",
              "    }\n",
              "\n",
              "    .dataframe thead th {\n",
              "        text-align: right;\n",
              "    }\n",
              "</style>\n",
              "<table border=\"1\" class=\"dataframe\">\n",
              "  <thead>\n",
              "    <tr style=\"text-align: right;\">\n",
              "      <th></th>\n",
              "      <th>text</th>\n",
              "      <th>aspects</th>\n",
              "      <th>aspectsClass</th>\n",
              "      <th>labels</th>\n",
              "    </tr>\n",
              "  </thead>\n",
              "  <tbody>\n",
              "    <tr>\n",
              "      <th>0</th>\n",
              "      <td>hamburgueria artesanal com tempero diferenciad...</td>\n",
              "      <td>tempero</td>\n",
              "      <td>Food</td>\n",
              "      <td>1</td>\n",
              "    </tr>\n",
              "    <tr>\n",
              "      <th>1</th>\n",
              "      <td>excelente peixe  para quem esta localizado no ...</td>\n",
              "      <td>peixe</td>\n",
              "      <td>Food</td>\n",
              "      <td>1</td>\n",
              "    </tr>\n",
              "    <tr>\n",
              "      <th>3</th>\n",
              "      <td>muito bom o atendimento</td>\n",
              "      <td>atendimento</td>\n",
              "      <td>Service</td>\n",
              "      <td>0</td>\n",
              "    </tr>\n",
              "    <tr>\n",
              "      <th>4</th>\n",
              "      <td>cardapio variado</td>\n",
              "      <td>Cardápio</td>\n",
              "      <td>Food</td>\n",
              "      <td>1</td>\n",
              "    </tr>\n",
              "    <tr>\n",
              "      <th>5</th>\n",
              "      <td>ambiente agradavel</td>\n",
              "      <td>Ambiente</td>\n",
              "      <td>Ambience</td>\n",
              "      <td>3</td>\n",
              "    </tr>\n",
              "  </tbody>\n",
              "</table>\n",
              "</div>\n",
              "      <button class=\"colab-df-convert\" onclick=\"convertToInteractive('df-ddb0d859-c1ef-4577-9576-6a930279ebcd')\"\n",
              "              title=\"Convert this dataframe to an interactive table.\"\n",
              "              style=\"display:none;\">\n",
              "        \n",
              "  <svg xmlns=\"http://www.w3.org/2000/svg\" height=\"24px\"viewBox=\"0 0 24 24\"\n",
              "       width=\"24px\">\n",
              "    <path d=\"M0 0h24v24H0V0z\" fill=\"none\"/>\n",
              "    <path d=\"M18.56 5.44l.94 2.06.94-2.06 2.06-.94-2.06-.94-.94-2.06-.94 2.06-2.06.94zm-11 1L8.5 8.5l.94-2.06 2.06-.94-2.06-.94L8.5 2.5l-.94 2.06-2.06.94zm10 10l.94 2.06.94-2.06 2.06-.94-2.06-.94-.94-2.06-.94 2.06-2.06.94z\"/><path d=\"M17.41 7.96l-1.37-1.37c-.4-.4-.92-.59-1.43-.59-.52 0-1.04.2-1.43.59L10.3 9.45l-7.72 7.72c-.78.78-.78 2.05 0 2.83L4 21.41c.39.39.9.59 1.41.59.51 0 1.02-.2 1.41-.59l7.78-7.78 2.81-2.81c.8-.78.8-2.07 0-2.86zM5.41 20L4 18.59l7.72-7.72 1.47 1.35L5.41 20z\"/>\n",
              "  </svg>\n",
              "      </button>\n",
              "      \n",
              "  <style>\n",
              "    .colab-df-container {\n",
              "      display:flex;\n",
              "      flex-wrap:wrap;\n",
              "      gap: 12px;\n",
              "    }\n",
              "\n",
              "    .colab-df-convert {\n",
              "      background-color: #E8F0FE;\n",
              "      border: none;\n",
              "      border-radius: 50%;\n",
              "      cursor: pointer;\n",
              "      display: none;\n",
              "      fill: #1967D2;\n",
              "      height: 32px;\n",
              "      padding: 0 0 0 0;\n",
              "      width: 32px;\n",
              "    }\n",
              "\n",
              "    .colab-df-convert:hover {\n",
              "      background-color: #E2EBFA;\n",
              "      box-shadow: 0px 1px 2px rgba(60, 64, 67, 0.3), 0px 1px 3px 1px rgba(60, 64, 67, 0.15);\n",
              "      fill: #174EA6;\n",
              "    }\n",
              "\n",
              "    [theme=dark] .colab-df-convert {\n",
              "      background-color: #3B4455;\n",
              "      fill: #D2E3FC;\n",
              "    }\n",
              "\n",
              "    [theme=dark] .colab-df-convert:hover {\n",
              "      background-color: #434B5C;\n",
              "      box-shadow: 0px 1px 3px 1px rgba(0, 0, 0, 0.15);\n",
              "      filter: drop-shadow(0px 1px 2px rgba(0, 0, 0, 0.3));\n",
              "      fill: #FFFFFF;\n",
              "    }\n",
              "  </style>\n",
              "\n",
              "      <script>\n",
              "        const buttonEl =\n",
              "          document.querySelector('#df-ddb0d859-c1ef-4577-9576-6a930279ebcd button.colab-df-convert');\n",
              "        buttonEl.style.display =\n",
              "          google.colab.kernel.accessAllowed ? 'block' : 'none';\n",
              "\n",
              "        async function convertToInteractive(key) {\n",
              "          const element = document.querySelector('#df-ddb0d859-c1ef-4577-9576-6a930279ebcd');\n",
              "          const dataTable =\n",
              "            await google.colab.kernel.invokeFunction('convertToInteractive',\n",
              "                                                     [key], {});\n",
              "          if (!dataTable) return;\n",
              "\n",
              "          const docLinkHtml = 'Like what you see? Visit the ' +\n",
              "            '<a target=\"_blank\" href=https://colab.research.google.com/notebooks/data_table.ipynb>data table notebook</a>'\n",
              "            + ' to learn more about interactive tables.';\n",
              "          element.innerHTML = '';\n",
              "          dataTable['output_type'] = 'display_data';\n",
              "          await google.colab.output.renderOutput(dataTable, element);\n",
              "          const docLink = document.createElement('div');\n",
              "          docLink.innerHTML = docLinkHtml;\n",
              "          element.appendChild(docLink);\n",
              "        }\n",
              "      </script>\n",
              "    </div>\n",
              "  </div>\n",
              "  "
            ]
          },
          "metadata": {},
          "execution_count": 65
        }
      ]
    },
    {
      "cell_type": "code",
      "source": [
        "y_true = df_tst['labels']"
      ],
      "metadata": {
        "id": "srYesCoNZAe5"
      },
      "execution_count": 66,
      "outputs": []
    },
    {
      "cell_type": "markdown",
      "source": [
        "## Avaliações com word2vec cbow_s50"
      ],
      "metadata": {
        "id": "xdyCMV7zYZIe"
      }
    },
    {
      "cell_type": "code",
      "source": [
        "GAMMA = .03\n",
        "N_ASPECT_WORDS = 200\n",
        "\n",
        "scores = defaultdict(dict)\n",
        "r = Reach.load(\"/content/cbow_s50.txt\",unk_word=\"<UNK>\")\n",
        "\n",
        "aspects = [[x] for x in json.load(open(\"/content/aspect_words.json\"))]\n",
        "aspects = aspects[:N_ASPECT_WORDS]\n",
        "instances = [\"a comida estava deliciosa e muito bem temperada\".lower().split(), \n",
        "              \"o atendimento estava incrível, recomendo demais\".lower().split(), \n",
        "              \"um ambiente de otima qualidade\".lower().split(),\n",
        "              \"o lugar é muito bem localizado\".lower().split(),\n",
        "              \"achei o preco um pouco caro mas vale a pena\".lower().split()]\n",
        "#instances = df['text'][5:10]\n",
        "print(instances)\n",
        "label_set = ['atendimento', 'comida', 'preco', 'ambiente', 'lugar']\n",
        "#[i.lower().split() for i in instances]\n",
        "s = get_scores(instances,\n",
        "               aspects,\n",
        "               r,\n",
        "               label_set,\n",
        "               gamma=GAMMA,\n",
        "               remove_oov=False,\n",
        "               attention_func=rbf_attention)\n",
        "\n",
        "pred = s.argmax(1)\n",
        "#print(s)\n",
        "print(pred)"
      ],
      "metadata": {
        "colab": {
          "base_uri": "https://localhost:8080/"
        },
        "id": "P0D3meKxnpuu",
        "outputId": "ec06a39f-8980-4673-f3b9-07bf3257e13d"
      },
      "execution_count": null,
      "outputs": [
        {
          "output_type": "stream",
          "name": "stdout",
          "text": [
            "[['a', 'comida', 'estava', 'deliciosa', 'e', 'muito', 'bem', 'temperada'], ['o', 'atendimento', 'estava', 'incrível,', 'recomendo', 'demais'], ['um', 'ambiente', 'de', 'otima', 'qualidade'], ['o', 'lugar', 'é', 'muito', 'bem', 'localizado'], ['achei', 'o', 'preco', 'um', 'pouco', 'caro', 'mas', 'vale', 'a', 'pena']]\n",
            "[1 0 3 4 1]\n"
          ]
        }
      ]
    },
    {
      "cell_type": "code",
      "source": [
        "GAMMA = .03\n",
        "N_ASPECT_WORDS = 200\n",
        "\n",
        "scores = defaultdict(dict)\n",
        "r = Reach.load(\"/content/cbow_s50.txt\",unk_word=\"<UNK>\")\n",
        "\n",
        "aspects = [[x] for x in json.load(open(\"/content/aspect_words.json\"))]\n",
        "aspects = aspects[:N_ASPECT_WORDS]\n",
        "instances = df_tst['text']\n",
        "# instances = [\"a comida estava deliciosa e muito bem temperada\".lower().split(), \n",
        "#               \"o atendimento estava incrível, recomendo demais\".lower().split(), \n",
        "#               \"um ambiente de otima qualidade\".lower().split(),\n",
        "#               \"o lugar é muito bem localizado\".lower().split(),\n",
        "#               \"achei o preco um pouco caro mas vale a pena\".lower().split()]\n",
        "#instances = df['text'][5:10]\n",
        "#print(instances)\n",
        "label_set = ['atendimento', 'comida', 'preco', 'ambiente', 'lugar']\n",
        "#[i.lower().split() for i in instances]\n",
        "s = get_scores([i.lower().split() for i in instances],\n",
        "               aspects,\n",
        "               r,\n",
        "               label_set,\n",
        "               gamma=GAMMA,\n",
        "               remove_oov=False,\n",
        "               attention_func=rbf_attention)\n",
        "\n",
        "y_pred = s.argmax(1)\n",
        "#print(s)\n",
        "print(y_pred)"
      ],
      "metadata": {
        "id": "54KYDfr6TT70",
        "outputId": "2c543b0e-0ccd-4f09-a00f-61ae6988401d",
        "colab": {
          "base_uri": "https://localhost:8080/"
        }
      },
      "execution_count": 71,
      "outputs": [
        {
          "output_type": "stream",
          "name": "stdout",
          "text": [
            "['atendimento', 'comida', 'preco', 'ambiente', 'lugar']\n",
            "[1 3 0 1 3 1 1 1 1 4 1 1 1 1 1 1 3 1 1 1 1 0 1 1 1 3 3 0 1 1 1 1 1 1 1 1 1\n",
            " 1 1 1 1 4 1 3 1 1 1 1 0 1 3 1 1 1 1 0 0 0 0 1 3 3 1 3 1 1 1 3 1 3 1 2 1 0\n",
            " 1 1 1 1 3 1 1 1 3 0 4 1 1 1 1 0 0 1 1 3 1 1 1 1 3 0 2 1 2 1 1 1 1 1 1 1 1\n",
            " 1 1 1 1 1 1 3 1 1 1 0 3 1 0 1 1 0 0 4 1 4 0 3 1 1 1 1 4 1 3 0 1 1 1 1 1 1\n",
            " 1 3 1 1 1 1 1 1 4 1 1 1 1 4 3 3 3 1 1 1 1 1 1 1 3 1 1 1 1 1 1 3 1 1 1 1 1\n",
            " 3 1 1 1 1 1 1 1 1 1 1 1 3 1 1 1]\n"
          ]
        }
      ]
    },
    {
      "cell_type": "code",
      "source": [
        "accuracy_score(y_true, y_pred)"
      ],
      "metadata": {
        "id": "4YeTXgEhTr1r",
        "outputId": "966a04a9-7173-4b82-84bb-f5f85737ee66",
        "colab": {
          "base_uri": "https://localhost:8080/"
        }
      },
      "execution_count": 76,
      "outputs": [
        {
          "output_type": "execute_result",
          "data": {
            "text/plain": [
              "0.527363184079602"
            ]
          },
          "metadata": {},
          "execution_count": 76
        }
      ]
    },
    {
      "cell_type": "code",
      "source": [
        "print(classification_report(y_true, y_pred,target_names=label_set))"
      ],
      "metadata": {
        "id": "0Gh4xKb9cIuG",
        "outputId": "cfa0eb7c-77f2-4533-b70b-4e7500f4143e",
        "colab": {
          "base_uri": "https://localhost:8080/"
        }
      },
      "execution_count": 73,
      "outputs": [
        {
          "output_type": "stream",
          "name": "stdout",
          "text": [
            "              precision    recall  f1-score   support\n",
            "\n",
            " atendimento       0.74      0.33      0.45        43\n",
            "      comida       0.53      0.93      0.68        82\n",
            "       preco       0.67      0.11      0.18        19\n",
            "    ambiente       0.36      0.25      0.29        40\n",
            "       lugar       0.50      0.24      0.32        17\n",
            "\n",
            "    accuracy                           0.53       201\n",
            "   macro avg       0.56      0.37      0.38       201\n",
            "weighted avg       0.55      0.53      0.47       201\n",
            "\n"
          ]
        }
      ]
    },
    {
      "cell_type": "code",
      "source": [
        "f1_score = precision_recall_fscore_support(y_true, y_pred)\n",
        "f1_macro = precision_recall_fscore_support(y_true,y_pred,average=\"weighted\")\n",
        "print(f1_score)\n",
        "print()\n",
        "print(f1_macro)"
      ],
      "metadata": {
        "id": "HNMzKwRWaNzG",
        "outputId": "11e647f7-f43e-4261-f96a-5c96da88850b",
        "colab": {
          "base_uri": "https://localhost:8080/"
        }
      },
      "execution_count": 74,
      "outputs": [
        {
          "output_type": "stream",
          "name": "stdout",
          "text": [
            "(array([0.73684211, 0.53146853, 0.66666667, 0.35714286, 0.5       ]), array([0.3255814 , 0.92682927, 0.10526316, 0.25      , 0.23529412]), array([0.4516129 , 0.67555556, 0.18181818, 0.29411765, 0.32      ]), array([43, 82, 19, 40, 17]))\n",
            "\n",
            "(0.5508309007916236, 0.527363184079602, 0.47499582950827673, None)\n"
          ]
        }
      ]
    },
    {
      "cell_type": "markdown",
      "source": [
        "## Avaliação com my_word_vectors gerado no pré-processamento do dataset"
      ],
      "metadata": {
        "id": "K_xXoCD-ay1q"
      }
    },
    {
      "cell_type": "code",
      "source": [
        "GAMMA = .03\n",
        "N_ASPECT_WORDS = 200\n",
        "\n",
        "scores = defaultdict(dict)\n",
        "r = Reach.load(\"/content/my_word_vectors.vec\",unk_word=\"<UNK>\")\n",
        "\n",
        "aspects = [[x] for x in json.load(open(\"/content/aspect_words.json\"))]\n",
        "aspects = aspects[:N_ASPECT_WORDS]\n",
        "instances = [\"a comida estava deliciosa e muito bem temperada\".lower().split(), \n",
        "              \"o atendimento estava incrível, recomendo demais\".lower().split(), \n",
        "              \"um ambiente de otima qualidade\".lower().split(),\n",
        "              \"o lugar é muito bem localizado\".lower().split(),\n",
        "              \"achei o preco um pouco caro mas vale a pena\".lower().split()]\n",
        "#instances = df['text'][5:10]\n",
        "print(instances)\n",
        "label_set = ['atendimento', 'comida', 'preco', 'ambiente', 'lugar']\n",
        "#[i.lower().split() for i in instances]\n",
        "s = get_scores(instances,\n",
        "               aspects,\n",
        "               r,\n",
        "               label_set,\n",
        "               gamma=GAMMA,\n",
        "               remove_oov=False,\n",
        "               attention_func=rbf_attention)\n",
        "\n",
        "pred = s.argmax(1)\n",
        "print(s)\n",
        "print(pred)"
      ],
      "metadata": {
        "id": "rSG1R0ospQJd",
        "outputId": "936dd51b-1adb-4ba7-e36b-c2ffb4a48560",
        "colab": {
          "base_uri": "https://localhost:8080/"
        }
      },
      "execution_count": 67,
      "outputs": [
        {
          "output_type": "stream",
          "name": "stdout",
          "text": [
            "[['a', 'comida', 'estava', 'deliciosa', 'e', 'muito', 'bem', 'temperada'], ['o', 'atendimento', 'estava', 'incrível,', 'recomendo', 'demais'], ['um', 'ambiente', 'de', 'otima', 'qualidade'], ['o', 'lugar', 'é', 'muito', 'bem', 'localizado'], ['achei', 'o', 'preco', 'um', 'pouco', 'caro', 'mas', 'vale', 'a', 'pena']]\n",
            "['atendimento', 'comida', 'preco', 'ambiente', 'lugar']\n",
            "[[0.9547266  0.95819604 0.9406847  0.9333397  0.94423556]\n",
            " [0.9700805  0.94707143 0.9397762  0.93460137 0.94361514]\n",
            " [0.943849   0.9407705  0.94308615 0.9519595  0.94289553]\n",
            " [0.94415426 0.9342752  0.94304526 0.9306154  0.9592436 ]\n",
            " [0.9499382  0.9430925  0.9535146  0.9381563  0.9412436 ]]\n",
            "[1 0 3 4 2]\n"
          ]
        }
      ]
    },
    {
      "cell_type": "code",
      "source": [
        "GAMMA = .03\n",
        "N_ASPECT_WORDS = 200\n",
        "\n",
        "scores = defaultdict(dict)\n",
        "r = Reach.load(\"/content/my_word_vectors.vec\",unk_word=\"<UNK>\")\n",
        "\n",
        "aspects = [[x] for x in json.load(open(\"/content/aspect_words.json\"))]\n",
        "aspects = aspects[:N_ASPECT_WORDS]\n",
        "instances = df_tst['text']\n",
        "label_set = ['atendimento', 'comida', 'preco', 'ambiente', 'lugar']\n",
        "s = get_scores([i.lower().split() for i in instances],\n",
        "               aspects,\n",
        "               r,\n",
        "               label_set,\n",
        "               gamma=GAMMA,\n",
        "               remove_oov=False,\n",
        "               attention_func=rbf_attention)\n",
        "\n",
        "y_pred = s.argmax(1)\n",
        "print(y_pred)"
      ],
      "metadata": {
        "id": "egT1aqRSU0s5",
        "outputId": "c4d3689d-8679-4281-c3fb-bb7a04601fa6",
        "colab": {
          "base_uri": "https://localhost:8080/"
        }
      },
      "execution_count": 78,
      "outputs": [
        {
          "output_type": "stream",
          "name": "stdout",
          "text": [
            "['atendimento', 'comida', 'preco', 'ambiente', 'lugar']\n",
            "[0 4 0 0 3 0 0 0 4 4 0 1 1 1 1 1 0 1 1 0 0 0 0 0 0 0 1 0 0 0 0 0 0 0 0 0 0\n",
            " 0 1 0 0 2 0 0 2 1 0 0 0 1 0 0 0 0 0 0 0 0 0 2 0 0 1 3 0 0 0 3 0 0 0 2 0 0\n",
            " 0 0 0 1 0 2 0 0 0 0 0 1 0 0 3 0 0 0 0 0 0 0 0 1 0 0 0 1 2 0 0 0 2 0 0 0 0\n",
            " 0 0 0 0 4 0 0 0 0 0 0 0 1 0 0 0 0 0 4 0 4 0 2 0 0 0 0 4 2 3 0 1 1 1 1 0 0\n",
            " 0 0 0 0 0 0 0 0 4 4 0 0 0 0 0 0 0 0 0 1 1 2 0 2 0 1 0 0 0 0 0 0 0 0 1 1 0\n",
            " 0 0 0 0 0 0 0 0 0 0 0 0 0 0 0 0]\n"
          ]
        }
      ]
    },
    {
      "cell_type": "code",
      "source": [
        "accuracy_score(y_true, y_pred)"
      ],
      "metadata": {
        "id": "H-WchyCeU7WA",
        "outputId": "5391cf4f-3980-4799-a41f-1f705b13ca81",
        "colab": {
          "base_uri": "https://localhost:8080/"
        }
      },
      "execution_count": 79,
      "outputs": [
        {
          "output_type": "execute_result",
          "data": {
            "text/plain": [
              "0.3383084577114428"
            ]
          },
          "metadata": {},
          "execution_count": 79
        }
      ]
    },
    {
      "cell_type": "code",
      "source": [
        "print(classification_report(y_true, y_pred,target_names=label_set))"
      ],
      "metadata": {
        "id": "8Jb9AMeIbvKI",
        "outputId": "a0670f51-8f8a-4750-96c7-6e1a9ddb389e",
        "colab": {
          "base_uri": "https://localhost:8080/"
        }
      },
      "execution_count": 80,
      "outputs": [
        {
          "output_type": "stream",
          "name": "stdout",
          "text": [
            "              precision    recall  f1-score   support\n",
            "\n",
            " atendimento       0.27      0.93      0.41        43\n",
            "      comida       0.62      0.20      0.30        82\n",
            "       preco       0.55      0.32      0.40        19\n",
            "    ambiente       0.80      0.10      0.18        40\n",
            "       lugar       0.22      0.12      0.15        17\n",
            "\n",
            "    accuracy                           0.34       201\n",
            "   macro avg       0.49      0.33      0.29       201\n",
            "weighted avg       0.54      0.34      0.30       201\n",
            "\n"
          ]
        }
      ]
    },
    {
      "cell_type": "code",
      "source": [
        "f1_score = precision_recall_fscore_support(y_true, y_pred)\n",
        "f1_macro = precision_recall_fscore_support(y_true,y_pred,average=\"weighted\")\n",
        "print(f1_score)\n",
        "print()\n",
        "print(f1_macro)"
      ],
      "metadata": {
        "id": "O_Ac5BuEbiH7",
        "outputId": "7474b2a4-3e26-4223-d7ac-0589becee0d0",
        "colab": {
          "base_uri": "https://localhost:8080/"
        }
      },
      "execution_count": null,
      "outputs": [
        {
          "output_type": "stream",
          "name": "stdout",
          "text": [
            "(array([0.25899281, 0.64516129, 0.2       , 0.88888889, 0.11764706]), array([0.8372093 , 0.24390244, 0.05263158, 0.2       , 0.11764706]), array([0.3956044 , 0.3539823 , 0.08333333, 0.32653061, 0.11764706]), array([43, 82, 19, 40, 17]))\n",
            "\n",
            "(0.5243555821367621, 0.3333333333333333, 0.31185122142629174, None)\n"
          ]
        }
      ]
    },
    {
      "cell_type": "markdown",
      "source": [
        "# Avaliações com o dataset de TVs"
      ],
      "metadata": {
        "id": "NjlbeFgntGDq"
      }
    },
    {
      "cell_type": "markdown",
      "source": [
        "## Pré processamento das labels"
      ],
      "metadata": {
        "id": "zkpbuQ__o6Rn"
      }
    },
    {
      "cell_type": "code",
      "source": [
        "df['labels'] =-1\n",
        "df.head()"
      ],
      "metadata": {
        "id": "mXV71tLXo8Zi",
        "outputId": "a0d579bd-fee4-4583-8378-0e40a3998fbc",
        "colab": {
          "base_uri": "https://localhost:8080/",
          "height": 310
        }
      },
      "execution_count": null,
      "outputs": [
        {
          "output_type": "stream",
          "name": "stderr",
          "text": [
            "/usr/local/lib/python3.7/dist-packages/ipykernel_launcher.py:1: SettingWithCopyWarning: \n",
            "A value is trying to be set on a copy of a slice from a DataFrame.\n",
            "Try using .loc[row_indexer,col_indexer] = value instead\n",
            "\n",
            "See the caveats in the documentation: https://pandas.pydata.org/pandas-docs/stable/user_guide/indexing.html#returning-a-view-versus-a-copy\n",
            "  \"\"\"Entry point for launching an IPython kernel.\n"
          ]
        },
        {
          "output_type": "execute_result",
          "data": {
            "text/plain": [
              "                                                 text     aspectsClass  labels\n",
              "0   Excelente smart tv. E foi entregue vem antes d...          entrega      -1\n",
              "1   Imagem ótima recursos de web bons , recomendo ...          produto      -1\n",
              "3   Muito bom o produto, esta tv está entre as das...  funcionalidades      -1\n",
              "11  Todos os aparelhos samsung são de uma qualidad...          produto      -1\n",
              "12  Atendeu todas as expectativas, recomendo Samsu...          produto      -1"
            ],
            "text/html": [
              "\n",
              "  <div id=\"df-2a1182e1-1ff9-4b48-9075-d5d45d89b982\">\n",
              "    <div class=\"colab-df-container\">\n",
              "      <div>\n",
              "<style scoped>\n",
              "    .dataframe tbody tr th:only-of-type {\n",
              "        vertical-align: middle;\n",
              "    }\n",
              "\n",
              "    .dataframe tbody tr th {\n",
              "        vertical-align: top;\n",
              "    }\n",
              "\n",
              "    .dataframe thead th {\n",
              "        text-align: right;\n",
              "    }\n",
              "</style>\n",
              "<table border=\"1\" class=\"dataframe\">\n",
              "  <thead>\n",
              "    <tr style=\"text-align: right;\">\n",
              "      <th></th>\n",
              "      <th>text</th>\n",
              "      <th>aspectsClass</th>\n",
              "      <th>labels</th>\n",
              "    </tr>\n",
              "  </thead>\n",
              "  <tbody>\n",
              "    <tr>\n",
              "      <th>0</th>\n",
              "      <td>Excelente smart tv. E foi entregue vem antes d...</td>\n",
              "      <td>entrega</td>\n",
              "      <td>-1</td>\n",
              "    </tr>\n",
              "    <tr>\n",
              "      <th>1</th>\n",
              "      <td>Imagem ótima recursos de web bons , recomendo ...</td>\n",
              "      <td>produto</td>\n",
              "      <td>-1</td>\n",
              "    </tr>\n",
              "    <tr>\n",
              "      <th>3</th>\n",
              "      <td>Muito bom o produto, esta tv está entre as das...</td>\n",
              "      <td>funcionalidades</td>\n",
              "      <td>-1</td>\n",
              "    </tr>\n",
              "    <tr>\n",
              "      <th>11</th>\n",
              "      <td>Todos os aparelhos samsung são de uma qualidad...</td>\n",
              "      <td>produto</td>\n",
              "      <td>-1</td>\n",
              "    </tr>\n",
              "    <tr>\n",
              "      <th>12</th>\n",
              "      <td>Atendeu todas as expectativas, recomendo Samsu...</td>\n",
              "      <td>produto</td>\n",
              "      <td>-1</td>\n",
              "    </tr>\n",
              "  </tbody>\n",
              "</table>\n",
              "</div>\n",
              "      <button class=\"colab-df-convert\" onclick=\"convertToInteractive('df-2a1182e1-1ff9-4b48-9075-d5d45d89b982')\"\n",
              "              title=\"Convert this dataframe to an interactive table.\"\n",
              "              style=\"display:none;\">\n",
              "        \n",
              "  <svg xmlns=\"http://www.w3.org/2000/svg\" height=\"24px\"viewBox=\"0 0 24 24\"\n",
              "       width=\"24px\">\n",
              "    <path d=\"M0 0h24v24H0V0z\" fill=\"none\"/>\n",
              "    <path d=\"M18.56 5.44l.94 2.06.94-2.06 2.06-.94-2.06-.94-.94-2.06-.94 2.06-2.06.94zm-11 1L8.5 8.5l.94-2.06 2.06-.94-2.06-.94L8.5 2.5l-.94 2.06-2.06.94zm10 10l.94 2.06.94-2.06 2.06-.94-2.06-.94-.94-2.06-.94 2.06-2.06.94z\"/><path d=\"M17.41 7.96l-1.37-1.37c-.4-.4-.92-.59-1.43-.59-.52 0-1.04.2-1.43.59L10.3 9.45l-7.72 7.72c-.78.78-.78 2.05 0 2.83L4 21.41c.39.39.9.59 1.41.59.51 0 1.02-.2 1.41-.59l7.78-7.78 2.81-2.81c.8-.78.8-2.07 0-2.86zM5.41 20L4 18.59l7.72-7.72 1.47 1.35L5.41 20z\"/>\n",
              "  </svg>\n",
              "      </button>\n",
              "      \n",
              "  <style>\n",
              "    .colab-df-container {\n",
              "      display:flex;\n",
              "      flex-wrap:wrap;\n",
              "      gap: 12px;\n",
              "    }\n",
              "\n",
              "    .colab-df-convert {\n",
              "      background-color: #E8F0FE;\n",
              "      border: none;\n",
              "      border-radius: 50%;\n",
              "      cursor: pointer;\n",
              "      display: none;\n",
              "      fill: #1967D2;\n",
              "      height: 32px;\n",
              "      padding: 0 0 0 0;\n",
              "      width: 32px;\n",
              "    }\n",
              "\n",
              "    .colab-df-convert:hover {\n",
              "      background-color: #E2EBFA;\n",
              "      box-shadow: 0px 1px 2px rgba(60, 64, 67, 0.3), 0px 1px 3px 1px rgba(60, 64, 67, 0.15);\n",
              "      fill: #174EA6;\n",
              "    }\n",
              "\n",
              "    [theme=dark] .colab-df-convert {\n",
              "      background-color: #3B4455;\n",
              "      fill: #D2E3FC;\n",
              "    }\n",
              "\n",
              "    [theme=dark] .colab-df-convert:hover {\n",
              "      background-color: #434B5C;\n",
              "      box-shadow: 0px 1px 3px 1px rgba(0, 0, 0, 0.15);\n",
              "      filter: drop-shadow(0px 1px 2px rgba(0, 0, 0, 0.3));\n",
              "      fill: #FFFFFF;\n",
              "    }\n",
              "  </style>\n",
              "\n",
              "      <script>\n",
              "        const buttonEl =\n",
              "          document.querySelector('#df-2a1182e1-1ff9-4b48-9075-d5d45d89b982 button.colab-df-convert');\n",
              "        buttonEl.style.display =\n",
              "          google.colab.kernel.accessAllowed ? 'block' : 'none';\n",
              "\n",
              "        async function convertToInteractive(key) {\n",
              "          const element = document.querySelector('#df-2a1182e1-1ff9-4b48-9075-d5d45d89b982');\n",
              "          const dataTable =\n",
              "            await google.colab.kernel.invokeFunction('convertToInteractive',\n",
              "                                                     [key], {});\n",
              "          if (!dataTable) return;\n",
              "\n",
              "          const docLinkHtml = 'Like what you see? Visit the ' +\n",
              "            '<a target=\"_blank\" href=https://colab.research.google.com/notebooks/data_table.ipynb>data table notebook</a>'\n",
              "            + ' to learn more about interactive tables.';\n",
              "          element.innerHTML = '';\n",
              "          dataTable['output_type'] = 'display_data';\n",
              "          await google.colab.output.renderOutput(dataTable, element);\n",
              "          const docLink = document.createElement('div');\n",
              "          docLink.innerHTML = docLinkHtml;\n",
              "          element.appendChild(docLink);\n",
              "        }\n",
              "      </script>\n",
              "    </div>\n",
              "  </div>\n",
              "  "
            ]
          },
          "metadata": {},
          "execution_count": 17
        }
      ]
    },
    {
      "cell_type": "code",
      "source": [
        "df['aspectsClass'].unique()"
      ],
      "metadata": {
        "id": "aMs1H-ugpHxM",
        "outputId": "ee2902e8-289f-4b21-e1b5-61baa6ca412d",
        "colab": {
          "base_uri": "https://localhost:8080/"
        }
      },
      "execution_count": null,
      "outputs": [
        {
          "output_type": "execute_result",
          "data": {
            "text/plain": [
              "array(['entrega', 'produto', 'funcionalidades', 'desempenho', 'peso',\n",
              "       'inicialização', 'design', 'usabilidade', 'conexão', 'tamanho',\n",
              "       'funcionamento', 'imagem', 'manuseio', 'instalação', 'resolução',\n",
              "       'configuração', 'conexão wifi', 'explorer', 'processamento',\n",
              "       'consumo', 'entrega, produto', 'entrega:produto',\n",
              "       'acesso a internet', 'estrutura', 'processador', 'som',\n",
              "       'velocidade', 'desgin', 'desempenho-', 'tv', 'produto-'],\n",
              "      dtype=object)"
            ]
          },
          "metadata": {},
          "execution_count": 18
        }
      ]
    },
    {
      "cell_type": "code",
      "source": [
        "df.loc[df[\"aspectsClass\"] == \"produto\", \"labels\"] = 0\n",
        "df.loc[df[\"aspectsClass\"] == \"entrega\", \"labels\"] = 1\n",
        "df.loc[df[\"aspectsClass\"] == \"imagem\", \"labels\"] = 2\n",
        "df.loc[df[\"aspectsClass\"] == \"desempenho\", \"labels\"] = 3\n",
        "df.loc[df[\"aspectsClass\"] == \"som\", \"labels\"] = 4"
      ],
      "metadata": {
        "id": "IOmnpHCZpFMh",
        "outputId": "94db9a31-225f-4204-e024-d56392847b5d",
        "colab": {
          "base_uri": "https://localhost:8080/"
        }
      },
      "execution_count": null,
      "outputs": [
        {
          "output_type": "stream",
          "name": "stderr",
          "text": [
            "/usr/local/lib/python3.7/dist-packages/pandas/core/indexing.py:1817: SettingWithCopyWarning: \n",
            "A value is trying to be set on a copy of a slice from a DataFrame.\n",
            "Try using .loc[row_indexer,col_indexer] = value instead\n",
            "\n",
            "See the caveats in the documentation: https://pandas.pydata.org/pandas-docs/stable/user_guide/indexing.html#returning-a-view-versus-a-copy\n",
            "  self._setitem_single_column(loc, value, pi)\n"
          ]
        }
      ]
    },
    {
      "cell_type": "code",
      "source": [
        "df_tst = df[df['labels'] != -1]\n",
        "df_tst.head(10)"
      ],
      "metadata": {
        "id": "j_3vrS7OpZBy",
        "outputId": "91978e90-967c-4237-f310-b70e83793f35",
        "colab": {
          "base_uri": "https://localhost:8080/",
          "height": 363
        }
      },
      "execution_count": null,
      "outputs": [
        {
          "output_type": "execute_result",
          "data": {
            "text/plain": [
              "                                                 text aspectsClass  labels\n",
              "0   Excelente smart tv. E foi entregue vem antes d...      entrega       1\n",
              "1   Imagem ótima recursos de web bons , recomendo ...      produto       0\n",
              "11  Todos os aparelhos samsung são de uma qualidad...      produto       0\n",
              "12  Atendeu todas as expectativas, recomendo Samsu...      produto       0\n",
              "13  Rapidez, Boa qualidade e preocupação em manter...   desempenho       3\n",
              "14  ÓTIMA IMAGEM, FÁCIL ACESSO À INTERNET COM WIFI...      produto       0\n",
              "18  Produto Não Deixa nada a desejar, exelente, go...      produto       0\n",
              "28  Produto excelente!! Recomendo produto alem de ...      entrega       1\n",
              "29  Recomendo, tem muitas funções praticas, o wi-f...      produto       0\n",
              "30  Maravilhosa.Chegou dentro do prazo estipulado,...      produto       0"
            ],
            "text/html": [
              "\n",
              "  <div id=\"df-a6a96276-6222-4867-87ad-cd20ce50e1bb\">\n",
              "    <div class=\"colab-df-container\">\n",
              "      <div>\n",
              "<style scoped>\n",
              "    .dataframe tbody tr th:only-of-type {\n",
              "        vertical-align: middle;\n",
              "    }\n",
              "\n",
              "    .dataframe tbody tr th {\n",
              "        vertical-align: top;\n",
              "    }\n",
              "\n",
              "    .dataframe thead th {\n",
              "        text-align: right;\n",
              "    }\n",
              "</style>\n",
              "<table border=\"1\" class=\"dataframe\">\n",
              "  <thead>\n",
              "    <tr style=\"text-align: right;\">\n",
              "      <th></th>\n",
              "      <th>text</th>\n",
              "      <th>aspectsClass</th>\n",
              "      <th>labels</th>\n",
              "    </tr>\n",
              "  </thead>\n",
              "  <tbody>\n",
              "    <tr>\n",
              "      <th>0</th>\n",
              "      <td>Excelente smart tv. E foi entregue vem antes d...</td>\n",
              "      <td>entrega</td>\n",
              "      <td>1</td>\n",
              "    </tr>\n",
              "    <tr>\n",
              "      <th>1</th>\n",
              "      <td>Imagem ótima recursos de web bons , recomendo ...</td>\n",
              "      <td>produto</td>\n",
              "      <td>0</td>\n",
              "    </tr>\n",
              "    <tr>\n",
              "      <th>11</th>\n",
              "      <td>Todos os aparelhos samsung são de uma qualidad...</td>\n",
              "      <td>produto</td>\n",
              "      <td>0</td>\n",
              "    </tr>\n",
              "    <tr>\n",
              "      <th>12</th>\n",
              "      <td>Atendeu todas as expectativas, recomendo Samsu...</td>\n",
              "      <td>produto</td>\n",
              "      <td>0</td>\n",
              "    </tr>\n",
              "    <tr>\n",
              "      <th>13</th>\n",
              "      <td>Rapidez, Boa qualidade e preocupação em manter...</td>\n",
              "      <td>desempenho</td>\n",
              "      <td>3</td>\n",
              "    </tr>\n",
              "    <tr>\n",
              "      <th>14</th>\n",
              "      <td>ÓTIMA IMAGEM, FÁCIL ACESSO À INTERNET COM WIFI...</td>\n",
              "      <td>produto</td>\n",
              "      <td>0</td>\n",
              "    </tr>\n",
              "    <tr>\n",
              "      <th>18</th>\n",
              "      <td>Produto Não Deixa nada a desejar, exelente, go...</td>\n",
              "      <td>produto</td>\n",
              "      <td>0</td>\n",
              "    </tr>\n",
              "    <tr>\n",
              "      <th>28</th>\n",
              "      <td>Produto excelente!! Recomendo produto alem de ...</td>\n",
              "      <td>entrega</td>\n",
              "      <td>1</td>\n",
              "    </tr>\n",
              "    <tr>\n",
              "      <th>29</th>\n",
              "      <td>Recomendo, tem muitas funções praticas, o wi-f...</td>\n",
              "      <td>produto</td>\n",
              "      <td>0</td>\n",
              "    </tr>\n",
              "    <tr>\n",
              "      <th>30</th>\n",
              "      <td>Maravilhosa.Chegou dentro do prazo estipulado,...</td>\n",
              "      <td>produto</td>\n",
              "      <td>0</td>\n",
              "    </tr>\n",
              "  </tbody>\n",
              "</table>\n",
              "</div>\n",
              "      <button class=\"colab-df-convert\" onclick=\"convertToInteractive('df-a6a96276-6222-4867-87ad-cd20ce50e1bb')\"\n",
              "              title=\"Convert this dataframe to an interactive table.\"\n",
              "              style=\"display:none;\">\n",
              "        \n",
              "  <svg xmlns=\"http://www.w3.org/2000/svg\" height=\"24px\"viewBox=\"0 0 24 24\"\n",
              "       width=\"24px\">\n",
              "    <path d=\"M0 0h24v24H0V0z\" fill=\"none\"/>\n",
              "    <path d=\"M18.56 5.44l.94 2.06.94-2.06 2.06-.94-2.06-.94-.94-2.06-.94 2.06-2.06.94zm-11 1L8.5 8.5l.94-2.06 2.06-.94-2.06-.94L8.5 2.5l-.94 2.06-2.06.94zm10 10l.94 2.06.94-2.06 2.06-.94-2.06-.94-.94-2.06-.94 2.06-2.06.94z\"/><path d=\"M17.41 7.96l-1.37-1.37c-.4-.4-.92-.59-1.43-.59-.52 0-1.04.2-1.43.59L10.3 9.45l-7.72 7.72c-.78.78-.78 2.05 0 2.83L4 21.41c.39.39.9.59 1.41.59.51 0 1.02-.2 1.41-.59l7.78-7.78 2.81-2.81c.8-.78.8-2.07 0-2.86zM5.41 20L4 18.59l7.72-7.72 1.47 1.35L5.41 20z\"/>\n",
              "  </svg>\n",
              "      </button>\n",
              "      \n",
              "  <style>\n",
              "    .colab-df-container {\n",
              "      display:flex;\n",
              "      flex-wrap:wrap;\n",
              "      gap: 12px;\n",
              "    }\n",
              "\n",
              "    .colab-df-convert {\n",
              "      background-color: #E8F0FE;\n",
              "      border: none;\n",
              "      border-radius: 50%;\n",
              "      cursor: pointer;\n",
              "      display: none;\n",
              "      fill: #1967D2;\n",
              "      height: 32px;\n",
              "      padding: 0 0 0 0;\n",
              "      width: 32px;\n",
              "    }\n",
              "\n",
              "    .colab-df-convert:hover {\n",
              "      background-color: #E2EBFA;\n",
              "      box-shadow: 0px 1px 2px rgba(60, 64, 67, 0.3), 0px 1px 3px 1px rgba(60, 64, 67, 0.15);\n",
              "      fill: #174EA6;\n",
              "    }\n",
              "\n",
              "    [theme=dark] .colab-df-convert {\n",
              "      background-color: #3B4455;\n",
              "      fill: #D2E3FC;\n",
              "    }\n",
              "\n",
              "    [theme=dark] .colab-df-convert:hover {\n",
              "      background-color: #434B5C;\n",
              "      box-shadow: 0px 1px 3px 1px rgba(0, 0, 0, 0.15);\n",
              "      filter: drop-shadow(0px 1px 2px rgba(0, 0, 0, 0.3));\n",
              "      fill: #FFFFFF;\n",
              "    }\n",
              "  </style>\n",
              "\n",
              "      <script>\n",
              "        const buttonEl =\n",
              "          document.querySelector('#df-a6a96276-6222-4867-87ad-cd20ce50e1bb button.colab-df-convert');\n",
              "        buttonEl.style.display =\n",
              "          google.colab.kernel.accessAllowed ? 'block' : 'none';\n",
              "\n",
              "        async function convertToInteractive(key) {\n",
              "          const element = document.querySelector('#df-a6a96276-6222-4867-87ad-cd20ce50e1bb');\n",
              "          const dataTable =\n",
              "            await google.colab.kernel.invokeFunction('convertToInteractive',\n",
              "                                                     [key], {});\n",
              "          if (!dataTable) return;\n",
              "\n",
              "          const docLinkHtml = 'Like what you see? Visit the ' +\n",
              "            '<a target=\"_blank\" href=https://colab.research.google.com/notebooks/data_table.ipynb>data table notebook</a>'\n",
              "            + ' to learn more about interactive tables.';\n",
              "          element.innerHTML = '';\n",
              "          dataTable['output_type'] = 'display_data';\n",
              "          await google.colab.output.renderOutput(dataTable, element);\n",
              "          const docLink = document.createElement('div');\n",
              "          docLink.innerHTML = docLinkHtml;\n",
              "          element.appendChild(docLink);\n",
              "        }\n",
              "      </script>\n",
              "    </div>\n",
              "  </div>\n",
              "  "
            ]
          },
          "metadata": {},
          "execution_count": 51
        }
      ]
    },
    {
      "cell_type": "code",
      "source": [
        "y_true = df_tst['labels']"
      ],
      "metadata": {
        "id": "i5wTilssr3bI"
      },
      "execution_count": null,
      "outputs": []
    },
    {
      "cell_type": "markdown",
      "source": [
        "## Avaliações com word2vec cbow_s50"
      ],
      "metadata": {
        "id": "JXf4jNF-tcbc"
      }
    },
    {
      "cell_type": "code",
      "source": [
        "GAMMA = .03\n",
        "N_ASPECT_WORDS = 200\n",
        "\n",
        "scores = defaultdict(dict)\n",
        "r = Reach.load(\"/content/cbow_s50.txt\",unk_word=\"<UNK>\")\n",
        "\n",
        "aspects = [[x] for x in json.load(open(\"/content/aspect_words.json\"))]\n",
        "aspects = aspects[:N_ASPECT_WORDS]\n",
        "instances = df_tst['text']\n",
        "# instances = [\"a comida estava deliciosa e muito bem temperada\".lower().split(), \n",
        "#               \"o atendimento estava incrível, recomendo demais\".lower().split(), \n",
        "#               \"um ambiente de otima qualidade\".lower().split(),\n",
        "#               \"o lugar é muito bem localizado\".lower().split(),\n",
        "#               \"achei o preco um pouco caro mas vale a pena\".lower().split()]\n",
        "#instances = df['text'][5:10]\n",
        "#print(instances)\n",
        "label_set = ['produto', 'entrega', 'imagem', 'desempenho', 'som']\n",
        "#[i.lower().split() for i in instances]\n",
        "s = get_scores([i.lower().split() for i in instances],\n",
        "               aspects,\n",
        "               r,\n",
        "               label_set,\n",
        "               gamma=GAMMA,\n",
        "               remove_oov=False,\n",
        "               attention_func=rbf_attention)\n",
        "\n",
        "y_pred = s.argmax(1)\n",
        "#print(s)\n",
        "print(y_pred)"
      ],
      "metadata": {
        "id": "PuC867J3tKI6",
        "outputId": "d16d05f5-d9cb-4490-91ba-6641e2bdec9d",
        "colab": {
          "base_uri": "https://localhost:8080/"
        }
      },
      "execution_count": null,
      "outputs": [
        {
          "output_type": "stream",
          "name": "stdout",
          "text": [
            "[1 2 4 1 2 4 1 0 4 4 0 0 0 4 1 4 0 0 1 4 2 1 2 0 0 1 4 0 2 2 4 4 4 2 4 1 4\n",
            " 2 1 3 4 4 4 0 4 2 1 0 0 4 0 4 0 2 2 1 0 4 4 4 2 0 4 1 0 4 4 4 0 4 0 4 4 4\n",
            " 1 2 1 2 3 4 1 4 4 4 4 4 0 0 4 4 4 0 0 2 4 4 4 4 4 4 1 1 1 4 2 4 1 4 1 4 4\n",
            " 3 4 3 0 2 4 0 1 1 2 4 1 4 4 4 2 1 4 4 4 4 3 1 2 4 4 2 4 1 2 1 1 2 0 4 4 3\n",
            " 4 0 0 4 4 3 1 2 2 2 4 4 0 4 4 0 1 0 4 1 0 4 4 1 0 4 4 1 1 1 0 2 4 2 1 1 0\n",
            " 4 1 4 0 0 4 1 2 1 4 4 4 4 4 0 4 4 0 4 0 4 4 1 0 4 4 0 4 2 0 4 1 4 4 1 4 2\n",
            " 1 0 1 0 2 2 4 3 4 2 0 1 0 2 1 4 2 4 2 0 4 4 4 0 0 2 0 0 1 0 0 4 4 4 0 2 4\n",
            " 4 2 4 4 1 4 4 4 4 4 4 2 0 1 2 4 4 0 4 2 2 2 4 4 2 1 2 4 0 4 4 2 1 4 4 1 0\n",
            " 1 4 0 4 4 4 0 0 2 0 4 2 4 0 0 2 4 1 2 0 2 2 4 4 4 0 4 4 4 4 2 4 4 1 4 4 2\n",
            " 1 4 2 2 0 4 0 0 4 4 4 2 1 4 4 1 0 4 4 4 0 4 0 1 3 1 4 4 0 4 4 2 1 4 2 1 2\n",
            " 4 4 4 0 4 0 3 4 1 4 0 0 4 2 2 4 4 4 0 1 4 1 2 4 4 1 4 2 4 4 4 1 4 2 2 4 0\n",
            " 4 4 4 4 4 2 2 3 4 4 1 4 4 4 4 2 2 4 4 0 1 4 2 1 4 0 4 2 4 4 4 4 2 2 1 4 4\n",
            " 0 4 4 3 0 0 4 2 0 4 4 0 4 4 4 4 4 4 4 4 4 4 4 4 4 4 4 4 4 4 4 4 4 0 4 4 4\n",
            " 4 2 4 4]\n"
          ]
        }
      ]
    },
    {
      "cell_type": "code",
      "source": [
        "accuracy_score(y_true, y_pred)"
      ],
      "metadata": {
        "id": "osKosVY4s73k",
        "outputId": "64ecb6b0-90e5-4fd8-8e8b-46dff603c1ec",
        "colab": {
          "base_uri": "https://localhost:8080/"
        }
      },
      "execution_count": null,
      "outputs": [
        {
          "output_type": "execute_result",
          "data": {
            "text/plain": [
              "0.17938144329896907"
            ]
          },
          "metadata": {},
          "execution_count": 47
        }
      ]
    },
    {
      "cell_type": "code",
      "source": [
        "print(classification_report(y_true, y_pred,target_names=label_set,zero_division=1))"
      ],
      "metadata": {
        "id": "yRjBduwermeC",
        "outputId": "b41e0ee8-bc40-47eb-abac-8186412d015a",
        "colab": {
          "base_uri": "https://localhost:8080/"
        }
      },
      "execution_count": null,
      "outputs": [
        {
          "output_type": "stream",
          "name": "stdout",
          "text": [
            "              precision    recall  f1-score   support\n",
            "\n",
            "     produto       0.69      0.17      0.27       360\n",
            "     entrega       0.35      0.25      0.29       102\n",
            "      imagem       0.00      0.00      0.00         3\n",
            "  desempenho       0.00      0.00      0.00        19\n",
            "         som       0.00      1.00      0.01         1\n",
            "\n",
            "    accuracy                           0.18       485\n",
            "   macro avg       0.21      0.28      0.11       485\n",
            "weighted avg       0.59      0.18      0.26       485\n",
            "\n"
          ]
        }
      ]
    },
    {
      "cell_type": "markdown",
      "source": [
        "## Avaliações com o my_word_vectors gerado"
      ],
      "metadata": {
        "id": "3-fME-FStl0X"
      }
    },
    {
      "cell_type": "code",
      "source": [
        "GAMMA = .03\n",
        "N_ASPECT_WORDS = 200\n",
        "\n",
        "scores = defaultdict(dict)\n",
        "r = Reach.load(\"/content/my_word_vectors.vec\",unk_word=\"<UNK>\")\n",
        "\n",
        "aspects = [[x] for x in json.load(open(\"/content/aspect_words.json\"))]\n",
        "aspects = aspects[:N_ASPECT_WORDS]\n",
        "instances = df_tst['text']\n",
        "# instances = [\"a comida estava deliciosa e muito bem temperada\".lower().split(), \n",
        "#               \"o atendimento estava incrível, recomendo demais\".lower().split(), \n",
        "#               \"um ambiente de otima qualidade\".lower().split(),\n",
        "#               \"o lugar é muito bem localizado\".lower().split(),\n",
        "#               \"achei o preco um pouco caro mas vale a pena\".lower().split()]\n",
        "#instances = df['text'][5:10]\n",
        "#print(instances)\n",
        "label_set = ['produto', 'entrega', 'imagem', 'desempenho', 'som']\n",
        "#[i.lower().split() for i in instances]\n",
        "s = get_scores([i.lower().split() for i in instances],\n",
        "               aspects,\n",
        "               r,\n",
        "               label_set,\n",
        "               gamma=GAMMA,\n",
        "               remove_oov=False,\n",
        "               attention_func=rbf_attention)\n",
        "\n",
        "y_pred = s.argmax(1)\n",
        "#print(s)\n",
        "print(y_pred)"
      ],
      "metadata": {
        "id": "lKUKQLu6tpKm",
        "outputId": "6fe88fcd-2a45-4ca6-f10b-f8bd0c1e0756",
        "colab": {
          "base_uri": "https://localhost:8080/"
        }
      },
      "execution_count": null,
      "outputs": [
        {
          "output_type": "stream",
          "name": "stdout",
          "text": [
            "['produto', 'entrega', 'imagem', 'desempenho', 'som']\n",
            "[2 2 2 2 2 4 0 0 2 2 0 2 0 2 2 4 0 2 2 2 2 0 4 2 0 2 2 0 2 2 4 2 2 2 2 4 2\n",
            " 2 1 0 2 2 0 0 2 0 0 2 0 2 2 4 2 2 0 2 0 2 2 2 2 2 4 0 2 2 2 2 0 2 2 0 2 2\n",
            " 2 2 1 2 0 2 0 2 2 2 2 2 2 0 0 4 2 0 2 2 2 2 2 2 2 4 0 0 0 4 2 2 2 2 2 4 2\n",
            " 4 2 0 2 2 2 2 0 2 2 2 2 2 2 2 2 0 2 2 2 2 2 2 2 4 2 2 2 2 2 2 2 2 0 4 4 2\n",
            " 2 2 0 2 2 4 1 2 0 2 2 2 2 4 2 2 0 0 2 1 2 2 2 2 2 2 2 4 0 2 2 4 2 2 0 2 0\n",
            " 2 4 2 2 2 2 2 2 2 2 4 2 2 2 0 2 0 0 0 2 2 4 2 2 0 2 0 2 2 0 0 2 2 2 0 2 2\n",
            " 0 0 2 0 2 2 2 2 4 2 0 2 2 2 0 0 4 0 0 0 2 4 2 0 2 2 0 2 2 4 2 2 2 2 2 2 2\n",
            " 2 2 2 2 2 2 2 2 4 4 0 2 2 0 2 2 0 0 4 2 2 2 4 4 2 2 2 2 2 2 2 2 1 2 4 2 0\n",
            " 2 2 0 2 2 2 2 0 4 2 2 2 2 0 0 2 2 2 2 2 2 2 4 4 4 2 2 2 2 2 0 4 2 2 2 2 2\n",
            " 2 2 2 2 2 2 0 0 0 2 4 2 0 2 0 2 0 2 0 2 0 4 0 2 2 0 2 2 2 4 0 0 2 4 0 0 2\n",
            " 0 0 2 2 2 0 2 4 2 2 0 0 2 2 2 2 2 2 2 0 2 2 2 4 2 2 4 2 2 2 2 2 2 2 2 2 2\n",
            " 2 2 2 2 2 2 2 2 2 2 2 2 2 4 2 2 4 2 2 2 2 2 2 2 2 2 4 2 4 2 2 2 2 2 4 2 4\n",
            " 2 2 2 2 2 4 2 2 2 2 2 2 2 2 2 4 2 2 2 2 2 4 4 2 2 2 2 4 2 2 2 2 2 2 2 2 2\n",
            " 2 2 2 2]\n"
          ]
        }
      ]
    },
    {
      "cell_type": "code",
      "source": [
        "accuracy_score(y_true, y_pred)"
      ],
      "metadata": {
        "id": "_p2-PDUZs_RG",
        "outputId": "f35fa609-6848-42e5-9160-a9b3898bf2f4",
        "colab": {
          "base_uri": "https://localhost:8080/"
        }
      },
      "execution_count": null,
      "outputs": [
        {
          "output_type": "execute_result",
          "data": {
            "text/plain": [
              "0.09896907216494845"
            ]
          },
          "metadata": {},
          "execution_count": 42
        }
      ]
    },
    {
      "cell_type": "code",
      "source": [
        "print(classification_report(y_true, y_pred,target_names=label_set,zero_division=1))"
      ],
      "metadata": {
        "id": "J8D-8ByZsGOK",
        "outputId": "a3c5bfc2-972f-455d-d741-3165440e30bb",
        "colab": {
          "base_uri": "https://localhost:8080/"
        }
      },
      "execution_count": null,
      "outputs": [
        {
          "output_type": "stream",
          "name": "stdout",
          "text": [
            "              precision    recall  f1-score   support\n",
            "\n",
            "     produto       0.52      0.13      0.21       360\n",
            "     entrega       0.00      0.00      0.00       102\n",
            "      imagem       0.01      0.67      0.01         3\n",
            "  desempenho       1.00      0.00      0.00        19\n",
            "         som       0.00      0.00      0.00         1\n",
            "\n",
            "    accuracy                           0.10       485\n",
            "   macro avg       0.31      0.16      0.04       485\n",
            "weighted avg       0.43      0.10      0.15       485\n",
            "\n"
          ]
        }
      ]
    },
    {
      "cell_type": "markdown",
      "source": [
        "# Funções auxiliares"
      ],
      "metadata": {
        "id": "evcEBvNym-vT"
      }
    },
    {
      "cell_type": "code",
      "source": [
        "with open('/content/restaurant_textos.txt ', 'w') as textfile:\n",
        "  textfile.write(\"\\n\".join(str(item) for item in sentences))\n",
        "textfile.close()"
      ],
      "metadata": {
        "id": "80CDAKu_u-oC"
      },
      "execution_count": null,
      "outputs": []
    },
    {
      "cell_type": "code",
      "source": [
        "with open('/content/corpus.txt ', 'w') as textfile:\n",
        "  for item in corpus:\n",
        "    textfile.write(str(item))\n",
        "textfile.close()"
      ],
      "metadata": {
        "id": "r4uVk8_RaAhb"
      },
      "execution_count": null,
      "outputs": []
    },
    {
      "cell_type": "code",
      "source": [
        "import numpy as np\n",
        "import matplotlib\n",
        "import matplotlib.pyplot as plt\n",
        "\n",
        "def colorize(words, color_array):\n",
        "    cmap=matplotlib.cm.Blues\n",
        "    template = '<span class=\"barcode\"; style=\"color: black; background-color: {}\">{}</span>'\n",
        "    colored_string = ''\n",
        "    for word, color in zip(words, color_array):\n",
        "        color = matplotlib.colors.rgb2hex(cmap(color))\n",
        "        print(color)\n",
        "        colored_string += template.format(color, '&nbsp' + word + '&nbsp')\n",
        "    return colored_string\n",
        "\n",
        "words = instances[0]#['um', 'ambiente', 'de', 'ótima', 'qualidade']\n",
        "color_array = atts[0][0]\n",
        "\n",
        "print(color_array)\n",
        "s = colorize(words, color_array)\n",
        "\n",
        "# or simply save in an html file and open in browser\n",
        "with open('/content/colorize.html', 'w') as f:\n",
        "    f.write(s)"
      ],
      "metadata": {
        "id": "KMhjTzsax5f-",
        "outputId": "284f5ff5-c458-4594-bfc1-96a36d024caf",
        "colab": {
          "base_uri": "https://localhost:8080/"
        }
      },
      "execution_count": null,
      "outputs": [
        {
          "output_type": "stream",
          "name": "stdout",
          "text": [
            "[0.1934354  0.19726068 0.19610389 0.20825753 0.20494252]\n",
            "#d1e2f3\n",
            "#d0e2f2\n",
            "#d0e2f2\n",
            "#cee0f2\n",
            "#cfe1f2\n"
          ]
        }
      ]
    }
  ]
}