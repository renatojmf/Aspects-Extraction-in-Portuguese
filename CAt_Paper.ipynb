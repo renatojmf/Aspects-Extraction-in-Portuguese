{
  "nbformat": 4,
  "nbformat_minor": 0,
  "metadata": {
    "colab": {
      "name": "CAt_Paper.ipynb",
      "provenance": [],
      "collapsed_sections": [
        "evcEBvNym-vT"
      ],
      "mount_file_id": "17jQSehKdHVEbJ2x04P5J7AGoYSwhWf3w",
      "authorship_tag": "ABX9TyMrn60ps4xkspWhlBjANdOn",
      "include_colab_link": true
    },
    "kernelspec": {
      "name": "python3",
      "display_name": "Python 3"
    },
    "language_info": {
      "name": "python"
    }
  },
  "cells": [
    {
      "cell_type": "markdown",
      "metadata": {
        "id": "view-in-github",
        "colab_type": "text"
      },
      "source": [
        "<a href=\"https://colab.research.google.com/github/renatojmf/Aspects-Extraction-in-Portuguese/blob/main/CAt_Paper.ipynb\" target=\"_parent\"><img src=\"https://colab.research.google.com/assets/colab-badge.svg\" alt=\"Open In Colab\"/></a>"
      ]
    },
    {
      "cell_type": "markdown",
      "source": [
        "# Pré-Processamento"
      ],
      "metadata": {
        "id": "8ZILJBwumuW5"
      }
    },
    {
      "cell_type": "code",
      "source": [
        "! pip install stanza"
      ],
      "metadata": {
        "id": "geCiM4qeraYT"
      },
      "execution_count": null,
      "outputs": []
    },
    {
      "cell_type": "code",
      "source": [
        "! pip install spacy_conll"
      ],
      "metadata": {
        "id": "4LPb75K6PRug"
      },
      "execution_count": null,
      "outputs": []
    },
    {
      "cell_type": "code",
      "source": [
        "from google.colab import files\n",
        "uploaded = files.upload()"
      ],
      "metadata": {
        "id": "EWUZB06RriB1",
        "outputId": "0865d999-f27b-4280-96b5-e87447f13679",
        "colab": {
          "resources": {
            "http://localhost:8080/nbextensions/google.colab/files.js": {
              "data": "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",
              "ok": true,
              "headers": [
                [
                  "content-type",
                  "application/javascript"
                ]
              ],
              "status": 200,
              "status_text": ""
            }
          },
          "base_uri": "https://localhost:8080/",
          "height": 73
        }
      },
      "execution_count": 27,
      "outputs": [
        {
          "output_type": "display_data",
          "data": {
            "text/plain": [
              "<IPython.core.display.HTML object>"
            ],
            "text/html": [
              "\n",
              "     <input type=\"file\" id=\"files-77f6827b-ea84-40ac-93d7-2ed6710abc0a\" name=\"files[]\" multiple disabled\n",
              "        style=\"border:none\" />\n",
              "     <output id=\"result-77f6827b-ea84-40ac-93d7-2ed6710abc0a\">\n",
              "      Upload widget is only available when the cell has been executed in the\n",
              "      current browser session. Please rerun this cell to enable.\n",
              "      </output>\n",
              "      <script src=\"/nbextensions/google.colab/files.js\"></script> "
            ]
          },
          "metadata": {}
        },
        {
          "output_type": "stream",
          "name": "stdout",
          "text": [
            "Saving reli.csv to reli.csv\n"
          ]
        }
      ]
    },
    {
      "cell_type": "code",
      "source": [
        "import stanza as st\n",
        "import pandas as pd\n",
        "st.download('pt') # download pt model\n",
        "nlp = st.Pipeline('pt') # initialize pt neural pipeline\n",
        "df = pd.read_csv('/content/reli.csv',sep=';')"
      ],
      "metadata": {
        "id": "ioHfeaFORVPo"
      },
      "execution_count": null,
      "outputs": []
    },
    {
      "cell_type": "code",
      "source": [
        "#passar apenas os textos/frases para a função\n",
        "def getCoNLLU(df):\n",
        "  dicts = []\n",
        "  for texto in df:\n",
        "    doc = nlp(texto) # doc is class Document\n",
        "    dicts.append(doc.to_dict())\n",
        "\n",
        "  return dicts"
      ],
      "metadata": {
        "id": "1XFmLRUfOeeR"
      },
      "execution_count": 30,
      "outputs": []
    },
    {
      "cell_type": "code",
      "source": [
        "dicts = getCoNLLU(df['text'])\n",
        "\n",
        "saida = ''\n",
        "for sentenca in dicts[0:2]:\n",
        "  for tokens in sentenca:\n",
        "    for tks in tokens:\n",
        "      for tag in tks:\n",
        "        #print(\"tag:\" ,tag)\n",
        "        saida += str(tks[tag])  + \"\\t\"\n",
        "      saida +=\"\\n\"\n",
        "    saida +=\"\\n\"\n",
        "  saida +=\"\\n\"\n",
        "\n",
        "\n",
        "print(saida)"
      ],
      "metadata": {
        "colab": {
          "base_uri": "https://localhost:8080/"
        },
        "id": "-HC4fYHJShhY",
        "outputId": "9b2f36ba-f535-4404-f727-f08b9f468959"
      },
      "execution_count": 31,
      "outputs": [
        {
          "output_type": "stream",
          "name": "stderr",
          "text": [
            "/usr/local/lib/python3.7/dist-packages/stanza/models/common/beam.py:86: UserWarning: __floordiv__ is deprecated, and its behavior will change in a future version of pytorch. It currently rounds toward 0 (like the 'trunc' function NOT 'floor'). This results in incorrect rounding for negative values. To keep the current behavior, use torch.div(a, b, rounding_mode='trunc'), or for actual floor division, use torch.div(a, b, rounding_mode='floor').\n",
            "  prevK = bestScoresId // numWords\n"
          ]
        },
        {
          "output_type": "stream",
          "name": "stdout",
          "text": [
            "1\t0\t0\tNUM\tNumType=Card\t0\troot\t0\t1\t\n",
            "\n",
            "\n",
            "1\tAinda\tainda\tADV\t5\tcc\t0\t5\t\n",
            "2\tassim\tassim\tADV\t1\tfixed\t6\t11\t\n",
            "3\tnao\tnao\tADV\t5\tadvmod\t12\t15\t\n",
            "4\tme\teu\tPRON\tCase=Acc|Number=Sing|Person=1|PronType=Prs\t5\tobj\t16\t18\t\n",
            "5\tapaixonei\tapaixonar\tVERB\tMood=Ind|Number=Sing|Person=1|Tense=Past|VerbForm=Fin\t0\troot\t19\t28\t\n",
            "6\tmuito\tmuito\tADV\t5\tadvmod\t29\t34\t\n",
            "7\tpor\tpor\tADP\t9\tcase\t35\t38\t\n",
            "8\to\to\tDET\tDefinite=Def|Gender=Masc|Number=Sing|PronType=Art\t9\tdet\t39\t40\t\n",
            "9\tlivro\tlivro\tNOUN\tGender=Masc|Number=Sing\t5\tobl\t41\t46\t\n",
            "10\t.\t.\tPUNCT\t5\tpunct\t47\t48\t\n",
            "\n",
            "\n",
            "\n"
          ]
        }
      ]
    },
    {
      "cell_type": "code",
      "source": [
        "def getNouns():\n",
        "  for sentenca in dicts:\n",
        "    for tokens in sentenca:\n",
        "      for tks in tokens:\n",
        "        for tag in tks:\n",
        "          if tks[tag] == 'NOUN':\n",
        "            yield (tks['text'].lower())\n",
        "          "
      ],
      "metadata": {
        "id": "S-KR80K2b-_r"
      },
      "execution_count": 34,
      "outputs": []
    },
    {
      "cell_type": "code",
      "source": [
        "from collections import Counter, defaultdict\n",
        "import json\n",
        "\n",
        "c = Counter()\n",
        "c.update(getNouns())\n",
        "nouns = getNouns()\n",
        "print(c)\n",
        "\n",
        "json.dump(dict(c), open('/content/nouns.json', 'w'))"
      ],
      "metadata": {
        "colab": {
          "base_uri": "https://localhost:8080/"
        },
        "id": "kvIBBN1CbwkA",
        "outputId": "9dea7adc-63f6-4856-ad1c-a0fb7a301e7e"
      },
      "execution_count": 35,
      "outputs": [
        {
          "output_type": "stream",
          "name": "stdout",
          "text": [
            "Counter({'livro': 1243, 'historia': 419, 'leitura': 182, 'personagens': 150, 'romance': 112, 'personagem': 92, 'livros': 91, 'final': 83, 'obra': 81, 'vida': 80, 'mundo': 74, 'vezes': 72, 'narrativa': 70, 'tempo': 69, 'forma': 68, 'fim': 66, 'amor': 65, 'autor': 55, 'leitor': 54, 'comeco': 53, 'trama': 48, 'paginas': 45, 'anos': 44, 'coisas': 44, 'parte': 43, 'vampiros': 43, 'realidade': 41, 'atencao': 41, 'enredo': 41, 'filme': 41, 'inicio': 40, 'vampiro': 40, 'historias': 39, 'pessoas': 39, 'fato': 37, 'ponto': 33, 'coisa': 33, 'autora': 33, 'literatura': 32, 'verdade': 31, 'linguagem': 30, 'mae': 30, 'opiniao': 30, 'meninos': 29, 'pena': 29, 'sociedade': 29, 'meio': 29, 'protagonista': 29, 'gente': 27, 'familia': 27, 'saga': 27, 'maneira': 27, 'vez': 27, 'tipo': 26, 'momento': 25, 'duvida': 25, 'ideia': 25, 'acao': 25, 'suspense': 25, 'garota': 24, 'pai': 23, 'lado': 23, 'certeza': 23, 'momentos': 23, 'serie': 23, 'detalhes': 22, 'jeito': 22, 'palavras': 22, 'escrita': 22, 'partes': 22, 'estoria': 21, 'texto': 21, 'pontos': 21, 'adolescente': 21, 'pagina': 21, 'capitulo': 20, 'modo': 20, 'pessoa': 20, 'dia': 19, 'ensaio': 19, 'olhos': 18, 'epoca': 18, 'dialogos': 18, 'causa': 17, 'personalidade': 17, 'le': 17, 'vontade': 17, 'cenas': 16, 'criancas': 16, 'dias': 16, 'menos': 16, 'leitores': 16, 'metade': 16, 'relacao': 16, 'mulher': 16, 'cegueira': 16, 'rua': 15, 'contrario': 15, 'gosto': 15, 'adolescentes': 15, 'coracao': 14, 'sentimentos': 14, 'estilo': 14, 'ritmo': 14, 'escola': 14, 'poder': 14, 'cada': 14, 'areia': 13, 'grupo': 13, 'tema': 13, 'capitulos': 13, 'garotos': 12, 'menina': 12, 'maioria': 12, 'cara': 12, 'mente': 12, 'lugar': 12, 'medo': 12, 'situacoes': 12, 'adolescencia': 12, 'frases': 12, 'fa': 12, 'obras': 12, 'nome': 11, 'capitaes': 11, 'carinho': 11, 'falta': 11, 'situacao': 11, 'aventuras': 11, 'duvidas': 11, 'entanto': 11, 'reviravoltas': 11, 'crepusculo': 11, 'mensagem': 11, 'filha': 11, 'classico': 10, 'jovens': 10, 'exemplo': 10, 'folego': 10, 'ideias': 10, 'roubos': 10, 'problema': 10, 'seculo': 10, 'visao': 10, 'curiosidade': 10, 'respeito': 10, 'futuro': 10, 'impressao': 10, 'vista': 9, 'riqueza': 9, 'hora': 9, 'passagens': 9, 'prazer': 9, 'problemas': 9, 'tanto': 9, 'fatos': 9, 'perfeicao': 9, 'qualidade': 9, 'pensamentos': 9, 'critica': 9, 'assunto': 9, 'liberdade': 9, 'paixao': 9, 'sentido': 9, 'ficcao': 9, 'fantasia': 9, 'vocabulario': 9, 'humor': 9, 'reflexao': 9, 'homem': 9, 'ser': 9, 'paragrafos': 9, 'casa': 8, 'governo': 8, 'jovem': 8, 'romances': 8, 'caso': 8, 'odio': 8, 'escritor': 8, 'desenrolar': 8, 'lista': 8, 'emocao': 8, 'sol': 8, 'so': 8, 'menino': 8, 'palavra': 8, 'melhor': 8, 'defeitos': 8, 'geracoes': 8, 'titulo': 8, 'temas': 8, 'estrelas': 8, 'sentimento': 8, 'apanhador': 8, 'portugues': 8, 'heroina': 8, 'horas': 7, 'resenha': 7, 'destaque': 7, 'caracteristicas': 7, 'parecer': 7, 'amigos': 7, 'ruas': 7, 'informacoes': 7, 'tom': 7, 'professor': 7, 'cidade': 7, 'estado': 7, 'memoria': 7, 'mistura': 7, 'ar': 7, 'conta': 7, 'narracao': 7, 'misterio': 7, 'escritora': 7, 'seres': 7, 'graca': 7, 'qualidades': 7, 'amiga': 7, 'sucesso': 7, 'namorado': 7, 'classicos': 7, 'tempos': 7, 'exagero': 7, 'politica': 7, 'questao': 7, 'alma': 6, 'estante': 6, 'pais': 6, 'semana': 6, 'vidas': 6, 'acontecimentos': 6, 'preconceito': 6, 'vinganca': 6, 'dramas': 6, 'conflitos': 6, 'aventura': 6, 'geral': 6, 'personalidades': 6, 'desejo': 6, 'sombra': 6, 'sexo': 6, 'drama': 6, 'trabalho': 6, 'experiencia': 6, 'ano': 6, 'comportamento': 6, 'mal': 6, 'forca': 6, 'sal': 6, 'atracao': 6, 'humana': 6, 'filmes': 6, 'conteudo': 6, 'sangue': 6, 'acucar': 6, 'casal': 6, 'mao': 6, 'descricao': 6, 'criticas': 6, 'sensacao': 6, 'meninas': 6, 'falas': 6, 'cinema': 6, 'melhores': 6, 'universo': 6, 'objetivo': 6, 'emocoes': 6, 'humanidade': 6, 'frente': 6, 'controle': 6, 'angustia': 6, 'trechos': 6, 'aspectos': 6, 'campo': 6, 'centeio': 6, 'leituras': 5, 'agua': 5, 'motivo': 5, 'autores': 5, 'crimes': 5, 'percepcao': 5, 'trapiche': 5, 'diferenca': 5, 'questionamentos': 5, 'abandono': 5, 'sensibilidade': 5, 'cenario': 5, 'criaturas': 5, 'sinopse': 5, 'atitudes': 5, 'morte': 5, 'atraves': 5, 'garoto': 5, 'bem': 5, 'longo': 5, 'paragrafo': 5, 'desenvolvimento': 5, 'linha': 5, 'perigo': 5, 'fas': 5, 'publico': 5, 'relacionamento': 5, 'colecao': 5, 'adaptacao': 5, 'idade': 5, 'cabeca': 5, 'gostinho': 5, 'entendimento': 5, 'beleza': 5, 'versao': 5, 'homens': 5, 'dialogo': 5, 'genero': 5, 'descricoes': 5, 'inves': 5, 'surpresas': 5, 'sequencia': 5, 'expectativa': 5, 'comentarios': 5, 'sistema': 5, 'desfecho': 5, 'essencia': 5, 'filosofia': 5, 'caminho': 5, 'contexto': 5, 'licao': 5, 'reverso': 5, 'medalha': 5, 'noite': 4, 'protagonistas': 4, 'medos': 4, 'sonhos': 4, 'face': 4, 'voz': 4, 'povo': 4, 'carater': 4, 'narrador': 4, 'obrigacao': 4, 'realismo': 4, 'toque': 4, 'cima': 4, 'girias': 4, 'retrato': 4, 'compreensao': 4, 'opniao': 4, 'questoes': 4, 'lider': 4, 'surpresa': 4, 'vergonha': 4, 'sede': 4, 'papel': 4, 'd': 4, 'maos': 4, 'raiva': 4, 'imagem': 4, 'prosa': 4, 'tristeza': 4, 'inteligencia': 4, 'extremo': 4, 'preferido': 4, 'resultado': 4, 'angustias': 4, 'juventude': 4, 'detalhe': 4, 'conto': 4, 'fadas': 4, 'elementos': 4, 'luta': 4, 'mocinha': 4, 'senso': 4, 'amizade': 4, 'volta': 4, 'sobrenatural': 4, 'cliche': 4, 'rosto': 4, 'corpo': 4, 'continuacao': 4, 'capacidade': 4, 'terror': 4, 'erros': 4, 'novo': 4, 'terra': 4, 'favor': 4, 'legal': 4, 'favorito': 4, 'favoritos': 4, 'cliches': 4, 'alerta': 4, 'partido': 4, 'intencao': 4, 'guerra': 4, 'climax': 4, 'periodo': 4, 'significado': 4, 'relacoes': 4, 'expectativas': 4, 'mestre': 4, 'fases': 4, 'relacionamentos': 4, 'maes': 4, 'adjetivos': 4, 'professores': 4, 'caos': 4, 'cegos': 4, 'tramas': 4, 'mulheres': 4, 'meia-noite': 4, 'planos': 4, 'amanha': 4, 'cadeia': 4, 'ladra': 4, 'figuras': 3, 'conceito': 3, 'quao': 3, 'voces': 3, 'crianca': 3, 'imagens': 3, 'violencia': 3, 'filosofias': 3, 'aparencia': 3, 'figura': 3, 'casos': 3, 'injusticas': 3, 'tona': 3, 'oportunidade': 3, 'comida': 3, 'merito': 3, 'encanto': 3, 'linguajar': 3, 'diferencas': 3, 'suma': 3, 'repeticao': 3, 'milhares': 3, 'sorte': 3, 'acoes': 3, 'dona': 3, 'destino': 3, 'especie': 3, 'obra-prima': 3, 'objeto': 3, 'passagem': 3, 'fundo': 3, 'breve': 3, 'rotina': 3, 'paixoes': 3, 'certo': 3, 'arte': 3, 'cotidiano': 3, 'elemento': 3, 'incertezas': 3, 'hipotese': 3, 'clima': 3, 'cenarios': 3, 'teorias': 3, 'animais': 3, 'interesse': 3, 'magia': 3, 'bella': 3, 'nota': 3, 'cerebro': 3, 'best-seller': 3, 'regras': 3, 'minimo': 3, 'estrutura': 3, 'real': 3, 'coragem': 3, 'volume': 3, 'sensacoes': 3, 'chegada': 3, 'uso': 3, 'paciencia': 3, 'quesito': 3, 'aspecto': 3, 'nao': 3, 'capa': 3, 'criatividade': 3, 'modinha': 3, 'imaginacao': 3, 'lendas': 3, 'tarde': 3, 'cronicas': 3, 'busca': 3, 'fama': 3, 'edward': 3, 'foco': 3, 'redor': 3, 'entrada': 3, 'massa': 3, 'amizades': 3, 'serio': 3, 'diferencial': 3, 'thriller': 3, 'misterios': 3, 'vilao': 3, 'lugares': 3, 'ausencia': 3, 'pensamento': 3, 'facilidade': 3, 'meses': 3, 'linhas': 3, 'charme': 3, 'passado': 3, 'ditaduras': 3, 'passo': 3, 'nivel': 3, 'populacao': 3, 'trecho': 3, 'forcado': 3, 'estomago': 3, 'condicao': 3, 'agonia': 3, 'genio': 3, 'show': 3, 'importancia': 3, 'discussoes': 3, 'preferidos': 3, 'amigas': 3, 'risadas': 3, 'inocencia': 3, 'angela': 3, 'fase': 3, 'filhos': 3, 'viagem': 3, 'cheia': 3, 'trajetoria': 3, 'lixo': 3, 'separacao': 3, 'mesmo': 3, 'leis': 3, 'medico': 3, 'pontuacao': 3, 'acordo': 3, 'objetivos': 3, 'sidney': 3, 'crime': 3, 'reviravolta': 3, 'vigarista': 3, 'heroinas': 3, 'pavor': 2, 'amadurecimento': 2, 'colegio': 2, 'aperto': 2, 'nacao': 2, 'revolucionarios': 2, 'oprimidos': 2, 'formas': 2, 'razao': 2, 'habito': 2, 'impacto': 2, 'mazelas': 2, 'estorias': 2, 'profundidade': 2, 'bonito': 2, 'culturas': 2, 'religioes': 2, 'pobres': 2, 'protesto': 2, 'marcas': 2, 'agilidade': 2, 'apelido': 2, 'apelidos': 2, 'referencial': 2, 'fome': 2, 'autoridades': 2, 'revoltas': 2, 'discussao': 2, 'artimanhas': 2, 'familias': 2, 'torno': 2, 'descobertas': 2, 'sexualidade': 2, 'sentimentalismo': 2, 'menores': 2, 'ingredientes': 2, 'desigualdade': 2, 'paz': 2, 'objetos': 2, 'traco': 2, 'criminosos': 2, 'ai': 2, 'costume': 2, 'camadas': 2, 'revolta': 2, 'maestria': 2, 'solidao': 2, 'marco': 2, 'religioso': 2, 'lancamento': 2, 'presenca': 2, 'padrinho': 2, 'tras': 2, 'motivacoes': 2, 'dilema': 2, 'pano': 2, 'receita': 2, 'referencias': 2, 'escolas': 2, 'dores': 2, 'alegrias': 2, 'existencia': 2, 'tamanho': 2, 'desventuras': 2, 'dificuldades': 2, 'sugestao': 2, 'experiencias': 2, 'pe': 2, 'vivencias': 2, 'ja': 2, 'mesmos': 2, 'romancezinho': 2, 'sexos': 2, 'pag': 2, 'menininhas': 2, 'meritos': 2, 'companhia': 2, 'excelente': 2, 'utopia': 2, 'humanos': 2, 'alimento': 2, 'direito': 2, 'expressao': 2, 'segredos': 2, 'insistencia': 2, 'dica': 2, 'excesso': 2, 'desastre': 2, 'perda': 2, 'chuchu': 2, 'recurso': 2, 'lobisomens': 2, 'exageiro': 2, 'publico-alvo': 2, 'adolecentes': 2, 'colegas': 2, 'frequencia': 2, 'mito': 2, 'moda': 2, 'gracas': 2, 'olho': 2, 'dinheiro': 2, 'campeonato': 2, 'amante': 2, 'policia': 2, 'proprio': 2, 'triangulo': 2, 'traducao': 2, 'carisma': 2, 'massas': 2, 'ambiente': 2, 'romantismo': 2, 'luz': 2, 'esposa': 2, 'rapaz': 2, 'juro': 2, 'sorriso': 2, 'porcaria': 2, 'garotas': 2, 'estrela': 2, 'partir': 2, 'avida': 2, 'abordagem': 2, 'precisao': 2, 'entusiasmo': 2, 'franquia': 2, 'tensao': 2, 'lenda': 2, 'narradora': 2, 'origem': 2, 'vicio': 2, 'aula': 2, 'ha': 2, 'historinhas': 2, 'cachorro': 2, 'musica': 2, 'reserva': 2, 'e.': 2, 'decepcao': 2, 'suspeita': 2, 'viloes': 2, 'pre': 2, 'seducao': 2, 'sabor': 2, 'monstro': 2, 'formula': 2, 'responsabilidade': 2, 'repeticoes': 2, 'construcao': 2, 'vislumbre': 2, 'repente': 2, 'lua': 2, 'hahaha': 2, 'desejos': 2, 'fantasias': 2, 'bela': 2, 'aulas': 2, 'fascinacao': 2, 'sono': 2, 'monotono': 2, 'expressoes': 2, 'base': 2, 'conclusao': 2, 'fator': 2, 'cabeceira': 2, 'falha': 2, 'livroo': 2, 'critico': 2, 'midia': 2, 'esforco': 2, 'categoria': 2, 'redacao': 2, 'diamante': 2, 'sentidos': 2, 'distopia': 2, 'questionamento': 2, 'limites': 2, 'membro': 2, 'choque': 2, 'contato': 2, 'conceitos': 2, 'lingua': 2, 'diagramacao': 2, 'pressao': 2, 'desconforto': 2, 'analise': 2, 'restante': 2, 'exageros': 2, 'soco': 2, 'teletelas': 2, 'consciencia': 2, 'regime': 2, 'frase': 2, 'blog': 2, 'consequencias': 2, 'mentes': 2, 'hipocrisia': 2, 'socialismo': 2, 'metafora': 2, 'indole': 2, 'resquicio': 2, 'explicacao': 2, 'modos': 2, 'impotencia': 2, 'excelencia': 2, 'trunfo': 2, 'calma': 2, 'ultimo': 2, 'fe': 2, 'condicoes': 2, 'novafala': 2, 'peso': 2, 'decadas': 2, 'saudade': 2, 'governos': 2, 'ironia': 2, 'atributos': 2, 'criacao': 2, 'aprendizado': 2, 'ignorancia': 2, 'definicao': 2, 'esperanca': 2, 'informacao': 2, 'dose': 2, 'guerras': 2, 'individuo': 2, 'eterno': 2, 'fio': 2, 'beijo': 2, 'lembrancas': 2, 'briga': 2, 'mico': 2, 'episodios': 2, 'engracadas': 2, 'diversao': 2, 'escolha': 2, 'simpatia': 2, 'bom': 2, 'gravidez': 2, 'bebe': 2, 'chave': 2, 'ouro': 2, 'paciecia': 2, 'respostas': 2, 'idades': 2, 'futebol': 2, 'malu': 2, 'faculdade': 2, 'idiota': 2, 'sinceridade': 2, 'publicacao': 2, 'sacadas': 2, 'genialidade': 2, 'cena': 2, 'tecnica': 2, 'honestidade': 2, 'troco': 2, 'fluxo': 2, 'licoes': 2, 'virgulas': 2, 'nomes': 2, 'noites': 2, 'crueldade': 2, 'andamento': 2, 'epidemia': 2, 'numero': 2, 'cego': 2, 'boca': 2, 'pitada': 2, 'folha': 2, 'nobel': 2, 'valores': 2, 'portas': 2, 'interessante': 2, 'top': 2, 'topo': 2, 'africa': 2, 'assassinatos': 2, 'escandalos': 2, 'acertos': 2, 'negocios': 2, 'arcos': 2, 'imperio': 2, 'principio': 2, 'armacoes': 2, 'td': 2, 'vingancas': 2, 'gemeas': 2, 'titulos': 2, 'palavroes': 2, 'ingenuidade': 2, 'transformacao': 2, 'pergunta': 2, 'prisao': 2, 'trapacas': 2, 'tracy': 2, 'herois': 1, 'praia': 1, 'afeicao': 1, 'lirico': 1, 'sem-pernas': 1, 'lealdade': 1, 'desamparo': 1, 'despedida': 1, 'revolucao': 1, 'dramaticidade': 1, 'pieguice': 1, 'depoimento': 1, 'agravante': 1, 'drogas': 1, 'afeto': 1, 'formacao': 1, 'seguinte': 1, 'turbilhao': 1, 'grandeza': 1, 'maniqueismo': 1, 'galpao': 1, 'local': 1, 'classe': 1, 'secundarias': 1, 'injustica': 1, 'nordeste': 1, 'trabiche': 1, 'beira-mar': 1, 'marcante': 1, 'cuidado': 1, 'infantil': 1, 'linguagens': 1, 'ensinamentos': 1, 'companheirismo': 1, 'trabalhos': 1, 'esforcos': 1, 'apoio': 1, 'marca': 1, 'classes': 1, 'preconceitos': 1, 'preocupacoes': 1, 'marginalidade': 1, 'contemporanea': 1, 'retratacao': 1, 'vivencia': 1, 'acalanto': 1, 'refugio': 1, 'distorcao': 1, 'servicos': 1, 'opcao': 1, 'fidelidade': 1, 'paradoxos': 1, 'justica': 1, 'muro': 1, 'vestibular': 1, 'data': 1, 'patria': 1, 'letras': 1, 'interior': 1, 'desprezo': 1, 'capita': 1, 'reformatorio': 1, 'pernas': 1, 'lirismo': 1, 'nascimento': 1, 'ternura': 1, 'gruto': 1, 'praxe': 1, 'batuta': 1, 'hahaa': 1, 'representacao': 1, 'variacao': 1, 'prima': 1, 'dinamismo': 1, 'publicacoes': 1, 'relatos': 1, 'marginalidades': 1, 'pederastia': 1, 'necessidade': 1, 'carencias': 1, 'ambicoes': 1, 'aprendiz': 1, 'cafetao': 1, 'rustico': 1, 'trabaho': 1, 'orla': 1, 'confusao': 1, 'tragetoria': 1, 'acontecimento': 1, 'telha': 1, 'predileto': 1, 'causadora': 1, 'mudanca': 1, 'integrantes': 1, 'apologia': 1, 'ato': 1, 'tipos': 1, 'circulacao': 1, 'censura': 1, 'exemplares': 1, 'venda': 1, 'ladroes': 1, 'crtica': 1, 'vigaristas': 1, 'lagrimas': 1, 'paralelo': 1, 'desenrrolar': 1, 'chefe/lider': 1, 'companheiros': 1, 'elevador': 1, 'igreja': 1, 'frade': 1, 'inferno': 1, 'floreios': 1, 'docura': 1, 'brasilidade': 1, 'orfaos': 1, 'capital': 1, 'cadencia': 1, 'empatia': 1, 'padre': 1, 'pintor': 1, 'aleijado': 1, 'malandro': 1, 'boemia': 1, 'distancia': 1, 'conselho': 1, 'internet': 1, 'hitoria': 1, 'perdas': 1, 'separacoes': 1, 'loja': 1, 'ingrediente': 1, 'subversivo': 1, 'profundo': 1, 'fugas': 1, 'crincas': 1, 'crianacs': 1, 'recortes': 1, 'jornais': 1, 'panfleto': 1, 'manifesto': 1, 'moradores': 1, 'dirigente': 1, 'gangues': 1, 'sofrimentos': 1, 'elogio': 1, 'poetica': 1, 'incolume': 1, 'populismo': 1, 'equivocos': 1, 'maior': 1, 'oralidade': 1, 'pretexto': 1, 'informalismo': 1, 'chatice': 1, '*__': 1, 'pias': 1, 'nacionais': 1, 'rum': 1, 'provas': 1, 'vestibulares': 1, 'metropoles': 1, 'utimo': 1, 'custo': 1, 'imperfeicoes': 1, 'beira': 1, 'cais': 1, 'furos': 1, 'menininha': 1, 'oarrebatamento': 1, 'ansiedade': 1, 'gesto': 1, 'elee': 1, 'minoria': 1, 'possivel': 1, 'incerteza': 1, 'acuca': 1, 'instintos': 1, 'gostos': 1, 'refeitorio': 1, 'perguntas': 1, 'luxuria': 1, 'desculpas': 1, 'jessyka': 1, 'virgula': 1, 'defeito': 1, 'virgens': 1, 'inexperientes': 1, 'positivo': 1, 'doacao': 1, 'superacao': 1, 'generosidade': 1, 'romantica': 1, 'dificuldade': 1, 'acusacao': 1, 'raciocinio': 1, 'desprazer': 1, 'mitologia': 1, 'necissidade': 1, 'desculpa': 1, 'cornos': 1, 'amores': 1, 'boba': 1, 'mel': 1, 'melancolia': 1, 'intensidade': 1, 'lm': 1, 'fundamento': 1, 'razoes': 1, 'ficccao': 1, 'trio': 1, 'desafio': 1, 'morcego': 1, 'clase': 1, 'maximo': 1, 'picole': 1, 'onisciencia': 1, 'eficiencia': 1, 'reforco': 1, 'esquisitice': 1, 'misto': 1, 'estranheza': 1, 'territorio': 1, 'camaradagem': 1, 'aparecimento': 1, 'previsibilidade': 1, 'pretensao': 1, 'folga': 1, 'lem': 1, 'andar': 1, 'repulsa': 1, 'roupas': 1, 'cores': 1, 'cortinas': 1, 'material': 1, 'carpete': 1, 'entrelinhas': 1, 'balanca': 1, 'apego': 1, 'chamego': 1, 'cocegas': 1, 'macante': 1, 'namorada': 1, 'acaso': 1, 'continuacoes': 1, 'endosso': 1, 'valorizacao': 1, 'irrealidade': 1, 'bosta': 1, 'haters': 1, 'livro-trauma': 1, 'valvulas': 1, 'escape': 1, 'doses': 1, 'insulina': 1, 'coma': 1, 'altura': 1, 'pior': 1, 'pateta': 1, 'gostoso': 1, 'incentivo': 1, 'mote': 1, 'ensolarada': 1, 'chefe': 1, 'sacrificio': 1, 'proximo': 1, 'rs': 1, 'editora': 1, 'milhoes': 1, 'merda': 1, 'adultos': 1, 'aquisicao': 1, 'irma': 1, 'melodramas': 1, 'doce': 1, 'padroes': 1, 'eclipse': 1, 'roteiro': 1, 'humano': 1, 'tentativa': 1, 'suposto': 1, 'nocao': 1, 'euforia': 1, 'nha': 1, 'ator': 1, 'atriz': 1, 'paixaozinha': 1, '_o': 1, 'apoteotico': 1, 'iniciativas': 1, 'seriado': 1, 'opnioes': 1, 'am': 1, 'a-la': 1, 'lobos': 1, 'puta': 1, 'emo': 1, 'lobisomem': 1, 'traumas': 1, 'mitos': 1, 'poderes': 1, 'pele': 1, 'novidades': 1, 'pouquinho': 1, 'mocinhos': 1, 'entrelacamento': 1, 'diretores': 1, 'reclamacao': 1, 'auto-estima': 1, 'zero': 1, 'vendas': 1, 'lobsomens': 1, 'lobo': 1, 'banho': 1, 'indecisao': 1, 'namoro': 1, 'vampira': 1, 'admiradora': 1, 'reputacao': 1, 'reconhecimento': 1, 'rastreador': 1, 'talento': 1, 'tercos': 1, 'compromisso': 1, 'fenomeno': 1, 'pretensoes': 1, 'empaca': 1, 'mencoes': 1, 'epilogo': 1, 'obcessao': 1, 'excessos': 1, 'credito': 1, 'exaustao': 1, 'alvo': 1, 'tooodooos': 1, 'apaixonadissima': 1, 'fraquezas': 1, 'alho': 1, 'crucifixo': 1, 'estaca': 1, 'etc': 1, 'extraordinario': 1, '2008': 1, 'cia': 1, 'chaves': 1, 'dentes': 1, 'amostra': 1, 'barra': 1, 'espaco': 1, 'pecado': 1, 'declaracoes': 1, 'glicose': 1, 'gostosura': 1, 'culto': 1, 'irresistivel': 1, 'ironie': 1, 'hisoria': 1, 'tradicoes': 1, 'pre-venda': 1, 'detaches': 1, 'vampirinhos': 1, 'rajada': 1, 'vento': 1, 'protecao': 1, 'http://riotline.blogspot.com/2010/05/crepusculo-stephenie-meyer.html': 1, 'porta': 1, 'idiosincrasias': 1, 'pancada': 1, 'gramatica': 1, 'esdruxulas': 1, 'monstro-doce-garota-de-nome-terrivel': 1, 'dependencia': 1, 'arroubos': 1, 'fluidez': 1, 'sensualidade': 1, 'estreia': 1, 'item': 1, 'logo': 1, 'mo': 1, 'anjo': 1, 'encantador': 1, 'alternativa': 1, 'colega': 1, 'muitoooo': 1, 'dadivas': 1, 'combinacao': 1, 'risco': 1, 'rabo': 1, 'criancinha': 1, 'sensual': 1, 'puro': 1, 'citacoes': 1, 'desconhecido': 1, 'usual': 1, 'tradutora': 1, 'primor': 1, 'constraste': 1, 'ossos': 1, 'mordida': 1, 'perseguicao': 1, 'obsessao': 1, 'vampiro-qaqa': 1, 'passe': 1, 'magica': 1, 'hisorias': 1, 'criadora': 1, 'desastrada': 1, 'magias': 1, 'principais': 1, 'forks': 1, 'casca': 1, 'vampirismo': 1, 'paixonite': 1, 'indicacao': 1, 'quadrinhos': 1, 'suspeses': 1, 'dedicacao': 1, 'harry': 1, 'predicados': 1, 'comparacao': 1, 'perspectiva': 1, 'elogios': 1, 'rasos': 1, 'suspiros': 1, 'obscenidades': 1, 'todo': 1, 'aconce': 1, 'piedade': 1, 'superficialidade': 1, 'bobinho': 1, 'chuva': 1, 'mulherzinha': 1, 'clareza': 1, 'potencial': 1, 'ousadia': 1, 'ofegar': 1, 'autossacrificio': 1, 'sussurro': 1, 'besta': 1, 'referencia': 1, 'pes': 1, 'chao': 1, 'odiadores': 1, 'tecnicas': 1, 'espectativas': 1, 'maravilha': 1, 'fraco': 1, 'malhacao': 1, 'fatores': 1, 'fascinio': 1, 'mamao': 1, 'n': 1, 'maravilhoso': 1, 'febre': 1, 'sequer': 1, 'ofensa': 1, 'sublimidade': 1, 'cultura': 1, 'horroroza': 1, 'plot': 1, 'peitoral': 1, 'masculo': 1, 'contraponto': 1, 'medievo': 1, 'modernidade': 1, 'comentario': 1, 'insanidade': 1, 'lados': 1, 'respeitos': 1, 'resumo': 1, 'distopias': 1, 'bonitos': 1, 'reflexoes': 1, 'sarcasmo': 1, 'democracias': 1, 'distopicos': 1, 'visoes': 1, 'convite': 1, 'engano': 1, 'individuos': 1, 'intuito': 1, 'politicos': 1, 'dupla': 1, 'previsoes': 1, '2011': 1, 'caricatura': 1, 'espelho': 1, 'ordem': 1, 'revitalizador': 1, 'civis': 1, 'comparacoes': 1, 'reescrita': 1, 'subordinados': 1, 'mes': 1, 'aura': 1, 'espinha': 1, 'marasmo': 1, 'obvio': 1, 'esquema': 1, 'estrelinhas': 1, 'metodos': 1, 'corpos': 1, 'miseria': 1, 'exploracao': 1, 'servico': 1, 'preco': 1, 'gancho': 1, 'reflexo': 1, 'rumos': 1, 'estados': 1, 'slogan': 1, 'oposicao': 1, 'irmao': 1, 'meia': 1, 'auto-engano': 1, 'alarme': 1, 'desesperanca': 1, 'inumanismo': 1, 'anticlimax': 1, 'potencia': 1, 'oceania': 1, 'habitantes': 1, 'desepero': 1, 'duvidadas': 1, 'ideologias': 1, 'valor': 1, 'manipulador': 1, 'quebra': 1, 'curso': 1, 'doutrina': 1, 'medida': 1, 'progresso': 1, 'famigerado': 1, 'carvao': 1, 'desenhista': 1, 'panteao': 1, 'contraditoria': 1, 'instituicoes': 1, 'infinito': 1, 'independencia': 1, 'taquicardia': 1, 'tradutores': 1, 'balde': 1, 'significados': 1, 'investimento': 1, 'reais': 1, 'amantes': 1, 'literarturas': 1, 'internacionalistas': 1, 'cartaz': 1, 'fraqueza': 1, 'conspiracao': 1, 'escravidao': 1, 'obra-primas': 1, 'termos': 1, 'trilogia': 1, 'tematica': 1, 'sustos': 1, 'spoiller': 1, 'sufocamento': 1, 'tesouro': 1, 'cama': 1, 'entender': 1, 'seriedade': 1, 'emblematica': 1, 'vertigem': 1, 'livro-irmao': 1, 'ajuda': 1, 'glossario': 1, 'novilingua': 1, 'incompreensivel': 1, 'pesadelo': 1, 'tendencia': 1, 'ideologia': 1, 'anseios': 1, 'traicoes': 1, 'montes': 1, 'profecia': 1, 'argumento': 1, 'atemporalidade': 1, 'elaboracao': 1, 'sistematica': 1, 'raro': 1, 'sorrisos': 1, 'eterna': 1, 'ditadura': 1, 'direita': 1, 'pseudo': 1, 'queda': 1, 'romanse': 1, 'admiracao': 1, 'fechamento': 1, 'caustrofobia': 1, 'invasao': 1, 'privacidade': 1, 'tecnologia': 1, 'manipulacao': 1, 'imprensa': 1, 'parcela': 1, 'entretenimento': 1, 'totalitarismo': 1, 'abitrio': 1, 'reality': 1, 'triunvirato': 1, 'densidade': 1, 'releitura': 1, 'posicao': 1, 'estilistica': 1, 'divida': 1, 'instante': 1, 'termometro': 1, 'ideal': 1, 'bem-estar': 1, 'libertacao': 1, 'gozo': 1, 'raciocicio': 1, 'concentracao': 1, 'alienacao': 1, 'vicios': 1, 'enrredo': 1, 'sistemas': 1, 'governantes': 1, 'literatuta': 1, 'verossimel': 1, 'saco': 1, 'cocepcao': 1, 'ditadores': 1, 'individualidade': 1, 'conversas': 1, 'passividade': 1, 'ressalvas': 1, 'diagnostico': 1, 'atmosfera': 1, 'vazio': 1, 'niilismo': 1, 'moradia': 1, 'paralelos': 1, 'arrepios': 1, 'opressao': 1, 'hoe': 1, 'repressao': 1, 'sociologia': 1, 'despeito': 1, 'intervencao': 1, 'cabelo': 1, 'magistral': 1, 'infracao': 1, 'autoritario': 1, 'vigilante': 1, 'autobiografia': 1, 'otimooo': 1, 'jeitinho': 1, 'alegria': 1, 'livrinho': 1, 'tim': 1, 'mt': 1, 'minutos': 1, 'banda': 1, 'liro': 1, 'passatempo': 1, 'segredinhos': 1, 'garotya': 1, 'troca': 1, 'roupa': 1, 'caminhadas': 1, 'ate': 1, 'leitoras': 1, 'par': 1, 'etapa': 1, 'patos': 1, 'ilusoes': 1, 'pato': 1, 'canudo': 1, 'bahiano': 1, 'decepcoes': 1, 'cumplicidade': 1, 'esperta': 1, 'bobagem': 1, 'risos': 1, 'filhas': 1, 'contos': 1, 'convivencia': 1, 'infancia': 1, 'barriga': 1, 'solo': 1, 'gargalhadas': 1, 'muitooooooooo': 1, 'loucuras': 1, 'issimas': 1, 'gravidas': 1, 'gravida': 1, 'descanso': 1, 'expediente': 1, 'gestacao': 1, 'orelha': 1, 'recomendoo': 1, 'preocupacao': 1, 'conexao': 1, 'surrealismo': 1, 'comum': 1, 'divertidissimo': 1, 'salada': 1, 'etapas': 1, 'micos': 1, 'bronca': 1, 'fk': 1, 'maluquices': 1, 'trapalhadas': 1, 'garotinha': 1, 'papai': 1, 'anjinha': 1, 'p.': 1, 'reacoes': 1, 'munto': 1, 'direitos': 1, 'abilidades': 1, 'tijucana': 1, 'tietismo': 1, 'cursinhos': 1, 'galerinha': 1, 'sala': 1, 'alunos': 1, 'aaluma': 1, 'ale': 1, 'leveza': 1, 'colegial': 1, 'floripa': 1, 'turma': 1, 'mar': 1, 'ondas': 1, 'surf': 1, 'tombo': 1, 'autoescola': 1, 'estudantes': 1, 'outrso': 1, 'engracadinho': 1, 'madrugada': 1, 'rumo': 1, 'antigao': 1, 'justificativa': 1, 'resposta': 1, 'contras': 1, 'pobreza': 1, 'tipicos': 1, 'percepcoes': 1, 'eventos': 1, 'engracados': 1, 'identificacao': 1, 'choro': 1, 'ponderacoes': 1, 'alguem': 1, 'pre-adolescente': 1, 'decada': 1, 'conhecido': 1, 'amigo': 1, 'panela': 1, 'personagem-adolescente': 1, 'bem-escrever': 1, 'internato': 1, 'brigas': 1, 'bebida': 1, 'cigarro': 1, 'mentira': 1, 'simplicidade': 1, 'joia': 1, 'droga': 1, 'consideracoes': 1, 'pouco': 1, 'toques': 1, 'babaquice': 1, 'infantilidade': 1, 'prestes': 1, 'caufield': 1, 'allie': 1, 'phoebe': 1, 'grafico': 1, 'xingamentos': 1, 'fiascos': 1, 'irmazinha': 1, 'calao': 1, 'perfil': 1, 'fluencia': 1, 'coesao': 1, 'nojo': 1, 'bocado': 1, 'elle': 1, 'personagem-narrador': 1, 'andancas': 1, 'escolhas': 1, 'especial': 1, 'sadismo': 1, 'imaturidade': 1, 'alto': 1, 'pseudo-superioridade': 1, 'mediocridade': 1, 'motivos': 1, 'eixo': 1, 'virtude': 1, 'rebelde': 1, 'piadinhas': 1, 'maniaco': 1, 'coisinha': 1, 'tremendo': 1, 'mala': 1, 'alca': 1, 'bocaloide': 1, 'paragraf': 1, 'penhasco': 1, 'bla': 1, 'tristezas': 1, 'espirito': 1, 'mau-humor': 1, 'holden': 1, 'plasticidade': 1, 'dae': 1, 'edicao': 1, 'percalcos': 1, 'discurso': 1, 'divisao': 1, 'monologo': 1, 'pesadelos': 1, 'adendo': 1, 'diretor': 1, 'opinioes': 1, 'inquestionavel': 1, 'magnificencia': 1, 'pontuacoes': 1, 'alucinatorias': 1, 'colapso': 1, 'exercicio': 1, 'degraus': 1, 'indignidade': 1, 'iguais': 1, 'errado': 1, 'proprios': 1, 'horror': 1, 'escritores': 1, 'atualidade': 1, 'vitima': 1, 'natureza': 1, 'pose': 1, 'incomodo': 1, 'periodos': 1, 'meada': 1, 'decepcionante': 1, 'digestao': 1, 'textos': 1, 'claustrofobia': 1, 'dimensao': 1, 'verossimil': 1, 'secundaria': 1, 'aflicao': 1, 'reconditos': 1, 'apos': 1, 'imundice': 1, 'interpretacao': 1, 'resistencia': 1, 'impressoes': 1, 'semelhanca': 1, 'tratamento': 1, 'leprosos': 1, 'negativa': 1, 'locais': 1, 'ridiculo': 1, 'barreiras': 1, 'contesto': 1, 'barreira': 1, 'indiretos': 1, 'travessao': 1, 'rapariga': 1, 'oculos': 1, 'pequeno': 1, 'letra': 1, 'ditado': 1, 'rei': 1, 'delicadeza': 1, 'conhecimento': 1, 'espelhos': 1, 'possibilidade': 1, 'excelentissimo': 1, 'resto': 1, 'etica': 1, 'costumes': 1, 'posturas': 1, 'organizacao': 1, 'solidariedade': 1, 'postura': 1, 'semelhantes': 1, 'conjunto': 1, 'rol': 1, 'ansia': 1, 'naturalidade': 1, 'acostumados': 1, 'travessoes': 1, 'superinteressante': 1, 'premio': 1, 'fila': 1, 'acelerador': 1, 'alavanca': 1, 'caixa': 1, 'velocidades': 1, 'avaria': 1, 'blocagem': 1, 'travoes': 1, 'circuito': 1, 'gasolina': 1, 'proposito': 1, 'viagens': 1, 'onibus': 1, 'trajeto': 1, 'estagio': 1, 'jangada': 1, 'pedra': 1, 'honra': 1, 'moral': 1, 'blz': 1, 'inimigo': 1, 'apice': 1, 'mortifera': 1, 'mensagens': 1, 'atos': 1, 'comportamentos': 1, 'convivio': 1, 'murros': 1, 'emocionante': 1, 'baixeza': 1, 'cobrancas': 1, 'portugal': 1, 'efeitos': 1, 'insercao': 1, 'ranzinza': 1, 'metaforas': 1, 'perfis': 1, 'fantastico': 1, 'teatro': 1, 'anti-heroina': 1, 'vila': 1, 'magnetismo': 1, 'interminaveis': 1, 'supresas': 1, 'surpeendente': 1, 'bons': 1, 'compaixao': 1, 'patinhos': 1, 'conduta': 1, 'requintes': 1, 'aldacia': 1, 'contas': 1, 'semanas': 1, 'protaginista': 1, 'julgamento': 1, 'testemunhas': 1, 'determinacao': 1, 'netas': 1, 'ambientes': 1, 'compromissos': 1, 'guia': 1, 'presos': 1, 'revival': 1, 'riquissima': 1, 'eternidade': 1, 'autos': 1, 'baixos': 1, 'opcoes': 1, 'golpe': 1, 'maldicao': 1, 'corporacao': 1, 'recomendacao': 1, 'diamantes': 1, 'travessia': 1, 'deserto': 1, 'armadilhas': 1, 'perigos': 1, 'senhora': 1, 'filho': 1, 'riquezas': 1, 'neta': 1, 'mal-carater': 1, 'desmandes': 1, 'sul': 1, 'achado': 1, 'mansoes': 1, 'salas': 1, 'reunioes': 1, 'alcovas': 1, 'elite': 1, 'via': 1, 'maldade': 1, 'tmb': 1, 'sagacidade': 1, 'caractere': 1, 'milesimo': 1, 'intrigas': 1, 'empresa': 1, 'inocentes': 1, 'processo': 1, 'donzela': 1, 'liivroo': 1, 'otiimo': 1, 'complexos': 1, 'pagimas': 1, 'milionarios': 1, 'escrupulos': 1, 'meneiras': 1, 'quantidade': 1, 'garra': 1, 'enforcos': 1, 'heranca': 1, 'holdings': 1, 'planeta': 1, 'tracoes': 1, 'areas': 1, 'verdadeiras': 1, 'doidos': 1, 'plagio': 1, 'brilho': 1, 'armacao': 1, 'novela': 1, 'ma': 1, 'mudancas': 1, 'superacoes': 1, 'revira': 1, 'guerreira': 1, 'caracteristica': 1, 'missao': 1, 'mocinho': 1, 'http://llucyinthesky.com/': 1, 'emprego': 1, 'sentenca': 1, 'romance-aventura': 1, 'armas': 1, 'besteira': 1, 'malandragem': 1, 'penitenciaria': 1, 'proporcao': 1, 'propria': 1, 'confusoes': 1, 'imcomparavel': 1, 'conversa': 1, 'solucoes': 1, \"put's\": 1, 'mestra': 1, 'pro': 1, 'ligacao': 1, 'funcionamento': 1, 'penitenciarias': 1, 'trapassas': 1, 'pratica': 1, 'algozes': 1, 'narada': 1, 'barbaridades': 1, 'crescimento': 1, 'digrecao': 1, 'estrategias': 1, 'garantia': 1, 'dever': 1, 'peripecias': 1, 'chance': 1, 'suspence': 1, 'sofrimento': 1, 'suicidio': 1, 'sujeito': 1, 'noivo': 1, 'linhagem': 1, 'aliado': 1, 'jornada': 1, 'revelacoes': 1, 'felicidade': 1, 'virada': 1, 'professora': 1, 'toa': 1, 'dinamica': 1, 'estouro': 1, 'best': 1, 'sellers': 1, 'criacoes': 1, 'sebos': 1, 'livrarias': 1, 'deleite': 1, 'xadrez': 1, 'preferida': 1, 'esquemas': 1, 'truque': 1, 'rivalidade': 1, 'infarto': 1, 'histotia': 1, 'torcida': 1, 'diario': 1, 'lacuna': 1, 'conteuo': 1, 'afetividade': 1})\n"
          ]
        }
      ]
    },
    {
      "cell_type": "code",
      "source": [
        "def getCorpus2(df):\n",
        "  corpus = []\n",
        "  for item in df:\n",
        "    corpus.append(item.split())\n",
        "  \n",
        "  return corpus"
      ],
      "metadata": {
        "id": "LlHOFEcBZOfz"
      },
      "execution_count": 122,
      "outputs": []
    },
    {
      "cell_type": "code",
      "source": [
        "from gensim.models import Word2Vec\n",
        "corpus = getCorpus2(df['text'])\n",
        "#print(corpus[1::])\n",
        "\n",
        "f = Word2Vec(corpus[1::],\n",
        "                 sg=0,\n",
        "                 negative=5,\n",
        "                 window=10,\n",
        "                 size=200,\n",
        "                 min_count=2,\n",
        "                 iter=5,\n",
        "                 workers=10)\n",
        "\n",
        "f.wv.save_word2vec_format(\"/content/my_word_vectors.vec\")\n"
      ],
      "metadata": {
        "id": "G2GfQkXtlMR-"
      },
      "execution_count": 37,
      "outputs": []
    },
    {
      "cell_type": "code",
      "source": [
        "d = json.load(open('/content/nouns.json'))\n",
        "nouns2 = Counter()\n",
        "#print(f.wv.vocab.items[0])\n",
        "for k, v in d.items():\n",
        "  for tag,_ in f.wv.vocab.items():\n",
        "    if k.lower() == tag:\n",
        "      #print(\"valor v: \",v)\n",
        "      nouns2[k.lower()] += v\n",
        "\n",
        "# nouns2, _ = zip(*sorted(nouns2.items(),\n",
        "#                 key=lambda x: x[1],\n",
        "#                 reverse=True))\n",
        "\n",
        "# json.dump(nouns, open(\"/content/aspect_words.json\", \"w\"))"
      ],
      "metadata": {
        "id": "tgdUiBsgnNa4"
      },
      "execution_count": null,
      "outputs": []
    },
    {
      "cell_type": "code",
      "source": [
        "nouns3, _ = zip(*sorted(nouns2.items(),\n",
        "                key=lambda x: x[1],\n",
        "                reverse=True))\n",
        "\n",
        "json.dump(nouns3, open(\"/content/aspect_words.json\", \"w\"))"
      ],
      "metadata": {
        "id": "sF0elJ6rlGB2"
      },
      "execution_count": 39,
      "outputs": []
    },
    {
      "cell_type": "markdown",
      "source": [
        "# Execução"
      ],
      "metadata": {
        "id": "gPdLq-ICm7Xn"
      }
    },
    {
      "cell_type": "code",
      "source": [
        "! pip install reach"
      ],
      "metadata": {
        "id": "dHXsU1dEnbPf"
      },
      "execution_count": null,
      "outputs": []
    },
    {
      "cell_type": "code",
      "source": [
        "import json\n",
        "from reach import Reach\n",
        "from collections import defaultdict\n",
        "import numpy as np\n",
        "from collections import defaultdict\n",
        "from sklearn.metrics.pairwise import rbf_kernel\n",
        "from collections import Counter"
      ],
      "metadata": {
        "id": "sQpMtYQZmDoY"
      },
      "execution_count": 20,
      "outputs": []
    },
    {
      "cell_type": "code",
      "source": [
        "def normalize(x):\n",
        "    \"\"\"Normalize a vector while controlling for zero vectors.\"\"\"\n",
        "    x = np.copy(x)\n",
        "    if np.ndim(x) == 1:\n",
        "        norm = np.linalg.norm(x)\n",
        "        if norm == 0:\n",
        "            return x\n",
        "        return x / np.linalg.norm(x)\n",
        "    norm = np.linalg.norm(x, axis=-1)\n",
        "    mask = norm > 0\n",
        "    x[mask] /= norm[mask][:, None]\n",
        "    return x\n"
      ],
      "metadata": {
        "id": "Ir6aDzlZoMXc"
      },
      "execution_count": 3,
      "outputs": []
    },
    {
      "cell_type": "code",
      "source": [
        "\"\"\"Simple method.\"\"\"\n",
        "import numpy as np\n",
        "from collections import defaultdict\n",
        "from sklearn.metrics.pairwise import rbf_kernel\n",
        "from collections import Counter\n",
        "\n",
        "\n",
        "def get_aspects(fragments, embeddings, n_adj_seed, n_nouns, min_count):\n",
        "    \"\"\"Get aspects based on fragments.\"\"\"\n",
        "    adj, _, noun = zip(*fragments)\n",
        "    adj_cand, _ = zip(*Counter(adj).most_common(n_adj_seed))\n",
        "\n",
        "    cands = candidate(embeddings,\n",
        "                      adj,\n",
        "                      noun,\n",
        "                      adj_cand,\n",
        "                      n_nouns,\n",
        "                      min_count)\n",
        "\n",
        "    return cands\n",
        "\n",
        "\n",
        "def candidate(embeddings,\n",
        "              adj,\n",
        "              noun,\n",
        "              seed_words,\n",
        "              n_nouns,\n",
        "              min_count):\n",
        "    \"\"\"\n",
        "    Generates candidate aspects based on adjective co-occurrences\n",
        "\n",
        "    Parameters\n",
        "    ----------\n",
        "    embeddings : Reach\n",
        "        A Reach instance containing the word embeddings.\n",
        "    constructions : list of tuples\n",
        "        A list of adjective noun tuples.\n",
        "    seed_words : list of str\n",
        "        A list of strings. All these words should be in vocab for the\n",
        "        given embeddings model.\n",
        "    frequency_threshold : int\n",
        "        Any noun occurring fewer times than this threshold is discarded\n",
        "    n_nouns : int\n",
        "        The amount of items to return\n",
        "\n",
        "    Returns\n",
        "    -------\n",
        "    candidates : dict\n",
        "        A dictionary mapping strings to their scores.\n",
        "\n",
        "    \"\"\"\n",
        "    a = list(set(adj))\n",
        "    sims = embeddings.similarity(a, seed_words).max(1)\n",
        "    adj_scores = dict(zip(a, sims))\n",
        "\n",
        "    noun_scores = defaultdict(lambda: [0, 0])\n",
        "    for adj, noun in zip(adj, noun):\n",
        "        noun_scores[noun][0] += adj_scores[adj]\n",
        "        noun_scores[noun][1] += 1\n",
        "\n",
        "    noun_scores = {k: v[0] for k, v in noun_scores.items()\n",
        "                   if v[1] > min_count}\n",
        "\n",
        "    return sorted(noun_scores.items(), key=lambda x: x[1])[-n_nouns:]\n",
        "\n",
        "\n",
        "def rbf_attention(vec, memory, gamma, **kwargs):\n",
        "    \"\"\"\n",
        "    Single-head attention using RBF kernel.\n",
        "\n",
        "    Parameters\n",
        "    ----------\n",
        "    vec : np.array\n",
        "        an (N, D)-shaped array, representing the tokens of an instance.\n",
        "    memory : np.array\n",
        "        an (M, D)-shaped array, representing the memory items\n",
        "    gamma : float\n",
        "        the gamma of the RBF kernel.\n",
        "\n",
        "    Returns\n",
        "    -------\n",
        "    attention : np.array\n",
        "        A (1, N)-shaped array, representing a single-headed attention mechanism\n",
        "\n",
        "    \"\"\"\n",
        "    z = rbf_kernel(vec, memory, gamma)\n",
        "    s = z.sum()\n",
        "    if s == 0:\n",
        "        # If s happens to be 0, back off to uniform\n",
        "        return np.ones((1, len(vec))) / len(vec)\n",
        "    return (z.sum(1) / s)[None, :]\n",
        "\n",
        "\n",
        "def softmax(x, axis=1):\n",
        "    \"\"\"Compute softmax values for each sets of scores in x.\"\"\"\n",
        "    e_x = np.exp(x - np.max(x, axis, keepdims=True))\n",
        "    s = e_x.sum(axis=axis, keepdims=True)\n",
        "    return e_x / s\n",
        "\n",
        "\n",
        "def attention(vec, memory, **kwargs):\n",
        "    \"\"\"\n",
        "    Standard multi-head attention mechanism.\n",
        "\n",
        "    Parameters\n",
        "    ----------\n",
        "    vec : np.array\n",
        "        an (N, D)-shaped array, representing the tokens of an instance.\n",
        "    memory : np.array\n",
        "        an (M, D)-shaped array, representing the memory items\n",
        "\n",
        "    Returns\n",
        "    -------\n",
        "    attention : np.array\n",
        "        A (M, N)-shaped array, representing the attention over all memories.\n",
        "\n",
        "    \"\"\"\n",
        "    z = memory.dot(vec.T)\n",
        "    return softmax(z)\n",
        "\n",
        "\n",
        "def mean(vec, aspect_vecs, **kwargs):\n",
        "    \"\"\"Just a mean weighting.\"\"\"\n",
        "    return (np.ones(len(vec)) / len(vec))[None, :]\n",
        "\n",
        "\n",
        "\n"
      ],
      "metadata": {
        "id": "yUCmvOZ9oo8I"
      },
      "execution_count": 4,
      "outputs": []
    },
    {
      "cell_type": "code",
      "source": [
        "def get_scores(instances,\n",
        "               aspects,\n",
        "               r,\n",
        "               labels,\n",
        "               remove_oov=False,\n",
        "               attention_func=attention,\n",
        "               **kwargs):\n",
        "    \"\"\"Scoring function.\"\"\"\n",
        "    assert all([x in r.items for x in labels])\n",
        "    \n",
        "    label_vecs = normalize(r.vectorize(labels))\n",
        "    aspect_vecs = [x.mean(0)\n",
        "                   for x in r.transform(aspects,\n",
        "                                        remove_oov=False)]\n",
        "    aspect_vecs = np.stack(aspect_vecs)\n",
        "    if len(instances) == 1:\n",
        "        instances = [instances]\n",
        "\n",
        "    t = r.transform(instances, remove_oov=remove_oov)\n",
        "\n",
        "    out = []\n",
        "    for vec in t:\n",
        "        att = attention_func(vec, aspect_vecs, **kwargs)\n",
        "        # Att = (n_heads, n_words)\n",
        "        z = att.dot(vec)\n",
        "        # z = (n_heads, n_dim)\n",
        "        x = normalize(z).dot(label_vecs.T)\n",
        "        # x = (n_heads, n_labels)\n",
        "        out.append(x.sum(0))\n",
        "    return np.stack(out)"
      ],
      "metadata": {
        "id": "sJoeggzIpVD5"
      },
      "execution_count": 5,
      "outputs": []
    },
    {
      "cell_type": "code",
      "source": [
        "GAMMA = .03\n",
        "N_ASPECT_WORDS = 200\n",
        "\n",
        "scores = defaultdict(dict)\n",
        "r = Reach.load(\"/content/my_word_vectors.vec\",unk_word=\"<UNK>\")\n",
        "\n",
        "aspects = [[x] for x in json.load(open(\"/content/aspect_words.json\"))]\n",
        "aspects = aspects[:N_ASPECT_WORDS]\n",
        "\n",
        "instances = [\"Gostaria de um livro do homem-aranha\".split(), \"onde encontro o autor George RR Martin\".split()]\n",
        "label_set = {\"historia\", \"livro\", \"autor\"}\n",
        "\n",
        "s = get_scores(instances,\n",
        "               aspects,\n",
        "               r,\n",
        "               label_set,\n",
        "               gamma=GAMMA,\n",
        "               remove_oov=False,\n",
        "               attention_func=rbf_attention)\n",
        "\n",
        "pred = s.argmax(1)\n",
        "print(s)\n",
        "print(pred)"
      ],
      "metadata": {
        "colab": {
          "base_uri": "https://localhost:8080/"
        },
        "id": "P0D3meKxnpuu",
        "outputId": "29d8177d-5b63-48de-bb4e-1eda7efa8158"
      },
      "execution_count": 162,
      "outputs": [
        {
          "output_type": "stream",
          "name": "stdout",
          "text": [
            "[[0.9999761  0.9999834  0.9999667 ]\n",
            " [0.99998045 0.99996144 0.9999836 ]]\n",
            "[1 2]\n"
          ]
        }
      ]
    },
    {
      "cell_type": "markdown",
      "source": [
        "# Funções auxiliares"
      ],
      "metadata": {
        "id": "evcEBvNym-vT"
      }
    },
    {
      "cell_type": "code",
      "source": [
        "with open('/content/restaurant_textos.txt ', 'w') as textfile:\n",
        "  textfile.write(\"\\n\".join(str(item) for item in sentences))\n",
        "textfile.close()"
      ],
      "metadata": {
        "id": "80CDAKu_u-oC"
      },
      "execution_count": 161,
      "outputs": []
    },
    {
      "cell_type": "code",
      "source": [
        "with open('/content/corpus.txt ', 'w') as textfile:\n",
        "  for item in corpus:\n",
        "    textfile.write(str(item))\n",
        "textfile.close()"
      ],
      "metadata": {
        "id": "r4uVk8_RaAhb"
      },
      "execution_count": null,
      "outputs": []
    }
  ]
}