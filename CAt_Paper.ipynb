{
  "nbformat": 4,
  "nbformat_minor": 0,
  "metadata": {
    "colab": {
      "name": "CAt_Paper.ipynb",
      "provenance": [],
      "collapsed_sections": [
        "evcEBvNym-vT"
      ],
      "mount_file_id": "17jQSehKdHVEbJ2x04P5J7AGoYSwhWf3w",
      "authorship_tag": "ABX9TyPPjiAfBX+eTUqkVHU8ZYS3",
      "include_colab_link": true
    },
    "kernelspec": {
      "name": "python3",
      "display_name": "Python 3"
    },
    "language_info": {
      "name": "python"
    }
  },
  "cells": [
    {
      "cell_type": "markdown",
      "metadata": {
        "id": "view-in-github",
        "colab_type": "text"
      },
      "source": [
        "<a href=\"https://colab.research.google.com/github/renatojmf/Aspects-Extraction-in-Portuguese/blob/main/CAt_Paper.ipynb\" target=\"_parent\"><img src=\"https://colab.research.google.com/assets/colab-badge.svg\" alt=\"Open In Colab\"/></a>"
      ]
    },
    {
      "cell_type": "markdown",
      "source": [
        "# Pré-Processamento"
      ],
      "metadata": {
        "id": "8ZILJBwumuW5"
      }
    },
    {
      "cell_type": "code",
      "source": [
        "! pip install stanza"
      ],
      "metadata": {
        "id": "geCiM4qeraYT",
        "outputId": "621d2376-3684-46ff-994d-ab05e2d53b26",
        "colab": {
          "base_uri": "https://localhost:8080/"
        }
      },
      "execution_count": 1,
      "outputs": [
        {
          "output_type": "stream",
          "name": "stdout",
          "text": [
            "Collecting stanza\n",
            "  Downloading stanza-1.3.0-py3-none-any.whl (432 kB)\n",
            "\u001b[K     |████████████████████████████████| 432 kB 4.8 MB/s \n",
            "\u001b[?25hRequirement already satisfied: numpy in /usr/local/lib/python3.7/dist-packages (from stanza) (1.21.5)\n",
            "Collecting emoji\n",
            "  Downloading emoji-1.7.0.tar.gz (175 kB)\n",
            "\u001b[K     |████████████████████████████████| 175 kB 44.3 MB/s \n",
            "\u001b[?25hRequirement already satisfied: six in /usr/local/lib/python3.7/dist-packages (from stanza) (1.15.0)\n",
            "Requirement already satisfied: torch>=1.3.0 in /usr/local/lib/python3.7/dist-packages (from stanza) (1.10.0+cu111)\n",
            "Requirement already satisfied: protobuf in /usr/local/lib/python3.7/dist-packages (from stanza) (3.17.3)\n",
            "Requirement already satisfied: requests in /usr/local/lib/python3.7/dist-packages (from stanza) (2.23.0)\n",
            "Requirement already satisfied: tqdm in /usr/local/lib/python3.7/dist-packages (from stanza) (4.63.0)\n",
            "Requirement already satisfied: typing-extensions in /usr/local/lib/python3.7/dist-packages (from torch>=1.3.0->stanza) (3.10.0.2)\n",
            "Requirement already satisfied: chardet<4,>=3.0.2 in /usr/local/lib/python3.7/dist-packages (from requests->stanza) (3.0.4)\n",
            "Requirement already satisfied: certifi>=2017.4.17 in /usr/local/lib/python3.7/dist-packages (from requests->stanza) (2021.10.8)\n",
            "Requirement already satisfied: urllib3!=1.25.0,!=1.25.1,<1.26,>=1.21.1 in /usr/local/lib/python3.7/dist-packages (from requests->stanza) (1.24.3)\n",
            "Requirement already satisfied: idna<3,>=2.5 in /usr/local/lib/python3.7/dist-packages (from requests->stanza) (2.10)\n",
            "Building wheels for collected packages: emoji\n",
            "  Building wheel for emoji (setup.py) ... \u001b[?25l\u001b[?25hdone\n",
            "  Created wheel for emoji: filename=emoji-1.7.0-py3-none-any.whl size=171046 sha256=e955320d35a681322bfae401f00ac8bcc65879ddd3e50849bd7b36c0c34e4a3e\n",
            "  Stored in directory: /root/.cache/pip/wheels/8a/4e/b6/57b01db010d17ef6ea9b40300af725ef3e210cb1acfb7ac8b6\n",
            "Successfully built emoji\n",
            "Installing collected packages: emoji, stanza\n",
            "Successfully installed emoji-1.7.0 stanza-1.3.0\n"
          ]
        }
      ]
    },
    {
      "cell_type": "code",
      "source": [
        "from google.colab import files\n",
        "uploaded = files.upload()"
      ],
      "metadata": {
        "id": "EWUZB06RriB1"
      },
      "execution_count": null,
      "outputs": []
    },
    {
      "cell_type": "code",
      "source": [
        "import stanza as st\n",
        "import pandas as pd\n",
        "st.download('pt') # download pt model\n",
        "nlp = st.Pipeline('pt') # initialize pt neural pipeline"
      ],
      "metadata": {
        "id": "ioHfeaFORVPo"
      },
      "execution_count": null,
      "outputs": []
    },
    {
      "cell_type": "code",
      "source": [
        "! pip install unidecode"
      ],
      "metadata": {
        "id": "fcOgo_91iT1K"
      },
      "execution_count": null,
      "outputs": []
    },
    {
      "cell_type": "code",
      "source": [
        "df = pd.read_csv('/content/restaurantes.csv',sep=';')\n",
        "\n",
        "#passar apenas os textos/frases para a função\n",
        "def getCoNLLU(df):\n",
        "  dicts = []\n",
        "  for texto in df:\n",
        "    doc = nlp(texto) # doc is class Document\n",
        "    dicts.append(doc.to_dict())\n",
        "\n",
        "  return dicts"
      ],
      "metadata": {
        "id": "1XFmLRUfOeeR"
      },
      "execution_count": 3,
      "outputs": []
    },
    {
      "cell_type": "code",
      "source": [
        "from unidecode import unidecode\n",
        "import re\n",
        "\n",
        "words = []\n",
        "\n",
        "for word in df['text']:\n",
        "  old_string = unidecode(word)\n",
        "  new_string = re.sub(r\"[^a-zA-Z0-9]\",\" \",old_string)\n",
        "  words.append(new_string.lower())"
      ],
      "metadata": {
        "id": "3cNFQ_HsiWL6"
      },
      "execution_count": null,
      "outputs": []
    },
    {
      "cell_type": "code",
      "source": [
        "df['text'] = words"
      ],
      "metadata": {
        "id": "qKayposUbCha"
      },
      "execution_count": null,
      "outputs": []
    },
    {
      "cell_type": "code",
      "source": [
        "df.head()"
      ],
      "metadata": {
        "colab": {
          "base_uri": "https://localhost:8080/",
          "height": 206
        },
        "id": "88xvnq7bi9f3",
        "outputId": "b36525c5-ca32-41db-8843-02d02f24561b"
      },
      "execution_count": null,
      "outputs": [
        {
          "output_type": "execute_result",
          "data": {
            "text/plain": [
              "                                                text      aspects aspectsClass\n",
              "0  hamburgueria artesanal com tempero diferenciad...      tempero         Food\n",
              "1  excelente peixe  para quem esta localizado no ...        peixe         Food\n",
              "2  serve lanches e cerveja gelada  tem mesinhas f...      cerveja       Drinks\n",
              "3                           muito bom o atendimento   atendimento      Service\n",
              "4                                  cardapio variado      Cardápio         Food"
            ],
            "text/html": [
              "\n",
              "  <div id=\"df-0c4979dc-d227-409d-9733-e729165d8361\">\n",
              "    <div class=\"colab-df-container\">\n",
              "      <div>\n",
              "<style scoped>\n",
              "    .dataframe tbody tr th:only-of-type {\n",
              "        vertical-align: middle;\n",
              "    }\n",
              "\n",
              "    .dataframe tbody tr th {\n",
              "        vertical-align: top;\n",
              "    }\n",
              "\n",
              "    .dataframe thead th {\n",
              "        text-align: right;\n",
              "    }\n",
              "</style>\n",
              "<table border=\"1\" class=\"dataframe\">\n",
              "  <thead>\n",
              "    <tr style=\"text-align: right;\">\n",
              "      <th></th>\n",
              "      <th>text</th>\n",
              "      <th>aspects</th>\n",
              "      <th>aspectsClass</th>\n",
              "    </tr>\n",
              "  </thead>\n",
              "  <tbody>\n",
              "    <tr>\n",
              "      <th>0</th>\n",
              "      <td>hamburgueria artesanal com tempero diferenciad...</td>\n",
              "      <td>tempero</td>\n",
              "      <td>Food</td>\n",
              "    </tr>\n",
              "    <tr>\n",
              "      <th>1</th>\n",
              "      <td>excelente peixe  para quem esta localizado no ...</td>\n",
              "      <td>peixe</td>\n",
              "      <td>Food</td>\n",
              "    </tr>\n",
              "    <tr>\n",
              "      <th>2</th>\n",
              "      <td>serve lanches e cerveja gelada  tem mesinhas f...</td>\n",
              "      <td>cerveja</td>\n",
              "      <td>Drinks</td>\n",
              "    </tr>\n",
              "    <tr>\n",
              "      <th>3</th>\n",
              "      <td>muito bom o atendimento</td>\n",
              "      <td>atendimento</td>\n",
              "      <td>Service</td>\n",
              "    </tr>\n",
              "    <tr>\n",
              "      <th>4</th>\n",
              "      <td>cardapio variado</td>\n",
              "      <td>Cardápio</td>\n",
              "      <td>Food</td>\n",
              "    </tr>\n",
              "  </tbody>\n",
              "</table>\n",
              "</div>\n",
              "      <button class=\"colab-df-convert\" onclick=\"convertToInteractive('df-0c4979dc-d227-409d-9733-e729165d8361')\"\n",
              "              title=\"Convert this dataframe to an interactive table.\"\n",
              "              style=\"display:none;\">\n",
              "        \n",
              "  <svg xmlns=\"http://www.w3.org/2000/svg\" height=\"24px\"viewBox=\"0 0 24 24\"\n",
              "       width=\"24px\">\n",
              "    <path d=\"M0 0h24v24H0V0z\" fill=\"none\"/>\n",
              "    <path d=\"M18.56 5.44l.94 2.06.94-2.06 2.06-.94-2.06-.94-.94-2.06-.94 2.06-2.06.94zm-11 1L8.5 8.5l.94-2.06 2.06-.94-2.06-.94L8.5 2.5l-.94 2.06-2.06.94zm10 10l.94 2.06.94-2.06 2.06-.94-2.06-.94-.94-2.06-.94 2.06-2.06.94z\"/><path d=\"M17.41 7.96l-1.37-1.37c-.4-.4-.92-.59-1.43-.59-.52 0-1.04.2-1.43.59L10.3 9.45l-7.72 7.72c-.78.78-.78 2.05 0 2.83L4 21.41c.39.39.9.59 1.41.59.51 0 1.02-.2 1.41-.59l7.78-7.78 2.81-2.81c.8-.78.8-2.07 0-2.86zM5.41 20L4 18.59l7.72-7.72 1.47 1.35L5.41 20z\"/>\n",
              "  </svg>\n",
              "      </button>\n",
              "      \n",
              "  <style>\n",
              "    .colab-df-container {\n",
              "      display:flex;\n",
              "      flex-wrap:wrap;\n",
              "      gap: 12px;\n",
              "    }\n",
              "\n",
              "    .colab-df-convert {\n",
              "      background-color: #E8F0FE;\n",
              "      border: none;\n",
              "      border-radius: 50%;\n",
              "      cursor: pointer;\n",
              "      display: none;\n",
              "      fill: #1967D2;\n",
              "      height: 32px;\n",
              "      padding: 0 0 0 0;\n",
              "      width: 32px;\n",
              "    }\n",
              "\n",
              "    .colab-df-convert:hover {\n",
              "      background-color: #E2EBFA;\n",
              "      box-shadow: 0px 1px 2px rgba(60, 64, 67, 0.3), 0px 1px 3px 1px rgba(60, 64, 67, 0.15);\n",
              "      fill: #174EA6;\n",
              "    }\n",
              "\n",
              "    [theme=dark] .colab-df-convert {\n",
              "      background-color: #3B4455;\n",
              "      fill: #D2E3FC;\n",
              "    }\n",
              "\n",
              "    [theme=dark] .colab-df-convert:hover {\n",
              "      background-color: #434B5C;\n",
              "      box-shadow: 0px 1px 3px 1px rgba(0, 0, 0, 0.15);\n",
              "      filter: drop-shadow(0px 1px 2px rgba(0, 0, 0, 0.3));\n",
              "      fill: #FFFFFF;\n",
              "    }\n",
              "  </style>\n",
              "\n",
              "      <script>\n",
              "        const buttonEl =\n",
              "          document.querySelector('#df-0c4979dc-d227-409d-9733-e729165d8361 button.colab-df-convert');\n",
              "        buttonEl.style.display =\n",
              "          google.colab.kernel.accessAllowed ? 'block' : 'none';\n",
              "\n",
              "        async function convertToInteractive(key) {\n",
              "          const element = document.querySelector('#df-0c4979dc-d227-409d-9733-e729165d8361');\n",
              "          const dataTable =\n",
              "            await google.colab.kernel.invokeFunction('convertToInteractive',\n",
              "                                                     [key], {});\n",
              "          if (!dataTable) return;\n",
              "\n",
              "          const docLinkHtml = 'Like what you see? Visit the ' +\n",
              "            '<a target=\"_blank\" href=https://colab.research.google.com/notebooks/data_table.ipynb>data table notebook</a>'\n",
              "            + ' to learn more about interactive tables.';\n",
              "          element.innerHTML = '';\n",
              "          dataTable['output_type'] = 'display_data';\n",
              "          await google.colab.output.renderOutput(dataTable, element);\n",
              "          const docLink = document.createElement('div');\n",
              "          docLink.innerHTML = docLinkHtml;\n",
              "          element.appendChild(docLink);\n",
              "        }\n",
              "      </script>\n",
              "    </div>\n",
              "  </div>\n",
              "  "
            ]
          },
          "metadata": {},
          "execution_count": 12
        }
      ]
    },
    {
      "cell_type": "code",
      "source": [
        "dicts = getCoNLLU(df['text'])\n",
        "\n",
        "saida = ''\n",
        "for sentenca in dicts[0:2]:\n",
        "  for tokens in sentenca:\n",
        "    for tks in tokens:\n",
        "      for tag in tks:\n",
        "        #print(\"tag:\" ,tag)\n",
        "        saida += str(tks[tag])  + \"\\t\"\n",
        "      saida +=\"\\n\"\n",
        "    saida +=\"\\n\"\n",
        "  saida +=\"\\n\"\n",
        "\n",
        "\n",
        "print(saida)"
      ],
      "metadata": {
        "colab": {
          "base_uri": "https://localhost:8080/"
        },
        "id": "-HC4fYHJShhY",
        "outputId": "99dac626-d16f-4cd4-e40b-7e04f47876f1"
      },
      "execution_count": null,
      "outputs": [
        {
          "output_type": "stream",
          "name": "stderr",
          "text": [
            "/usr/local/lib/python3.7/dist-packages/stanza/models/common/beam.py:86: UserWarning: __floordiv__ is deprecated, and its behavior will change in a future version of pytorch. It currently rounds toward 0 (like the 'trunc' function NOT 'floor'). This results in incorrect rounding for negative values. To keep the current behavior, use torch.div(a, b, rounding_mode='trunc'), or for actual floor division, use torch.div(a, b, rounding_mode='floor').\n",
            "  prevK = bestScoresId // numWords\n"
          ]
        },
        {
          "output_type": "stream",
          "name": "stdout",
          "text": [
            "1\thamburgueria\thamburgueria\tNOUN\tGender=Fem|Number=Sing\t11\tnsubj\t0\t12\t\n",
            "2\tartesanal\tartesanal\tADJ\tGender=Fem|Number=Sing\t1\tamod\t13\t22\t\n",
            "3\tcom\tcom\tADP\t4\tcase\t23\t26\t\n",
            "4\ttempero\ttempero\tNOUN\tGender=Masc|Number=Sing\t1\tnmod\t27\t34\t\n",
            "5\tdiferenciado\tdiferenciar\tVERB\tGender=Masc|Number=Sing|VerbForm=Part\t4\tacl\t35\t47\t\n",
            "6\tde\tde\tADP\t8\tcase\t49\t51\t\n",
            "7\tprimeira\tprimeiro\tADJ\tGender=Fem|NumType=Ord|Number=Sing\t8\tamod\t52\t60\t\n",
            "8\tqualidade\tqualidade\tNOUN\tGender=Fem|Number=Sing\t4\tnmod\t61\t70\t\n",
            "9\tfora\tser\tAUX\tMood=Ind|Number=Sing|Person=3|Tense=Pqp|VerbForm=Fin\t11\tcop\t72\t76\t\n",
            "10\to\to\tDET\tDefinite=Def|Gender=Masc|Number=Sing|PronType=Art\t11\tdet\t77\t78\t\n",
            "11\tatendimento\tatendimento\tNOUN\tGender=Masc|Number=Sing\t0\troot\t79\t90\t\n",
            "(12, 13)\tno\t91\t93\t\n",
            "12\tem\tem\tADP\t14\tcase\t\n",
            "13\to\to\tDET\tGender=Masc|Number=Sing|PronType=Art\t14\tdet\t\n",
            "14\tqual\tqual\tPRON\tGender=Masc|Number=Sing|PronType=Rel\t15\tobl\t94\t98\t\n",
            "15\tdiferencia\tdiferenciar\tVERB\tMood=Ind|Number=Sing|Person=3|Tense=Pres|VerbForm=Fin\t11\tacl:relcl\t99\t109\t\n",
            "16\tpor\tpor\tSCONJ\t18\tmark\t110\t113\t\n",
            "17\tserem\tser\tAUX\tNumber=Plur|Person=3|VerbForm=Inf\t18\tcop\t114\t119\t\n",
            "18\tbilingues\tbilingue\tADJ\tGender=Masc|Number=Plur\t15\txcomp\t120\t129\t\n",
            "\n",
            "\n",
            "1\texcelente\texcelente\tADJ\tGender=Masc|Number=Sing\t2\tamod\t0\t9\t\n",
            "2\tpeixe\tpeixe\tNOUN\tGender=Masc|Number=Sing\t0\troot\t10\t15\t\n",
            "3\tpara\tpara\tSCONJ\t6\tmark\t17\t21\t\n",
            "4\tquem\tquem\tPRON\tGender=Masc|Number=Sing|PronType=Rel\t6\tnsubj\t22\t26\t\n",
            "5\testa\teste\tPRON\tGender=Fem|Number=Sing|PronType=Dem\t6\tnsubj\t27\t31\t\n",
            "6\tlocalizado\tlocalizar\tVERB\tGender=Masc|Number=Sing|VerbForm=Part\t2\tacl\t32\t42\t\n",
            "(7, 8)\tno\t43\t45\t\n",
            "7\tem\tem\tADP\t9\tcase\t\n",
            "8\to\to\tDET\tDefinite=Def|Gender=Masc|Number=Sing|PronType=Art\t9\tdet\t\n",
            "9\tdistrito\tdistrito\tNOUN\tGender=Masc|Number=Sing\t6\tobl\t46\t54\t\n",
            "10\tindustrial\tindustrial\tADJ\tGender=Masc|Number=Sing\t9\tamod\t55\t65\t\n",
            "11\texcelente\texcelente\tADJ\tGender=Masc|Number=Sing\t9\tamod\t67\t76\t\n",
            "12\tpedida\tpedir\tVERB\tGender=Fem|Number=Sing|VerbForm=Part\t9\tacl\t77\t83\t\n",
            "13\tpara\tpara\tADP\t14\tcase\t84\t88\t\n",
            "14\talmoco\talmoco\tNOUN\tGender=Masc|Number=Sing\t12\tobl\t89\t95\t\n",
            "\n",
            "\n",
            "\n"
          ]
        }
      ]
    },
    {
      "cell_type": "code",
      "source": [
        "def getNouns():\n",
        "  for sentenca in dicts:\n",
        "    for tokens in sentenca:\n",
        "      for tks in tokens:\n",
        "        for tag in tks:\n",
        "          if tks[tag] == 'NOUN':\n",
        "            yield (tks['text'].lower())\n",
        "          "
      ],
      "metadata": {
        "id": "S-KR80K2b-_r"
      },
      "execution_count": null,
      "outputs": []
    },
    {
      "cell_type": "code",
      "source": [
        "from collections import Counter, defaultdict\n",
        "import json\n",
        "\n",
        "c = Counter()\n",
        "c.update(getNouns())\n",
        "nouns = getNouns()\n",
        "print(c)\n",
        "\n",
        "json.dump(dict(c), open('/content/nouns.json', 'w'))"
      ],
      "metadata": {
        "colab": {
          "base_uri": "https://localhost:8080/"
        },
        "id": "kvIBBN1CbwkA",
        "outputId": "f134972b-8723-4564-fb25-4a53b9a5a856"
      },
      "execution_count": null,
      "outputs": [
        {
          "output_type": "stream",
          "name": "stdout",
          "text": [
            "Counter({'atendimento': 74, 'comida': 52, 'ambiente': 38, 'lugar': 33, 'preco': 31, 'pratos': 23, 'restaurante': 23, 'pena': 16, 'local': 15, 'carne': 15, 'qualidade': 14, 'opcao': 14, 'pessoas': 13, 'servico': 12, 'variedade': 12, 'rodizio': 11, 'visita': 9, 'conta': 9, 'peixe': 8, 'casa': 8, 'cardapio': 8, 'massa': 8, 'carnes': 8, 'almoco': 7, 'prato': 7, 'tambaqui': 7, 'garcons': 7, 'estacionamento': 7, 'tempero': 6, 'reais': 6, 'musica': 6, 'manaus': 6, 'bebidas': 6, 'problema': 6, 'localizacao': 6, 'pizza': 5, 'garcom': 5, 'regiao': 5, 'peixes': 5, 'sucos': 5, 'buffet': 5, 'carte': 5, 'delicia': 5, 'valor': 5, 'precos': 5, 'cervejas': 4, 'vezes': 4, 'pizzas': 4, 'acompanhamento': 4, 'arroz': 4, 'vivo': 4, 'camarao': 4, 'entrada': 4, 'resultado': 4, 'batida': 4, 'cidade': 4, 'experiencia': 4, 'acustica': 4, 'jantar': 4, 'mundo': 4, 'padrao': 4, 'pais': 4, 'salgados': 4, 'opcoes': 4, 'empanadas': 3, 'vinho': 3, 'decoracao': 3, 'beira': 3, 'cozida': 3, 'brocolis': 3, 'coco': 3, 'cupuacu': 3, 'farofa': 3, 'ponto': 3, 'luxo': 3, 'amigos': 3, 'nota': 3, 'saladas': 3, 'pate': 3, 'espetaculo': 3, 'variedades': 3, 'bacalhau': 3, 'partes': 3, 'brinquedoteca': 3, 'filhos': 3, 'sanduiches': 3, 'estrutura': 3, 'area': 3, 'mobilidade': 3, 'cadeirantes': 3, 'numero': 3, 'reserva': 3, 'tacaca': 3, 'cerveja': 2, 'custo': 2, 'amazonia': 2, 'unidades': 2, 'sr': 2, 'shopping': 2, 'sobremesa': 2, 'sorvete': 2, 'duvida': 2, 'pessoa': 2, 'otima': 2, 'frente': 2, 'teatro': 2, 'culinaria': 2, 'ingredientes': 2, 'agua': 2, 'duvidas': 2, 'peixarias': 2, 'sabores': 2, 'acompanhamentos': 2, 'encontro': 2, 'expectativa': 2, 'caipirinhas': 2, 'cacau': 2, 'familia': 2, 'comidas': 2, 'tambem': 2, 'churrascaria': 2, 'precinho': 2, 'matrinxa': 2, 'ovo': 2, 'funcionarios': 2, 'fartura': 2, 'bolinho': 2, 'gente': 2, 'coqueiro': 2, 'sol': 2, 'jantarzinho': 2, 'destaque': 2, 'coisa': 2, 'dede': 2, 'sopas': 2, 'fome': 2, 'feira': 2, 'cafezinho': 2, 'hamburgueria': 1, 'distrito': 1, 'lanches': 1, 'mesinhas': 1, 'estabelecimento': 1, 'parte': 1, 'charme': 1, 'pequeno': 1, 'lugares': 1, 'parede': 1, 'escamas': 1, 'pirarucu': 1, 'pau': 1, 'pique': 1, 'garcon': 1, 'historia': 1, 'empreendimento': 1, 'delivery': 1, 'ponta': 1, 'som': 1, 'ricardo': 1, 'jose': 1, 'show': 1, 'cocada': 1, 'forno': 1, 'leite': 1, 'quantidade': 1, 'maximo': 1, 'sorveteria': 1, 'praca': 1, 'creme': 1, 'pessoal': 1, 'banzeiro': 1, 'variacao': 1, 'cardipio': 1, 'espinha': 1, 'castanha': 1, 'suco': 1, 'degustacao': 1, 'peixaria': 1, 'media': 1, 'centavo': 1, 'atencao': 1, 'pedido': 1, 'files': 1, 'apetite': 1, 'bolso': 1, 'criatividade': 1, 'elaboracao': 1, 'explosao': 1, 'sabor': 1, 'especialidade': 1, 'capricho': 1, 'brasa': 1, 'elite': 1, 'kg': 1, 'super': 1, 'certeza': 1, 'choupana': 1, 'melhores': 1, 'agradabilissimo': 1, 'bar': 1, 'razao': 1, 'diversidade': 1, 'frequentadores': 1, 'centrinho': 1, 'acai': 1, 'delicioso': 1, 'jovens': 1, 'energia': 1, 'cortes': 1, 'convite': 1, 'tempo': 1, 'data': 1, 'andares': 1, 'banheiros': 1, 'descoberta': 1, 'terras': 1, 'hotel': 1, 'erro': 1, 'nao': 1, 'sombra': 1, 'bares': 1, 'frescura': 1, 'cafe': 1, 'oleo': 1, 'restaurantes': 1, 'entrega': 1, 'pedida': 1, 'bolinhos': 1, 'macaxeira': 1, 'massas': 1, 'cheio': 1, 'ada': 1, 'queijos': 1, 'tradicional': 1, 'churrasco': 1, 'entao': 1, 'sopa': 1, 'legumes': 1, 'torradinha': 1, 'aniversarios': 1, 'picanha': 1, 'so': 1, 'astral': 1, 'largo': 1, 'entanto': 1, 'administracao': 1, 'tucunare': 1, 'igual': 1, 'senac': 1, 'alimento': 1, 'quilo': 1, 'alternativa': 1, 'parque': 1, 'rio': 1, 'passeio': 1, 'bebida': 1, 'treinamento': 1, 'funcionarias': 1, 'cachacaria': 1, 'shop': 1, 'olhos': 1, 'ladinho': 1, 'arvores': 1, 'demora': 1, 'nome': 1, 'tipo': 1, 'tipicas': 1, 'dunkel': 1, 'top': 1, 'cachacas': 1, 'melhor': 1, 'venda': 1, 'drinks': 1, 'chopes': 1, 'min': 1, 'rodada': 1, 'monte': 1, 'chopp': 1, 'visitas': 1, 'sistema': 1, 'habibs': 1, 'saida': 1, 'terca': 1, 'concorrentes': 1, 'bacana': 1, 'mm': 1, 's': 1, 'recheio': 1, 'borda': 1, 'gergelim': 1, 'sobremesas': 1, 'shows': 1, 'quintas': 1, 'padaria': 1, 'possibilidade': 1, 'sanduiche': 1, 'lanche': 1})\n"
          ]
        }
      ]
    },
    {
      "cell_type": "code",
      "source": [
        "def getCorpus2(df):\n",
        "  corpus = []\n",
        "  for item in df:\n",
        "    corpus.append(item.split())\n",
        "  \n",
        "  return corpus"
      ],
      "metadata": {
        "id": "LlHOFEcBZOfz"
      },
      "execution_count": null,
      "outputs": []
    },
    {
      "cell_type": "code",
      "source": [
        "from gensim.models import Word2Vec\n",
        "corpus = getCorpus2(df['text'])\n",
        "#print(corpus[1::])\n",
        "\n",
        "f = Word2Vec(corpus[1::],\n",
        "                 sg=0,\n",
        "                 negative=5,\n",
        "                 window=10,\n",
        "                 size=200,\n",
        "                 min_count=2,\n",
        "                 iter=5,\n",
        "                 workers=10)\n",
        "\n",
        "f.wv.save_word2vec_format(\"/content/my_word_vectors.vec\")\n"
      ],
      "metadata": {
        "id": "G2GfQkXtlMR-"
      },
      "execution_count": null,
      "outputs": []
    },
    {
      "cell_type": "code",
      "source": [
        "d = json.load(open('/content/nouns.json'))\n",
        "nouns2 = Counter()\n",
        "#print(f.wv.vocab.items[0])\n",
        "for k, v in d.items():\n",
        "  for tag,_ in f.wv.vocab.items():\n",
        "    if k.lower() == tag:\n",
        "      #print(\"valor v: \",v)\n",
        "      nouns2[k.lower()] += v\n",
        "\n",
        "# nouns2, _ = zip(*sorted(nouns2.items(),\n",
        "#                 key=lambda x: x[1],\n",
        "#                 reverse=True))\n",
        "\n",
        "# json.dump(nouns, open(\"/content/aspect_words.json\", \"w\"))"
      ],
      "metadata": {
        "id": "tgdUiBsgnNa4"
      },
      "execution_count": null,
      "outputs": []
    },
    {
      "cell_type": "code",
      "source": [
        "nouns3, _ = zip(*sorted(nouns2.items(),\n",
        "                key=lambda x: x[1],\n",
        "                reverse=True))\n",
        "\n",
        "json.dump(nouns3, open(\"/content/aspect_words.json\", \"w\"))"
      ],
      "metadata": {
        "id": "sF0elJ6rlGB2"
      },
      "execution_count": null,
      "outputs": []
    },
    {
      "cell_type": "markdown",
      "source": [
        "# Métricas e Funções do algoritmo"
      ],
      "metadata": {
        "id": "gPdLq-ICm7Xn"
      }
    },
    {
      "cell_type": "code",
      "source": [
        "! pip install reach"
      ],
      "metadata": {
        "id": "dHXsU1dEnbPf"
      },
      "execution_count": null,
      "outputs": []
    },
    {
      "cell_type": "code",
      "source": [
        "import json\n",
        "from reach import Reach\n",
        "from collections import defaultdict\n",
        "import numpy as np\n",
        "from collections import defaultdict\n",
        "from sklearn.metrics.pairwise import rbf_kernel\n",
        "from collections import Counter\n",
        "from sklearn.metrics import precision_recall_fscore_support\n",
        "from sklearn.metrics import classification_report"
      ],
      "metadata": {
        "id": "sQpMtYQZmDoY"
      },
      "execution_count": 40,
      "outputs": []
    },
    {
      "cell_type": "code",
      "source": [
        "def normalize(x):\n",
        "    \"\"\"Normalize a vector while controlling for zero vectors.\"\"\"\n",
        "    x = np.copy(x)\n",
        "    if np.ndim(x) == 1:\n",
        "        norm = np.linalg.norm(x)\n",
        "        if norm == 0:\n",
        "            return x\n",
        "        return x / np.linalg.norm(x)\n",
        "    norm = np.linalg.norm(x, axis=-1)\n",
        "    mask = norm > 0\n",
        "    x[mask] /= norm[mask][:, None]\n",
        "    return x\n"
      ],
      "metadata": {
        "id": "Ir6aDzlZoMXc"
      },
      "execution_count": 6,
      "outputs": []
    },
    {
      "cell_type": "code",
      "source": [
        "\"\"\"Simple method.\"\"\"\n",
        "import numpy as np\n",
        "from collections import defaultdict\n",
        "from sklearn.metrics.pairwise import rbf_kernel\n",
        "from collections import Counter\n",
        "\n",
        "\n",
        "def get_aspects(fragments, embeddings, n_adj_seed, n_nouns, min_count):\n",
        "    \"\"\"Get aspects based on fragments.\"\"\"\n",
        "    adj, _, noun = zip(*fragments)\n",
        "    adj_cand, _ = zip(*Counter(adj).most_common(n_adj_seed))\n",
        "\n",
        "    cands = candidate(embeddings,\n",
        "                      adj,\n",
        "                      noun,\n",
        "                      adj_cand,\n",
        "                      n_nouns,\n",
        "                      min_count)\n",
        "\n",
        "    return cands\n",
        "\n",
        "\n",
        "def candidate(embeddings,\n",
        "              adj,\n",
        "              noun,\n",
        "              seed_words,\n",
        "              n_nouns,\n",
        "              min_count):\n",
        "    \"\"\"\n",
        "    Generates candidate aspects based on adjective co-occurrences\n",
        "\n",
        "    Parameters\n",
        "    ----------\n",
        "    embeddings : Reach\n",
        "        A Reach instance containing the word embeddings.\n",
        "    constructions : list of tuples\n",
        "        A list of adjective noun tuples.\n",
        "    seed_words : list of str\n",
        "        A list of strings. All these words should be in vocab for the\n",
        "        given embeddings model.\n",
        "    frequency_threshold : int\n",
        "        Any noun occurring fewer times than this threshold is discarded\n",
        "    n_nouns : int\n",
        "        The amount of items to return\n",
        "\n",
        "    Returns\n",
        "    -------\n",
        "    candidates : dict\n",
        "        A dictionary mapping strings to their scores.\n",
        "\n",
        "    \"\"\"\n",
        "    a = list(set(adj))\n",
        "    sims = embeddings.similarity(a, seed_words).max(1)\n",
        "    adj_scores = dict(zip(a, sims))\n",
        "\n",
        "    noun_scores = defaultdict(lambda: [0, 0])\n",
        "    for adj, noun in zip(adj, noun):\n",
        "        noun_scores[noun][0] += adj_scores[adj]\n",
        "        noun_scores[noun][1] += 1\n",
        "\n",
        "    noun_scores = {k: v[0] for k, v in noun_scores.items()\n",
        "                   if v[1] > min_count}\n",
        "\n",
        "    return sorted(noun_scores.items(), key=lambda x: x[1])[-n_nouns:]\n",
        "\n",
        "\n",
        "def rbf_attention(vec, memory, gamma, **kwargs):\n",
        "    \"\"\"\n",
        "    Single-head attention using RBF kernel.\n",
        "\n",
        "    Parameters\n",
        "    ----------\n",
        "    vec : np.array\n",
        "        an (N, D)-shaped array, representing the tokens of an instance.\n",
        "    memory : np.array\n",
        "        an (M, D)-shaped array, representing the memory items\n",
        "    gamma : float\n",
        "        the gamma of the RBF kernel.\n",
        "\n",
        "    Returns\n",
        "    -------\n",
        "    attention : np.array\n",
        "        A (1, N)-shaped array, representing a single-headed attention mechanism\n",
        "\n",
        "    \"\"\"\n",
        "    z = rbf_kernel(vec, memory, gamma)\n",
        "    s = z.sum()\n",
        "    if s == 0:\n",
        "        # If s happens to be 0, back off to uniform\n",
        "        return np.ones((1, len(vec))) / len(vec)\n",
        "    return (z.sum(1) / s)[None, :]\n",
        "\n",
        "\n",
        "def softmax(x, axis=1):\n",
        "    \"\"\"Compute softmax values for each sets of scores in x.\"\"\"\n",
        "    e_x = np.exp(x - np.max(x, axis, keepdims=True))\n",
        "    s = e_x.sum(axis=axis, keepdims=True)\n",
        "    return e_x / s\n",
        "\n",
        "\n",
        "def attention(vec, memory, **kwargs):\n",
        "    \"\"\"\n",
        "    Standard multi-head attention mechanism.\n",
        "\n",
        "    Parameters\n",
        "    ----------\n",
        "    vec : np.array\n",
        "        an (N, D)-shaped array, representing the tokens of an instance.\n",
        "    memory : np.array\n",
        "        an (M, D)-shaped array, representing the memory items\n",
        "\n",
        "    Returns\n",
        "    -------\n",
        "    attention : np.array\n",
        "        A (M, N)-shaped array, representing the attention over all memories.\n",
        "\n",
        "    \"\"\"\n",
        "    z = memory.dot(vec.T)\n",
        "    return softmax(z)\n",
        "\n",
        "\n",
        "def mean(vec, aspect_vecs, **kwargs):\n",
        "    \"\"\"Just a mean weighting.\"\"\"\n",
        "    return (np.ones(len(vec)) / len(vec))[None, :]"
      ],
      "metadata": {
        "id": "yUCmvOZ9oo8I"
      },
      "execution_count": 7,
      "outputs": []
    },
    {
      "cell_type": "code",
      "source": [
        "def get_scores(instances,\n",
        "               aspects,\n",
        "               r,\n",
        "               labels,\n",
        "               remove_oov=False,\n",
        "               attention_func=attention,\n",
        "               **kwargs):\n",
        "    \"\"\"Scoring function.\"\"\"\n",
        "    #print(labels)\n",
        "    assert all([x in r.items for x in labels])\n",
        "    \n",
        "    label_vecs = normalize(r.vectorize(labels))\n",
        "    aspect_vecs = [x.mean(0)\n",
        "                   for x in r.transform(aspects,\n",
        "                                        remove_oov=False)]\n",
        "    aspect_vecs = np.stack(aspect_vecs)\n",
        "    if len(instances) == 1:\n",
        "        instances = [instances]\n",
        "\n",
        "    t = r.transform(instances, remove_oov=remove_oov)\n",
        "\n",
        "    out = []\n",
        "    for vec in t:\n",
        "        att = attention_func(vec, aspect_vecs, **kwargs)\n",
        "        #print(\"att\",att)\n",
        "        # Att = (n_heads, n_words)\n",
        "        z = att.dot(vec)\n",
        "        # z = (n_heads, n_dim)\n",
        "        x = normalize(z).dot(label_vecs.T)\n",
        "        # x = (n_heads, n_labels)\n",
        "        out.append(x.sum(0))\n",
        "    return np.stack(out)"
      ],
      "metadata": {
        "id": "sJoeggzIpVD5"
      },
      "execution_count": 64,
      "outputs": []
    },
    {
      "cell_type": "markdown",
      "source": [
        "# Avaliação com o dataset restaurantes.csv"
      ],
      "metadata": {
        "id": "rQ_t4t1SctHz"
      }
    },
    {
      "cell_type": "markdown",
      "source": [
        "## Processamento e escolhas de labels para os dados"
      ],
      "metadata": {
        "id": "rcsKiTZ8Y5W9"
      }
    },
    {
      "cell_type": "code",
      "source": [
        "df['labels'] =-1\n",
        "df.head()"
      ],
      "metadata": {
        "id": "bw8_MkuXR4Re",
        "outputId": "3c96f33c-2768-4f5e-8c87-354f16d4c626",
        "colab": {
          "base_uri": "https://localhost:8080/",
          "height": 206
        }
      },
      "execution_count": 15,
      "outputs": [
        {
          "output_type": "execute_result",
          "data": {
            "text/plain": [
              "                                                text      aspects  \\\n",
              "0  Hamburgueria artesanal com tempero diferenciad...      tempero   \n",
              "1  Excelente peixe, para quem esta localizado no ...        peixe   \n",
              "2  Serve lanches e cerveja gelada, tem mesinhas f...      cerveja   \n",
              "3                           Muito bom o atendimento.  atendimento   \n",
              "4                                  Cardápio variado.     Cardápio   \n",
              "\n",
              "  aspectsClass  labels  \n",
              "0         Food      -1  \n",
              "1         Food      -1  \n",
              "2       Drinks      -1  \n",
              "3      Service      -1  \n",
              "4         Food      -1  "
            ],
            "text/html": [
              "\n",
              "  <div id=\"df-fac714b1-6b48-4dcb-8b96-2bde31f7d103\">\n",
              "    <div class=\"colab-df-container\">\n",
              "      <div>\n",
              "<style scoped>\n",
              "    .dataframe tbody tr th:only-of-type {\n",
              "        vertical-align: middle;\n",
              "    }\n",
              "\n",
              "    .dataframe tbody tr th {\n",
              "        vertical-align: top;\n",
              "    }\n",
              "\n",
              "    .dataframe thead th {\n",
              "        text-align: right;\n",
              "    }\n",
              "</style>\n",
              "<table border=\"1\" class=\"dataframe\">\n",
              "  <thead>\n",
              "    <tr style=\"text-align: right;\">\n",
              "      <th></th>\n",
              "      <th>text</th>\n",
              "      <th>aspects</th>\n",
              "      <th>aspectsClass</th>\n",
              "      <th>labels</th>\n",
              "    </tr>\n",
              "  </thead>\n",
              "  <tbody>\n",
              "    <tr>\n",
              "      <th>0</th>\n",
              "      <td>Hamburgueria artesanal com tempero diferenciad...</td>\n",
              "      <td>tempero</td>\n",
              "      <td>Food</td>\n",
              "      <td>-1</td>\n",
              "    </tr>\n",
              "    <tr>\n",
              "      <th>1</th>\n",
              "      <td>Excelente peixe, para quem esta localizado no ...</td>\n",
              "      <td>peixe</td>\n",
              "      <td>Food</td>\n",
              "      <td>-1</td>\n",
              "    </tr>\n",
              "    <tr>\n",
              "      <th>2</th>\n",
              "      <td>Serve lanches e cerveja gelada, tem mesinhas f...</td>\n",
              "      <td>cerveja</td>\n",
              "      <td>Drinks</td>\n",
              "      <td>-1</td>\n",
              "    </tr>\n",
              "    <tr>\n",
              "      <th>3</th>\n",
              "      <td>Muito bom o atendimento.</td>\n",
              "      <td>atendimento</td>\n",
              "      <td>Service</td>\n",
              "      <td>-1</td>\n",
              "    </tr>\n",
              "    <tr>\n",
              "      <th>4</th>\n",
              "      <td>Cardápio variado.</td>\n",
              "      <td>Cardápio</td>\n",
              "      <td>Food</td>\n",
              "      <td>-1</td>\n",
              "    </tr>\n",
              "  </tbody>\n",
              "</table>\n",
              "</div>\n",
              "      <button class=\"colab-df-convert\" onclick=\"convertToInteractive('df-fac714b1-6b48-4dcb-8b96-2bde31f7d103')\"\n",
              "              title=\"Convert this dataframe to an interactive table.\"\n",
              "              style=\"display:none;\">\n",
              "        \n",
              "  <svg xmlns=\"http://www.w3.org/2000/svg\" height=\"24px\"viewBox=\"0 0 24 24\"\n",
              "       width=\"24px\">\n",
              "    <path d=\"M0 0h24v24H0V0z\" fill=\"none\"/>\n",
              "    <path d=\"M18.56 5.44l.94 2.06.94-2.06 2.06-.94-2.06-.94-.94-2.06-.94 2.06-2.06.94zm-11 1L8.5 8.5l.94-2.06 2.06-.94-2.06-.94L8.5 2.5l-.94 2.06-2.06.94zm10 10l.94 2.06.94-2.06 2.06-.94-2.06-.94-.94-2.06-.94 2.06-2.06.94z\"/><path d=\"M17.41 7.96l-1.37-1.37c-.4-.4-.92-.59-1.43-.59-.52 0-1.04.2-1.43.59L10.3 9.45l-7.72 7.72c-.78.78-.78 2.05 0 2.83L4 21.41c.39.39.9.59 1.41.59.51 0 1.02-.2 1.41-.59l7.78-7.78 2.81-2.81c.8-.78.8-2.07 0-2.86zM5.41 20L4 18.59l7.72-7.72 1.47 1.35L5.41 20z\"/>\n",
              "  </svg>\n",
              "      </button>\n",
              "      \n",
              "  <style>\n",
              "    .colab-df-container {\n",
              "      display:flex;\n",
              "      flex-wrap:wrap;\n",
              "      gap: 12px;\n",
              "    }\n",
              "\n",
              "    .colab-df-convert {\n",
              "      background-color: #E8F0FE;\n",
              "      border: none;\n",
              "      border-radius: 50%;\n",
              "      cursor: pointer;\n",
              "      display: none;\n",
              "      fill: #1967D2;\n",
              "      height: 32px;\n",
              "      padding: 0 0 0 0;\n",
              "      width: 32px;\n",
              "    }\n",
              "\n",
              "    .colab-df-convert:hover {\n",
              "      background-color: #E2EBFA;\n",
              "      box-shadow: 0px 1px 2px rgba(60, 64, 67, 0.3), 0px 1px 3px 1px rgba(60, 64, 67, 0.15);\n",
              "      fill: #174EA6;\n",
              "    }\n",
              "\n",
              "    [theme=dark] .colab-df-convert {\n",
              "      background-color: #3B4455;\n",
              "      fill: #D2E3FC;\n",
              "    }\n",
              "\n",
              "    [theme=dark] .colab-df-convert:hover {\n",
              "      background-color: #434B5C;\n",
              "      box-shadow: 0px 1px 3px 1px rgba(0, 0, 0, 0.15);\n",
              "      filter: drop-shadow(0px 1px 2px rgba(0, 0, 0, 0.3));\n",
              "      fill: #FFFFFF;\n",
              "    }\n",
              "  </style>\n",
              "\n",
              "      <script>\n",
              "        const buttonEl =\n",
              "          document.querySelector('#df-fac714b1-6b48-4dcb-8b96-2bde31f7d103 button.colab-df-convert');\n",
              "        buttonEl.style.display =\n",
              "          google.colab.kernel.accessAllowed ? 'block' : 'none';\n",
              "\n",
              "        async function convertToInteractive(key) {\n",
              "          const element = document.querySelector('#df-fac714b1-6b48-4dcb-8b96-2bde31f7d103');\n",
              "          const dataTable =\n",
              "            await google.colab.kernel.invokeFunction('convertToInteractive',\n",
              "                                                     [key], {});\n",
              "          if (!dataTable) return;\n",
              "\n",
              "          const docLinkHtml = 'Like what you see? Visit the ' +\n",
              "            '<a target=\"_blank\" href=https://colab.research.google.com/notebooks/data_table.ipynb>data table notebook</a>'\n",
              "            + ' to learn more about interactive tables.';\n",
              "          element.innerHTML = '';\n",
              "          dataTable['output_type'] = 'display_data';\n",
              "          await google.colab.output.renderOutput(dataTable, element);\n",
              "          const docLink = document.createElement('div');\n",
              "          docLink.innerHTML = docLinkHtml;\n",
              "          element.appendChild(docLink);\n",
              "        }\n",
              "      </script>\n",
              "    </div>\n",
              "  </div>\n",
              "  "
            ]
          },
          "metadata": {},
          "execution_count": 15
        }
      ]
    },
    {
      "cell_type": "code",
      "source": [
        "df['aspectsClass'].unique()"
      ],
      "metadata": {
        "id": "Yhd0dCDIU3hW",
        "outputId": "ace69cca-1740-4fd4-dedb-82d98b86a0b5",
        "colab": {
          "base_uri": "https://localhost:8080/"
        }
      },
      "execution_count": null,
      "outputs": [
        {
          "output_type": "execute_result",
          "data": {
            "text/plain": [
              "array(['Food', 'Drinks', 'Service', 'Ambience', ' Price', 'Location',\n",
              "       'Price', 'Miscellaneous', 'General', nan, 'service'], dtype=object)"
            ]
          },
          "metadata": {},
          "execution_count": 39
        }
      ]
    },
    {
      "cell_type": "code",
      "source": [
        "df.loc[df[\"aspectsClass\"] == \"Service\", \"labels\"] = 0\n",
        "df.loc[df[\"aspectsClass\"] == \"Food\", \"labels\"] = 1\n",
        "df.loc[df[\"aspectsClass\"] == \"Price\", \"labels\"] = 2\n",
        "df.loc[df[\"aspectsClass\"] == \"Ambience\", \"labels\"] = 3\n",
        "df.loc[df[\"aspectsClass\"] == \"Location\", \"labels\"] = 4"
      ],
      "metadata": {
        "id": "OYoUYfBaSaiO"
      },
      "execution_count": 18,
      "outputs": []
    },
    {
      "cell_type": "code",
      "source": [
        "df_tst = df[df['labels'] != -1]\n",
        "df_tst.head()"
      ],
      "metadata": {
        "id": "DqeqWNljS_bE",
        "outputId": "d8b963df-ae1c-4f8d-b428-6659bf3a696a",
        "colab": {
          "base_uri": "https://localhost:8080/",
          "height": 206
        }
      },
      "execution_count": 36,
      "outputs": [
        {
          "output_type": "execute_result",
          "data": {
            "text/plain": [
              "                                                text      aspects  \\\n",
              "0  Hamburgueria artesanal com tempero diferenciad...      tempero   \n",
              "1  Excelente peixe, para quem esta localizado no ...        peixe   \n",
              "3                           Muito bom o atendimento.  atendimento   \n",
              "4                                  Cardápio variado.     Cardápio   \n",
              "5                                Ambiente agradável.     Ambiente   \n",
              "\n",
              "  aspectsClass  labels  \n",
              "0         Food       1  \n",
              "1         Food       1  \n",
              "3      Service       0  \n",
              "4         Food       1  \n",
              "5     Ambience       3  "
            ],
            "text/html": [
              "\n",
              "  <div id=\"df-897c1d08-8e74-4a8b-9257-1190167978cc\">\n",
              "    <div class=\"colab-df-container\">\n",
              "      <div>\n",
              "<style scoped>\n",
              "    .dataframe tbody tr th:only-of-type {\n",
              "        vertical-align: middle;\n",
              "    }\n",
              "\n",
              "    .dataframe tbody tr th {\n",
              "        vertical-align: top;\n",
              "    }\n",
              "\n",
              "    .dataframe thead th {\n",
              "        text-align: right;\n",
              "    }\n",
              "</style>\n",
              "<table border=\"1\" class=\"dataframe\">\n",
              "  <thead>\n",
              "    <tr style=\"text-align: right;\">\n",
              "      <th></th>\n",
              "      <th>text</th>\n",
              "      <th>aspects</th>\n",
              "      <th>aspectsClass</th>\n",
              "      <th>labels</th>\n",
              "    </tr>\n",
              "  </thead>\n",
              "  <tbody>\n",
              "    <tr>\n",
              "      <th>0</th>\n",
              "      <td>Hamburgueria artesanal com tempero diferenciad...</td>\n",
              "      <td>tempero</td>\n",
              "      <td>Food</td>\n",
              "      <td>1</td>\n",
              "    </tr>\n",
              "    <tr>\n",
              "      <th>1</th>\n",
              "      <td>Excelente peixe, para quem esta localizado no ...</td>\n",
              "      <td>peixe</td>\n",
              "      <td>Food</td>\n",
              "      <td>1</td>\n",
              "    </tr>\n",
              "    <tr>\n",
              "      <th>3</th>\n",
              "      <td>Muito bom o atendimento.</td>\n",
              "      <td>atendimento</td>\n",
              "      <td>Service</td>\n",
              "      <td>0</td>\n",
              "    </tr>\n",
              "    <tr>\n",
              "      <th>4</th>\n",
              "      <td>Cardápio variado.</td>\n",
              "      <td>Cardápio</td>\n",
              "      <td>Food</td>\n",
              "      <td>1</td>\n",
              "    </tr>\n",
              "    <tr>\n",
              "      <th>5</th>\n",
              "      <td>Ambiente agradável.</td>\n",
              "      <td>Ambiente</td>\n",
              "      <td>Ambience</td>\n",
              "      <td>3</td>\n",
              "    </tr>\n",
              "  </tbody>\n",
              "</table>\n",
              "</div>\n",
              "      <button class=\"colab-df-convert\" onclick=\"convertToInteractive('df-897c1d08-8e74-4a8b-9257-1190167978cc')\"\n",
              "              title=\"Convert this dataframe to an interactive table.\"\n",
              "              style=\"display:none;\">\n",
              "        \n",
              "  <svg xmlns=\"http://www.w3.org/2000/svg\" height=\"24px\"viewBox=\"0 0 24 24\"\n",
              "       width=\"24px\">\n",
              "    <path d=\"M0 0h24v24H0V0z\" fill=\"none\"/>\n",
              "    <path d=\"M18.56 5.44l.94 2.06.94-2.06 2.06-.94-2.06-.94-.94-2.06-.94 2.06-2.06.94zm-11 1L8.5 8.5l.94-2.06 2.06-.94-2.06-.94L8.5 2.5l-.94 2.06-2.06.94zm10 10l.94 2.06.94-2.06 2.06-.94-2.06-.94-.94-2.06-.94 2.06-2.06.94z\"/><path d=\"M17.41 7.96l-1.37-1.37c-.4-.4-.92-.59-1.43-.59-.52 0-1.04.2-1.43.59L10.3 9.45l-7.72 7.72c-.78.78-.78 2.05 0 2.83L4 21.41c.39.39.9.59 1.41.59.51 0 1.02-.2 1.41-.59l7.78-7.78 2.81-2.81c.8-.78.8-2.07 0-2.86zM5.41 20L4 18.59l7.72-7.72 1.47 1.35L5.41 20z\"/>\n",
              "  </svg>\n",
              "      </button>\n",
              "      \n",
              "  <style>\n",
              "    .colab-df-container {\n",
              "      display:flex;\n",
              "      flex-wrap:wrap;\n",
              "      gap: 12px;\n",
              "    }\n",
              "\n",
              "    .colab-df-convert {\n",
              "      background-color: #E8F0FE;\n",
              "      border: none;\n",
              "      border-radius: 50%;\n",
              "      cursor: pointer;\n",
              "      display: none;\n",
              "      fill: #1967D2;\n",
              "      height: 32px;\n",
              "      padding: 0 0 0 0;\n",
              "      width: 32px;\n",
              "    }\n",
              "\n",
              "    .colab-df-convert:hover {\n",
              "      background-color: #E2EBFA;\n",
              "      box-shadow: 0px 1px 2px rgba(60, 64, 67, 0.3), 0px 1px 3px 1px rgba(60, 64, 67, 0.15);\n",
              "      fill: #174EA6;\n",
              "    }\n",
              "\n",
              "    [theme=dark] .colab-df-convert {\n",
              "      background-color: #3B4455;\n",
              "      fill: #D2E3FC;\n",
              "    }\n",
              "\n",
              "    [theme=dark] .colab-df-convert:hover {\n",
              "      background-color: #434B5C;\n",
              "      box-shadow: 0px 1px 3px 1px rgba(0, 0, 0, 0.15);\n",
              "      filter: drop-shadow(0px 1px 2px rgba(0, 0, 0, 0.3));\n",
              "      fill: #FFFFFF;\n",
              "    }\n",
              "  </style>\n",
              "\n",
              "      <script>\n",
              "        const buttonEl =\n",
              "          document.querySelector('#df-897c1d08-8e74-4a8b-9257-1190167978cc button.colab-df-convert');\n",
              "        buttonEl.style.display =\n",
              "          google.colab.kernel.accessAllowed ? 'block' : 'none';\n",
              "\n",
              "        async function convertToInteractive(key) {\n",
              "          const element = document.querySelector('#df-897c1d08-8e74-4a8b-9257-1190167978cc');\n",
              "          const dataTable =\n",
              "            await google.colab.kernel.invokeFunction('convertToInteractive',\n",
              "                                                     [key], {});\n",
              "          if (!dataTable) return;\n",
              "\n",
              "          const docLinkHtml = 'Like what you see? Visit the ' +\n",
              "            '<a target=\"_blank\" href=https://colab.research.google.com/notebooks/data_table.ipynb>data table notebook</a>'\n",
              "            + ' to learn more about interactive tables.';\n",
              "          element.innerHTML = '';\n",
              "          dataTable['output_type'] = 'display_data';\n",
              "          await google.colab.output.renderOutput(dataTable, element);\n",
              "          const docLink = document.createElement('div');\n",
              "          docLink.innerHTML = docLinkHtml;\n",
              "          element.appendChild(docLink);\n",
              "        }\n",
              "      </script>\n",
              "    </div>\n",
              "  </div>\n",
              "  "
            ]
          },
          "metadata": {},
          "execution_count": 36
        }
      ]
    },
    {
      "cell_type": "code",
      "source": [
        "y_true = df_tst['labels']"
      ],
      "metadata": {
        "id": "srYesCoNZAe5"
      },
      "execution_count": 60,
      "outputs": []
    },
    {
      "cell_type": "markdown",
      "source": [
        "## Avaliações com word2vec cbow_s50"
      ],
      "metadata": {
        "id": "xdyCMV7zYZIe"
      }
    },
    {
      "cell_type": "code",
      "source": [
        "GAMMA = .03\n",
        "N_ASPECT_WORDS = 200\n",
        "\n",
        "scores = defaultdict(dict)\n",
        "r = Reach.load(\"/content/cbow_s50.txt\",unk_word=\"<UNK>\")\n",
        "\n",
        "aspects = [[x] for x in json.load(open(\"/content/aspect_words.json\"))]\n",
        "aspects = aspects[:N_ASPECT_WORDS]\n",
        "instances = [\"a comida estava deliciosa e muito bem temperada\".lower().split(), \n",
        "              \"o atendimento estava incrível, recomendo demais\".lower().split(), \n",
        "              \"um ambiente de otima qualidade\".lower().split(),\n",
        "              \"o lugar é muito bem localizado\".lower().split(),\n",
        "              \"achei o preco um pouco caro mas vale a pena\".lower().split()]\n",
        "#instances = df['text'][5:10]\n",
        "print(instances)\n",
        "label_set = ['atendimento', 'comida', 'preco', 'ambiente', 'lugar']\n",
        "#[i.lower().split() for i in instances]\n",
        "s = get_scores(instances,\n",
        "               aspects,\n",
        "               r,\n",
        "               label_set,\n",
        "               gamma=GAMMA,\n",
        "               remove_oov=False,\n",
        "               attention_func=rbf_attention)\n",
        "\n",
        "pred = s.argmax(1)\n",
        "#print(s)\n",
        "print(pred)"
      ],
      "metadata": {
        "colab": {
          "base_uri": "https://localhost:8080/"
        },
        "id": "P0D3meKxnpuu",
        "outputId": "ec06a39f-8980-4673-f3b9-07bf3257e13d"
      },
      "execution_count": 35,
      "outputs": [
        {
          "output_type": "stream",
          "name": "stdout",
          "text": [
            "[['a', 'comida', 'estava', 'deliciosa', 'e', 'muito', 'bem', 'temperada'], ['o', 'atendimento', 'estava', 'incrível,', 'recomendo', 'demais'], ['um', 'ambiente', 'de', 'otima', 'qualidade'], ['o', 'lugar', 'é', 'muito', 'bem', 'localizado'], ['achei', 'o', 'preco', 'um', 'pouco', 'caro', 'mas', 'vale', 'a', 'pena']]\n",
            "[1 0 3 4 1]\n"
          ]
        }
      ]
    },
    {
      "cell_type": "code",
      "source": [
        "from sklearn.metrics import f1_score\n",
        "\n",
        "GAMMA = .03\n",
        "N_ASPECT_WORDS = 200\n",
        "\n",
        "scores = defaultdict(dict)\n",
        "r = Reach.load(\"/content/cbow_s50.txt\",unk_word=\"<UNK>\")\n",
        "\n",
        "aspects = [[x] for x in json.load(open(\"/content/aspect_words.json\"))]\n",
        "aspects = aspects[:N_ASPECT_WORDS]\n",
        "instances = df_tst['text']\n",
        "# instances = [\"a comida estava deliciosa e muito bem temperada\".lower().split(), \n",
        "#               \"o atendimento estava incrível, recomendo demais\".lower().split(), \n",
        "#               \"um ambiente de otima qualidade\".lower().split(),\n",
        "#               \"o lugar é muito bem localizado\".lower().split(),\n",
        "#               \"achei o preco um pouco caro mas vale a pena\".lower().split()]\n",
        "#instances = df['text'][5:10]\n",
        "#print(instances)\n",
        "label_set = ['atendimento', 'comida', 'preco', 'ambiente', 'lugar']\n",
        "#[i.lower().split() for i in instances]\n",
        "s = get_scores([i.lower().split() for i in instances],\n",
        "               aspects,\n",
        "               r,\n",
        "               label_set,\n",
        "               gamma=GAMMA,\n",
        "               remove_oov=False,\n",
        "               attention_func=rbf_attention)\n",
        "\n",
        "y_pred = s.argmax(1)\n",
        "#print(s)\n",
        "print(y_pred)"
      ],
      "metadata": {
        "id": "54KYDfr6TT70",
        "outputId": "920c06cc-740d-4439-f30d-618c743a2536",
        "colab": {
          "base_uri": "https://localhost:8080/"
        }
      },
      "execution_count": 61,
      "outputs": [
        {
          "output_type": "stream",
          "name": "stdout",
          "text": [
            "[1 4 1 2 3 1 1 1 1 4 1 1 1 1 1 1 3 1 1 1 1 0 1 1 1 1 0 0 1 1 4 4 4 4 1 1 1\n",
            " 1 1 1 1 4 1 1 1 1 1 1 0 1 0 1 1 1 1 3 3 0 0 2 3 3 1 3 1 1 1 3 3 3 1 2 1 0\n",
            " 1 1 1 1 0 1 1 1 3 0 4 1 1 1 1 3 3 0 0 3 3 3 3 1 3 0 3 1 2 1 1 1 2 1 1 1 1\n",
            " 3 3 3 3 1 1 3 1 1 1 0 1 1 0 1 1 3 3 4 1 4 0 3 1 1 1 1 4 1 3 0 1 1 1 1 1 1\n",
            " 1 3 1 1 1 1 1 1 4 1 0 0 0 3 3 3 3 1 1 1 1 1 1 1 3 3 3 1 1 3 1 3 1 1 1 1 1\n",
            " 3 1 1 1 0 1 1 1 1 1 3 1 0 1 1 1]\n"
          ]
        }
      ]
    },
    {
      "cell_type": "code",
      "source": [
        "f1_score(y_true, y_pred, average='macro')"
      ],
      "metadata": {
        "id": "4YeTXgEhTr1r",
        "outputId": "82943d0d-d4dc-4c01-b049-e0a0ccd3d1e5",
        "colab": {
          "base_uri": "https://localhost:8080/"
        }
      },
      "execution_count": 62,
      "outputs": [
        {
          "output_type": "execute_result",
          "data": {
            "text/plain": [
              "0.3747126436781609"
            ]
          },
          "metadata": {},
          "execution_count": 62
        }
      ]
    },
    {
      "cell_type": "code",
      "source": [
        "print(classification_report(y_true, y_pred,target_names=label_set))"
      ],
      "metadata": {
        "id": "0Gh4xKb9cIuG",
        "outputId": "4b809978-b80b-4bb3-cbb4-9a2500f441a8",
        "colab": {
          "base_uri": "https://localhost:8080/"
        }
      },
      "execution_count": 63,
      "outputs": [
        {
          "output_type": "stream",
          "name": "stdout",
          "text": [
            "              precision    recall  f1-score   support\n",
            "\n",
            " atendimento       0.59      0.30      0.40        43\n",
            "      comida       0.56      0.83      0.67        82\n",
            "       preco       0.60      0.16      0.25        19\n",
            "    ambiente       0.35      0.35      0.35        40\n",
            "       lugar       0.25      0.18      0.21        17\n",
            "\n",
            "    accuracy                           0.50       201\n",
            "   macro avg       0.47      0.36      0.37       201\n",
            "weighted avg       0.50      0.50      0.47       201\n",
            "\n"
          ]
        }
      ]
    },
    {
      "cell_type": "code",
      "source": [
        "f1_score = precision_recall_fscore_support(y_true, y_pred)\n",
        "f1_macro = precision_recall_fscore_support(y_true,y_pred,average=\"weighted\")\n",
        "print(f1_score)\n",
        "print()\n",
        "print(f1_macro)"
      ],
      "metadata": {
        "id": "HNMzKwRWaNzG",
        "outputId": "21841ab3-4851-4022-d2d3-9e7ed0222db2",
        "colab": {
          "base_uri": "https://localhost:8080/"
        }
      },
      "execution_count": 43,
      "outputs": [
        {
          "output_type": "stream",
          "name": "stdout",
          "text": [
            "(array([0.59090909, 0.55737705, 0.6       , 0.35      , 0.25      ]), array([0.30232558, 0.82926829, 0.15789474, 0.35      , 0.17647059]), array([0.4       , 0.66666667, 0.25      , 0.35      , 0.20689655]), array([43, 82, 19, 40, 17]))\n",
            "\n",
            "(0.5013134773227751, 0.5024875621890548, 0.4683279007262538, None)\n"
          ]
        }
      ]
    },
    {
      "cell_type": "markdown",
      "source": [
        "## Avaliação com my_word_vectors gerado no pré-processamento do dataset"
      ],
      "metadata": {
        "id": "K_xXoCD-ay1q"
      }
    },
    {
      "cell_type": "code",
      "source": [
        "GAMMA = .03\n",
        "N_ASPECT_WORDS = 200\n",
        "\n",
        "scores = defaultdict(dict)\n",
        "r = Reach.load(\"/content/my_word_vectors.vec\",unk_word=\"<UNK>\")\n",
        "\n",
        "aspects = [[x] for x in json.load(open(\"/content/aspect_words.json\"))]\n",
        "aspects = aspects[:N_ASPECT_WORDS]\n",
        "instances = [\"a comida estava deliciosa e muito bem temperada\".lower().split(), \n",
        "              \"o atendimento estava incrível, recomendo demais\".lower().split(), \n",
        "              \"um ambiente de otima qualidade\".lower().split(),\n",
        "              \"o lugar é muito bem localizado\".lower().split(),\n",
        "              \"achei o preco um pouco caro mas vale a pena\".lower().split()]\n",
        "#instances = df['text'][5:10]\n",
        "print(instances)\n",
        "label_set = ['atendimento', 'comida', 'preco', 'ambiente', 'lugar']\n",
        "#[i.lower().split() for i in instances]\n",
        "s = get_scores(instances,\n",
        "               aspects,\n",
        "               r,\n",
        "               label_set,\n",
        "               gamma=GAMMA,\n",
        "               remove_oov=False,\n",
        "               attention_func=rbf_attention)\n",
        "\n",
        "pred = s.argmax(1)\n",
        "print(s)\n",
        "print(pred)"
      ],
      "metadata": {
        "id": "rSG1R0ospQJd",
        "outputId": "b41081a7-bafa-4e6e-af6c-fdc7d986950f",
        "colab": {
          "base_uri": "https://localhost:8080/"
        }
      },
      "execution_count": 45,
      "outputs": [
        {
          "output_type": "stream",
          "name": "stdout",
          "text": [
            "[['a', 'comida', 'estava', 'deliciosa', 'e', 'muito', 'bem', 'temperada'], ['o', 'atendimento', 'estava', 'incrível,', 'recomendo', 'demais'], ['um', 'ambiente', 'de', 'otima', 'qualidade'], ['o', 'lugar', 'é', 'muito', 'bem', 'localizado'], ['achei', 'o', 'preco', 'um', 'pouco', 'caro', 'mas', 'vale', 'a', 'pena']]\n",
            "[[0.9547266  0.95819604 0.9406847  0.9333397  0.94423556]\n",
            " [0.9700805  0.94707143 0.9397762  0.93460137 0.94361514]\n",
            " [0.943849   0.9407705  0.94308615 0.9519595  0.94289553]\n",
            " [0.94415426 0.9342752  0.94304526 0.9306154  0.9592436 ]\n",
            " [0.9499382  0.9430925  0.9535146  0.9381563  0.9412436 ]]\n",
            "[1 0 3 4 2]\n"
          ]
        }
      ]
    },
    {
      "cell_type": "code",
      "source": [
        "GAMMA = .03\n",
        "N_ASPECT_WORDS = 200\n",
        "\n",
        "scores = defaultdict(dict)\n",
        "r = Reach.load(\"/content/my_word_vectors.vec\",unk_word=\"<UNK>\")\n",
        "\n",
        "aspects = [[x] for x in json.load(open(\"/content/aspect_words.json\"))]\n",
        "aspects = aspects[:N_ASPECT_WORDS]\n",
        "instances = df_tst['text']\n",
        "label_set = ['atendimento', 'comida', 'preco', 'ambiente', 'lugar']\n",
        "s = get_scores([i.lower().split() for i in instances],\n",
        "               aspects,\n",
        "               r,\n",
        "               label_set,\n",
        "               gamma=GAMMA,\n",
        "               remove_oov=False,\n",
        "               attention_func=rbf_attention)\n",
        "\n",
        "y_pred = s.argmax(1)\n",
        "print(y_pred)"
      ],
      "metadata": {
        "id": "egT1aqRSU0s5",
        "outputId": "d91909a9-0597-420d-e831-a0f4bc357a04",
        "colab": {
          "base_uri": "https://localhost:8080/"
        }
      },
      "execution_count": 54,
      "outputs": [
        {
          "output_type": "stream",
          "name": "stdout",
          "text": [
            "[0 0 0 0 3 0 0 0 4 4 0 1 1 1 1 1 0 1 1 0 0 0 0 0 0 4 0 0 0 0 0 0 0 0 1 1 0\n",
            " 0 0 0 0 0 0 0 2 1 0 0 0 1 0 0 0 0 0 0 0 0 0 0 4 4 1 3 0 0 1 3 3 0 0 0 1 0\n",
            " 0 0 0 1 0 2 1 1 3 0 0 1 0 0 3 4 4 0 0 1 4 4 4 1 0 0 0 1 1 0 0 0 0 0 0 0 0\n",
            " 0 0 0 0 4 0 3 0 0 0 0 0 1 0 0 0 0 0 4 0 4 0 2 0 0 0 0 4 0 3 0 1 1 1 1 0 0\n",
            " 0 3 0 0 0 0 0 0 4 4 0 0 0 0 0 0 0 0 0 1 1 0 0 2 0 0 0 0 0 0 0 0 4 0 1 1 0\n",
            " 0 0 0 0 0 0 0 0 0 0 0 2 0 0 0 0]\n"
          ]
        }
      ]
    },
    {
      "cell_type": "code",
      "source": [
        "f1_score(y_true, y_pred, average='macro')"
      ],
      "metadata": {
        "id": "H-WchyCeU7WA",
        "outputId": "59a7251f-3ba4-4ea9-9799-2e87b19ec767",
        "colab": {
          "base_uri": "https://localhost:8080/"
        }
      },
      "execution_count": 55,
      "outputs": [
        {
          "output_type": "execute_result",
          "data": {
            "text/plain": [
              "0.25541954017822244"
            ]
          },
          "metadata": {},
          "execution_count": 55
        }
      ]
    },
    {
      "cell_type": "code",
      "source": [
        "print(classification_report(y_true, y_pred,target_names=label_set))"
      ],
      "metadata": {
        "id": "8Jb9AMeIbvKI",
        "outputId": "6f2500e0-203a-4cfb-d75f-3d8a466cb6c4",
        "colab": {
          "base_uri": "https://localhost:8080/"
        }
      },
      "execution_count": 59,
      "outputs": [
        {
          "output_type": "stream",
          "name": "stdout",
          "text": [
            "              precision    recall  f1-score   support\n",
            "\n",
            " atendimento       0.26      0.84      0.40        43\n",
            "      comida       0.65      0.24      0.35        82\n",
            "       preco       0.20      0.05      0.08        19\n",
            "    ambiente       0.89      0.20      0.33        40\n",
            "       lugar       0.12      0.12      0.12        17\n",
            "\n",
            "    accuracy                           0.33       201\n",
            "   macro avg       0.42      0.29      0.26       201\n",
            "weighted avg       0.52      0.33      0.31       201\n",
            "\n"
          ]
        }
      ]
    },
    {
      "cell_type": "code",
      "source": [
        "f1_score = precision_recall_fscore_support(y_true, y_pred)\n",
        "f1_macro = precision_recall_fscore_support(y_true,y_pred,average=\"weighted\")\n",
        "print(f1_score)\n",
        "print()\n",
        "print(f1_macro)"
      ],
      "metadata": {
        "id": "O_Ac5BuEbiH7",
        "outputId": "7474b2a4-3e26-4223-d7ac-0589becee0d0",
        "colab": {
          "base_uri": "https://localhost:8080/"
        }
      },
      "execution_count": 56,
      "outputs": [
        {
          "output_type": "stream",
          "name": "stdout",
          "text": [
            "(array([0.25899281, 0.64516129, 0.2       , 0.88888889, 0.11764706]), array([0.8372093 , 0.24390244, 0.05263158, 0.2       , 0.11764706]), array([0.3956044 , 0.3539823 , 0.08333333, 0.32653061, 0.11764706]), array([43, 82, 19, 40, 17]))\n",
            "\n",
            "(0.5243555821367621, 0.3333333333333333, 0.31185122142629174, None)\n"
          ]
        }
      ]
    },
    {
      "cell_type": "markdown",
      "source": [
        "# Funções auxiliares"
      ],
      "metadata": {
        "id": "evcEBvNym-vT"
      }
    },
    {
      "cell_type": "code",
      "source": [
        "with open('/content/restaurant_textos.txt ', 'w') as textfile:\n",
        "  textfile.write(\"\\n\".join(str(item) for item in sentences))\n",
        "textfile.close()"
      ],
      "metadata": {
        "id": "80CDAKu_u-oC"
      },
      "execution_count": null,
      "outputs": []
    },
    {
      "cell_type": "code",
      "source": [
        "with open('/content/corpus.txt ', 'w') as textfile:\n",
        "  for item in corpus:\n",
        "    textfile.write(str(item))\n",
        "textfile.close()"
      ],
      "metadata": {
        "id": "r4uVk8_RaAhb"
      },
      "execution_count": null,
      "outputs": []
    },
    {
      "cell_type": "code",
      "source": [
        "import numpy as np\n",
        "import matplotlib\n",
        "import matplotlib.pyplot as plt\n",
        "\n",
        "def colorize(words, color_array):\n",
        "    cmap=matplotlib.cm.Blues\n",
        "    template = '<span class=\"barcode\"; style=\"color: black; background-color: {}\">{}</span>'\n",
        "    colored_string = ''\n",
        "    for word, color in zip(words, color_array):\n",
        "        color = matplotlib.colors.rgb2hex(cmap(color))\n",
        "        print(color)\n",
        "        colored_string += template.format(color, '&nbsp' + word + '&nbsp')\n",
        "    return colored_string\n",
        "\n",
        "words = instances[0]#['um', 'ambiente', 'de', 'ótima', 'qualidade']\n",
        "color_array = atts[0][0]\n",
        "\n",
        "print(color_array)\n",
        "s = colorize(words, color_array)\n",
        "\n",
        "# or simply save in an html file and open in browser\n",
        "with open('/content/colorize.html', 'w') as f:\n",
        "    f.write(s)"
      ],
      "metadata": {
        "id": "KMhjTzsax5f-",
        "outputId": "284f5ff5-c458-4594-bfc1-96a36d024caf",
        "colab": {
          "base_uri": "https://localhost:8080/"
        }
      },
      "execution_count": null,
      "outputs": [
        {
          "output_type": "stream",
          "name": "stdout",
          "text": [
            "[0.1934354  0.19726068 0.19610389 0.20825753 0.20494252]\n",
            "#d1e2f3\n",
            "#d0e2f2\n",
            "#d0e2f2\n",
            "#cee0f2\n",
            "#cfe1f2\n"
          ]
        }
      ]
    }
  ]
}