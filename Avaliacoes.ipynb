{
  "nbformat": 4,
  "nbformat_minor": 0,
  "metadata": {
    "colab": {
      "name": "Avaliacoes.ipynb",
      "provenance": [],
      "authorship_tag": "ABX9TyPEjB6ZIf8JvzrG+g0KcWoC",
      "include_colab_link": true
    },
    "kernelspec": {
      "name": "python3",
      "display_name": "Python 3"
    },
    "language_info": {
      "name": "python"
    }
  },
  "cells": [
    {
      "cell_type": "markdown",
      "metadata": {
        "id": "view-in-github",
        "colab_type": "text"
      },
      "source": [
        "<a href=\"https://colab.research.google.com/github/renatojmf/Aspects-Extraction-in-Portuguese/blob/main/Avaliacoes.ipynb\" target=\"_parent\"><img src=\"https://colab.research.google.com/assets/colab-badge.svg\" alt=\"Open In Colab\"/></a>"
      ]
    },
    {
      "cell_type": "code",
      "source": [
        "! pip install sklearn-crfsuite\n",
        "! pip install eli5\n",
        "! pip install unidecode\n",
        "! pip install stanza"
      ],
      "metadata": {
        "id": "oXvjDgnqVDcq"
      },
      "execution_count": null,
      "outputs": []
    },
    {
      "cell_type": "code",
      "execution_count": 2,
      "metadata": {
        "id": "Tu_-3giaUtQM",
        "outputId": "fd113701-90f2-4b22-f617-4daa26511024",
        "colab": {
          "base_uri": "https://localhost:8080/"
        }
      },
      "outputs": [
        {
          "output_type": "stream",
          "name": "stdout",
          "text": [
            "[nltk_data] Downloading package punkt to /root/nltk_data...\n",
            "[nltk_data]   Unzipping tokenizers/punkt.zip.\n"
          ]
        }
      ],
      "source": [
        "import pandas as pd     \n",
        "import numpy as np\n",
        "from bs4 import BeautifulSoup\n",
        "import re\n",
        "import nltk  \n",
        "nltk.download('punkt')\n",
        "from nltk.corpus import stopwords # Import the stop word list\n",
        "\n",
        "from sklearn.model_selection import train_test_split\n",
        "from sklearn.ensemble import RandomForestClassifier\n",
        "from sklearn.metrics import accuracy_score\n",
        "from time import time"
      ]
    },
    {
      "cell_type": "markdown",
      "source": [
        "# Avaliações com o dataset de restaurantes"
      ],
      "metadata": {
        "id": "An3hCGCKHAvG"
      }
    },
    {
      "cell_type": "code",
      "source": [
        "data = pd.read_csv('/content/restaurantes.csv',sep=';')"
      ],
      "metadata": {
        "id": "5a3uM6E1VPnC"
      },
      "execution_count": 26,
      "outputs": []
    },
    {
      "cell_type": "code",
      "source": [
        "from unidecode import unidecode\n",
        "import re\n",
        "\n",
        "words = []\n",
        "\n",
        "for word in data['text']:\n",
        "  old_string = unidecode(word)\n",
        "  new_string = re.sub(r\"[^a-zA-Z0-9]\",\" \",old_string)\n",
        "  words.append(new_string.lower())"
      ],
      "metadata": {
        "id": "prEXPkv4Vl4f"
      },
      "execution_count": 27,
      "outputs": []
    },
    {
      "cell_type": "code",
      "source": [
        "data['text'] = words\n",
        "data['labels'] =-1\n",
        "data.head()"
      ],
      "metadata": {
        "colab": {
          "base_uri": "https://localhost:8080/",
          "height": 206
        },
        "id": "kUkhNC07Vmbj",
        "outputId": "f7b1a360-23fa-4f5a-9b55-733cbb5b915e"
      },
      "execution_count": 28,
      "outputs": [
        {
          "output_type": "execute_result",
          "data": {
            "text/plain": [
              "                                                text      aspects  \\\n",
              "0  hamburgueria artesanal com tempero diferenciad...      tempero   \n",
              "1  excelente peixe  para quem esta localizado no ...        peixe   \n",
              "2  serve lanches e cerveja gelada  tem mesinhas f...      cerveja   \n",
              "3                           muito bom o atendimento   atendimento   \n",
              "4                                  cardapio variado      Cardápio   \n",
              "\n",
              "  aspectsClass  labels  \n",
              "0         Food      -1  \n",
              "1         Food      -1  \n",
              "2       Drinks      -1  \n",
              "3      Service      -1  \n",
              "4         Food      -1  "
            ],
            "text/html": [
              "\n",
              "  <div id=\"df-1aeff92b-cad2-4b26-b7de-775e4b5df2ee\">\n",
              "    <div class=\"colab-df-container\">\n",
              "      <div>\n",
              "<style scoped>\n",
              "    .dataframe tbody tr th:only-of-type {\n",
              "        vertical-align: middle;\n",
              "    }\n",
              "\n",
              "    .dataframe tbody tr th {\n",
              "        vertical-align: top;\n",
              "    }\n",
              "\n",
              "    .dataframe thead th {\n",
              "        text-align: right;\n",
              "    }\n",
              "</style>\n",
              "<table border=\"1\" class=\"dataframe\">\n",
              "  <thead>\n",
              "    <tr style=\"text-align: right;\">\n",
              "      <th></th>\n",
              "      <th>text</th>\n",
              "      <th>aspects</th>\n",
              "      <th>aspectsClass</th>\n",
              "      <th>labels</th>\n",
              "    </tr>\n",
              "  </thead>\n",
              "  <tbody>\n",
              "    <tr>\n",
              "      <th>0</th>\n",
              "      <td>hamburgueria artesanal com tempero diferenciad...</td>\n",
              "      <td>tempero</td>\n",
              "      <td>Food</td>\n",
              "      <td>-1</td>\n",
              "    </tr>\n",
              "    <tr>\n",
              "      <th>1</th>\n",
              "      <td>excelente peixe  para quem esta localizado no ...</td>\n",
              "      <td>peixe</td>\n",
              "      <td>Food</td>\n",
              "      <td>-1</td>\n",
              "    </tr>\n",
              "    <tr>\n",
              "      <th>2</th>\n",
              "      <td>serve lanches e cerveja gelada  tem mesinhas f...</td>\n",
              "      <td>cerveja</td>\n",
              "      <td>Drinks</td>\n",
              "      <td>-1</td>\n",
              "    </tr>\n",
              "    <tr>\n",
              "      <th>3</th>\n",
              "      <td>muito bom o atendimento</td>\n",
              "      <td>atendimento</td>\n",
              "      <td>Service</td>\n",
              "      <td>-1</td>\n",
              "    </tr>\n",
              "    <tr>\n",
              "      <th>4</th>\n",
              "      <td>cardapio variado</td>\n",
              "      <td>Cardápio</td>\n",
              "      <td>Food</td>\n",
              "      <td>-1</td>\n",
              "    </tr>\n",
              "  </tbody>\n",
              "</table>\n",
              "</div>\n",
              "      <button class=\"colab-df-convert\" onclick=\"convertToInteractive('df-1aeff92b-cad2-4b26-b7de-775e4b5df2ee')\"\n",
              "              title=\"Convert this dataframe to an interactive table.\"\n",
              "              style=\"display:none;\">\n",
              "        \n",
              "  <svg xmlns=\"http://www.w3.org/2000/svg\" height=\"24px\"viewBox=\"0 0 24 24\"\n",
              "       width=\"24px\">\n",
              "    <path d=\"M0 0h24v24H0V0z\" fill=\"none\"/>\n",
              "    <path d=\"M18.56 5.44l.94 2.06.94-2.06 2.06-.94-2.06-.94-.94-2.06-.94 2.06-2.06.94zm-11 1L8.5 8.5l.94-2.06 2.06-.94-2.06-.94L8.5 2.5l-.94 2.06-2.06.94zm10 10l.94 2.06.94-2.06 2.06-.94-2.06-.94-.94-2.06-.94 2.06-2.06.94z\"/><path d=\"M17.41 7.96l-1.37-1.37c-.4-.4-.92-.59-1.43-.59-.52 0-1.04.2-1.43.59L10.3 9.45l-7.72 7.72c-.78.78-.78 2.05 0 2.83L4 21.41c.39.39.9.59 1.41.59.51 0 1.02-.2 1.41-.59l7.78-7.78 2.81-2.81c.8-.78.8-2.07 0-2.86zM5.41 20L4 18.59l7.72-7.72 1.47 1.35L5.41 20z\"/>\n",
              "  </svg>\n",
              "      </button>\n",
              "      \n",
              "  <style>\n",
              "    .colab-df-container {\n",
              "      display:flex;\n",
              "      flex-wrap:wrap;\n",
              "      gap: 12px;\n",
              "    }\n",
              "\n",
              "    .colab-df-convert {\n",
              "      background-color: #E8F0FE;\n",
              "      border: none;\n",
              "      border-radius: 50%;\n",
              "      cursor: pointer;\n",
              "      display: none;\n",
              "      fill: #1967D2;\n",
              "      height: 32px;\n",
              "      padding: 0 0 0 0;\n",
              "      width: 32px;\n",
              "    }\n",
              "\n",
              "    .colab-df-convert:hover {\n",
              "      background-color: #E2EBFA;\n",
              "      box-shadow: 0px 1px 2px rgba(60, 64, 67, 0.3), 0px 1px 3px 1px rgba(60, 64, 67, 0.15);\n",
              "      fill: #174EA6;\n",
              "    }\n",
              "\n",
              "    [theme=dark] .colab-df-convert {\n",
              "      background-color: #3B4455;\n",
              "      fill: #D2E3FC;\n",
              "    }\n",
              "\n",
              "    [theme=dark] .colab-df-convert:hover {\n",
              "      background-color: #434B5C;\n",
              "      box-shadow: 0px 1px 3px 1px rgba(0, 0, 0, 0.15);\n",
              "      filter: drop-shadow(0px 1px 2px rgba(0, 0, 0, 0.3));\n",
              "      fill: #FFFFFF;\n",
              "    }\n",
              "  </style>\n",
              "\n",
              "      <script>\n",
              "        const buttonEl =\n",
              "          document.querySelector('#df-1aeff92b-cad2-4b26-b7de-775e4b5df2ee button.colab-df-convert');\n",
              "        buttonEl.style.display =\n",
              "          google.colab.kernel.accessAllowed ? 'block' : 'none';\n",
              "\n",
              "        async function convertToInteractive(key) {\n",
              "          const element = document.querySelector('#df-1aeff92b-cad2-4b26-b7de-775e4b5df2ee');\n",
              "          const dataTable =\n",
              "            await google.colab.kernel.invokeFunction('convertToInteractive',\n",
              "                                                     [key], {});\n",
              "          if (!dataTable) return;\n",
              "\n",
              "          const docLinkHtml = 'Like what you see? Visit the ' +\n",
              "            '<a target=\"_blank\" href=https://colab.research.google.com/notebooks/data_table.ipynb>data table notebook</a>'\n",
              "            + ' to learn more about interactive tables.';\n",
              "          element.innerHTML = '';\n",
              "          dataTable['output_type'] = 'display_data';\n",
              "          await google.colab.output.renderOutput(dataTable, element);\n",
              "          const docLink = document.createElement('div');\n",
              "          docLink.innerHTML = docLinkHtml;\n",
              "          element.appendChild(docLink);\n",
              "        }\n",
              "      </script>\n",
              "    </div>\n",
              "  </div>\n",
              "  "
            ]
          },
          "metadata": {},
          "execution_count": 28
        }
      ]
    },
    {
      "cell_type": "code",
      "source": [
        "data.loc[data[\"aspectsClass\"] == \"Service\", \"labels\"] = 0\n",
        "data.loc[data[\"aspectsClass\"] == \"Food\", \"labels\"] = 1\n",
        "data.loc[data[\"aspectsClass\"] == \"Price\", \"labels\"] = 2\n",
        "data.loc[data[\"aspectsClass\"] == \"Ambience\", \"labels\"] = 3\n",
        "data.loc[data[\"aspectsClass\"] == \"Location\", \"labels\"] = 4"
      ],
      "metadata": {
        "id": "wDpv7_ZadCfI"
      },
      "execution_count": 29,
      "outputs": []
    },
    {
      "cell_type": "code",
      "source": [
        "df = data[data['labels'] != -1]\n",
        "df.head()"
      ],
      "metadata": {
        "colab": {
          "base_uri": "https://localhost:8080/",
          "height": 206
        },
        "id": "8jzCHwqkdJZC",
        "outputId": "cb86790c-4f9d-4941-c3e9-63323f81615c"
      },
      "execution_count": 30,
      "outputs": [
        {
          "output_type": "execute_result",
          "data": {
            "text/plain": [
              "                                                text      aspects  \\\n",
              "0  hamburgueria artesanal com tempero diferenciad...      tempero   \n",
              "1  excelente peixe  para quem esta localizado no ...        peixe   \n",
              "3                           muito bom o atendimento   atendimento   \n",
              "4                                  cardapio variado      Cardápio   \n",
              "5                                ambiente agradavel      Ambiente   \n",
              "\n",
              "  aspectsClass  labels  \n",
              "0         Food       1  \n",
              "1         Food       1  \n",
              "3      Service       0  \n",
              "4         Food       1  \n",
              "5     Ambience       3  "
            ],
            "text/html": [
              "\n",
              "  <div id=\"df-020e517c-62db-4126-a7e7-63b597187737\">\n",
              "    <div class=\"colab-df-container\">\n",
              "      <div>\n",
              "<style scoped>\n",
              "    .dataframe tbody tr th:only-of-type {\n",
              "        vertical-align: middle;\n",
              "    }\n",
              "\n",
              "    .dataframe tbody tr th {\n",
              "        vertical-align: top;\n",
              "    }\n",
              "\n",
              "    .dataframe thead th {\n",
              "        text-align: right;\n",
              "    }\n",
              "</style>\n",
              "<table border=\"1\" class=\"dataframe\">\n",
              "  <thead>\n",
              "    <tr style=\"text-align: right;\">\n",
              "      <th></th>\n",
              "      <th>text</th>\n",
              "      <th>aspects</th>\n",
              "      <th>aspectsClass</th>\n",
              "      <th>labels</th>\n",
              "    </tr>\n",
              "  </thead>\n",
              "  <tbody>\n",
              "    <tr>\n",
              "      <th>0</th>\n",
              "      <td>hamburgueria artesanal com tempero diferenciad...</td>\n",
              "      <td>tempero</td>\n",
              "      <td>Food</td>\n",
              "      <td>1</td>\n",
              "    </tr>\n",
              "    <tr>\n",
              "      <th>1</th>\n",
              "      <td>excelente peixe  para quem esta localizado no ...</td>\n",
              "      <td>peixe</td>\n",
              "      <td>Food</td>\n",
              "      <td>1</td>\n",
              "    </tr>\n",
              "    <tr>\n",
              "      <th>3</th>\n",
              "      <td>muito bom o atendimento</td>\n",
              "      <td>atendimento</td>\n",
              "      <td>Service</td>\n",
              "      <td>0</td>\n",
              "    </tr>\n",
              "    <tr>\n",
              "      <th>4</th>\n",
              "      <td>cardapio variado</td>\n",
              "      <td>Cardápio</td>\n",
              "      <td>Food</td>\n",
              "      <td>1</td>\n",
              "    </tr>\n",
              "    <tr>\n",
              "      <th>5</th>\n",
              "      <td>ambiente agradavel</td>\n",
              "      <td>Ambiente</td>\n",
              "      <td>Ambience</td>\n",
              "      <td>3</td>\n",
              "    </tr>\n",
              "  </tbody>\n",
              "</table>\n",
              "</div>\n",
              "      <button class=\"colab-df-convert\" onclick=\"convertToInteractive('df-020e517c-62db-4126-a7e7-63b597187737')\"\n",
              "              title=\"Convert this dataframe to an interactive table.\"\n",
              "              style=\"display:none;\">\n",
              "        \n",
              "  <svg xmlns=\"http://www.w3.org/2000/svg\" height=\"24px\"viewBox=\"0 0 24 24\"\n",
              "       width=\"24px\">\n",
              "    <path d=\"M0 0h24v24H0V0z\" fill=\"none\"/>\n",
              "    <path d=\"M18.56 5.44l.94 2.06.94-2.06 2.06-.94-2.06-.94-.94-2.06-.94 2.06-2.06.94zm-11 1L8.5 8.5l.94-2.06 2.06-.94-2.06-.94L8.5 2.5l-.94 2.06-2.06.94zm10 10l.94 2.06.94-2.06 2.06-.94-2.06-.94-.94-2.06-.94 2.06-2.06.94z\"/><path d=\"M17.41 7.96l-1.37-1.37c-.4-.4-.92-.59-1.43-.59-.52 0-1.04.2-1.43.59L10.3 9.45l-7.72 7.72c-.78.78-.78 2.05 0 2.83L4 21.41c.39.39.9.59 1.41.59.51 0 1.02-.2 1.41-.59l7.78-7.78 2.81-2.81c.8-.78.8-2.07 0-2.86zM5.41 20L4 18.59l7.72-7.72 1.47 1.35L5.41 20z\"/>\n",
              "  </svg>\n",
              "      </button>\n",
              "      \n",
              "  <style>\n",
              "    .colab-df-container {\n",
              "      display:flex;\n",
              "      flex-wrap:wrap;\n",
              "      gap: 12px;\n",
              "    }\n",
              "\n",
              "    .colab-df-convert {\n",
              "      background-color: #E8F0FE;\n",
              "      border: none;\n",
              "      border-radius: 50%;\n",
              "      cursor: pointer;\n",
              "      display: none;\n",
              "      fill: #1967D2;\n",
              "      height: 32px;\n",
              "      padding: 0 0 0 0;\n",
              "      width: 32px;\n",
              "    }\n",
              "\n",
              "    .colab-df-convert:hover {\n",
              "      background-color: #E2EBFA;\n",
              "      box-shadow: 0px 1px 2px rgba(60, 64, 67, 0.3), 0px 1px 3px 1px rgba(60, 64, 67, 0.15);\n",
              "      fill: #174EA6;\n",
              "    }\n",
              "\n",
              "    [theme=dark] .colab-df-convert {\n",
              "      background-color: #3B4455;\n",
              "      fill: #D2E3FC;\n",
              "    }\n",
              "\n",
              "    [theme=dark] .colab-df-convert:hover {\n",
              "      background-color: #434B5C;\n",
              "      box-shadow: 0px 1px 3px 1px rgba(0, 0, 0, 0.15);\n",
              "      filter: drop-shadow(0px 1px 2px rgba(0, 0, 0, 0.3));\n",
              "      fill: #FFFFFF;\n",
              "    }\n",
              "  </style>\n",
              "\n",
              "      <script>\n",
              "        const buttonEl =\n",
              "          document.querySelector('#df-020e517c-62db-4126-a7e7-63b597187737 button.colab-df-convert');\n",
              "        buttonEl.style.display =\n",
              "          google.colab.kernel.accessAllowed ? 'block' : 'none';\n",
              "\n",
              "        async function convertToInteractive(key) {\n",
              "          const element = document.querySelector('#df-020e517c-62db-4126-a7e7-63b597187737');\n",
              "          const dataTable =\n",
              "            await google.colab.kernel.invokeFunction('convertToInteractive',\n",
              "                                                     [key], {});\n",
              "          if (!dataTable) return;\n",
              "\n",
              "          const docLinkHtml = 'Like what you see? Visit the ' +\n",
              "            '<a target=\"_blank\" href=https://colab.research.google.com/notebooks/data_table.ipynb>data table notebook</a>'\n",
              "            + ' to learn more about interactive tables.';\n",
              "          element.innerHTML = '';\n",
              "          dataTable['output_type'] = 'display_data';\n",
              "          await google.colab.output.renderOutput(dataTable, element);\n",
              "          const docLink = document.createElement('div');\n",
              "          docLink.innerHTML = docLinkHtml;\n",
              "          element.appendChild(docLink);\n",
              "        }\n",
              "      </script>\n",
              "    </div>\n",
              "  </div>\n",
              "  "
            ]
          },
          "metadata": {},
          "execution_count": 30
        }
      ]
    },
    {
      "cell_type": "code",
      "source": [
        "from sklearn import metrics\n",
        "from sklearn.metrics import ConfusionMatrixDisplay\n",
        "X_train, X_test, y_train, y_test = train_test_split(df[\"text\"], df[\"labels\"], test_size = 0.3, random_state=42)"
      ],
      "metadata": {
        "id": "NXkddfDRa3d_"
      },
      "execution_count": 31,
      "outputs": []
    },
    {
      "cell_type": "code",
      "source": [
        "from sklearn.feature_extraction.text import TfidfVectorizer, CountVectorizer\n",
        "tf_vectorizer = CountVectorizer() # or term frequency\n",
        "X_train_tf = tf_vectorizer.fit_transform(X_train)\n",
        "X_test_tf = tf_vectorizer.transform(X_test)"
      ],
      "metadata": {
        "id": "JLRmGUFValVE"
      },
      "execution_count": 32,
      "outputs": []
    },
    {
      "cell_type": "code",
      "source": [
        "from sklearn.naive_bayes import MultinomialNB\n",
        "naive_bayes_classifier = MultinomialNB()\n",
        "naive_bayes_classifier.fit(X_train_tf, y_train)\n",
        "y_pred = naive_bayes_classifier.predict(X_test_tf)"
      ],
      "metadata": {
        "id": "sxSKWKKMeTP2"
      },
      "execution_count": 33,
      "outputs": []
    },
    {
      "cell_type": "code",
      "source": [
        "t = time()\n",
        "naive_bayes_classifier.fit(X_train_tf,y_train)\n",
        "duration = time() - t\n",
        "print(\"train time: %0.3fs\" % duration)\n",
        "\n",
        "t = time()\n",
        "y_pred = naive_bayes_classifier.predict(X_test_tf)\n",
        "test_time = time() - t\n",
        "print(\"test time:  %0.3fs\" % test_time)\n",
        "\n",
        "# compute the performance measures\n",
        "score1 = metrics.accuracy_score(y_test, y_pred)\n",
        "print(\"accuracy:   %0.3f\" % score1)\n",
        "\n",
        "print(metrics.classification_report(y_test, y_pred,target_names = ['Service','Food','Price','Ambience','Location']))\n",
        "\n",
        "print(\"confusion matrix:\")\n",
        "print(metrics.confusion_matrix(y_test, y_pred))\n",
        "\n",
        "ConfusionMatrixDisplay.from_predictions(y_test, y_pred, normalize='true')\n",
        "print('------------------------------')\n",
        "#print(metrics.classification_report(y_test, y_pred,target_names = ['Service','Food','Price','Ambience','Location']))"
      ],
      "metadata": {
        "colab": {
          "base_uri": "https://localhost:8080/",
          "height": 664
        },
        "id": "c0NKmzM6eiM5",
        "outputId": "bc4d419d-7336-4572-8b5a-f006ae32cee7"
      },
      "execution_count": 34,
      "outputs": [
        {
          "output_type": "stream",
          "name": "stdout",
          "text": [
            "train time: 0.002s\n",
            "test time:  0.000s\n",
            "accuracy:   0.459\n",
            "              precision    recall  f1-score   support\n",
            "\n",
            "     Service       0.30      0.33      0.32         9\n",
            "        Food       0.61      0.70      0.66        27\n",
            "       Price       0.33      0.20      0.25         5\n",
            "    Ambience       0.31      0.36      0.33        14\n",
            "    Location       0.00      0.00      0.00         6\n",
            "\n",
            "    accuracy                           0.46        61\n",
            "   macro avg       0.31      0.32      0.31        61\n",
            "weighted avg       0.41      0.46      0.43        61\n",
            "\n",
            "confusion matrix:\n",
            "[[ 3  2  0  4  0]\n",
            " [ 3 19  1  3  1]\n",
            " [ 0  2  1  2  0]\n",
            " [ 3  5  1  5  0]\n",
            " [ 1  3  0  2  0]]\n",
            "------------------------------\n"
          ]
        },
        {
          "output_type": "display_data",
          "data": {
            "text/plain": [
              "<Figure size 432x288 with 2 Axes>"
            ],
            "image/png": "[encoded data removed]"
          },
          "metadata": {
            "needs_background": "light"
          }
        }
      ]
    },
    {
      "cell_type": "code",
      "source": [
        "from sklearn.tree import DecisionTreeClassifier\n",
        "dTree = DecisionTreeClassifier()\n",
        "\n",
        "t = time()\n",
        "dTree.fit(X_train_tf,y_train)\n",
        "duration = time() - t\n",
        "print(\"train time: %0.3fs\" % duration)\n",
        "\n",
        "t = time()\n",
        "y_pred = dTree.predict(X_test_tf)\n",
        "test_time = time() - t\n",
        "print(\"test time:  %0.3fs\" % test_time)\n",
        "\n",
        "# compute the performance measures\n",
        "score1 = metrics.accuracy_score(y_test, y_pred)\n",
        "print(\"accuracy:   %0.3f\" % score1)\n",
        "\n",
        "print(metrics.classification_report(y_test, y_pred,target_names = ['Service','Food','Price','Ambience','Location']))\n",
        "\n",
        "print(\"confusion matrix:\")\n",
        "print(metrics.confusion_matrix(y_test, y_pred))\n",
        "\n",
        "ConfusionMatrixDisplay.from_predictions(y_test, y_pred, normalize='true')\n",
        "\n",
        "print('------------------------------')"
      ],
      "metadata": {
        "colab": {
          "base_uri": "https://localhost:8080/",
          "height": 661
        },
        "id": "0iamZ1SUfxGv",
        "outputId": "2e9d72e8-2900-49f0-dded-7b1b4010ea38"
      },
      "execution_count": 35,
      "outputs": [
        {
          "output_type": "stream",
          "name": "stdout",
          "text": [
            "train time: 0.005s\n",
            "test time:  0.001s\n",
            "accuracy:   0.590\n",
            "              precision    recall  f1-score   support\n",
            "\n",
            "     Service       0.36      0.44      0.40         9\n",
            "        Food       0.65      0.74      0.69        27\n",
            "       Price       1.00      0.20      0.33         5\n",
            "    Ambience       0.57      0.57      0.57        14\n",
            "    Location       0.75      0.50      0.60         6\n",
            "\n",
            "    accuracy                           0.59        61\n",
            "   macro avg       0.67      0.49      0.52        61\n",
            "weighted avg       0.63      0.59      0.58        61\n",
            "\n",
            "confusion matrix:\n",
            "[[ 4  2  0  3  0]\n",
            " [ 4 20  0  2  1]\n",
            " [ 0  3  1  1  0]\n",
            " [ 3  3  0  8  0]\n",
            " [ 0  3  0  0  3]]\n",
            "------------------------------\n"
          ]
        },
        {
          "output_type": "display_data",
          "data": {
            "text/plain": [
              "<Figure size 432x288 with 2 Axes>"
            ],
            "image/png": "[encoded data removed]"
          },
          "metadata": {
            "needs_background": "light"
          }
        }
      ]
    },
    {
      "cell_type": "code",
      "source": [
        "from sklearn.svm import SVC\n",
        "svm = SVC()\n",
        "\n",
        "t = time()\n",
        "svm.fit(X_train_tf,y_train)\n",
        "duration = time() - t\n",
        "print(\"train time: %0.3fs\" % duration)\n",
        "\n",
        "t = time()\n",
        "y_pred = svm.predict(X_test_tf)\n",
        "test_time = time() - t\n",
        "print(\"test time:  %0.3fs\" % test_time)\n",
        "\n",
        "# compute the performance measures\n",
        "score1 = metrics.accuracy_score(y_test, y_pred)\n",
        "print(\"accuracy:   %0.3f\" % score1)\n",
        "\n",
        "print(metrics.classification_report(y_test, y_pred,target_names = ['Service','Food','Price','Ambience','Location']))\n",
        "\n",
        "print(\"confusion matrix:\")\n",
        "print(metrics.confusion_matrix(y_test, y_pred))\n",
        "\n",
        "ConfusionMatrixDisplay.from_predictions(y_test, y_pred, normalize='true')\n",
        "\n",
        "print('------------------------------')"
      ],
      "metadata": {
        "colab": {
          "base_uri": "https://localhost:8080/",
          "height": 789
        },
        "id": "sX5w-teOhFKz",
        "outputId": "35237d19-b41a-40a5-8380-73188a9948b2"
      },
      "execution_count": 36,
      "outputs": [
        {
          "output_type": "stream",
          "name": "stdout",
          "text": [
            "train time: 0.014s\n",
            "test time:  0.002s\n",
            "accuracy:   0.426\n",
            "              precision    recall  f1-score   support\n",
            "\n",
            "     Service       0.33      0.22      0.27         9\n",
            "        Food       0.47      0.78      0.58        27\n",
            "       Price       0.00      0.00      0.00         5\n",
            "    Ambience       0.33      0.21      0.26        14\n",
            "    Location       0.00      0.00      0.00         6\n",
            "\n",
            "    accuracy                           0.43        61\n",
            "   macro avg       0.23      0.24      0.22        61\n",
            "weighted avg       0.33      0.43      0.36        61\n",
            "\n",
            "confusion matrix:\n",
            "[[ 2  4  0  3  0]\n",
            " [ 3 21  0  2  1]\n",
            " [ 0  4  0  1  0]\n",
            " [ 1 10  0  3  0]\n",
            " [ 0  6  0  0  0]]\n",
            "------------------------------\n"
          ]
        },
        {
          "output_type": "stream",
          "name": "stderr",
          "text": [
            "/usr/local/lib/python3.7/dist-packages/sklearn/metrics/_classification.py:1318: UndefinedMetricWarning: Precision and F-score are ill-defined and being set to 0.0 in labels with no predicted samples. Use `zero_division` parameter to control this behavior.\n",
            "  _warn_prf(average, modifier, msg_start, len(result))\n",
            "/usr/local/lib/python3.7/dist-packages/sklearn/metrics/_classification.py:1318: UndefinedMetricWarning: Precision and F-score are ill-defined and being set to 0.0 in labels with no predicted samples. Use `zero_division` parameter to control this behavior.\n",
            "  _warn_prf(average, modifier, msg_start, len(result))\n",
            "/usr/local/lib/python3.7/dist-packages/sklearn/metrics/_classification.py:1318: UndefinedMetricWarning: Precision and F-score are ill-defined and being set to 0.0 in labels with no predicted samples. Use `zero_division` parameter to control this behavior.\n",
            "  _warn_prf(average, modifier, msg_start, len(result))\n"
          ]
        },
        {
          "output_type": "display_data",
          "data": {
            "text/plain": [
              "<Figure size 432x288 with 2 Axes>"
            ],
            "image/png": "[encoded data removed]"
          },
          "metadata": {
            "needs_background": "light"
          }
        }
      ]
    },
    {
      "cell_type": "code",
      "source": [
        "from sklearn.linear_model import LogisticRegression\n",
        "regression = LogisticRegression()\n",
        "\n",
        "t = time()\n",
        "regression.fit(X_train_tf,y_train)\n",
        "duration = time() - t\n",
        "print(\"train time: %0.3fs\" % duration)\n",
        "\n",
        "t = time()\n",
        "y_pred = regression.predict(X_test_tf)\n",
        "test_time = time() - t\n",
        "print(\"test time:  %0.3fs\" % test_time)\n",
        "\n",
        "# compute the performance measures\n",
        "score1 = metrics.accuracy_score(y_test, y_pred)\n",
        "print(\"accuracy:   %0.3f\" % score1)\n",
        "\n",
        "print(metrics.classification_report(y_test, y_pred,target_names = ['Service','Food','Price','Ambience','Location']))\n",
        "\n",
        "print(\"confusion matrix:\")\n",
        "print(metrics.confusion_matrix(y_test, y_pred))\n",
        "\n",
        "ConfusionMatrixDisplay.from_predictions(y_test, y_pred, normalize='true')\n",
        "\n",
        "print('------------------------------')"
      ],
      "metadata": {
        "colab": {
          "base_uri": "https://localhost:8080/",
          "height": 664
        },
        "id": "5437Zc4XhQu6",
        "outputId": "6ff46b36-435b-4283-91f7-932c1028f86a"
      },
      "execution_count": 37,
      "outputs": [
        {
          "output_type": "stream",
          "name": "stdout",
          "text": [
            "train time: 0.052s\n",
            "test time:  0.001s\n",
            "accuracy:   0.475\n",
            "              precision    recall  f1-score   support\n",
            "\n",
            "     Service       0.30      0.33      0.32         9\n",
            "        Food       0.56      0.70      0.62        27\n",
            "       Price       1.00      0.20      0.33         5\n",
            "    Ambience       0.40      0.43      0.41        14\n",
            "    Location       0.00      0.00      0.00         6\n",
            "\n",
            "    accuracy                           0.48        61\n",
            "   macro avg       0.45      0.33      0.34        61\n",
            "weighted avg       0.47      0.48      0.44        61\n",
            "\n",
            "confusion matrix:\n",
            "[[ 3  2  0  4  0]\n",
            " [ 5 19  0  2  1]\n",
            " [ 0  3  1  1  0]\n",
            " [ 2  6  0  6  0]\n",
            " [ 0  4  0  2  0]]\n",
            "------------------------------\n"
          ]
        },
        {
          "output_type": "display_data",
          "data": {
            "text/plain": [
              "<Figure size 432x288 with 2 Axes>"
            ],
            "image/png": "[encoded data removed]"
          },
          "metadata": {
            "needs_background": "light"
          }
        }
      ]
    },
    {
      "cell_type": "code",
      "source": [
        "from sklearn.neural_network import MLPClassifier\n",
        "mlp = MLPClassifier()\n",
        "\n",
        "t = time()\n",
        "mlp.fit(X_train_tf,y_train)\n",
        "duration = time() - t\n",
        "print(\"train time: %0.3fs\" % duration)\n",
        "\n",
        "t = time()\n",
        "y_pred = mlp.predict(X_test_tf)\n",
        "test_time = time() - t\n",
        "print(\"test time:  %0.3fs\" % test_time)\n",
        "\n",
        "# compute the performance measures\n",
        "score1 = metrics.accuracy_score(y_test, y_pred)\n",
        "print(\"accuracy:   %0.3f\" % score1)\n",
        "\n",
        "print(metrics.classification_report(y_test, y_pred,target_names = ['Service','Food','Price','Ambience','Location']))\n",
        "\n",
        "print(\"confusion matrix:\")\n",
        "print(metrics.confusion_matrix(y_test, y_pred))\n",
        "\n",
        "ConfusionMatrixDisplay.from_predictions(y_test, y_pred, normalize='true')\n",
        "\n",
        "print('------------------------------')"
      ],
      "metadata": {
        "colab": {
          "base_uri": "https://localhost:8080/",
          "height": 716
        },
        "id": "bGjFTf1Shgr5",
        "outputId": "001b01d8-6abc-4889-8fe6-d11ebccbf407"
      },
      "execution_count": 38,
      "outputs": [
        {
          "output_type": "stream",
          "name": "stderr",
          "text": [
            "/usr/local/lib/python3.7/dist-packages/sklearn/neural_network/_multilayer_perceptron.py:696: ConvergenceWarning: Stochastic Optimizer: Maximum iterations (200) reached and the optimization hasn't converged yet.\n",
            "  ConvergenceWarning,\n"
          ]
        },
        {
          "output_type": "stream",
          "name": "stdout",
          "text": [
            "train time: 0.845s\n",
            "test time:  0.001s\n",
            "accuracy:   0.508\n",
            "              precision    recall  f1-score   support\n",
            "\n",
            "     Service       0.27      0.33      0.30         9\n",
            "        Food       0.64      0.78      0.70        27\n",
            "       Price       1.00      0.20      0.33         5\n",
            "    Ambience       0.40      0.43      0.41        14\n",
            "    Location       0.00      0.00      0.00         6\n",
            "\n",
            "    accuracy                           0.51        61\n",
            "   macro avg       0.46      0.35      0.35        61\n",
            "weighted avg       0.50      0.51      0.48        61\n",
            "\n",
            "confusion matrix:\n",
            "[[ 3  3  0  3  0]\n",
            " [ 3 21  0  2  1]\n",
            " [ 0  3  1  1  0]\n",
            " [ 4  4  0  6  0]\n",
            " [ 1  2  0  3  0]]\n",
            "------------------------------\n"
          ]
        },
        {
          "output_type": "display_data",
          "data": {
            "text/plain": [
              "<Figure size 432x288 with 2 Axes>"
            ],
            "image/png": "[encoded data removed]"
          },
          "metadata": {
            "needs_background": "light"
          }
        }
      ]
    },
    {
      "cell_type": "code",
      "source": [
        "forest = RandomForestClassifier() \n",
        "\n",
        "forest = forest.fit(X_train_tf, y_train)\n",
        "duration = time() - t\n",
        "print(\"train time: %0.3fs\" % duration)\n",
        "\n",
        "t = time()\n",
        "y_pred = forest.predict(X_test_tf)\n",
        "test_time = time() - t\n",
        "print(\"test time:  %0.3fs\" % test_time)\n",
        "\n",
        "# compute the performance measures\n",
        "score1 = metrics.accuracy_score(y_test, y_pred)\n",
        "print(\"accuracy:   %0.3f\" % score1)\n",
        "\n",
        "print(metrics.classification_report(y_test, y_pred,target_names = ['Service','Food','Price','Ambience','Location']))\n",
        "\n",
        "print(\"confusion matrix:\")\n",
        "print(metrics.confusion_matrix(y_test, y_pred))\n",
        "\n",
        "ConfusionMatrixDisplay.from_predictions(y_test, y_pred, normalize='true')\n",
        "\n",
        "print('------------------------------')"
      ],
      "metadata": {
        "colab": {
          "base_uri": "https://localhost:8080/",
          "height": 661
        },
        "id": "eHV3cDRLbaza",
        "outputId": "d1d74ad8-9313-470c-8fc0-22cd120dc3de"
      },
      "execution_count": 39,
      "outputs": [
        {
          "output_type": "stream",
          "name": "stdout",
          "text": [
            "train time: 3.780s\n",
            "test time:  0.023s\n",
            "accuracy:   0.557\n",
            "              precision    recall  f1-score   support\n",
            "\n",
            "     Service       0.40      0.44      0.42         9\n",
            "        Food       0.62      0.74      0.68        27\n",
            "       Price       1.00      0.20      0.33         5\n",
            "    Ambience       0.53      0.64      0.58        14\n",
            "    Location       0.00      0.00      0.00         6\n",
            "\n",
            "    accuracy                           0.56        61\n",
            "   macro avg       0.51      0.41      0.40        61\n",
            "weighted avg       0.54      0.56      0.52        61\n",
            "\n",
            "confusion matrix:\n",
            "[[ 4  2  0  3  0]\n",
            " [ 4 20  0  2  1]\n",
            " [ 0  3  1  1  0]\n",
            " [ 2  3  0  9  0]\n",
            " [ 0  4  0  2  0]]\n",
            "------------------------------\n"
          ]
        },
        {
          "output_type": "display_data",
          "data": {
            "text/plain": [
              "<Figure size 432x288 with 2 Axes>"
            ],
            "image/png": "[encoded data removed]"
          },
          "metadata": {
            "needs_background": "light"
          }
        }
      ]
    },
    {
      "cell_type": "markdown",
      "source": [
        "# Avaliações com o dataset de TVs"
      ],
      "metadata": {
        "id": "nGULyoLtHH13"
      }
    },
    {
      "cell_type": "code",
      "source": [
        "import json\n",
        "tvs = json.load(open(\"/content/tv.json\"))"
      ],
      "metadata": {
        "id": "fyvDJr4aHK_t"
      },
      "execution_count": 40,
      "outputs": []
    },
    {
      "cell_type": "code",
      "source": [
        "texts = []\n",
        "aspectsClass = []\n",
        "for x in tvs['reviews']:\n",
        "  texts.append(x['review'])\n",
        "  y = x['implicit aspects']\n",
        "  if(len(y) > 0):\n",
        "    aspectsClass.append(y[0])\n",
        "  else:\n",
        "    aspectsClass.append(None)\n",
        "\n",
        "d = {'text': texts, 'aspectsClass':aspectsClass}\n",
        "\n",
        "df_tvs = pd.DataFrame(data=d)\n",
        "df_tvs.head()"
      ],
      "metadata": {
        "id": "RbU8FkPDHXsh",
        "outputId": "7c2bf8cc-9c6c-4fd8-80c5-fb0642f26ab0",
        "colab": {
          "base_uri": "https://localhost:8080/",
          "height": 206
        }
      },
      "execution_count": 41,
      "outputs": [
        {
          "output_type": "execute_result",
          "data": {
            "text/plain": [
              "                                                text     aspectsClass\n",
              "0  Excelente smart tv. E foi entregue vem antes d...          entrega\n",
              "1  Imagem ótima recursos de web bons , recomendo ...          produto\n",
              "2  produto ótimo, entrega antes do prazo previsto...             None\n",
              "3  Muito bom o produto, esta tv está entre as das...  funcionalidades\n",
              "4  a entrega foi super rápido... muito antes do p...             None"
            ],
            "text/html": [
              "\n",
              "  <div id=\"df-c6ab345e-2099-4101-8c45-1b4111aa3e64\">\n",
              "    <div class=\"colab-df-container\">\n",
              "      <div>\n",
              "<style scoped>\n",
              "    .dataframe tbody tr th:only-of-type {\n",
              "        vertical-align: middle;\n",
              "    }\n",
              "\n",
              "    .dataframe tbody tr th {\n",
              "        vertical-align: top;\n",
              "    }\n",
              "\n",
              "    .dataframe thead th {\n",
              "        text-align: right;\n",
              "    }\n",
              "</style>\n",
              "<table border=\"1\" class=\"dataframe\">\n",
              "  <thead>\n",
              "    <tr style=\"text-align: right;\">\n",
              "      <th></th>\n",
              "      <th>text</th>\n",
              "      <th>aspectsClass</th>\n",
              "    </tr>\n",
              "  </thead>\n",
              "  <tbody>\n",
              "    <tr>\n",
              "      <th>0</th>\n",
              "      <td>Excelente smart tv. E foi entregue vem antes d...</td>\n",
              "      <td>entrega</td>\n",
              "    </tr>\n",
              "    <tr>\n",
              "      <th>1</th>\n",
              "      <td>Imagem ótima recursos de web bons , recomendo ...</td>\n",
              "      <td>produto</td>\n",
              "    </tr>\n",
              "    <tr>\n",
              "      <th>2</th>\n",
              "      <td>produto ótimo, entrega antes do prazo previsto...</td>\n",
              "      <td>None</td>\n",
              "    </tr>\n",
              "    <tr>\n",
              "      <th>3</th>\n",
              "      <td>Muito bom o produto, esta tv está entre as das...</td>\n",
              "      <td>funcionalidades</td>\n",
              "    </tr>\n",
              "    <tr>\n",
              "      <th>4</th>\n",
              "      <td>a entrega foi super rápido... muito antes do p...</td>\n",
              "      <td>None</td>\n",
              "    </tr>\n",
              "  </tbody>\n",
              "</table>\n",
              "</div>\n",
              "      <button class=\"colab-df-convert\" onclick=\"convertToInteractive('df-c6ab345e-2099-4101-8c45-1b4111aa3e64')\"\n",
              "              title=\"Convert this dataframe to an interactive table.\"\n",
              "              style=\"display:none;\">\n",
              "        \n",
              "  <svg xmlns=\"http://www.w3.org/2000/svg\" height=\"24px\"viewBox=\"0 0 24 24\"\n",
              "       width=\"24px\">\n",
              "    <path d=\"M0 0h24v24H0V0z\" fill=\"none\"/>\n",
              "    <path d=\"M18.56 5.44l.94 2.06.94-2.06 2.06-.94-2.06-.94-.94-2.06-.94 2.06-2.06.94zm-11 1L8.5 8.5l.94-2.06 2.06-.94-2.06-.94L8.5 2.5l-.94 2.06-2.06.94zm10 10l.94 2.06.94-2.06 2.06-.94-2.06-.94-.94-2.06-.94 2.06-2.06.94z\"/><path d=\"M17.41 7.96l-1.37-1.37c-.4-.4-.92-.59-1.43-.59-.52 0-1.04.2-1.43.59L10.3 9.45l-7.72 7.72c-.78.78-.78 2.05 0 2.83L4 21.41c.39.39.9.59 1.41.59.51 0 1.02-.2 1.41-.59l7.78-7.78 2.81-2.81c.8-.78.8-2.07 0-2.86zM5.41 20L4 18.59l7.72-7.72 1.47 1.35L5.41 20z\"/>\n",
              "  </svg>\n",
              "      </button>\n",
              "      \n",
              "  <style>\n",
              "    .colab-df-container {\n",
              "      display:flex;\n",
              "      flex-wrap:wrap;\n",
              "      gap: 12px;\n",
              "    }\n",
              "\n",
              "    .colab-df-convert {\n",
              "      background-color: #E8F0FE;\n",
              "      border: none;\n",
              "      border-radius: 50%;\n",
              "      cursor: pointer;\n",
              "      display: none;\n",
              "      fill: #1967D2;\n",
              "      height: 32px;\n",
              "      padding: 0 0 0 0;\n",
              "      width: 32px;\n",
              "    }\n",
              "\n",
              "    .colab-df-convert:hover {\n",
              "      background-color: #E2EBFA;\n",
              "      box-shadow: 0px 1px 2px rgba(60, 64, 67, 0.3), 0px 1px 3px 1px rgba(60, 64, 67, 0.15);\n",
              "      fill: #174EA6;\n",
              "    }\n",
              "\n",
              "    [theme=dark] .colab-df-convert {\n",
              "      background-color: #3B4455;\n",
              "      fill: #D2E3FC;\n",
              "    }\n",
              "\n",
              "    [theme=dark] .colab-df-convert:hover {\n",
              "      background-color: #434B5C;\n",
              "      box-shadow: 0px 1px 3px 1px rgba(0, 0, 0, 0.15);\n",
              "      filter: drop-shadow(0px 1px 2px rgba(0, 0, 0, 0.3));\n",
              "      fill: #FFFFFF;\n",
              "    }\n",
              "  </style>\n",
              "\n",
              "      <script>\n",
              "        const buttonEl =\n",
              "          document.querySelector('#df-c6ab345e-2099-4101-8c45-1b4111aa3e64 button.colab-df-convert');\n",
              "        buttonEl.style.display =\n",
              "          google.colab.kernel.accessAllowed ? 'block' : 'none';\n",
              "\n",
              "        async function convertToInteractive(key) {\n",
              "          const element = document.querySelector('#df-c6ab345e-2099-4101-8c45-1b4111aa3e64');\n",
              "          const dataTable =\n",
              "            await google.colab.kernel.invokeFunction('convertToInteractive',\n",
              "                                                     [key], {});\n",
              "          if (!dataTable) return;\n",
              "\n",
              "          const docLinkHtml = 'Like what you see? Visit the ' +\n",
              "            '<a target=\"_blank\" href=https://colab.research.google.com/notebooks/data_table.ipynb>data table notebook</a>'\n",
              "            + ' to learn more about interactive tables.';\n",
              "          element.innerHTML = '';\n",
              "          dataTable['output_type'] = 'display_data';\n",
              "          await google.colab.output.renderOutput(dataTable, element);\n",
              "          const docLink = document.createElement('div');\n",
              "          docLink.innerHTML = docLinkHtml;\n",
              "          element.appendChild(docLink);\n",
              "        }\n",
              "      </script>\n",
              "    </div>\n",
              "  </div>\n",
              "  "
            ]
          },
          "metadata": {},
          "execution_count": 41
        }
      ]
    },
    {
      "cell_type": "code",
      "source": [
        "values = [None, 'None']\n",
        "df_tst = df_tvs[df_tvs.aspectsClass.isin(values) == False]\n",
        "df_tst.head()"
      ],
      "metadata": {
        "id": "cfHQsWu3Ha9O",
        "outputId": "1a7e0f74-7763-4a75-eb0b-30961fcbb899",
        "colab": {
          "base_uri": "https://localhost:8080/",
          "height": 206
        }
      },
      "execution_count": 42,
      "outputs": [
        {
          "output_type": "execute_result",
          "data": {
            "text/plain": [
              "                                                 text     aspectsClass\n",
              "0   Excelente smart tv. E foi entregue vem antes d...          entrega\n",
              "1   Imagem ótima recursos de web bons , recomendo ...          produto\n",
              "3   Muito bom o produto, esta tv está entre as das...  funcionalidades\n",
              "11  Todos os aparelhos samsung são de uma qualidad...          produto\n",
              "12  Atendeu todas as expectativas, recomendo Samsu...          produto"
            ],
            "text/html": [
              "\n",
              "  <div id=\"df-e490e281-ea5d-434b-9f2c-bf7497df82b5\">\n",
              "    <div class=\"colab-df-container\">\n",
              "      <div>\n",
              "<style scoped>\n",
              "    .dataframe tbody tr th:only-of-type {\n",
              "        vertical-align: middle;\n",
              "    }\n",
              "\n",
              "    .dataframe tbody tr th {\n",
              "        vertical-align: top;\n",
              "    }\n",
              "\n",
              "    .dataframe thead th {\n",
              "        text-align: right;\n",
              "    }\n",
              "</style>\n",
              "<table border=\"1\" class=\"dataframe\">\n",
              "  <thead>\n",
              "    <tr style=\"text-align: right;\">\n",
              "      <th></th>\n",
              "      <th>text</th>\n",
              "      <th>aspectsClass</th>\n",
              "    </tr>\n",
              "  </thead>\n",
              "  <tbody>\n",
              "    <tr>\n",
              "      <th>0</th>\n",
              "      <td>Excelente smart tv. E foi entregue vem antes d...</td>\n",
              "      <td>entrega</td>\n",
              "    </tr>\n",
              "    <tr>\n",
              "      <th>1</th>\n",
              "      <td>Imagem ótima recursos de web bons , recomendo ...</td>\n",
              "      <td>produto</td>\n",
              "    </tr>\n",
              "    <tr>\n",
              "      <th>3</th>\n",
              "      <td>Muito bom o produto, esta tv está entre as das...</td>\n",
              "      <td>funcionalidades</td>\n",
              "    </tr>\n",
              "    <tr>\n",
              "      <th>11</th>\n",
              "      <td>Todos os aparelhos samsung são de uma qualidad...</td>\n",
              "      <td>produto</td>\n",
              "    </tr>\n",
              "    <tr>\n",
              "      <th>12</th>\n",
              "      <td>Atendeu todas as expectativas, recomendo Samsu...</td>\n",
              "      <td>produto</td>\n",
              "    </tr>\n",
              "  </tbody>\n",
              "</table>\n",
              "</div>\n",
              "      <button class=\"colab-df-convert\" onclick=\"convertToInteractive('df-e490e281-ea5d-434b-9f2c-bf7497df82b5')\"\n",
              "              title=\"Convert this dataframe to an interactive table.\"\n",
              "              style=\"display:none;\">\n",
              "        \n",
              "  <svg xmlns=\"http://www.w3.org/2000/svg\" height=\"24px\"viewBox=\"0 0 24 24\"\n",
              "       width=\"24px\">\n",
              "    <path d=\"M0 0h24v24H0V0z\" fill=\"none\"/>\n",
              "    <path d=\"M18.56 5.44l.94 2.06.94-2.06 2.06-.94-2.06-.94-.94-2.06-.94 2.06-2.06.94zm-11 1L8.5 8.5l.94-2.06 2.06-.94-2.06-.94L8.5 2.5l-.94 2.06-2.06.94zm10 10l.94 2.06.94-2.06 2.06-.94-2.06-.94-.94-2.06-.94 2.06-2.06.94z\"/><path d=\"M17.41 7.96l-1.37-1.37c-.4-.4-.92-.59-1.43-.59-.52 0-1.04.2-1.43.59L10.3 9.45l-7.72 7.72c-.78.78-.78 2.05 0 2.83L4 21.41c.39.39.9.59 1.41.59.51 0 1.02-.2 1.41-.59l7.78-7.78 2.81-2.81c.8-.78.8-2.07 0-2.86zM5.41 20L4 18.59l7.72-7.72 1.47 1.35L5.41 20z\"/>\n",
              "  </svg>\n",
              "      </button>\n",
              "      \n",
              "  <style>\n",
              "    .colab-df-container {\n",
              "      display:flex;\n",
              "      flex-wrap:wrap;\n",
              "      gap: 12px;\n",
              "    }\n",
              "\n",
              "    .colab-df-convert {\n",
              "      background-color: #E8F0FE;\n",
              "      border: none;\n",
              "      border-radius: 50%;\n",
              "      cursor: pointer;\n",
              "      display: none;\n",
              "      fill: #1967D2;\n",
              "      height: 32px;\n",
              "      padding: 0 0 0 0;\n",
              "      width: 32px;\n",
              "    }\n",
              "\n",
              "    .colab-df-convert:hover {\n",
              "      background-color: #E2EBFA;\n",
              "      box-shadow: 0px 1px 2px rgba(60, 64, 67, 0.3), 0px 1px 3px 1px rgba(60, 64, 67, 0.15);\n",
              "      fill: #174EA6;\n",
              "    }\n",
              "\n",
              "    [theme=dark] .colab-df-convert {\n",
              "      background-color: #3B4455;\n",
              "      fill: #D2E3FC;\n",
              "    }\n",
              "\n",
              "    [theme=dark] .colab-df-convert:hover {\n",
              "      background-color: #434B5C;\n",
              "      box-shadow: 0px 1px 3px 1px rgba(0, 0, 0, 0.15);\n",
              "      filter: drop-shadow(0px 1px 2px rgba(0, 0, 0, 0.3));\n",
              "      fill: #FFFFFF;\n",
              "    }\n",
              "  </style>\n",
              "\n",
              "      <script>\n",
              "        const buttonEl =\n",
              "          document.querySelector('#df-e490e281-ea5d-434b-9f2c-bf7497df82b5 button.colab-df-convert');\n",
              "        buttonEl.style.display =\n",
              "          google.colab.kernel.accessAllowed ? 'block' : 'none';\n",
              "\n",
              "        async function convertToInteractive(key) {\n",
              "          const element = document.querySelector('#df-e490e281-ea5d-434b-9f2c-bf7497df82b5');\n",
              "          const dataTable =\n",
              "            await google.colab.kernel.invokeFunction('convertToInteractive',\n",
              "                                                     [key], {});\n",
              "          if (!dataTable) return;\n",
              "\n",
              "          const docLinkHtml = 'Like what you see? Visit the ' +\n",
              "            '<a target=\"_blank\" href=https://colab.research.google.com/notebooks/data_table.ipynb>data table notebook</a>'\n",
              "            + ' to learn more about interactive tables.';\n",
              "          element.innerHTML = '';\n",
              "          dataTable['output_type'] = 'display_data';\n",
              "          await google.colab.output.renderOutput(dataTable, element);\n",
              "          const docLink = document.createElement('div');\n",
              "          docLink.innerHTML = docLinkHtml;\n",
              "          element.appendChild(docLink);\n",
              "        }\n",
              "      </script>\n",
              "    </div>\n",
              "  </div>\n",
              "  "
            ]
          },
          "metadata": {},
          "execution_count": 42
        }
      ]
    },
    {
      "cell_type": "code",
      "source": [
        "from unidecode import unidecode\n",
        "import re\n",
        "\n",
        "words = []\n",
        "\n",
        "for word in df_tst['text']:\n",
        "  old_string = unidecode(word)\n",
        "  new_string = re.sub(r\"[^a-zA-Z0-9]\",\" \",old_string)\n",
        "  words.append(new_string.lower())\n",
        "\n",
        "\n",
        "df_tst['text'] = words\n",
        "df_tst.head()"
      ],
      "metadata": {
        "id": "VymFw6K8Hcxv",
        "outputId": "bc780b35-6987-4b7d-f8ff-cbeb17302077",
        "colab": {
          "base_uri": "https://localhost:8080/",
          "height": 310
        }
      },
      "execution_count": 43,
      "outputs": [
        {
          "output_type": "stream",
          "name": "stderr",
          "text": [
            "/usr/local/lib/python3.7/dist-packages/ipykernel_launcher.py:12: SettingWithCopyWarning: \n",
            "A value is trying to be set on a copy of a slice from a DataFrame.\n",
            "Try using .loc[row_indexer,col_indexer] = value instead\n",
            "\n",
            "See the caveats in the documentation: https://pandas.pydata.org/pandas-docs/stable/user_guide/indexing.html#returning-a-view-versus-a-copy\n",
            "  if sys.path[0] == '':\n"
          ]
        },
        {
          "output_type": "execute_result",
          "data": {
            "text/plain": [
              "                                                 text     aspectsClass\n",
              "0   excelente smart tv  e foi entregue vem antes d...          entrega\n",
              "1   imagem otima recursos de web bons   recomendo ...          produto\n",
              "3   muito bom o produto  esta tv esta entre as das...  funcionalidades\n",
              "11  todos os aparelhos samsung sao de uma qualidad...          produto\n",
              "12  atendeu todas as expectativas  recomendo samsu...          produto"
            ],
            "text/html": [
              "\n",
              "  <div id=\"df-8eb8cf4a-635b-4dd1-990b-d767c8d82a81\">\n",
              "    <div class=\"colab-df-container\">\n",
              "      <div>\n",
              "<style scoped>\n",
              "    .dataframe tbody tr th:only-of-type {\n",
              "        vertical-align: middle;\n",
              "    }\n",
              "\n",
              "    .dataframe tbody tr th {\n",
              "        vertical-align: top;\n",
              "    }\n",
              "\n",
              "    .dataframe thead th {\n",
              "        text-align: right;\n",
              "    }\n",
              "</style>\n",
              "<table border=\"1\" class=\"dataframe\">\n",
              "  <thead>\n",
              "    <tr style=\"text-align: right;\">\n",
              "      <th></th>\n",
              "      <th>text</th>\n",
              "      <th>aspectsClass</th>\n",
              "    </tr>\n",
              "  </thead>\n",
              "  <tbody>\n",
              "    <tr>\n",
              "      <th>0</th>\n",
              "      <td>excelente smart tv  e foi entregue vem antes d...</td>\n",
              "      <td>entrega</td>\n",
              "    </tr>\n",
              "    <tr>\n",
              "      <th>1</th>\n",
              "      <td>imagem otima recursos de web bons   recomendo ...</td>\n",
              "      <td>produto</td>\n",
              "    </tr>\n",
              "    <tr>\n",
              "      <th>3</th>\n",
              "      <td>muito bom o produto  esta tv esta entre as das...</td>\n",
              "      <td>funcionalidades</td>\n",
              "    </tr>\n",
              "    <tr>\n",
              "      <th>11</th>\n",
              "      <td>todos os aparelhos samsung sao de uma qualidad...</td>\n",
              "      <td>produto</td>\n",
              "    </tr>\n",
              "    <tr>\n",
              "      <th>12</th>\n",
              "      <td>atendeu todas as expectativas  recomendo samsu...</td>\n",
              "      <td>produto</td>\n",
              "    </tr>\n",
              "  </tbody>\n",
              "</table>\n",
              "</div>\n",
              "      <button class=\"colab-df-convert\" onclick=\"convertToInteractive('df-8eb8cf4a-635b-4dd1-990b-d767c8d82a81')\"\n",
              "              title=\"Convert this dataframe to an interactive table.\"\n",
              "              style=\"display:none;\">\n",
              "        \n",
              "  <svg xmlns=\"http://www.w3.org/2000/svg\" height=\"24px\"viewBox=\"0 0 24 24\"\n",
              "       width=\"24px\">\n",
              "    <path d=\"M0 0h24v24H0V0z\" fill=\"none\"/>\n",
              "    <path d=\"M18.56 5.44l.94 2.06.94-2.06 2.06-.94-2.06-.94-.94-2.06-.94 2.06-2.06.94zm-11 1L8.5 8.5l.94-2.06 2.06-.94-2.06-.94L8.5 2.5l-.94 2.06-2.06.94zm10 10l.94 2.06.94-2.06 2.06-.94-2.06-.94-.94-2.06-.94 2.06-2.06.94z\"/><path d=\"M17.41 7.96l-1.37-1.37c-.4-.4-.92-.59-1.43-.59-.52 0-1.04.2-1.43.59L10.3 9.45l-7.72 7.72c-.78.78-.78 2.05 0 2.83L4 21.41c.39.39.9.59 1.41.59.51 0 1.02-.2 1.41-.59l7.78-7.78 2.81-2.81c.8-.78.8-2.07 0-2.86zM5.41 20L4 18.59l7.72-7.72 1.47 1.35L5.41 20z\"/>\n",
              "  </svg>\n",
              "      </button>\n",
              "      \n",
              "  <style>\n",
              "    .colab-df-container {\n",
              "      display:flex;\n",
              "      flex-wrap:wrap;\n",
              "      gap: 12px;\n",
              "    }\n",
              "\n",
              "    .colab-df-convert {\n",
              "      background-color: #E8F0FE;\n",
              "      border: none;\n",
              "      border-radius: 50%;\n",
              "      cursor: pointer;\n",
              "      display: none;\n",
              "      fill: #1967D2;\n",
              "      height: 32px;\n",
              "      padding: 0 0 0 0;\n",
              "      width: 32px;\n",
              "    }\n",
              "\n",
              "    .colab-df-convert:hover {\n",
              "      background-color: #E2EBFA;\n",
              "      box-shadow: 0px 1px 2px rgba(60, 64, 67, 0.3), 0px 1px 3px 1px rgba(60, 64, 67, 0.15);\n",
              "      fill: #174EA6;\n",
              "    }\n",
              "\n",
              "    [theme=dark] .colab-df-convert {\n",
              "      background-color: #3B4455;\n",
              "      fill: #D2E3FC;\n",
              "    }\n",
              "\n",
              "    [theme=dark] .colab-df-convert:hover {\n",
              "      background-color: #434B5C;\n",
              "      box-shadow: 0px 1px 3px 1px rgba(0, 0, 0, 0.15);\n",
              "      filter: drop-shadow(0px 1px 2px rgba(0, 0, 0, 0.3));\n",
              "      fill: #FFFFFF;\n",
              "    }\n",
              "  </style>\n",
              "\n",
              "      <script>\n",
              "        const buttonEl =\n",
              "          document.querySelector('#df-8eb8cf4a-635b-4dd1-990b-d767c8d82a81 button.colab-df-convert');\n",
              "        buttonEl.style.display =\n",
              "          google.colab.kernel.accessAllowed ? 'block' : 'none';\n",
              "\n",
              "        async function convertToInteractive(key) {\n",
              "          const element = document.querySelector('#df-8eb8cf4a-635b-4dd1-990b-d767c8d82a81');\n",
              "          const dataTable =\n",
              "            await google.colab.kernel.invokeFunction('convertToInteractive',\n",
              "                                                     [key], {});\n",
              "          if (!dataTable) return;\n",
              "\n",
              "          const docLinkHtml = 'Like what you see? Visit the ' +\n",
              "            '<a target=\"_blank\" href=https://colab.research.google.com/notebooks/data_table.ipynb>data table notebook</a>'\n",
              "            + ' to learn more about interactive tables.';\n",
              "          element.innerHTML = '';\n",
              "          dataTable['output_type'] = 'display_data';\n",
              "          await google.colab.output.renderOutput(dataTable, element);\n",
              "          const docLink = document.createElement('div');\n",
              "          docLink.innerHTML = docLinkHtml;\n",
              "          element.appendChild(docLink);\n",
              "        }\n",
              "      </script>\n",
              "    </div>\n",
              "  </div>\n",
              "  "
            ]
          },
          "metadata": {},
          "execution_count": 43
        }
      ]
    },
    {
      "cell_type": "code",
      "source": [
        "df_tst['labels'] =-1\n",
        "df_tst.loc[df_tst[\"aspectsClass\"] == \"produto\", \"labels\"] = 0\n",
        "df_tst.loc[df_tst[\"aspectsClass\"] == \"entrega\", \"labels\"] = 1\n",
        "df_tst.loc[df_tst[\"aspectsClass\"] == \"imagem\", \"labels\"] = 2\n",
        "df_tst.loc[df_tst[\"aspectsClass\"] == \"desempenho\", \"labels\"] = 3\n",
        "df_tst.loc[df_tst[\"aspectsClass\"] == \"som\", \"labels\"] = 4"
      ],
      "metadata": {
        "id": "iQg7qMs2Hp_R",
        "outputId": "408b2753-914a-4c99-d905-568929378051",
        "colab": {
          "base_uri": "https://localhost:8080/"
        }
      },
      "execution_count": 44,
      "outputs": [
        {
          "output_type": "stream",
          "name": "stderr",
          "text": [
            "/usr/local/lib/python3.7/dist-packages/ipykernel_launcher.py:1: SettingWithCopyWarning: \n",
            "A value is trying to be set on a copy of a slice from a DataFrame.\n",
            "Try using .loc[row_indexer,col_indexer] = value instead\n",
            "\n",
            "See the caveats in the documentation: https://pandas.pydata.org/pandas-docs/stable/user_guide/indexing.html#returning-a-view-versus-a-copy\n",
            "  \"\"\"Entry point for launching an IPython kernel.\n",
            "/usr/local/lib/python3.7/dist-packages/pandas/core/indexing.py:1817: SettingWithCopyWarning: \n",
            "A value is trying to be set on a copy of a slice from a DataFrame.\n",
            "Try using .loc[row_indexer,col_indexer] = value instead\n",
            "\n",
            "See the caveats in the documentation: https://pandas.pydata.org/pandas-docs/stable/user_guide/indexing.html#returning-a-view-versus-a-copy\n",
            "  self._setitem_single_column(loc, value, pi)\n"
          ]
        }
      ]
    },
    {
      "cell_type": "code",
      "source": [
        "df = df_tst[df_tst['labels'] != -1]\n",
        "df.head(10)"
      ],
      "metadata": {
        "id": "CU3lyUhaHsrV",
        "outputId": "7131bdee-d583-4f29-e1c0-8e6cc18e005f",
        "colab": {
          "base_uri": "https://localhost:8080/",
          "height": 363
        }
      },
      "execution_count": 45,
      "outputs": [
        {
          "output_type": "execute_result",
          "data": {
            "text/plain": [
              "                                                 text aspectsClass  labels\n",
              "0   excelente smart tv  e foi entregue vem antes d...      entrega       1\n",
              "1   imagem otima recursos de web bons   recomendo ...      produto       0\n",
              "11  todos os aparelhos samsung sao de uma qualidad...      produto       0\n",
              "12  atendeu todas as expectativas  recomendo samsu...      produto       0\n",
              "13  rapidez  boa qualidade e preocupacao em manter...   desempenho       3\n",
              "14  otima imagem  facil acesso a internet com wifi...      produto       0\n",
              "18  produto nao deixa nada a desejar  exelente  go...      produto       0\n",
              "28  produto excelente   recomendo produto alem de ...      entrega       1\n",
              "29  recomendo  tem muitas funcoes praticas  o wi f...      produto       0\n",
              "30  maravilhosa chegou dentro do prazo estipulado ...      produto       0"
            ],
            "text/html": [
              "\n",
              "  <div id=\"df-2a0662ee-b230-47f7-a47a-4432a7072de9\">\n",
              "    <div class=\"colab-df-container\">\n",
              "      <div>\n",
              "<style scoped>\n",
              "    .dataframe tbody tr th:only-of-type {\n",
              "        vertical-align: middle;\n",
              "    }\n",
              "\n",
              "    .dataframe tbody tr th {\n",
              "        vertical-align: top;\n",
              "    }\n",
              "\n",
              "    .dataframe thead th {\n",
              "        text-align: right;\n",
              "    }\n",
              "</style>\n",
              "<table border=\"1\" class=\"dataframe\">\n",
              "  <thead>\n",
              "    <tr style=\"text-align: right;\">\n",
              "      <th></th>\n",
              "      <th>text</th>\n",
              "      <th>aspectsClass</th>\n",
              "      <th>labels</th>\n",
              "    </tr>\n",
              "  </thead>\n",
              "  <tbody>\n",
              "    <tr>\n",
              "      <th>0</th>\n",
              "      <td>excelente smart tv  e foi entregue vem antes d...</td>\n",
              "      <td>entrega</td>\n",
              "      <td>1</td>\n",
              "    </tr>\n",
              "    <tr>\n",
              "      <th>1</th>\n",
              "      <td>imagem otima recursos de web bons   recomendo ...</td>\n",
              "      <td>produto</td>\n",
              "      <td>0</td>\n",
              "    </tr>\n",
              "    <tr>\n",
              "      <th>11</th>\n",
              "      <td>todos os aparelhos samsung sao de uma qualidad...</td>\n",
              "      <td>produto</td>\n",
              "      <td>0</td>\n",
              "    </tr>\n",
              "    <tr>\n",
              "      <th>12</th>\n",
              "      <td>atendeu todas as expectativas  recomendo samsu...</td>\n",
              "      <td>produto</td>\n",
              "      <td>0</td>\n",
              "    </tr>\n",
              "    <tr>\n",
              "      <th>13</th>\n",
              "      <td>rapidez  boa qualidade e preocupacao em manter...</td>\n",
              "      <td>desempenho</td>\n",
              "      <td>3</td>\n",
              "    </tr>\n",
              "    <tr>\n",
              "      <th>14</th>\n",
              "      <td>otima imagem  facil acesso a internet com wifi...</td>\n",
              "      <td>produto</td>\n",
              "      <td>0</td>\n",
              "    </tr>\n",
              "    <tr>\n",
              "      <th>18</th>\n",
              "      <td>produto nao deixa nada a desejar  exelente  go...</td>\n",
              "      <td>produto</td>\n",
              "      <td>0</td>\n",
              "    </tr>\n",
              "    <tr>\n",
              "      <th>28</th>\n",
              "      <td>produto excelente   recomendo produto alem de ...</td>\n",
              "      <td>entrega</td>\n",
              "      <td>1</td>\n",
              "    </tr>\n",
              "    <tr>\n",
              "      <th>29</th>\n",
              "      <td>recomendo  tem muitas funcoes praticas  o wi f...</td>\n",
              "      <td>produto</td>\n",
              "      <td>0</td>\n",
              "    </tr>\n",
              "    <tr>\n",
              "      <th>30</th>\n",
              "      <td>maravilhosa chegou dentro do prazo estipulado ...</td>\n",
              "      <td>produto</td>\n",
              "      <td>0</td>\n",
              "    </tr>\n",
              "  </tbody>\n",
              "</table>\n",
              "</div>\n",
              "      <button class=\"colab-df-convert\" onclick=\"convertToInteractive('df-2a0662ee-b230-47f7-a47a-4432a7072de9')\"\n",
              "              title=\"Convert this dataframe to an interactive table.\"\n",
              "              style=\"display:none;\">\n",
              "        \n",
              "  <svg xmlns=\"http://www.w3.org/2000/svg\" height=\"24px\"viewBox=\"0 0 24 24\"\n",
              "       width=\"24px\">\n",
              "    <path d=\"M0 0h24v24H0V0z\" fill=\"none\"/>\n",
              "    <path d=\"M18.56 5.44l.94 2.06.94-2.06 2.06-.94-2.06-.94-.94-2.06-.94 2.06-2.06.94zm-11 1L8.5 8.5l.94-2.06 2.06-.94-2.06-.94L8.5 2.5l-.94 2.06-2.06.94zm10 10l.94 2.06.94-2.06 2.06-.94-2.06-.94-.94-2.06-.94 2.06-2.06.94z\"/><path d=\"M17.41 7.96l-1.37-1.37c-.4-.4-.92-.59-1.43-.59-.52 0-1.04.2-1.43.59L10.3 9.45l-7.72 7.72c-.78.78-.78 2.05 0 2.83L4 21.41c.39.39.9.59 1.41.59.51 0 1.02-.2 1.41-.59l7.78-7.78 2.81-2.81c.8-.78.8-2.07 0-2.86zM5.41 20L4 18.59l7.72-7.72 1.47 1.35L5.41 20z\"/>\n",
              "  </svg>\n",
              "      </button>\n",
              "      \n",
              "  <style>\n",
              "    .colab-df-container {\n",
              "      display:flex;\n",
              "      flex-wrap:wrap;\n",
              "      gap: 12px;\n",
              "    }\n",
              "\n",
              "    .colab-df-convert {\n",
              "      background-color: #E8F0FE;\n",
              "      border: none;\n",
              "      border-radius: 50%;\n",
              "      cursor: pointer;\n",
              "      display: none;\n",
              "      fill: #1967D2;\n",
              "      height: 32px;\n",
              "      padding: 0 0 0 0;\n",
              "      width: 32px;\n",
              "    }\n",
              "\n",
              "    .colab-df-convert:hover {\n",
              "      background-color: #E2EBFA;\n",
              "      box-shadow: 0px 1px 2px rgba(60, 64, 67, 0.3), 0px 1px 3px 1px rgba(60, 64, 67, 0.15);\n",
              "      fill: #174EA6;\n",
              "    }\n",
              "\n",
              "    [theme=dark] .colab-df-convert {\n",
              "      background-color: #3B4455;\n",
              "      fill: #D2E3FC;\n",
              "    }\n",
              "\n",
              "    [theme=dark] .colab-df-convert:hover {\n",
              "      background-color: #434B5C;\n",
              "      box-shadow: 0px 1px 3px 1px rgba(0, 0, 0, 0.15);\n",
              "      filter: drop-shadow(0px 1px 2px rgba(0, 0, 0, 0.3));\n",
              "      fill: #FFFFFF;\n",
              "    }\n",
              "  </style>\n",
              "\n",
              "      <script>\n",
              "        const buttonEl =\n",
              "          document.querySelector('#df-2a0662ee-b230-47f7-a47a-4432a7072de9 button.colab-df-convert');\n",
              "        buttonEl.style.display =\n",
              "          google.colab.kernel.accessAllowed ? 'block' : 'none';\n",
              "\n",
              "        async function convertToInteractive(key) {\n",
              "          const element = document.querySelector('#df-2a0662ee-b230-47f7-a47a-4432a7072de9');\n",
              "          const dataTable =\n",
              "            await google.colab.kernel.invokeFunction('convertToInteractive',\n",
              "                                                     [key], {});\n",
              "          if (!dataTable) return;\n",
              "\n",
              "          const docLinkHtml = 'Like what you see? Visit the ' +\n",
              "            '<a target=\"_blank\" href=https://colab.research.google.com/notebooks/data_table.ipynb>data table notebook</a>'\n",
              "            + ' to learn more about interactive tables.';\n",
              "          element.innerHTML = '';\n",
              "          dataTable['output_type'] = 'display_data';\n",
              "          await google.colab.output.renderOutput(dataTable, element);\n",
              "          const docLink = document.createElement('div');\n",
              "          docLink.innerHTML = docLinkHtml;\n",
              "          element.appendChild(docLink);\n",
              "        }\n",
              "      </script>\n",
              "    </div>\n",
              "  </div>\n",
              "  "
            ]
          },
          "metadata": {},
          "execution_count": 45
        }
      ]
    },
    {
      "cell_type": "code",
      "source": [
        "df.labels.unique()"
      ],
      "metadata": {
        "id": "k_xQAi54IhzL",
        "outputId": "0a4e9d8d-91eb-4202-f0fd-7ef2f91a88ad",
        "colab": {
          "base_uri": "https://localhost:8080/"
        }
      },
      "execution_count": 46,
      "outputs": [
        {
          "output_type": "execute_result",
          "data": {
            "text/plain": [
              "array([1, 0, 3, 2, 4])"
            ]
          },
          "metadata": {},
          "execution_count": 46
        }
      ]
    },
    {
      "cell_type": "code",
      "source": [
        "X_train, X_test, y_train, y_test = train_test_split(df[\"text\"], df[\"labels\"], test_size = 0.3, random_state=42)\n",
        "\n",
        "from sklearn.feature_extraction.text import TfidfVectorizer, CountVectorizer\n",
        "tf_vectorizer = CountVectorizer() # or term frequency\n",
        "X_train_tf = tf_vectorizer.fit_transform(X_train)\n",
        "X_test_tf = tf_vectorizer.transform(X_test)"
      ],
      "metadata": {
        "id": "3ThKASxSH1_i"
      },
      "execution_count": 47,
      "outputs": []
    },
    {
      "cell_type": "code",
      "source": [
        "from sklearn.naive_bayes import MultinomialNB\n",
        "from sklearn import metrics\n",
        "\n",
        "naive_bayes_classifier = MultinomialNB()\n",
        "# naive_bayes_classifier.fit(X_train_tf, y_train)\n",
        "# y_pred = naive_bayes_classifier.predict(X_test_tf)\n",
        "\n",
        "t = time()\n",
        "naive_bayes_classifier.fit(X_train_tf,y_train)\n",
        "duration = time() - t\n",
        "print(\"train time: %0.3fs\" % duration)\n",
        "\n",
        "t = time()\n",
        "y_pred = naive_bayes_classifier.predict(X_test_tf)\n",
        "test_time = time() - t\n",
        "print(\"test time:  %0.3fs\" % test_time)\n",
        "\n",
        "# compute the performance measures\n",
        "score1 = metrics.accuracy_score(y_test, y_pred)\n",
        "print(\"accuracy:   %0.3f\" % score1)\n",
        "print(metrics.classification_report(y_test, y_pred,zero_division = 0))\n",
        "print(\"confusion matrix:\")\n",
        "print(metrics.confusion_matrix(y_test, y_pred))\n",
        "\n",
        "ConfusionMatrixDisplay.from_predictions(y_test, y_pred, normalize='true')\n",
        "\n",
        "print('------------------------------')"
      ],
      "metadata": {
        "id": "Se4uWNX3H34A",
        "outputId": "b50b057d-25c9-4327-f736-b0e2a30d4da5",
        "colab": {
          "base_uri": "https://localhost:8080/",
          "height": 630
        }
      },
      "execution_count": 49,
      "outputs": [
        {
          "output_type": "stream",
          "name": "stdout",
          "text": [
            "train time: 0.010s\n",
            "test time:  0.000s\n",
            "accuracy:   0.795\n",
            "              precision    recall  f1-score   support\n",
            "\n",
            "           0       0.80      0.96      0.87       105\n",
            "           1       0.79      0.42      0.55        36\n",
            "           3       0.00      0.00      0.00         4\n",
            "           4       0.00      0.00      0.00         1\n",
            "\n",
            "    accuracy                           0.79       146\n",
            "   macro avg       0.40      0.34      0.35       146\n",
            "weighted avg       0.77      0.79      0.76       146\n",
            "\n",
            "confusion matrix:\n",
            "[[101   4   0   0]\n",
            " [ 21  15   0   0]\n",
            " [  4   0   0   0]\n",
            " [  1   0   0   0]]\n",
            "------------------------------\n"
          ]
        },
        {
          "output_type": "display_data",
          "data": {
            "text/plain": [
              "<Figure size 432x288 with 2 Axes>"
            ],
            "image/png": "[encoded data removed]"
          },
          "metadata": {
            "needs_background": "light"
          }
        }
      ]
    },
    {
      "cell_type": "code",
      "source": [
        "from sklearn.tree import DecisionTreeClassifier\n",
        "dTree = DecisionTreeClassifier()\n",
        "\n",
        "t = time()\n",
        "dTree.fit(X_train_tf,y_train)\n",
        "duration = time() - t\n",
        "print(\"train time: %0.3fs\" % duration)\n",
        "\n",
        "t = time()\n",
        "y_pred = dTree.predict(X_test_tf)\n",
        "test_time = time() - t\n",
        "print(\"test time:  %0.3fs\" % test_time)\n",
        "\n",
        "# compute the performance measures\n",
        "score1 = metrics.accuracy_score(y_test, y_pred)\n",
        "print(\"accuracy:   %0.3f\" % score1)\n",
        "\n",
        "print(metrics.classification_report(y_test, y_pred,zero_division = 0))\n",
        "\n",
        "print(\"confusion matrix:\")\n",
        "print(metrics.confusion_matrix(y_test, y_pred))\n",
        "\n",
        "ConfusionMatrixDisplay.from_predictions(y_test, y_pred, normalize='true')\n",
        "\n",
        "print('------------------------------')"
      ],
      "metadata": {
        "id": "RsUQd6eSJD0t",
        "outputId": "39e4b420-e838-43b2-d7c7-63b5bacebbed",
        "colab": {
          "base_uri": "https://localhost:8080/",
          "height": 630
        }
      },
      "execution_count": 53,
      "outputs": [
        {
          "output_type": "stream",
          "name": "stdout",
          "text": [
            "train time: 0.012s\n",
            "test time:  0.001s\n",
            "accuracy:   0.822\n",
            "              precision    recall  f1-score   support\n",
            "\n",
            "           0       0.86      0.90      0.88       105\n",
            "           1       0.78      0.69      0.74        36\n",
            "           3       0.00      0.00      0.00         4\n",
            "           4       0.00      0.00      0.00         1\n",
            "\n",
            "    accuracy                           0.82       146\n",
            "   macro avg       0.41      0.40      0.40       146\n",
            "weighted avg       0.81      0.82      0.81       146\n",
            "\n",
            "confusion matrix:\n",
            "[[95  7  3  0]\n",
            " [11 25  0  0]\n",
            " [ 4  0  0  0]\n",
            " [ 1  0  0  0]]\n",
            "------------------------------\n"
          ]
        },
        {
          "output_type": "display_data",
          "data": {
            "text/plain": [
              "<Figure size 432x288 with 2 Axes>"
            ],
            "image/png": "[encoded data removed]"
          },
          "metadata": {
            "needs_background": "light"
          }
        }
      ]
    },
    {
      "cell_type": "code",
      "source": [
        "from sklearn.svm import SVC\n",
        "svm = SVC()\n",
        "\n",
        "t = time()\n",
        "svm.fit(X_train_tf,y_train)\n",
        "duration = time() - t\n",
        "print(\"train time: %0.3fs\" % duration)\n",
        "\n",
        "t = time()\n",
        "y_pred = svm.predict(X_test_tf)\n",
        "test_time = time() - t\n",
        "print(\"test time:  %0.3fs\" % test_time)\n",
        "\n",
        "# compute the performance measures\n",
        "score1 = metrics.accuracy_score(y_test, y_pred)\n",
        "print(\"accuracy:   %0.3f\" % score1)\n",
        "print(metrics.classification_report(y_test, y_pred,zero_division = 0))\n",
        "\n",
        "print(\"confusion matrix:\")\n",
        "print(metrics.confusion_matrix(y_test, y_pred))\n",
        "\n",
        "ConfusionMatrixDisplay.from_predictions(y_test, y_pred, normalize='true')\n",
        "\n",
        "print('------------------------------')"
      ],
      "metadata": {
        "id": "Tbc6yhXPKLst",
        "outputId": "44956f48-cd49-4894-9618-26759ef278ea",
        "colab": {
          "base_uri": "https://localhost:8080/",
          "height": 630
        }
      },
      "execution_count": 54,
      "outputs": [
        {
          "output_type": "stream",
          "name": "stdout",
          "text": [
            "train time: 0.054s\n",
            "test time:  0.014s\n",
            "accuracy:   0.842\n",
            "              precision    recall  f1-score   support\n",
            "\n",
            "           0       0.84      0.96      0.90       105\n",
            "           1       0.85      0.61      0.71        36\n",
            "           3       0.00      0.00      0.00         4\n",
            "           4       0.00      0.00      0.00         1\n",
            "\n",
            "    accuracy                           0.84       146\n",
            "   macro avg       0.42      0.39      0.40       146\n",
            "weighted avg       0.81      0.84      0.82       146\n",
            "\n",
            "confusion matrix:\n",
            "[[101   4   0   0]\n",
            " [ 14  22   0   0]\n",
            " [  4   0   0   0]\n",
            " [  1   0   0   0]]\n",
            "------------------------------\n"
          ]
        },
        {
          "output_type": "display_data",
          "data": {
            "text/plain": [
              "<Figure size 432x288 with 2 Axes>"
            ],
            "image/png": "[encoded data removed]"
          },
          "metadata": {
            "needs_background": "light"
          }
        }
      ]
    },
    {
      "cell_type": "code",
      "source": [
        "from sklearn.linear_model import LogisticRegression\n",
        "regression = LogisticRegression()\n",
        "\n",
        "t = time()\n",
        "regression.fit(X_train_tf,y_train)\n",
        "duration = time() - t\n",
        "print(\"train time: %0.3fs\" % duration)\n",
        "\n",
        "t = time()\n",
        "y_pred = regression.predict(X_test_tf)\n",
        "test_time = time() - t\n",
        "print(\"test time:  %0.3fs\" % test_time)\n",
        "\n",
        "# compute the performance measures\n",
        "score1 = metrics.accuracy_score(y_test, y_pred)\n",
        "print(\"accuracy:   %0.3f\" % score1)\n",
        "\n",
        "print(metrics.classification_report(y_test, y_pred,zero_division = 0))\n",
        "\n",
        "print(\"confusion matrix:\")\n",
        "print(metrics.confusion_matrix(y_test, y_pred))\n",
        "\n",
        "ConfusionMatrixDisplay.from_predictions(y_test, y_pred, normalize='true')\n",
        "\n",
        "print('------------------------------')"
      ],
      "metadata": {
        "id": "_eBhz0XxKXJ8",
        "outputId": "bd329c5c-6d1a-413e-ac3a-372540b25159",
        "colab": {
          "base_uri": "https://localhost:8080/",
          "height": 630
        }
      },
      "execution_count": 55,
      "outputs": [
        {
          "output_type": "stream",
          "name": "stdout",
          "text": [
            "train time: 0.110s\n",
            "test time:  0.000s\n",
            "accuracy:   0.829\n",
            "              precision    recall  f1-score   support\n",
            "\n",
            "           0       0.85      0.92      0.89       105\n",
            "           1       0.77      0.67      0.72        36\n",
            "           3       0.00      0.00      0.00         4\n",
            "           4       0.00      0.00      0.00         1\n",
            "\n",
            "    accuracy                           0.83       146\n",
            "   macro avg       0.41      0.40      0.40       146\n",
            "weighted avg       0.80      0.83      0.81       146\n",
            "\n",
            "confusion matrix:\n",
            "[[97  7  1  0]\n",
            " [12 24  0  0]\n",
            " [ 4  0  0  0]\n",
            " [ 1  0  0  0]]\n",
            "------------------------------\n"
          ]
        },
        {
          "output_type": "display_data",
          "data": {
            "text/plain": [
              "<Figure size 432x288 with 2 Axes>"
            ],
            "image/png": "[encoded data removed]"
          },
          "metadata": {
            "needs_background": "light"
          }
        }
      ]
    },
    {
      "cell_type": "code",
      "source": [
        "from sklearn.neural_network import MLPClassifier\n",
        "mlp = MLPClassifier()\n",
        "\n",
        "t = time()\n",
        "mlp.fit(X_train_tf,y_train)\n",
        "duration = time() - t\n",
        "print(\"train time: %0.3fs\" % duration)\n",
        "\n",
        "t = time()\n",
        "y_pred = mlp.predict(X_test_tf)\n",
        "test_time = time() - t\n",
        "print(\"test time:  %0.3fs\" % test_time)\n",
        "\n",
        "# compute the performance measures\n",
        "score1 = metrics.accuracy_score(y_test, y_pred)\n",
        "print(\"accuracy:   %0.3f\" % score1)\n",
        "\n",
        "print(metrics.classification_report(y_test, y_pred,zero_division = 0))\n",
        "\n",
        "print(\"confusion matrix:\")\n",
        "print(metrics.confusion_matrix(y_test, y_pred))\n",
        "\n",
        "ConfusionMatrixDisplay.from_predictions(y_test, y_pred, normalize='true')\n",
        "\n",
        "print('------------------------------')"
      ],
      "metadata": {
        "id": "KiBsM5CCKcn-",
        "outputId": "bd0936ae-5c07-4678-9672-ab1be5cb3cef",
        "colab": {
          "base_uri": "https://localhost:8080/",
          "height": 630
        }
      },
      "execution_count": 56,
      "outputs": [
        {
          "output_type": "stream",
          "name": "stdout",
          "text": [
            "train time: 3.594s\n",
            "test time:  0.002s\n",
            "accuracy:   0.842\n",
            "              precision    recall  f1-score   support\n",
            "\n",
            "           0       0.84      0.96      0.90       105\n",
            "           1       0.85      0.61      0.71        36\n",
            "           3       0.00      0.00      0.00         4\n",
            "           4       0.00      0.00      0.00         1\n",
            "\n",
            "    accuracy                           0.84       146\n",
            "   macro avg       0.42      0.39      0.40       146\n",
            "weighted avg       0.81      0.84      0.82       146\n",
            "\n",
            "confusion matrix:\n",
            "[[101   4   0   0]\n",
            " [ 14  22   0   0]\n",
            " [  4   0   0   0]\n",
            " [  1   0   0   0]]\n",
            "------------------------------\n"
          ]
        },
        {
          "output_type": "display_data",
          "data": {
            "text/plain": [
              "<Figure size 432x288 with 2 Axes>"
            ],
            "image/png": "[encoded data removed]"
          },
          "metadata": {
            "needs_background": "light"
          }
        }
      ]
    },
    {
      "cell_type": "code",
      "source": [
        "forest = RandomForestClassifier() \n",
        "\n",
        "forest = forest.fit(X_train_tf, y_train)\n",
        "duration = time() - t\n",
        "print(\"train time: %0.3fs\" % duration)\n",
        "\n",
        "t = time()\n",
        "y_pred = forest.predict(X_test_tf)\n",
        "test_time = time() - t\n",
        "print(\"test time:  %0.3fs\" % test_time)\n",
        "\n",
        "# compute the performance measures\n",
        "score1 = metrics.accuracy_score(y_test, y_pred)\n",
        "print(\"accuracy:   %0.3f\" % score1)\n",
        "\n",
        "print(metrics.classification_report(y_test, y_pred,zero_division = 0))\n",
        "\n",
        "print(\"confusion matrix:\")\n",
        "print(metrics.confusion_matrix(y_test, y_pred))\n",
        "\n",
        "ConfusionMatrixDisplay.from_predictions(y_test, y_pred, normalize='true')\n",
        "\n",
        "print('------------------------------')"
      ],
      "metadata": {
        "id": "mI7AZRtMKi1B",
        "outputId": "d0ca432a-0a3c-49e2-d9ee-bef876031a07",
        "colab": {
          "base_uri": "https://localhost:8080/",
          "height": 630
        }
      },
      "execution_count": 57,
      "outputs": [
        {
          "output_type": "stream",
          "name": "stdout",
          "text": [
            "train time: 6.290s\n",
            "test time:  0.033s\n",
            "accuracy:   0.842\n",
            "              precision    recall  f1-score   support\n",
            "\n",
            "           0       0.83      0.99      0.90       105\n",
            "           1       0.95      0.53      0.68        36\n",
            "           3       0.00      0.00      0.00         4\n",
            "           4       0.00      0.00      0.00         1\n",
            "\n",
            "    accuracy                           0.84       146\n",
            "   macro avg       0.44      0.38      0.39       146\n",
            "weighted avg       0.83      0.84      0.81       146\n",
            "\n",
            "confusion matrix:\n",
            "[[104   1   0   0]\n",
            " [ 17  19   0   0]\n",
            " [  4   0   0   0]\n",
            " [  1   0   0   0]]\n",
            "------------------------------\n"
          ]
        },
        {
          "output_type": "display_data",
          "data": {
            "text/plain": [
              "<Figure size 432x288 with 2 Axes>"
            ],
            "image/png": "[encoded data removed]"
          },
          "metadata": {
            "needs_background": "light"
          }
        }
      ]
    }
  ]
}